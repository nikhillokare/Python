{
 "cells": [
  {
   "cell_type": "code",
   "execution_count": 7,
   "id": "98564247-abac-4ff9-b1eb-d452eef60614",
   "metadata": {},
   "outputs": [],
   "source": [
    "d = {}"
   ]
  },
  {
   "cell_type": "code",
   "execution_count": 8,
   "id": "7b19b240-6b6d-402c-8deb-e3e07a5a2cae",
   "metadata": {},
   "outputs": [
    {
     "data": {
      "text/plain": [
       "dict"
      ]
     },
     "execution_count": 8,
     "metadata": {},
     "output_type": "execute_result"
    }
   ],
   "source": [
    "type(d)"
   ]
  },
  {
   "cell_type": "code",
   "execution_count": 9,
   "id": "06e93bcd-6b38-4921-8337-b109cdef0b7d",
   "metadata": {},
   "outputs": [],
   "source": [
    "d1 = {'Name':'Nikhil'}"
   ]
  },
  {
   "cell_type": "code",
   "execution_count": 10,
   "id": "701d0627-9203-439f-b992-a88a45564eea",
   "metadata": {},
   "outputs": [
    {
     "data": {
      "text/plain": [
       "{'Name': 'Nikhil'}"
      ]
     },
     "execution_count": 10,
     "metadata": {},
     "output_type": "execute_result"
    }
   ],
   "source": [
    "d1"
   ]
  },
  {
   "cell_type": "code",
   "execution_count": 11,
   "id": "01cc8aad-b151-4a06-948e-c853ec34f002",
   "metadata": {},
   "outputs": [],
   "source": [
    "d2 = {'Name':'Nikhil', 'Email':'nikhil@gmail.com', 'Number':12345}"
   ]
  },
  {
   "cell_type": "code",
   "execution_count": 12,
   "id": "3a0a3ce8-21dc-48c9-8377-5c6afca82c39",
   "metadata": {},
   "outputs": [
    {
     "data": {
      "text/plain": [
       "{'Name': 'Nikhil', 'Email': 'nikhil@gmail.com', 'Number': 12345}"
      ]
     },
     "execution_count": 12,
     "metadata": {},
     "output_type": "execute_result"
    }
   ],
   "source": [
    "d2"
   ]
  },
  {
   "cell_type": "code",
   "execution_count": 28,
   "id": "94930cc1-b9a2-4060-ae40-bd0ede428a00",
   "metadata": {},
   "outputs": [],
   "source": [
    "d3 = {234:'Nikhil', '@#$':'Symbol', True:1234}"
   ]
  },
  {
   "cell_type": "code",
   "execution_count": 29,
   "id": "eafb7b7e-554e-45f2-af3f-aa279402c2e0",
   "metadata": {},
   "outputs": [
    {
     "data": {
      "text/plain": [
       "{234: 'Nikhil', '@#$': 'Symbol', True: 1234}"
      ]
     },
     "execution_count": 29,
     "metadata": {},
     "output_type": "execute_result"
    }
   ],
   "source": [
    "d3"
   ]
  },
  {
   "cell_type": "code",
   "execution_count": 30,
   "id": "e4925212-0582-48d9-a75a-d4957e918791",
   "metadata": {},
   "outputs": [
    {
     "data": {
      "text/plain": [
       "1234"
      ]
     },
     "execution_count": 30,
     "metadata": {},
     "output_type": "execute_result"
    }
   ],
   "source": [
    "d3[True]"
   ]
  },
  {
   "cell_type": "code",
   "execution_count": 31,
   "id": "0a8481f1-d0be-4638-b0bc-32ada7df612b",
   "metadata": {},
   "outputs": [],
   "source": [
    "d5 = {'Company':'PwSkills', 'Courses':['web dev','data science', 'DSA']}"
   ]
  },
  {
   "cell_type": "code",
   "execution_count": 32,
   "id": "cf5d7c11-9d7b-4eb1-8ad7-7a48350fd8ba",
   "metadata": {},
   "outputs": [
    {
     "data": {
      "text/plain": [
       "{'Company': 'PwSkills', 'Courses': ['web dev', 'data science', 'DSA']}"
      ]
     },
     "execution_count": 32,
     "metadata": {},
     "output_type": "execute_result"
    }
   ],
   "source": [
    "d5"
   ]
  },
  {
   "cell_type": "code",
   "execution_count": 35,
   "id": "d39e390e-0ade-4525-9bf1-9aaea18d83a6",
   "metadata": {},
   "outputs": [
    {
     "data": {
      "text/plain": [
       "'DSA'"
      ]
     },
     "execution_count": 35,
     "metadata": {},
     "output_type": "execute_result"
    }
   ],
   "source": [
    "d5['Courses'][2]"
   ]
  },
  {
   "cell_type": "code",
   "execution_count": 37,
   "id": "d12a555a-adcd-4e91-a7b6-ea76c0f301d7",
   "metadata": {},
   "outputs": [],
   "source": [
    "d6 = {\"Number\":[2,34,3,34,34], 'assignment':(1,2,3,4,5,6), 'launch_date':{43,65,32}}"
   ]
  },
  {
   "cell_type": "code",
   "execution_count": 38,
   "id": "ac9f3555-cb99-4f47-9887-71a901400e6c",
   "metadata": {},
   "outputs": [
    {
     "data": {
      "text/plain": [
       "{'Number': [2, 34, 3, 34, 34],\n",
       " 'assignment': (1, 2, 3, 4, 5, 6),\n",
       " 'launch_date': {32, 43, 65}}"
      ]
     },
     "execution_count": 38,
     "metadata": {},
     "output_type": "execute_result"
    }
   ],
   "source": [
    "d6"
   ]
  },
  {
   "cell_type": "code",
   "execution_count": 43,
   "id": "e836cae3-687f-4c4c-b595-d41292986d24",
   "metadata": {},
   "outputs": [
    {
     "data": {
      "text/plain": [
       "{32, 43, 65}"
      ]
     },
     "execution_count": 43,
     "metadata": {},
     "output_type": "execute_result"
    }
   ],
   "source": [
    "d6['launch_date']"
   ]
  },
  {
   "cell_type": "code",
   "execution_count": 44,
   "id": "cad2f860-5654-4d7b-b4ad-cac5df62a3cd",
   "metadata": {},
   "outputs": [],
   "source": [
    "d6['Mentor'] = [\"Nikhil\",\"krish\",'anirag','hitesh']"
   ]
  },
  {
   "cell_type": "code",
   "execution_count": 45,
   "id": "533a7a9a-6a2e-484b-9425-ac28820ff90e",
   "metadata": {},
   "outputs": [
    {
     "data": {
      "text/plain": [
       "{'Number': [2, 34, 3, 34, 34],\n",
       " 'assignment': (1, 2, 3, 4, 5, 6),\n",
       " 'launch_date': {32, 43, 65},\n",
       " 'Mentor': ['Nikhil', 'krish', 'anirag', 'hitesh']}"
      ]
     },
     "execution_count": 45,
     "metadata": {},
     "output_type": "execute_result"
    }
   ],
   "source": [
    "d6"
   ]
  },
  {
   "cell_type": "code",
   "execution_count": 46,
   "id": "862b264c-4d94-455b-877f-ba0b5138f891",
   "metadata": {},
   "outputs": [],
   "source": [
    "del d6['launch_date']"
   ]
  },
  {
   "cell_type": "code",
   "execution_count": 47,
   "id": "4feeeb40-01af-4fc0-89a7-2f1841ee51c2",
   "metadata": {},
   "outputs": [
    {
     "data": {
      "text/plain": [
       "{'Number': [2, 34, 3, 34, 34],\n",
       " 'assignment': (1, 2, 3, 4, 5, 6),\n",
       " 'Mentor': ['Nikhil', 'krish', 'anirag', 'hitesh']}"
      ]
     },
     "execution_count": 47,
     "metadata": {},
     "output_type": "execute_result"
    }
   ],
   "source": [
    "d6"
   ]
  },
  {
   "cell_type": "code",
   "execution_count": 48,
   "id": "4c6219a3-d814-437c-98a2-387eb30e5a6b",
   "metadata": {},
   "outputs": [
    {
     "data": {
      "text/plain": [
       "dict_keys(['Number', 'assignment', 'Mentor'])"
      ]
     },
     "execution_count": 48,
     "metadata": {},
     "output_type": "execute_result"
    }
   ],
   "source": [
    "d6.keys()"
   ]
  },
  {
   "cell_type": "code",
   "execution_count": 50,
   "id": "068032a8-72fa-40ee-9ce8-f0606a8e1f83",
   "metadata": {},
   "outputs": [
    {
     "data": {
      "text/plain": [
       "dict_values([[2, 34, 3, 34, 34], (1, 2, 3, 4, 5, 6), ['Nikhil', 'krish', 'anirag', 'hitesh']])"
      ]
     },
     "execution_count": 50,
     "metadata": {},
     "output_type": "execute_result"
    }
   ],
   "source": [
    "d6.values()"
   ]
  },
  {
   "cell_type": "code",
   "execution_count": 51,
   "id": "8e368190-51b4-4780-90f4-adb996bbce8b",
   "metadata": {},
   "outputs": [
    {
     "data": {
      "text/plain": [
       "[('Number', [2, 34, 3, 34, 34]),\n",
       " ('assignment', (1, 2, 3, 4, 5, 6)),\n",
       " ('Mentor', ['Nikhil', 'krish', 'anirag', 'hitesh'])]"
      ]
     },
     "execution_count": 51,
     "metadata": {},
     "output_type": "execute_result"
    }
   ],
   "source": [
    "list(d6.items())"
   ]
  },
  {
   "cell_type": "code",
   "execution_count": 52,
   "id": "45b4420c-5a70-4c77-b937-c6607e88aac6",
   "metadata": {},
   "outputs": [
    {
     "data": {
      "text/plain": [
       "['Number', 'assignment', 'Mentor']"
      ]
     },
     "execution_count": 52,
     "metadata": {},
     "output_type": "execute_result"
    }
   ],
   "source": [
    "list(d6)"
   ]
  },
  {
   "cell_type": "code",
   "execution_count": 54,
   "id": "82a6e60d-32fe-4487-a9e3-7d0178e76068",
   "metadata": {},
   "outputs": [
    {
     "data": {
      "text/plain": [
       "[2, 34, 3, 34, 34]"
      ]
     },
     "execution_count": 54,
     "metadata": {},
     "output_type": "execute_result"
    }
   ],
   "source": [
    "d6.pop('Number')"
   ]
  },
  {
   "cell_type": "code",
   "execution_count": 55,
   "id": "6c021c1a-bed3-4e02-9995-3588ad80ff3e",
   "metadata": {},
   "outputs": [
    {
     "data": {
      "text/plain": [
       "{'assignment': (1, 2, 3, 4, 5, 6),\n",
       " 'Mentor': ['Nikhil', 'krish', 'anirag', 'hitesh']}"
      ]
     },
     "execution_count": 55,
     "metadata": {},
     "output_type": "execute_result"
    }
   ],
   "source": [
    "d6"
   ]
  },
  {
   "cell_type": "code",
   "execution_count": 71,
   "id": "2ab2cc59-4970-46b3-acb7-6490f3d0f0a7",
   "metadata": {},
   "outputs": [
    {
     "name": "stdin",
     "output_type": "stream",
     "text": [
      "Enter The marks 90\n"
     ]
    },
    {
     "name": "stdout",
     "output_type": "stream",
     "text": [
      "You will be a part of A0 batch\n"
     ]
    }
   ],
   "source": [
    "marks = int(input(\"Enter The marks\"));\n",
    "if marks >= 80:\n",
    "    print(\"You will be a part of A0 batch\")\n",
    "elif marks >= 60 and marks <= 80:\n",
    "    print(\"You will be a part of A1 batch\")\n",
    "elif marks >= 40 and marks <= 60:\n",
    "    print(\"You will be a part of A2 batch\")\n",
    "else:\n",
    "    print(\"You will be a part of A3 batch\")"
   ]
  },
  {
   "cell_type": "code",
   "execution_count": 73,
   "id": "808a1773-635b-403c-9cb4-10427bb585c5",
   "metadata": {},
   "outputs": [
    {
     "name": "stdin",
     "output_type": "stream",
     "text": [
      "Enter price:  77\n"
     ]
    },
    {
     "name": "stdout",
     "output_type": "stream",
     "text": [
      "i will  purchase\n"
     ]
    }
   ],
   "source": [
    "price = int(input(\"Enter price: \"))\n",
    "if price > 1000:\n",
    "    print(\"i will not purchase\")\n",
    "else:\n",
    "    print(\"i will  purchase\")"
   ]
  },
  {
   "cell_type": "code",
   "execution_count": 74,
   "id": "a9b98a54-4e86-4bf9-823a-161f23020fc2",
   "metadata": {},
   "outputs": [
    {
     "name": "stdin",
     "output_type": "stream",
     "text": [
      "Enter price:  200\n"
     ]
    }
   ],
   "source": [
    "price = int(input(\"Enter price: \"))\n",
    "if price > 1000:\n",
    "    print(\"i will not purchase\")"
   ]
  },
  {
   "cell_type": "code",
   "execution_count": 75,
   "id": "cd610f7a-fbdb-4da8-999d-1352f9b4366a",
   "metadata": {},
   "outputs": [],
   "source": [
    "x = [1,2,3,4,5,6,7,8]"
   ]
  },
  {
   "cell_type": "code",
   "execution_count": 84,
   "id": "daa41621-813f-40ea-be32-6691803a1966",
   "metadata": {},
   "outputs": [
    {
     "name": "stdout",
     "output_type": "stream",
     "text": [
      "2\n",
      "3\n",
      "4\n",
      "5\n",
      "6\n",
      "7\n",
      "8\n",
      "9\n"
     ]
    }
   ],
   "source": [
    "l1 = []\n",
    "for X in x:\n",
    "    print(X + 1)\n",
    "    l1.append(X+1)"
   ]
  },
  {
   "cell_type": "code",
   "execution_count": 85,
   "id": "a7d68a83-96e6-470c-82a4-c6115dc50e00",
   "metadata": {},
   "outputs": [
    {
     "data": {
      "text/plain": [
       "[2, 3, 4, 5, 6, 7, 8, 9]"
      ]
     },
     "execution_count": 85,
     "metadata": {},
     "output_type": "execute_result"
    }
   ],
   "source": [
    "l1"
   ]
  },
  {
   "cell_type": "code",
   "execution_count": 86,
   "id": "bea13cce-c52b-44b7-991c-d9571c0fe3af",
   "metadata": {},
   "outputs": [],
   "source": [
    "l = [\"nikhil\",'lokare','pwskills','course']"
   ]
  },
  {
   "cell_type": "code",
   "execution_count": 88,
   "id": "4d13f11d-9768-4eb1-86dc-690794204f1c",
   "metadata": {},
   "outputs": [
    {
     "name": "stdout",
     "output_type": "stream",
     "text": [
      "nikhil\n",
      "lokare\n",
      "pwskills\n",
      "course\n"
     ]
    }
   ],
   "source": [
    "l1 = []\n",
    "for i in l:\n",
    "    print(i)\n",
    "    l1.append(i.upper())"
   ]
  },
  {
   "cell_type": "code",
   "execution_count": 89,
   "id": "f3d0bf06-a5a1-42d4-bcd2-a964f14ce314",
   "metadata": {},
   "outputs": [
    {
     "data": {
      "text/plain": [
       "['NIKHIL', 'LOKARE', 'PWSKILLS', 'COURSE']"
      ]
     },
     "execution_count": 89,
     "metadata": {},
     "output_type": "execute_result"
    }
   ],
   "source": [
    "l1"
   ]
  },
  {
   "cell_type": "code",
   "execution_count": 90,
   "id": "613f1803-3fd3-45df-b188-00105a4737f8",
   "metadata": {},
   "outputs": [],
   "source": [
    "l = [1,2,3,4,5,6,'nikhil','lokare',43,65,77,333,'abc']"
   ]
  },
  {
   "cell_type": "code",
   "execution_count": 101,
   "id": "d7dbe7b1-6c0f-459a-8c84-840d4169ca6b",
   "metadata": {},
   "outputs": [],
   "source": [
    "l1_num = []\n",
    "l2_str = []\n",
    "for x in l :\n",
    "    if type(x) == int or type(x) == float:\n",
    "        l1_num.append(x)\n",
    "    else:\n",
    "        l2_str.append(x)    \n",
    "      "
   ]
  },
  {
   "cell_type": "code",
   "execution_count": 102,
   "id": "f99adb2b-56be-4af7-abfb-68192342c1e2",
   "metadata": {},
   "outputs": [
    {
     "data": {
      "text/plain": [
       "[1, 2, 3, 4, 5, 6, 43, 65, 77, 333]"
      ]
     },
     "execution_count": 102,
     "metadata": {},
     "output_type": "execute_result"
    }
   ],
   "source": [
    "l1_num"
   ]
  },
  {
   "cell_type": "code",
   "execution_count": 103,
   "id": "19ef2a93-ce4e-4ee1-b9b6-27d25422847b",
   "metadata": {},
   "outputs": [
    {
     "data": {
      "text/plain": [
       "['nikhil', 'lokare', 'abc']"
      ]
     },
     "execution_count": 103,
     "metadata": {},
     "output_type": "execute_result"
    }
   ],
   "source": [
    "l2_str"
   ]
  },
  {
   "cell_type": "code",
   "execution_count": null,
   "id": "00ba8191-7625-4cb1-badd-8de8d1be26d7",
   "metadata": {},
   "outputs": [],
   "source": []
  }
 ],
 "metadata": {
  "kernelspec": {
   "display_name": "Python 3 (ipykernel)",
   "language": "python",
   "name": "python3"
  },
  "language_info": {
   "codemirror_mode": {
    "name": "ipython",
    "version": 3
   },
   "file_extension": ".py",
   "mimetype": "text/x-python",
   "name": "python",
   "nbconvert_exporter": "python",
   "pygments_lexer": "ipython3",
   "version": "3.10.8"
  }
 },
 "nbformat": 4,
 "nbformat_minor": 5
}

{
 "cells": [
  {
   "cell_type": "code",
   "execution_count": 1,
   "id": "a735fa01-b272-44e7-9dff-6fab4b7dda85",
   "metadata": {},
   "outputs": [],
   "source": [
    "import numpy as np"
   ]
  },
  {
   "cell_type": "code",
   "execution_count": 5,
   "id": "7789b561-19fa-48b9-aefd-a965ad34119a",
   "metadata": {},
   "outputs": [],
   "source": [
    "l = [1,2,3,4,5]"
   ]
  },
  {
   "cell_type": "code",
   "execution_count": 6,
   "id": "7f8fd09e-8773-48d1-996f-5f72780b0bde",
   "metadata": {},
   "outputs": [],
   "source": [
    "array = np.array(l)"
   ]
  },
  {
   "cell_type": "code",
   "execution_count": 7,
   "id": "4bcc300c-bf68-4249-a163-e59d5c3dc381",
   "metadata": {},
   "outputs": [
    {
     "data": {
      "text/plain": [
       "numpy.ndarray"
      ]
     },
     "execution_count": 7,
     "metadata": {},
     "output_type": "execute_result"
    }
   ],
   "source": [
    "type(array)"
   ]
  },
  {
   "cell_type": "code",
   "execution_count": 8,
   "id": "87a5c97c-d626-40cf-9800-06ef5e009c11",
   "metadata": {},
   "outputs": [
    {
     "data": {
      "text/plain": [
       "array([[1, 2],\n",
       "       [3, 4]])"
      ]
     },
     "execution_count": 8,
     "metadata": {},
     "output_type": "execute_result"
    }
   ],
   "source": [
    "np.array([[1,2],[3,4]])"
   ]
  },
  {
   "cell_type": "code",
   "execution_count": 9,
   "id": "e4e8fbd0-91a8-4443-86f5-3c9e6d7fa5da",
   "metadata": {},
   "outputs": [
    {
     "data": {
      "text/plain": [
       "array([1, 2, 3, 4, 5])"
      ]
     },
     "execution_count": 9,
     "metadata": {},
     "output_type": "execute_result"
    }
   ],
   "source": [
    "np.asarray(l)"
   ]
  },
  {
   "cell_type": "code",
   "execution_count": 10,
   "id": "6de1f090-78f7-409b-9e0e-237bd9222a21",
   "metadata": {},
   "outputs": [],
   "source": [
    "a = [2,3,4]"
   ]
  },
  {
   "cell_type": "code",
   "execution_count": 11,
   "id": "d5129310-e170-4f06-8399-cba45b524d6e",
   "metadata": {},
   "outputs": [
    {
     "data": {
      "text/plain": [
       "array([2, 3, 4])"
      ]
     },
     "execution_count": 11,
     "metadata": {},
     "output_type": "execute_result"
    }
   ],
   "source": [
    "np.asanyarray(a)"
   ]
  },
  {
   "cell_type": "code",
   "execution_count": 12,
   "id": "251da194-56e8-4024-8ad9-0f460c7ed295",
   "metadata": {},
   "outputs": [],
   "source": [
    "b = np.matrix(l)"
   ]
  },
  {
   "cell_type": "code",
   "execution_count": 13,
   "id": "17795aad-c099-4eb7-8ddd-f1fb8561b3eb",
   "metadata": {},
   "outputs": [
    {
     "data": {
      "text/plain": [
       "matrix([[1, 2, 3, 4, 5]])"
      ]
     },
     "execution_count": 13,
     "metadata": {},
     "output_type": "execute_result"
    }
   ],
   "source": [
    "b"
   ]
  },
  {
   "cell_type": "code",
   "execution_count": 14,
   "id": "78035e3a-90eb-4fe8-bce5-bc21426cb605",
   "metadata": {},
   "outputs": [
    {
     "data": {
      "text/plain": [
       "matrix([[1, 2, 3, 4, 5]])"
      ]
     },
     "execution_count": 14,
     "metadata": {},
     "output_type": "execute_result"
    }
   ],
   "source": [
    "np.asanyarray(b)"
   ]
  },
  {
   "cell_type": "code",
   "execution_count": 15,
   "id": "89867b6b-93b0-42c7-b476-7b3f778978a2",
   "metadata": {},
   "outputs": [],
   "source": [
    "a = np.array(l)"
   ]
  },
  {
   "cell_type": "code",
   "execution_count": 16,
   "id": "31a8ccdb-6e44-4b86-b3ab-166242ff0fb5",
   "metadata": {},
   "outputs": [
    {
     "data": {
      "text/plain": [
       "array([1, 2, 3, 4, 5])"
      ]
     },
     "execution_count": 16,
     "metadata": {},
     "output_type": "execute_result"
    }
   ],
   "source": [
    "a"
   ]
  },
  {
   "cell_type": "code",
   "execution_count": 17,
   "id": "78688c83-467a-4cd3-baa7-10a91ea4e440",
   "metadata": {},
   "outputs": [],
   "source": [
    "c = a"
   ]
  },
  {
   "cell_type": "code",
   "execution_count": 18,
   "id": "ba57124e-4975-423e-aacd-705414b3e0c9",
   "metadata": {},
   "outputs": [
    {
     "data": {
      "text/plain": [
       "array([1, 2, 3, 4, 5])"
      ]
     },
     "execution_count": 18,
     "metadata": {},
     "output_type": "execute_result"
    }
   ],
   "source": [
    "c"
   ]
  },
  {
   "cell_type": "code",
   "execution_count": 19,
   "id": "d93607f4-de39-4487-a87a-69480d3c241d",
   "metadata": {},
   "outputs": [
    {
     "data": {
      "text/plain": [
       "array([1, 2, 3, 4, 5])"
      ]
     },
     "execution_count": 19,
     "metadata": {},
     "output_type": "execute_result"
    }
   ],
   "source": [
    "a"
   ]
  },
  {
   "cell_type": "code",
   "execution_count": 20,
   "id": "4358e196-fe9a-4549-a610-e796f5f8cd17",
   "metadata": {},
   "outputs": [],
   "source": [
    "c[0] = 100"
   ]
  },
  {
   "cell_type": "code",
   "execution_count": 21,
   "id": "6e68e01c-0666-4ae4-9d9f-c423ed82ae52",
   "metadata": {},
   "outputs": [
    {
     "data": {
      "text/plain": [
       "array([100,   2,   3,   4,   5])"
      ]
     },
     "execution_count": 21,
     "metadata": {},
     "output_type": "execute_result"
    }
   ],
   "source": [
    "c"
   ]
  },
  {
   "cell_type": "code",
   "execution_count": 22,
   "id": "d0918144-b8c0-4928-8638-00ae083a58aa",
   "metadata": {},
   "outputs": [
    {
     "data": {
      "text/plain": [
       "array([100,   2,   3,   4,   5])"
      ]
     },
     "execution_count": 22,
     "metadata": {},
     "output_type": "execute_result"
    }
   ],
   "source": [
    "a"
   ]
  },
  {
   "cell_type": "code",
   "execution_count": 23,
   "id": "bd8950ac-85eb-4703-9392-c9a20c2d93dd",
   "metadata": {},
   "outputs": [
    {
     "data": {
      "text/plain": [
       "array([[ True, False, False],\n",
       "       [False,  True, False],\n",
       "       [False, False,  True]])"
      ]
     },
     "execution_count": 23,
     "metadata": {},
     "output_type": "execute_result"
    }
   ],
   "source": [
    "np.fromfunction(lambda i, j : i==j,(3,3))"
   ]
  },
  {
   "cell_type": "code",
   "execution_count": 24,
   "id": "01813545-8f7b-4943-a410-30f82e30b75e",
   "metadata": {},
   "outputs": [],
   "source": [
    "iterable = (i*i for i in range(5))"
   ]
  },
  {
   "cell_type": "code",
   "execution_count": 25,
   "id": "ca225a70-8879-41a1-8991-b5f18ef59ea4",
   "metadata": {},
   "outputs": [
    {
     "data": {
      "text/plain": [
       "array([ 0.,  1.,  4.,  9., 16.])"
      ]
     },
     "execution_count": 25,
     "metadata": {},
     "output_type": "execute_result"
    }
   ],
   "source": [
    "np.fromiter(iterable,float)"
   ]
  },
  {
   "cell_type": "code",
   "execution_count": 26,
   "id": "b30a067d-6323-46ad-8f1f-abfa7a5258b3",
   "metadata": {},
   "outputs": [
    {
     "data": {
      "text/plain": [
       "array([234., 234.])"
      ]
     },
     "execution_count": 26,
     "metadata": {},
     "output_type": "execute_result"
    }
   ],
   "source": [
    "np.fromstring('234 234' , sep= ' ')"
   ]
  },
  {
   "cell_type": "code",
   "execution_count": 27,
   "id": "a9c2a1b1-d74f-4116-9943-e816ac0bc0de",
   "metadata": {},
   "outputs": [],
   "source": [
    "list1 = [2,3,4,5,6]"
   ]
  },
  {
   "cell_type": "code",
   "execution_count": 28,
   "id": "04e5fa7e-17da-429d-8c9a-aef3570551ad",
   "metadata": {},
   "outputs": [],
   "source": [
    "arr = np.array(list1)"
   ]
  },
  {
   "cell_type": "code",
   "execution_count": 29,
   "id": "4950f2bc-126e-41e6-a8c6-d9156834dc6d",
   "metadata": {},
   "outputs": [
    {
     "data": {
      "text/plain": [
       "1"
      ]
     },
     "execution_count": 29,
     "metadata": {},
     "output_type": "execute_result"
    }
   ],
   "source": [
    "arr.ndim"
   ]
  },
  {
   "cell_type": "code",
   "execution_count": 30,
   "id": "eae965b3-e6be-4a2d-a985-59459eecb8bd",
   "metadata": {},
   "outputs": [],
   "source": [
    "arr2 = np.array([[1,2,3,4],[2,3,4,5]])"
   ]
  },
  {
   "cell_type": "code",
   "execution_count": 31,
   "id": "c9db51f7-60fc-4acb-92da-99aa782580de",
   "metadata": {},
   "outputs": [
    {
     "data": {
      "text/plain": [
       "array([[1, 2, 3, 4],\n",
       "       [2, 3, 4, 5]])"
      ]
     },
     "execution_count": 31,
     "metadata": {},
     "output_type": "execute_result"
    }
   ],
   "source": [
    "arr2"
   ]
  },
  {
   "cell_type": "code",
   "execution_count": 32,
   "id": "735d630d-cbb4-47a7-89e0-a85b2dbb00b4",
   "metadata": {},
   "outputs": [
    {
     "data": {
      "text/plain": [
       "2"
      ]
     },
     "execution_count": 32,
     "metadata": {},
     "output_type": "execute_result"
    }
   ],
   "source": [
    "arr2.ndim"
   ]
  },
  {
   "cell_type": "code",
   "execution_count": 33,
   "id": "71416ba8-c912-4951-81f0-148329138704",
   "metadata": {},
   "outputs": [
    {
     "data": {
      "text/plain": [
       "8"
      ]
     },
     "execution_count": 33,
     "metadata": {},
     "output_type": "execute_result"
    }
   ],
   "source": [
    "arr2.size"
   ]
  },
  {
   "cell_type": "code",
   "execution_count": 34,
   "id": "684aac07-a497-4195-bf91-023c4a3bb527",
   "metadata": {},
   "outputs": [
    {
     "data": {
      "text/plain": [
       "array([[1, 2, 3, 4],\n",
       "       [2, 3, 4, 5]])"
      ]
     },
     "execution_count": 34,
     "metadata": {},
     "output_type": "execute_result"
    }
   ],
   "source": [
    "arr2"
   ]
  },
  {
   "cell_type": "code",
   "execution_count": 35,
   "id": "e7792604-aa82-4941-9673-704932d4667c",
   "metadata": {},
   "outputs": [
    {
     "data": {
      "text/plain": [
       "(2, 4)"
      ]
     },
     "execution_count": 35,
     "metadata": {},
     "output_type": "execute_result"
    }
   ],
   "source": [
    "arr2.shape"
   ]
  },
  {
   "cell_type": "code",
   "execution_count": 38,
   "id": "106b9828-d8d3-4ae0-950f-eab9326b2052",
   "metadata": {},
   "outputs": [
    {
     "data": {
      "text/plain": [
       "dtype('int64')"
      ]
     },
     "execution_count": 38,
     "metadata": {},
     "output_type": "execute_result"
    }
   ],
   "source": [
    "arr2.dtype"
   ]
  },
  {
   "cell_type": "code",
   "execution_count": 39,
   "id": "0ed9eb64-397a-460f-91ca-d33bac5b06ba",
   "metadata": {},
   "outputs": [],
   "source": [
    "ar22 = np.array([(1.4,54,89),(23,65,98)])"
   ]
  },
  {
   "cell_type": "code",
   "execution_count": 40,
   "id": "c068dcc1-c529-4ead-9270-52d6e015a771",
   "metadata": {},
   "outputs": [
    {
     "data": {
      "text/plain": [
       "array([[ 1.4, 54. , 89. ],\n",
       "       [23. , 65. , 98. ]])"
      ]
     },
     "execution_count": 40,
     "metadata": {},
     "output_type": "execute_result"
    }
   ],
   "source": [
    "ar22"
   ]
  },
  {
   "cell_type": "code",
   "execution_count": 42,
   "id": "466d82ad-9306-4a93-af57-1ef5cb9162df",
   "metadata": {},
   "outputs": [
    {
     "data": {
      "text/plain": [
       "dtype('float64')"
      ]
     },
     "execution_count": 42,
     "metadata": {},
     "output_type": "execute_result"
    }
   ],
   "source": [
    "ar22.dtype"
   ]
  },
  {
   "cell_type": "code",
   "execution_count": 47,
   "id": "7bb27f9a-6071-4906-ac83-8c10d757b7f6",
   "metadata": {},
   "outputs": [
    {
     "data": {
      "text/plain": [
       "[0, 1, 2, 3, 4]"
      ]
     },
     "execution_count": 47,
     "metadata": {},
     "output_type": "execute_result"
    }
   ],
   "source": [
    "list(range(5))"
   ]
  },
  {
   "cell_type": "code",
   "execution_count": 50,
   "id": "297f33b4-22b2-40d5-a825-e3f7a0886929",
   "metadata": {},
   "outputs": [
    {
     "data": {
      "text/plain": [
       "[2.3, 3.3, 4.3, 5.3]"
      ]
     },
     "execution_count": 50,
     "metadata": {},
     "output_type": "execute_result"
    }
   ],
   "source": [
    "list(np.arange(2.3,6))"
   ]
  },
  {
   "cell_type": "code",
   "execution_count": 52,
   "id": "c826fdaf-7632-4c8b-9c6b-23ee82ca2965",
   "metadata": {},
   "outputs": [
    {
     "data": {
      "text/plain": [
       "array([1.        , 1.44444444, 1.88888889, 2.33333333, 2.77777778,\n",
       "       3.22222222, 3.66666667, 4.11111111, 4.55555556, 5.        ])"
      ]
     },
     "execution_count": 52,
     "metadata": {},
     "output_type": "execute_result"
    }
   ],
   "source": [
    "np.linspace(1,5,10)"
   ]
  },
  {
   "cell_type": "code",
   "execution_count": 56,
   "id": "689a2f44-9da1-4d0d-ac8b-e21e740fa9b6",
   "metadata": {},
   "outputs": [],
   "source": [
    "ar4 = np.zeros((3,4,2,5))"
   ]
  },
  {
   "cell_type": "code",
   "execution_count": 57,
   "id": "850c0539-52bf-4892-a5c7-93a32903a845",
   "metadata": {},
   "outputs": [
    {
     "data": {
      "text/plain": [
       "4"
      ]
     },
     "execution_count": 57,
     "metadata": {},
     "output_type": "execute_result"
    }
   ],
   "source": [
    "ar4.ndim"
   ]
  },
  {
   "cell_type": "code",
   "execution_count": 61,
   "id": "2367673d-178f-4ae9-b1cc-591a26dbf6f5",
   "metadata": {},
   "outputs": [],
   "source": [
    "one = np.ones((2,3,2))"
   ]
  },
  {
   "cell_type": "code",
   "execution_count": 62,
   "id": "298d4143-77e4-40ed-8cf8-5cb1be9dc1da",
   "metadata": {},
   "outputs": [
    {
     "data": {
      "text/plain": [
       "3"
      ]
     },
     "execution_count": 62,
     "metadata": {},
     "output_type": "execute_result"
    }
   ],
   "source": [
    "one.ndim"
   ]
  },
  {
   "cell_type": "code",
   "execution_count": 63,
   "id": "af3b021a-e180-48e7-996d-a07fe91511bd",
   "metadata": {},
   "outputs": [
    {
     "data": {
      "text/plain": [
       "array([[[8., 8.],\n",
       "        [8., 8.],\n",
       "        [8., 8.]],\n",
       "\n",
       "       [[8., 8.],\n",
       "        [8., 8.],\n",
       "        [8., 8.]]])"
      ]
     },
     "execution_count": 63,
     "metadata": {},
     "output_type": "execute_result"
    }
   ],
   "source": [
    "one  + 7"
   ]
  },
  {
   "cell_type": "code",
   "execution_count": 64,
   "id": "9c700ce1-6fd7-4bb7-97bb-fd9d16fd2898",
   "metadata": {},
   "outputs": [
    {
     "data": {
      "text/plain": [
       "array([[0., 0., 0., 1., 1., 1.],\n",
       "       [2., 2., 2., 0., 1., 2.],\n",
       "       [0., 1., 2., 0., 1., 2.]])"
      ]
     },
     "execution_count": 64,
     "metadata": {},
     "output_type": "execute_result"
    }
   ],
   "source": [
    "np.empty((3,6))"
   ]
  },
  {
   "cell_type": "code",
   "execution_count": 65,
   "id": "5cfeeceb-b72e-426f-9009-ab848b4b6e6f",
   "metadata": {},
   "outputs": [
    {
     "data": {
      "text/plain": [
       "array([[1., 0., 0., 0.],\n",
       "       [0., 1., 0., 0.],\n",
       "       [0., 0., 1., 0.],\n",
       "       [0., 0., 0., 1.]])"
      ]
     },
     "execution_count": 65,
     "metadata": {},
     "output_type": "execute_result"
    }
   ],
   "source": [
    "np.eye(4)"
   ]
  },
  {
   "cell_type": "code",
   "execution_count": 66,
   "id": "1d0f906b-2dba-49e8-9355-9dc91f80d8a0",
   "metadata": {},
   "outputs": [
    {
     "data": {
      "text/plain": [
       "array([2.        , 2.10526316, 2.21052632, 2.31578947, 2.42105263,\n",
       "       2.52631579, 2.63157895, 2.73684211, 2.84210526, 2.94736842,\n",
       "       3.05263158, 3.15789474, 3.26315789, 3.36842105, 3.47368421,\n",
       "       3.57894737, 3.68421053, 3.78947368, 3.89473684, 4.        ])"
      ]
     },
     "execution_count": 66,
     "metadata": {},
     "output_type": "execute_result"
    }
   ],
   "source": [
    "np.linspace(2,4,20)"
   ]
  },
  {
   "cell_type": "code",
   "execution_count": 67,
   "id": "f851fc53-e99c-4f10-9884-e70d71587556",
   "metadata": {},
   "outputs": [
    {
     "data": {
      "text/plain": [
       "array([   100.        ,    215.443469  ,    464.15888336,   1000.        ,\n",
       "         2154.43469003,   4641.58883361,  10000.        ,  21544.34690032,\n",
       "        46415.88833613, 100000.        ])"
      ]
     },
     "execution_count": 67,
     "metadata": {},
     "output_type": "execute_result"
    }
   ],
   "source": [
    "np.logspace(2,5,10)"
   ]
  },
  {
   "cell_type": "code",
   "execution_count": 75,
   "id": "2b53e731-170d-408a-8ff4-588782ffe1b1",
   "metadata": {},
   "outputs": [],
   "source": [
    "arr = np.random.randn(3,4)"
   ]
  },
  {
   "cell_type": "code",
   "execution_count": 2,
   "id": "0ceeee79-9545-418f-a07e-7455a71c6b5f",
   "metadata": {},
   "outputs": [],
   "source": [
    "import pandas as pd"
   ]
  },
  {
   "cell_type": "code",
   "execution_count": 77,
   "id": "927e6137-3ee3-47a1-a825-413daed6743a",
   "metadata": {},
   "outputs": [
    {
     "data": {
      "text/html": [
       "<div>\n",
       "<style scoped>\n",
       "    .dataframe tbody tr th:only-of-type {\n",
       "        vertical-align: middle;\n",
       "    }\n",
       "\n",
       "    .dataframe tbody tr th {\n",
       "        vertical-align: top;\n",
       "    }\n",
       "\n",
       "    .dataframe thead th {\n",
       "        text-align: right;\n",
       "    }\n",
       "</style>\n",
       "<table border=\"1\" class=\"dataframe\">\n",
       "  <thead>\n",
       "    <tr style=\"text-align: right;\">\n",
       "      <th></th>\n",
       "      <th>0</th>\n",
       "      <th>1</th>\n",
       "      <th>2</th>\n",
       "      <th>3</th>\n",
       "    </tr>\n",
       "  </thead>\n",
       "  <tbody>\n",
       "    <tr>\n",
       "      <th>0</th>\n",
       "      <td>0.384780</td>\n",
       "      <td>0.887887</td>\n",
       "      <td>-0.029940</td>\n",
       "      <td>-0.088863</td>\n",
       "    </tr>\n",
       "    <tr>\n",
       "      <th>1</th>\n",
       "      <td>-0.164030</td>\n",
       "      <td>1.409364</td>\n",
       "      <td>-0.636096</td>\n",
       "      <td>0.927509</td>\n",
       "    </tr>\n",
       "    <tr>\n",
       "      <th>2</th>\n",
       "      <td>0.438456</td>\n",
       "      <td>-0.696678</td>\n",
       "      <td>1.426248</td>\n",
       "      <td>-2.086383</td>\n",
       "    </tr>\n",
       "  </tbody>\n",
       "</table>\n",
       "</div>"
      ],
      "text/plain": [
       "          0         1         2         3\n",
       "0  0.384780  0.887887 -0.029940 -0.088863\n",
       "1 -0.164030  1.409364 -0.636096  0.927509\n",
       "2  0.438456 -0.696678  1.426248 -2.086383"
      ]
     },
     "execution_count": 77,
     "metadata": {},
     "output_type": "execute_result"
    }
   ],
   "source": [
    "pd.DataFrame(arr)"
   ]
  },
  {
   "cell_type": "code",
   "execution_count": 78,
   "id": "801b6ac0-0220-4e06-92e8-7915126baaf6",
   "metadata": {},
   "outputs": [
    {
     "data": {
      "text/plain": [
       "array([[ 1.41847473, -1.21625293,  1.46115974, -0.00328907],\n",
       "       [ 2.2453039 ,  1.63512125, -1.47419266,  1.36667472],\n",
       "       [ 0.75299773,  0.24021213,  0.8679592 , -0.37071577]])"
      ]
     },
     "execution_count": 78,
     "metadata": {},
     "output_type": "execute_result"
    }
   ],
   "source": [
    "np.random.randn(3,4)"
   ]
  },
  {
   "cell_type": "code",
   "execution_count": 80,
   "id": "4aea11ae-fecd-4c56-9d0e-817223458ac4",
   "metadata": {},
   "outputs": [
    {
     "data": {
      "text/plain": [
       "array([[0.36376118, 0.9392053 , 0.09560532, 0.29911463],\n",
       "       [0.75316987, 0.84874131, 0.85780999, 0.31244419],\n",
       "       [0.08311727, 0.33993215, 0.34892258, 0.46873566]])"
      ]
     },
     "execution_count": 80,
     "metadata": {},
     "output_type": "execute_result"
    }
   ],
   "source": [
    "np.random.rand(3,4)"
   ]
  },
  {
   "cell_type": "code",
   "execution_count": 82,
   "id": "fcd066a7-73df-4f14-9566-6a4d09c6354b",
   "metadata": {},
   "outputs": [
    {
     "data": {
      "text/html": [
       "<div>\n",
       "<style scoped>\n",
       "    .dataframe tbody tr th:only-of-type {\n",
       "        vertical-align: middle;\n",
       "    }\n",
       "\n",
       "    .dataframe tbody tr th {\n",
       "        vertical-align: top;\n",
       "    }\n",
       "\n",
       "    .dataframe thead th {\n",
       "        text-align: right;\n",
       "    }\n",
       "</style>\n",
       "<table border=\"1\" class=\"dataframe\">\n",
       "  <thead>\n",
       "    <tr style=\"text-align: right;\">\n",
       "      <th></th>\n",
       "      <th>0</th>\n",
       "      <th>1</th>\n",
       "      <th>2</th>\n",
       "      <th>3</th>\n",
       "      <th>4</th>\n",
       "      <th>5</th>\n",
       "      <th>6</th>\n",
       "      <th>7</th>\n",
       "      <th>8</th>\n",
       "      <th>9</th>\n",
       "      <th>...</th>\n",
       "      <th>390</th>\n",
       "      <th>391</th>\n",
       "      <th>392</th>\n",
       "      <th>393</th>\n",
       "      <th>394</th>\n",
       "      <th>395</th>\n",
       "      <th>396</th>\n",
       "      <th>397</th>\n",
       "      <th>398</th>\n",
       "      <th>399</th>\n",
       "    </tr>\n",
       "  </thead>\n",
       "  <tbody>\n",
       "    <tr>\n",
       "      <th>0</th>\n",
       "      <td>109</td>\n",
       "      <td>30</td>\n",
       "      <td>36</td>\n",
       "      <td>91</td>\n",
       "      <td>73</td>\n",
       "      <td>93</td>\n",
       "      <td>4</td>\n",
       "      <td>36</td>\n",
       "      <td>49</td>\n",
       "      <td>44</td>\n",
       "      <td>...</td>\n",
       "      <td>59</td>\n",
       "      <td>11</td>\n",
       "      <td>88</td>\n",
       "      <td>32</td>\n",
       "      <td>104</td>\n",
       "      <td>65</td>\n",
       "      <td>94</td>\n",
       "      <td>58</td>\n",
       "      <td>35</td>\n",
       "      <td>21</td>\n",
       "    </tr>\n",
       "    <tr>\n",
       "      <th>1</th>\n",
       "      <td>103</td>\n",
       "      <td>34</td>\n",
       "      <td>55</td>\n",
       "      <td>29</td>\n",
       "      <td>6</td>\n",
       "      <td>9</td>\n",
       "      <td>90</td>\n",
       "      <td>83</td>\n",
       "      <td>77</td>\n",
       "      <td>93</td>\n",
       "      <td>...</td>\n",
       "      <td>71</td>\n",
       "      <td>78</td>\n",
       "      <td>92</td>\n",
       "      <td>55</td>\n",
       "      <td>75</td>\n",
       "      <td>92</td>\n",
       "      <td>86</td>\n",
       "      <td>68</td>\n",
       "      <td>44</td>\n",
       "      <td>94</td>\n",
       "    </tr>\n",
       "    <tr>\n",
       "      <th>2</th>\n",
       "      <td>55</td>\n",
       "      <td>18</td>\n",
       "      <td>88</td>\n",
       "      <td>81</td>\n",
       "      <td>72</td>\n",
       "      <td>105</td>\n",
       "      <td>62</td>\n",
       "      <td>63</td>\n",
       "      <td>8</td>\n",
       "      <td>104</td>\n",
       "      <td>...</td>\n",
       "      <td>47</td>\n",
       "      <td>108</td>\n",
       "      <td>43</td>\n",
       "      <td>15</td>\n",
       "      <td>64</td>\n",
       "      <td>41</td>\n",
       "      <td>13</td>\n",
       "      <td>92</td>\n",
       "      <td>88</td>\n",
       "      <td>36</td>\n",
       "    </tr>\n",
       "    <tr>\n",
       "      <th>3</th>\n",
       "      <td>87</td>\n",
       "      <td>72</td>\n",
       "      <td>69</td>\n",
       "      <td>105</td>\n",
       "      <td>10</td>\n",
       "      <td>75</td>\n",
       "      <td>94</td>\n",
       "      <td>68</td>\n",
       "      <td>87</td>\n",
       "      <td>93</td>\n",
       "      <td>...</td>\n",
       "      <td>32</td>\n",
       "      <td>59</td>\n",
       "      <td>89</td>\n",
       "      <td>73</td>\n",
       "      <td>86</td>\n",
       "      <td>59</td>\n",
       "      <td>40</td>\n",
       "      <td>55</td>\n",
       "      <td>24</td>\n",
       "      <td>54</td>\n",
       "    </tr>\n",
       "    <tr>\n",
       "      <th>4</th>\n",
       "      <td>83</td>\n",
       "      <td>1</td>\n",
       "      <td>35</td>\n",
       "      <td>4</td>\n",
       "      <td>96</td>\n",
       "      <td>32</td>\n",
       "      <td>14</td>\n",
       "      <td>102</td>\n",
       "      <td>65</td>\n",
       "      <td>37</td>\n",
       "      <td>...</td>\n",
       "      <td>83</td>\n",
       "      <td>90</td>\n",
       "      <td>12</td>\n",
       "      <td>7</td>\n",
       "      <td>21</td>\n",
       "      <td>108</td>\n",
       "      <td>7</td>\n",
       "      <td>2</td>\n",
       "      <td>98</td>\n",
       "      <td>10</td>\n",
       "    </tr>\n",
       "    <tr>\n",
       "      <th>...</th>\n",
       "      <td>...</td>\n",
       "      <td>...</td>\n",
       "      <td>...</td>\n",
       "      <td>...</td>\n",
       "      <td>...</td>\n",
       "      <td>...</td>\n",
       "      <td>...</td>\n",
       "      <td>...</td>\n",
       "      <td>...</td>\n",
       "      <td>...</td>\n",
       "      <td>...</td>\n",
       "      <td>...</td>\n",
       "      <td>...</td>\n",
       "      <td>...</td>\n",
       "      <td>...</td>\n",
       "      <td>...</td>\n",
       "      <td>...</td>\n",
       "      <td>...</td>\n",
       "      <td>...</td>\n",
       "      <td>...</td>\n",
       "      <td>...</td>\n",
       "    </tr>\n",
       "    <tr>\n",
       "      <th>295</th>\n",
       "      <td>33</td>\n",
       "      <td>49</td>\n",
       "      <td>7</td>\n",
       "      <td>107</td>\n",
       "      <td>39</td>\n",
       "      <td>34</td>\n",
       "      <td>9</td>\n",
       "      <td>32</td>\n",
       "      <td>17</td>\n",
       "      <td>107</td>\n",
       "      <td>...</td>\n",
       "      <td>22</td>\n",
       "      <td>50</td>\n",
       "      <td>40</td>\n",
       "      <td>18</td>\n",
       "      <td>96</td>\n",
       "      <td>51</td>\n",
       "      <td>63</td>\n",
       "      <td>61</td>\n",
       "      <td>79</td>\n",
       "      <td>38</td>\n",
       "    </tr>\n",
       "    <tr>\n",
       "      <th>296</th>\n",
       "      <td>101</td>\n",
       "      <td>4</td>\n",
       "      <td>7</td>\n",
       "      <td>21</td>\n",
       "      <td>74</td>\n",
       "      <td>50</td>\n",
       "      <td>80</td>\n",
       "      <td>32</td>\n",
       "      <td>102</td>\n",
       "      <td>22</td>\n",
       "      <td>...</td>\n",
       "      <td>54</td>\n",
       "      <td>69</td>\n",
       "      <td>87</td>\n",
       "      <td>9</td>\n",
       "      <td>71</td>\n",
       "      <td>20</td>\n",
       "      <td>38</td>\n",
       "      <td>6</td>\n",
       "      <td>38</td>\n",
       "      <td>1</td>\n",
       "    </tr>\n",
       "    <tr>\n",
       "      <th>297</th>\n",
       "      <td>25</td>\n",
       "      <td>90</td>\n",
       "      <td>49</td>\n",
       "      <td>73</td>\n",
       "      <td>54</td>\n",
       "      <td>76</td>\n",
       "      <td>35</td>\n",
       "      <td>88</td>\n",
       "      <td>90</td>\n",
       "      <td>10</td>\n",
       "      <td>...</td>\n",
       "      <td>98</td>\n",
       "      <td>27</td>\n",
       "      <td>71</td>\n",
       "      <td>87</td>\n",
       "      <td>43</td>\n",
       "      <td>12</td>\n",
       "      <td>59</td>\n",
       "      <td>55</td>\n",
       "      <td>41</td>\n",
       "      <td>84</td>\n",
       "    </tr>\n",
       "    <tr>\n",
       "      <th>298</th>\n",
       "      <td>88</td>\n",
       "      <td>103</td>\n",
       "      <td>53</td>\n",
       "      <td>37</td>\n",
       "      <td>47</td>\n",
       "      <td>60</td>\n",
       "      <td>81</td>\n",
       "      <td>5</td>\n",
       "      <td>7</td>\n",
       "      <td>86</td>\n",
       "      <td>...</td>\n",
       "      <td>90</td>\n",
       "      <td>53</td>\n",
       "      <td>82</td>\n",
       "      <td>37</td>\n",
       "      <td>40</td>\n",
       "      <td>67</td>\n",
       "      <td>48</td>\n",
       "      <td>7</td>\n",
       "      <td>26</td>\n",
       "      <td>83</td>\n",
       "    </tr>\n",
       "    <tr>\n",
       "      <th>299</th>\n",
       "      <td>104</td>\n",
       "      <td>68</td>\n",
       "      <td>60</td>\n",
       "      <td>66</td>\n",
       "      <td>75</td>\n",
       "      <td>70</td>\n",
       "      <td>17</td>\n",
       "      <td>71</td>\n",
       "      <td>74</td>\n",
       "      <td>14</td>\n",
       "      <td>...</td>\n",
       "      <td>10</td>\n",
       "      <td>18</td>\n",
       "      <td>101</td>\n",
       "      <td>27</td>\n",
       "      <td>87</td>\n",
       "      <td>67</td>\n",
       "      <td>107</td>\n",
       "      <td>104</td>\n",
       "      <td>62</td>\n",
       "      <td>23</td>\n",
       "    </tr>\n",
       "  </tbody>\n",
       "</table>\n",
       "<p>300 rows × 400 columns</p>\n",
       "</div>"
      ],
      "text/plain": [
       "     0    1    2    3    4    5    6    7    8    9    ...  390  391  392  \\\n",
       "0    109   30   36   91   73   93    4   36   49   44  ...   59   11   88   \n",
       "1    103   34   55   29    6    9   90   83   77   93  ...   71   78   92   \n",
       "2     55   18   88   81   72  105   62   63    8  104  ...   47  108   43   \n",
       "3     87   72   69  105   10   75   94   68   87   93  ...   32   59   89   \n",
       "4     83    1   35    4   96   32   14  102   65   37  ...   83   90   12   \n",
       "..   ...  ...  ...  ...  ...  ...  ...  ...  ...  ...  ...  ...  ...  ...   \n",
       "295   33   49    7  107   39   34    9   32   17  107  ...   22   50   40   \n",
       "296  101    4    7   21   74   50   80   32  102   22  ...   54   69   87   \n",
       "297   25   90   49   73   54   76   35   88   90   10  ...   98   27   71   \n",
       "298   88  103   53   37   47   60   81    5    7   86  ...   90   53   82   \n",
       "299  104   68   60   66   75   70   17   71   74   14  ...   10   18  101   \n",
       "\n",
       "     393  394  395  396  397  398  399  \n",
       "0     32  104   65   94   58   35   21  \n",
       "1     55   75   92   86   68   44   94  \n",
       "2     15   64   41   13   92   88   36  \n",
       "3     73   86   59   40   55   24   54  \n",
       "4      7   21  108    7    2   98   10  \n",
       "..   ...  ...  ...  ...  ...  ...  ...  \n",
       "295   18   96   51   63   61   79   38  \n",
       "296    9   71   20   38    6   38    1  \n",
       "297   87   43   12   59   55   41   84  \n",
       "298   37   40   67   48    7   26   83  \n",
       "299   27   87   67  107  104   62   23  \n",
       "\n",
       "[300 rows x 400 columns]"
      ]
     },
     "execution_count": 82,
     "metadata": {},
     "output_type": "execute_result"
    }
   ],
   "source": [
    "pd.DataFrame(np.random.randint(1,110,(300,400)))"
   ]
  },
  {
   "cell_type": "code",
   "execution_count": 3,
   "id": "8b35d781-2eb9-4dcb-a91e-20e3bbf5bd84",
   "metadata": {},
   "outputs": [],
   "source": [
    "pd.DataFrame(np.random.randint(1,110, (300,400))).to_csv('t.csv')"
   ]
  },
  {
   "cell_type": "code",
   "execution_count": 4,
   "id": "485bf62c-0c4a-4683-aad8-23b4eb811289",
   "metadata": {},
   "outputs": [],
   "source": [
    "z = np.random.rand(3,4)"
   ]
  },
  {
   "cell_type": "code",
   "execution_count": 5,
   "id": "e066e8af-f037-43ed-911b-57ff8e91bb5b",
   "metadata": {},
   "outputs": [
    {
     "data": {
      "text/plain": [
       "array([[0.64659252, 0.49118344, 0.20135807, 0.7116204 ],\n",
       "       [0.35085474, 0.46247338, 0.9279701 , 0.68098166],\n",
       "       [0.64957704, 0.09120515, 0.19866481, 0.57537016]])"
      ]
     },
     "execution_count": 5,
     "metadata": {},
     "output_type": "execute_result"
    }
   ],
   "source": [
    "z"
   ]
  },
  {
   "cell_type": "code",
   "execution_count": 7,
   "id": "d17a0fd9-0275-43ad-8176-7585378b4456",
   "metadata": {},
   "outputs": [],
   "source": [
    "arrr1 = z.reshape(6,2)"
   ]
  },
  {
   "cell_type": "code",
   "execution_count": 11,
   "id": "18fb8d43-f550-4d52-a647-12f8231dfa51",
   "metadata": {},
   "outputs": [
    {
     "data": {
      "text/plain": [
       "array([[0.64659252, 0.49118344],\n",
       "       [0.20135807, 0.7116204 ],\n",
       "       [0.35085474, 0.46247338],\n",
       "       [0.9279701 , 0.68098166],\n",
       "       [0.64957704, 0.09120515],\n",
       "       [0.19866481, 0.57537016]])"
      ]
     },
     "execution_count": 11,
     "metadata": {},
     "output_type": "execute_result"
    }
   ],
   "source": [
    "arrr1"
   ]
  },
  {
   "cell_type": "code",
   "execution_count": 24,
   "id": "19e0b0fb-40d7-4201-8028-2a704e1eda0f",
   "metadata": {},
   "outputs": [
    {
     "data": {
      "text/plain": [
       "0.7116203960980757"
      ]
     },
     "execution_count": 24,
     "metadata": {},
     "output_type": "execute_result"
    }
   ],
   "source": [
    "arrr1[1][1]"
   ]
  },
  {
   "cell_type": "code",
   "execution_count": 25,
   "id": "da4b776b-15a2-44e7-b449-bb200e7f4c7c",
   "metadata": {},
   "outputs": [
    {
     "data": {
      "text/plain": [
       "array([[0.46247338],\n",
       "       [0.68098166],\n",
       "       [0.09120515]])"
      ]
     },
     "execution_count": 25,
     "metadata": {},
     "output_type": "execute_result"
    }
   ],
   "source": [
    "arrr1[2:5,[1]]"
   ]
  },
  {
   "cell_type": "code",
   "execution_count": 32,
   "id": "d3f1dddc-a7c7-4711-97df-728e0580b1e8",
   "metadata": {},
   "outputs": [],
   "source": [
    "a = np.random.randint(1,100, (5,5))"
   ]
  },
  {
   "cell_type": "code",
   "execution_count": 36,
   "id": "eae8b585-7ca5-4489-a066-e24c5223a446",
   "metadata": {},
   "outputs": [
    {
     "data": {
      "text/plain": [
       "array([[24,  3, 58, 97, 16],\n",
       "       [67, 38, 91, 43, 10],\n",
       "       [70, 93, 49, 61, 52],\n",
       "       [80, 33, 83, 78,  1],\n",
       "       [ 1, 67, 17, 59,  6]])"
      ]
     },
     "execution_count": 36,
     "metadata": {},
     "output_type": "execute_result"
    }
   ],
   "source": [
    "a"
   ]
  },
  {
   "cell_type": "code",
   "execution_count": 38,
   "id": "d687f3d8-f8b1-45d8-9ad5-18c6fb80ec65",
   "metadata": {},
   "outputs": [
    {
     "data": {
      "text/plain": [
       "array([58, 97, 67, 91, 70, 93, 61, 52, 80, 83, 78, 67, 59])"
      ]
     },
     "execution_count": 38,
     "metadata": {},
     "output_type": "execute_result"
    }
   ],
   "source": [
    "a[a>50]"
   ]
  },
  {
   "cell_type": "code",
   "execution_count": 42,
   "id": "2a328096-1d50-404e-9548-33a55f42f567",
   "metadata": {},
   "outputs": [
    {
     "data": {
      "text/plain": [
       "array([[93, 49],\n",
       "       [33, 83]])"
      ]
     },
     "execution_count": 42,
     "metadata": {},
     "output_type": "execute_result"
    }
   ],
   "source": [
    "a[2:4, [1,2]]"
   ]
  },
  {
   "cell_type": "code",
   "execution_count": 46,
   "id": "03a13a5c-98fe-449b-9001-de8d94a335ba",
   "metadata": {},
   "outputs": [],
   "source": [
    "a[0][0] = 5000"
   ]
  },
  {
   "cell_type": "code",
   "execution_count": 47,
   "id": "d158b31c-82d8-4552-a131-8c4d9ce0c6d4",
   "metadata": {},
   "outputs": [
    {
     "data": {
      "text/plain": [
       "array([[5000,    3,   58,   97,   16],\n",
       "       [  67,   38,   91,   43,   10],\n",
       "       [  70,   93,   49,   61,   52],\n",
       "       [  80,   33,   83,   78,    1],\n",
       "       [   1,   67,   17,   59,    6]])"
      ]
     },
     "execution_count": 47,
     "metadata": {},
     "output_type": "execute_result"
    }
   ],
   "source": [
    "a"
   ]
  },
  {
   "cell_type": "code",
   "execution_count": 54,
   "id": "c75ab1aa-2060-4933-9637-a610b8704248",
   "metadata": {},
   "outputs": [],
   "source": [
    "arr1 = np.random.randint(1,3, (3,3))\n",
    "arr2 = np.random.randint(1,3, (3,3))"
   ]
  },
  {
   "cell_type": "code",
   "execution_count": 55,
   "id": "ee4d0a30-60f6-43a6-8c27-1b4406c5a88c",
   "metadata": {},
   "outputs": [
    {
     "data": {
      "text/plain": [
       "array([[2, 1, 2],\n",
       "       [2, 2, 2],\n",
       "       [2, 1, 2]])"
      ]
     },
     "execution_count": 55,
     "metadata": {},
     "output_type": "execute_result"
    }
   ],
   "source": [
    "arr1"
   ]
  },
  {
   "cell_type": "code",
   "execution_count": 56,
   "id": "dd4d8c3a-f46a-44e4-a538-b01639da1527",
   "metadata": {},
   "outputs": [
    {
     "data": {
      "text/plain": [
       "array([[1, 2, 1],\n",
       "       [1, 2, 2],\n",
       "       [2, 2, 1]])"
      ]
     },
     "execution_count": 56,
     "metadata": {},
     "output_type": "execute_result"
    }
   ],
   "source": [
    "arr2"
   ]
  },
  {
   "cell_type": "code",
   "execution_count": 57,
   "id": "dae632d4-521d-45cd-a98e-bab779d581fb",
   "metadata": {},
   "outputs": [
    {
     "data": {
      "text/plain": [
       "array([[3, 3, 3],\n",
       "       [3, 4, 4],\n",
       "       [4, 3, 3]])"
      ]
     },
     "execution_count": 57,
     "metadata": {},
     "output_type": "execute_result"
    }
   ],
   "source": [
    "arr1 + arr2"
   ]
  },
  {
   "cell_type": "code",
   "execution_count": 58,
   "id": "2936c8b5-b30c-4887-89ca-96f06a86d763",
   "metadata": {},
   "outputs": [
    {
     "data": {
      "text/plain": [
       "array([[ 1, -1,  1],\n",
       "       [ 1,  0,  0],\n",
       "       [ 0, -1,  1]])"
      ]
     },
     "execution_count": 58,
     "metadata": {},
     "output_type": "execute_result"
    }
   ],
   "source": [
    "arr1 - arr2"
   ]
  },
  {
   "cell_type": "code",
   "execution_count": 59,
   "id": "da60a931-8b1b-4db5-8651-c38e06d8d74a",
   "metadata": {},
   "outputs": [
    {
     "data": {
      "text/plain": [
       "array([[2. , 0.5, 2. ],\n",
       "       [2. , 1. , 1. ],\n",
       "       [1. , 0.5, 2. ]])"
      ]
     },
     "execution_count": 59,
     "metadata": {},
     "output_type": "execute_result"
    }
   ],
   "source": [
    "arr1/arr2"
   ]
  },
  {
   "cell_type": "code",
   "execution_count": 60,
   "id": "8980f419-6e1f-41ff-af97-eec60a6219e7",
   "metadata": {},
   "outputs": [
    {
     "data": {
      "text/plain": [
       "array([[2, 2, 2],\n",
       "       [2, 4, 4],\n",
       "       [4, 2, 2]])"
      ]
     },
     "execution_count": 60,
     "metadata": {},
     "output_type": "execute_result"
    }
   ],
   "source": [
    "arr1 * arr2"
   ]
  },
  {
   "cell_type": "code",
   "execution_count": 61,
   "id": "b86e9713-1cfc-4687-a3df-8fef7cf151d3",
   "metadata": {},
   "outputs": [
    {
     "data": {
      "text/plain": [
       "array([[ 7, 10,  6],\n",
       "       [ 8, 12,  8],\n",
       "       [ 7, 10,  6]])"
      ]
     },
     "execution_count": 61,
     "metadata": {},
     "output_type": "execute_result"
    }
   ],
   "source": [
    "arr1@arr2"
   ]
  },
  {
   "cell_type": "code",
   "execution_count": 62,
   "id": "48201e7a-f42c-4ca1-9dcc-bdebfafe93ea",
   "metadata": {},
   "outputs": [
    {
     "data": {
      "text/plain": [
       "array([[4, 1, 4],\n",
       "       [4, 4, 4],\n",
       "       [4, 1, 4]])"
      ]
     },
     "execution_count": 62,
     "metadata": {},
     "output_type": "execute_result"
    }
   ],
   "source": [
    "arr1**2"
   ]
  },
  {
   "cell_type": "code",
   "execution_count": 64,
   "id": "4b5c0363-0851-4e8a-b6e3-5bf87604034b",
   "metadata": {},
   "outputs": [],
   "source": [
    "arr = np.zeros((4,4))"
   ]
  },
  {
   "cell_type": "code",
   "execution_count": 65,
   "id": "94a30ca7-01f3-43c9-9fdd-6908fe0f4ac6",
   "metadata": {},
   "outputs": [
    {
     "data": {
      "text/plain": [
       "array([[0., 0., 0., 0.],\n",
       "       [0., 0., 0., 0.],\n",
       "       [0., 0., 0., 0.],\n",
       "       [0., 0., 0., 0.]])"
      ]
     },
     "execution_count": 65,
     "metadata": {},
     "output_type": "execute_result"
    }
   ],
   "source": [
    "arr"
   ]
  },
  {
   "cell_type": "code",
   "execution_count": 72,
   "id": "4b646f92-eb8c-4792-93d1-b932621f1c17",
   "metadata": {},
   "outputs": [],
   "source": [
    "row = np.array([1,2,3,4])"
   ]
  },
  {
   "cell_type": "code",
   "execution_count": 73,
   "id": "a68bcd46-83c1-495c-8e92-873da743e80b",
   "metadata": {},
   "outputs": [
    {
     "data": {
      "text/plain": [
       "array([1, 2, 3, 4])"
      ]
     },
     "execution_count": 73,
     "metadata": {},
     "output_type": "execute_result"
    }
   ],
   "source": [
    "row"
   ]
  },
  {
   "cell_type": "code",
   "execution_count": 74,
   "id": "9fe5642a-179a-410a-ab85-16b8faf6bab9",
   "metadata": {},
   "outputs": [
    {
     "data": {
      "text/plain": [
       "array([[1., 2., 3., 4.],\n",
       "       [1., 2., 3., 4.],\n",
       "       [1., 2., 3., 4.],\n",
       "       [1., 2., 3., 4.]])"
      ]
     },
     "execution_count": 74,
     "metadata": {},
     "output_type": "execute_result"
    }
   ],
   "source": [
    "arr + row"
   ]
  },
  {
   "cell_type": "code",
   "execution_count": 75,
   "id": "2dcd0566-24c5-4163-a678-5e6a84492dc2",
   "metadata": {},
   "outputs": [
    {
     "data": {
      "text/plain": [
       "array([1, 2, 3, 4])"
      ]
     },
     "execution_count": 75,
     "metadata": {},
     "output_type": "execute_result"
    }
   ],
   "source": [
    "row.T"
   ]
  },
  {
   "cell_type": "code",
   "execution_count": 76,
   "id": "737179bd-3463-42a4-bcbf-5da3d3530003",
   "metadata": {},
   "outputs": [
    {
     "data": {
      "text/plain": [
       "array([[0., 0., 0., 0.],\n",
       "       [0., 0., 0., 0.],\n",
       "       [0., 0., 0., 0.],\n",
       "       [0., 0., 0., 0.]])"
      ]
     },
     "execution_count": 76,
     "metadata": {},
     "output_type": "execute_result"
    }
   ],
   "source": [
    "arr.T"
   ]
  },
  {
   "cell_type": "code",
   "execution_count": 77,
   "id": "4de48ddf-59b8-4254-aad6-df099b8396b1",
   "metadata": {},
   "outputs": [],
   "source": [
    "col = np.array([[1,2,3,4]])"
   ]
  },
  {
   "cell_type": "code",
   "execution_count": 78,
   "id": "4b9e3c2b-63a7-4e26-9f25-063ae2c9b120",
   "metadata": {},
   "outputs": [
    {
     "data": {
      "text/plain": [
       "array([[1],\n",
       "       [2],\n",
       "       [3],\n",
       "       [4]])"
      ]
     },
     "execution_count": 78,
     "metadata": {},
     "output_type": "execute_result"
    }
   ],
   "source": [
    "col.T"
   ]
  },
  {
   "cell_type": "code",
   "execution_count": 79,
   "id": "56db5bdd-f759-4ffc-beb4-8a4f02a713c4",
   "metadata": {},
   "outputs": [
    {
     "data": {
      "text/plain": [
       "array([[0., 0., 0., 0.],\n",
       "       [0., 0., 0., 0.],\n",
       "       [0., 0., 0., 0.],\n",
       "       [0., 0., 0., 0.]])"
      ]
     },
     "execution_count": 79,
     "metadata": {},
     "output_type": "execute_result"
    }
   ],
   "source": [
    "arr"
   ]
  },
  {
   "cell_type": "code",
   "execution_count": 84,
   "id": "c9c1fd10-8df5-4a92-accd-9336543df30d",
   "metadata": {},
   "outputs": [],
   "source": [
    "arr1 = np.random.randint(1,4 , (3,4))"
   ]
  },
  {
   "cell_type": "code",
   "execution_count": 86,
   "id": "c3894570-9018-4937-a668-8085ee1686ce",
   "metadata": {},
   "outputs": [
    {
     "data": {
      "text/plain": [
       "array([[1.        , 1.        , 1.41421356, 1.73205081],\n",
       "       [1.73205081, 1.73205081, 1.73205081, 1.41421356],\n",
       "       [1.        , 1.        , 1.41421356, 1.41421356]])"
      ]
     },
     "execution_count": 86,
     "metadata": {},
     "output_type": "execute_result"
    }
   ],
   "source": [
    "np.sqrt(arr1)"
   ]
  },
  {
   "cell_type": "code",
   "execution_count": 87,
   "id": "570e26e2-cca0-4972-b21a-6f2aaafe048b",
   "metadata": {},
   "outputs": [
    {
     "data": {
      "text/plain": [
       "array([[ 2.71828183,  2.71828183,  7.3890561 , 20.08553692],\n",
       "       [20.08553692, 20.08553692, 20.08553692,  7.3890561 ],\n",
       "       [ 2.71828183,  2.71828183,  7.3890561 ,  7.3890561 ]])"
      ]
     },
     "execution_count": 87,
     "metadata": {},
     "output_type": "execute_result"
    }
   ],
   "source": [
    "np.exp(arr1)"
   ]
  },
  {
   "cell_type": "code",
   "execution_count": 93,
   "id": "4bcb4376-b7ff-4e9e-8d86-42ff441cc9b6",
   "metadata": {},
   "outputs": [
    {
     "data": {
      "text/plain": [
       "array([[0.        , 0.        , 0.30103   , 0.47712125],\n",
       "       [0.47712125, 0.47712125, 0.47712125, 0.30103   ],\n",
       "       [0.        , 0.        , 0.30103   , 0.30103   ]])"
      ]
     },
     "execution_count": 93,
     "metadata": {},
     "output_type": "execute_result"
    }
   ],
   "source": [
    "np.log10(arr1)"
   ]
  },
  {
   "cell_type": "code",
   "execution_count": 94,
   "id": "1fbf5d65-0ead-412b-a509-7ee6436cbab2",
   "metadata": {},
   "outputs": [],
   "source": [
    "# Array Manipulation"
   ]
  },
  {
   "cell_type": "code",
   "execution_count": 168,
   "id": "54ad4046-36fa-4f2a-b6d4-a452b5bed01e",
   "metadata": {},
   "outputs": [],
   "source": [
    "import numpy as np"
   ]
  },
  {
   "cell_type": "code",
   "execution_count": 96,
   "id": "f4647e4b-d81b-4bce-97ba-47f774420695",
   "metadata": {},
   "outputs": [],
   "source": [
    "arr = np.random.randint(1,10, (3,4))"
   ]
  },
  {
   "cell_type": "code",
   "execution_count": 97,
   "id": "9f8cfdde-0cda-49aa-9ef7-97478f2c4bb8",
   "metadata": {},
   "outputs": [
    {
     "data": {
      "text/plain": [
       "array([[8, 8, 7, 1],\n",
       "       [4, 9, 1, 9],\n",
       "       [4, 7, 7, 8]])"
      ]
     },
     "execution_count": 97,
     "metadata": {},
     "output_type": "execute_result"
    }
   ],
   "source": [
    "arr"
   ]
  },
  {
   "cell_type": "code",
   "execution_count": 99,
   "id": "eb944893-e5e1-4fcb-9deb-b4d1c98701ce",
   "metadata": {},
   "outputs": [
    {
     "data": {
      "text/plain": [
       "array([[8, 8, 7, 1, 4, 9],\n",
       "       [1, 9, 4, 7, 7, 8]])"
      ]
     },
     "execution_count": 99,
     "metadata": {},
     "output_type": "execute_result"
    }
   ],
   "source": [
    "arr.reshape(2,6)"
   ]
  },
  {
   "cell_type": "code",
   "execution_count": 100,
   "id": "218adce1-51f6-4cc1-b778-45d2f0c6f66f",
   "metadata": {},
   "outputs": [
    {
     "data": {
      "text/plain": [
       "array([[8, 4, 4],\n",
       "       [8, 9, 7],\n",
       "       [7, 1, 7],\n",
       "       [1, 9, 8]])"
      ]
     },
     "execution_count": 100,
     "metadata": {},
     "output_type": "execute_result"
    }
   ],
   "source": [
    "arr.T"
   ]
  },
  {
   "cell_type": "code",
   "execution_count": 101,
   "id": "e18286ac-f9b1-4f5b-a3ff-3999cfc92121",
   "metadata": {},
   "outputs": [
    {
     "data": {
      "text/plain": [
       "array([8, 8, 7, 1, 4, 9, 1, 9, 4, 7, 7, 8])"
      ]
     },
     "execution_count": 101,
     "metadata": {},
     "output_type": "execute_result"
    }
   ],
   "source": [
    "arr.flatten()"
   ]
  },
  {
   "cell_type": "code",
   "execution_count": 102,
   "id": "a241a226-b552-4690-9259-d1afd6c3ce2a",
   "metadata": {},
   "outputs": [],
   "source": [
    "arr1 = np.array([1,2,3,4,5])"
   ]
  },
  {
   "cell_type": "code",
   "execution_count": 103,
   "id": "7ebc671b-706e-4df3-9011-0ab879e5f871",
   "metadata": {},
   "outputs": [
    {
     "data": {
      "text/plain": [
       "1"
      ]
     },
     "execution_count": 103,
     "metadata": {},
     "output_type": "execute_result"
    }
   ],
   "source": [
    "arr1.ndim"
   ]
  },
  {
   "cell_type": "code",
   "execution_count": 109,
   "id": "85fba854-8f3e-4a1b-b06f-9ca3c1b77df8",
   "metadata": {},
   "outputs": [],
   "source": [
    "arr1 = np.expand_dims(arr1, axis = 0)"
   ]
  },
  {
   "cell_type": "code",
   "execution_count": 110,
   "id": "414f668b-ad41-4b0d-816c-95dccc0766fa",
   "metadata": {},
   "outputs": [
    {
     "data": {
      "text/plain": [
       "array([[[[1],\n",
       "         [2],\n",
       "         [3],\n",
       "         [4],\n",
       "         [5]]]])"
      ]
     },
     "execution_count": 110,
     "metadata": {},
     "output_type": "execute_result"
    }
   ],
   "source": [
    "arr1"
   ]
  },
  {
   "cell_type": "code",
   "execution_count": 111,
   "id": "7258b984-57a6-4950-8a50-8f1c95df8982",
   "metadata": {},
   "outputs": [
    {
     "data": {
      "text/plain": [
       "array([[8, 8, 7, 1],\n",
       "       [4, 9, 1, 9],\n",
       "       [4, 7, 7, 8]])"
      ]
     },
     "execution_count": 111,
     "metadata": {},
     "output_type": "execute_result"
    }
   ],
   "source": [
    "np.squeeze(arr)"
   ]
  },
  {
   "cell_type": "code",
   "execution_count": 112,
   "id": "98632d06-cfb1-4294-aac4-63141362ce7f",
   "metadata": {},
   "outputs": [],
   "source": [
    "data = np.array([[1],[2],[3]])"
   ]
  },
  {
   "cell_type": "code",
   "execution_count": 113,
   "id": "03cacf31-ae80-444f-ae24-1ad3ea84258d",
   "metadata": {},
   "outputs": [
    {
     "data": {
      "text/plain": [
       "array([[1],\n",
       "       [2],\n",
       "       [3]])"
      ]
     },
     "execution_count": 113,
     "metadata": {},
     "output_type": "execute_result"
    }
   ],
   "source": [
    "data"
   ]
  },
  {
   "cell_type": "code",
   "execution_count": 115,
   "id": "7d2cf729-391a-46c2-9c7e-b81136d2994e",
   "metadata": {},
   "outputs": [
    {
     "data": {
      "text/plain": [
       "array([1, 2, 3])"
      ]
     },
     "execution_count": 115,
     "metadata": {},
     "output_type": "execute_result"
    }
   ],
   "source": [
    "np.squeeze(data)"
   ]
  },
  {
   "cell_type": "code",
   "execution_count": 116,
   "id": "6ecf1bac-934f-4591-b555-3c7f44e9e444",
   "metadata": {},
   "outputs": [
    {
     "data": {
      "text/plain": [
       "array([1, 1, 1, 2, 2, 2, 3, 3, 3, 4, 4, 4, 5, 5, 5])"
      ]
     },
     "execution_count": 116,
     "metadata": {},
     "output_type": "execute_result"
    }
   ],
   "source": [
    "np.repeat(arr1, 3)"
   ]
  },
  {
   "cell_type": "code",
   "execution_count": 119,
   "id": "f9418a67-2e03-4b3c-ad40-b61819c7b5f1",
   "metadata": {},
   "outputs": [
    {
     "data": {
      "text/plain": [
       "array([[[[4],\n",
       "         [5],\n",
       "         [1],\n",
       "         [2],\n",
       "         [3]]]])"
      ]
     },
     "execution_count": 119,
     "metadata": {},
     "output_type": "execute_result"
    }
   ],
   "source": [
    "np.roll(arr1,shift = 2)"
   ]
  },
  {
   "cell_type": "code",
   "execution_count": null,
   "id": "3057a9d9-fa08-4c74-81fb-3e6b18ca040a",
   "metadata": {},
   "outputs": [],
   "source": [
    "np.diag(arr1)"
   ]
  },
  {
   "cell_type": "code",
   "execution_count": 121,
   "id": "10279062-418f-4fd1-a810-87b029445564",
   "metadata": {},
   "outputs": [],
   "source": [
    "arr1 = np.random.randint(1,10,(3,4))\n",
    "arr2 = np.random.randint(1,10,(3,4))"
   ]
  },
  {
   "cell_type": "code",
   "execution_count": 122,
   "id": "3e725ec0-210d-4b1a-b014-12df47ca9caa",
   "metadata": {},
   "outputs": [
    {
     "data": {
      "text/plain": [
       "array([[5, 7, 8, 8],\n",
       "       [9, 5, 1, 6],\n",
       "       [8, 5, 5, 8]])"
      ]
     },
     "execution_count": 122,
     "metadata": {},
     "output_type": "execute_result"
    }
   ],
   "source": [
    "arr1"
   ]
  },
  {
   "cell_type": "code",
   "execution_count": 123,
   "id": "5bba5e17-4a3d-49e8-9038-a9fe1730da04",
   "metadata": {},
   "outputs": [
    {
     "data": {
      "text/plain": [
       "array([[2, 1, 5, 5],\n",
       "       [6, 3, 5, 9],\n",
       "       [6, 3, 7, 3]])"
      ]
     },
     "execution_count": 123,
     "metadata": {},
     "output_type": "execute_result"
    }
   ],
   "source": [
    "arr2\n"
   ]
  },
  {
   "cell_type": "code",
   "execution_count": 124,
   "id": "d99cf603-805e-4997-b6f2-a9b6c30586ff",
   "metadata": {},
   "outputs": [
    {
     "data": {
      "text/plain": [
       "array([[ 7,  8, 13, 13],\n",
       "       [15,  8,  6, 15],\n",
       "       [14,  8, 12, 11]])"
      ]
     },
     "execution_count": 124,
     "metadata": {},
     "output_type": "execute_result"
    }
   ],
   "source": [
    "arr1 + arr2 "
   ]
  },
  {
   "cell_type": "code",
   "execution_count": 125,
   "id": "27c59dcd-2138-4bf7-ba3f-fd04eeafdb3c",
   "metadata": {},
   "outputs": [
    {
     "data": {
      "text/plain": [
       "array([[10,  7, 40, 40],\n",
       "       [54, 15,  5, 54],\n",
       "       [48, 15, 35, 24]])"
      ]
     },
     "execution_count": 125,
     "metadata": {},
     "output_type": "execute_result"
    }
   ],
   "source": [
    "arr1 * arr2"
   ]
  },
  {
   "cell_type": "code",
   "execution_count": 126,
   "id": "2916a4af-7c90-4381-b25d-39a4667bfb17",
   "metadata": {},
   "outputs": [
    {
     "data": {
      "text/plain": [
       "array([[2.5       , 7.        , 1.6       , 1.6       ],\n",
       "       [1.5       , 1.66666667, 0.2       , 0.66666667],\n",
       "       [1.33333333, 1.66666667, 0.71428571, 2.66666667]])"
      ]
     },
     "execution_count": 126,
     "metadata": {},
     "output_type": "execute_result"
    }
   ],
   "source": [
    "arr1/arr2"
   ]
  },
  {
   "cell_type": "code",
   "execution_count": 127,
   "id": "9a90595b-96af-459c-83eb-33abd3f3f46a",
   "metadata": {},
   "outputs": [
    {
     "data": {
      "text/plain": [
       "array([[1, 0, 3, 3],\n",
       "       [3, 2, 1, 6],\n",
       "       [2, 2, 5, 2]])"
      ]
     },
     "execution_count": 127,
     "metadata": {},
     "output_type": "execute_result"
    }
   ],
   "source": [
    "arr1%arr2"
   ]
  },
  {
   "cell_type": "code",
   "execution_count": 128,
   "id": "46d65453-fe1d-4740-8cde-906850c82674",
   "metadata": {},
   "outputs": [
    {
     "data": {
      "text/plain": [
       "array([[      25,        7,    32768,    32768],\n",
       "       [  531441,      125,        1, 10077696],\n",
       "       [  262144,      125,    78125,      512]])"
      ]
     },
     "execution_count": 128,
     "metadata": {},
     "output_type": "execute_result"
    }
   ],
   "source": [
    "arr1 ** arr2"
   ]
  },
  {
   "cell_type": "code",
   "execution_count": 129,
   "id": "e66a03c9-1551-427b-9d42-dde17b3f2094",
   "metadata": {},
   "outputs": [
    {
     "data": {
      "text/plain": [
       "array([[0, 1, 0, 0],\n",
       "       [0, 1, 1, 0],\n",
       "       [0, 1, 5, 0]])"
      ]
     },
     "execution_count": 129,
     "metadata": {},
     "output_type": "execute_result"
    }
   ],
   "source": [
    "arr1 & arr2"
   ]
  },
  {
   "cell_type": "code",
   "execution_count": 130,
   "id": "225e5735-2a61-414d-91ff-b6fcb45f4428",
   "metadata": {},
   "outputs": [
    {
     "data": {
      "text/plain": [
       "array([[5, 7, 8, 8],\n",
       "       [9, 5, 1, 6],\n",
       "       [8, 5, 5, 8]])"
      ]
     },
     "execution_count": 130,
     "metadata": {},
     "output_type": "execute_result"
    }
   ],
   "source": [
    "arr1"
   ]
  },
  {
   "cell_type": "code",
   "execution_count": 131,
   "id": "ef2d12e8-e64f-4fc0-a2a9-22434f90268f",
   "metadata": {},
   "outputs": [
    {
     "data": {
      "text/plain": [
       "array([[2, 1, 5, 5],\n",
       "       [6, 3, 5, 9],\n",
       "       [6, 3, 7, 3]])"
      ]
     },
     "execution_count": 131,
     "metadata": {},
     "output_type": "execute_result"
    }
   ],
   "source": [
    "arr2"
   ]
  },
  {
   "cell_type": "code",
   "execution_count": 132,
   "id": "5ccc2d01-09c9-4d40-bbda-54de9d57289c",
   "metadata": {},
   "outputs": [
    {
     "data": {
      "text/plain": [
       "array([[-5, -7, -8, -8],\n",
       "       [-9, -5, -1, -6],\n",
       "       [-8, -5, -5, -8]])"
      ]
     },
     "execution_count": 132,
     "metadata": {},
     "output_type": "execute_result"
    }
   ],
   "source": [
    "-arr1"
   ]
  },
  {
   "cell_type": "code",
   "execution_count": 133,
   "id": "b828062f-51e6-453c-b9f3-59670d279570",
   "metadata": {},
   "outputs": [
    {
     "data": {
      "text/plain": [
       "array([[-2, -1, -5, -5],\n",
       "       [-6, -3, -5, -9],\n",
       "       [-6, -3, -7, -3]])"
      ]
     },
     "execution_count": 133,
     "metadata": {},
     "output_type": "execute_result"
    }
   ],
   "source": [
    "-arr2"
   ]
  },
  {
   "cell_type": "code",
   "execution_count": 135,
   "id": "919ad148-423d-4601-bf45-dbc515154735",
   "metadata": {},
   "outputs": [
    {
     "data": {
      "text/plain": [
       "array([[ 7,  7, 13, 13],\n",
       "       [15,  7,  5, 15],\n",
       "       [14,  7,  7, 11]])"
      ]
     },
     "execution_count": 135,
     "metadata": {},
     "output_type": "execute_result"
    }
   ],
   "source": [
    "arr1 | arr2"
   ]
  },
  {
   "cell_type": "code",
   "execution_count": 136,
   "id": "ce21f0b5-7192-4d7b-9143-b2718160bf27",
   "metadata": {},
   "outputs": [
    {
     "data": {
      "text/plain": [
       "array([[ True,  True,  True,  True],\n",
       "       [ True,  True, False, False],\n",
       "       [ True,  True, False,  True]])"
      ]
     },
     "execution_count": 136,
     "metadata": {},
     "output_type": "execute_result"
    }
   ],
   "source": [
    " arr1 > arr2"
   ]
  },
  {
   "cell_type": "code",
   "execution_count": 137,
   "id": "0a89b9b5-c889-46c7-a5ba-dda4331c9ca1",
   "metadata": {},
   "outputs": [
    {
     "data": {
      "text/plain": [
       "array([[False, False, False, False],\n",
       "       [False, False,  True,  True],\n",
       "       [False, False,  True, False]])"
      ]
     },
     "execution_count": 137,
     "metadata": {},
     "output_type": "execute_result"
    }
   ],
   "source": [
    "arr1 < arr2"
   ]
  },
  {
   "cell_type": "code",
   "execution_count": 138,
   "id": "97bcfe15-fa60-4d16-8b9a-7ba3d9aaee61",
   "metadata": {},
   "outputs": [
    {
     "data": {
      "text/plain": [
       "array([[ True,  True,  True,  True],\n",
       "       [ True,  True, False, False],\n",
       "       [ True,  True, False,  True]])"
      ]
     },
     "execution_count": 138,
     "metadata": {},
     "output_type": "execute_result"
    }
   ],
   "source": [
    "arr1 >= arr2"
   ]
  },
  {
   "cell_type": "code",
   "execution_count": 139,
   "id": "ffd204b4-2970-4caa-aaa6-acfc0925e003",
   "metadata": {},
   "outputs": [
    {
     "data": {
      "text/plain": [
       "array([[False, False, False, False],\n",
       "       [False, False,  True,  True],\n",
       "       [False, False,  True, False]])"
      ]
     },
     "execution_count": 139,
     "metadata": {},
     "output_type": "execute_result"
    }
   ],
   "source": [
    "arr1 <= arr2"
   ]
  },
  {
   "cell_type": "code",
   "execution_count": 140,
   "id": "d8d12040-43f4-4625-afc8-e46fdab32f47",
   "metadata": {},
   "outputs": [],
   "source": [
    "# string function"
   ]
  },
  {
   "cell_type": "code",
   "execution_count": 142,
   "id": "6c254cb4-017a-4dbc-aee4-947c26ae4c01",
   "metadata": {},
   "outputs": [],
   "source": [
    "arr = np.array(['nikhil','lokare'])"
   ]
  },
  {
   "cell_type": "code",
   "execution_count": 143,
   "id": "e06657d4-cf00-411f-aaf4-9db466f73be1",
   "metadata": {},
   "outputs": [
    {
     "data": {
      "text/plain": [
       "array(['NIKHIL', 'LOKARE'], dtype='<U6')"
      ]
     },
     "execution_count": 143,
     "metadata": {},
     "output_type": "execute_result"
    }
   ],
   "source": [
    "np.char.upper(arr)"
   ]
  },
  {
   "cell_type": "code",
   "execution_count": 145,
   "id": "927437b4-261b-44d9-8f3c-14b00716e4ea",
   "metadata": {},
   "outputs": [
    {
     "data": {
      "text/plain": [
       "array(['Nikhil', 'Lokare'], dtype='<U6')"
      ]
     },
     "execution_count": 145,
     "metadata": {},
     "output_type": "execute_result"
    }
   ],
   "source": [
    "np.char.title(arr)"
   ]
  },
  {
   "cell_type": "code",
   "execution_count": 147,
   "id": "55f56e50-bbe4-45db-84d6-56d74a4e85aa",
   "metadata": {},
   "outputs": [
    {
     "data": {
      "text/plain": [
       "array(['Nikhil', 'Lokare'], dtype='<U6')"
      ]
     },
     "execution_count": 147,
     "metadata": {},
     "output_type": "execute_result"
    }
   ],
   "source": [
    "np.char.capitalize(arr)"
   ]
  },
  {
   "cell_type": "code",
   "execution_count": 148,
   "id": "4d01f557-ee51-432a-b8da-06ed7eaeb72d",
   "metadata": {},
   "outputs": [],
   "source": [
    "# mathematical functions"
   ]
  },
  {
   "cell_type": "code",
   "execution_count": 150,
   "id": "44aca0b8-c375-441f-a75f-453a7c1bc908",
   "metadata": {},
   "outputs": [
    {
     "data": {
      "text/plain": [
       "array([[5, 7, 8, 8],\n",
       "       [9, 5, 1, 6],\n",
       "       [8, 5, 5, 8]])"
      ]
     },
     "execution_count": 150,
     "metadata": {},
     "output_type": "execute_result"
    }
   ],
   "source": [
    "arr1"
   ]
  },
  {
   "cell_type": "code",
   "execution_count": 152,
   "id": "696df16b-9fb3-438b-8089-88434269ee99",
   "metadata": {},
   "outputs": [
    {
     "data": {
      "text/plain": [
       "array([[-0.95892427,  0.6569866 ,  0.98935825,  0.98935825],\n",
       "       [ 0.41211849, -0.95892427,  0.84147098, -0.2794155 ],\n",
       "       [ 0.98935825, -0.95892427, -0.95892427,  0.98935825]])"
      ]
     },
     "execution_count": 152,
     "metadata": {},
     "output_type": "execute_result"
    }
   ],
   "source": [
    "np.sin(arr1)"
   ]
  },
  {
   "cell_type": "code",
   "execution_count": 153,
   "id": "b8b0389a-deff-426f-b5e6-df1a33d32dba",
   "metadata": {},
   "outputs": [
    {
     "data": {
      "text/plain": [
       "array([[ 0.28366219,  0.75390225, -0.14550003, -0.14550003],\n",
       "       [-0.91113026,  0.28366219,  0.54030231,  0.96017029],\n",
       "       [-0.14550003,  0.28366219,  0.28366219, -0.14550003]])"
      ]
     },
     "execution_count": 153,
     "metadata": {},
     "output_type": "execute_result"
    }
   ],
   "source": [
    "np.cos(arr1)"
   ]
  },
  {
   "cell_type": "code",
   "execution_count": 154,
   "id": "5ee75495-b532-4404-a22e-3edf66969f70",
   "metadata": {},
   "outputs": [
    {
     "data": {
      "text/plain": [
       "array([[-3.38051501,  0.87144798, -6.79971146, -6.79971146],\n",
       "       [-0.45231566, -3.38051501,  1.55740772, -0.29100619],\n",
       "       [-6.79971146, -3.38051501, -3.38051501, -6.79971146]])"
      ]
     },
     "execution_count": 154,
     "metadata": {},
     "output_type": "execute_result"
    }
   ],
   "source": [
    "np.tan(arr1)"
   ]
  },
  {
   "cell_type": "code",
   "execution_count": 158,
   "id": "d2242002-b6d9-4afa-9f4a-363604412451",
   "metadata": {},
   "outputs": [
    {
     "data": {
      "text/plain": [
       "array([[0.69897   , 0.84509804, 0.90308999, 0.90308999],\n",
       "       [0.95424251, 0.69897   , 0.        , 0.77815125],\n",
       "       [0.90308999, 0.69897   , 0.69897   , 0.90308999]])"
      ]
     },
     "execution_count": 158,
     "metadata": {},
     "output_type": "execute_result"
    }
   ],
   "source": [
    "np.log10(arr1)"
   ]
  },
  {
   "cell_type": "code",
   "execution_count": 159,
   "id": "50892be5-a02c-4aba-a059-a79ddaeecdfe",
   "metadata": {},
   "outputs": [
    {
     "data": {
      "text/plain": [
       "array([[1.48413159e+02, 1.09663316e+03, 2.98095799e+03, 2.98095799e+03],\n",
       "       [8.10308393e+03, 1.48413159e+02, 2.71828183e+00, 4.03428793e+02],\n",
       "       [2.98095799e+03, 1.48413159e+02, 1.48413159e+02, 2.98095799e+03]])"
      ]
     },
     "execution_count": 159,
     "metadata": {},
     "output_type": "execute_result"
    }
   ],
   "source": [
    "np.exp(arr1)"
   ]
  },
  {
   "cell_type": "code",
   "execution_count": 161,
   "id": "e9d23f0f-a928-428d-ae31-7227667bc163",
   "metadata": {},
   "outputs": [
    {
     "data": {
      "text/plain": [
       "array([[3.16227766, 3.74165739, 4.        , 4.        ],\n",
       "       [4.24264069, 3.16227766, 1.41421356, 3.46410162],\n",
       "       [4.        , 3.16227766, 3.16227766, 4.        ]])"
      ]
     },
     "execution_count": 161,
     "metadata": {},
     "output_type": "execute_result"
    }
   ],
   "source": [
    "np.sqrt(arr1*2)"
   ]
  },
  {
   "cell_type": "code",
   "execution_count": 163,
   "id": "63febe9b-48fe-4e4f-93fe-a0db36c30c1b",
   "metadata": {},
   "outputs": [
    {
     "data": {
      "text/plain": [
       "array([[25, 49, 64, 64],\n",
       "       [81, 25,  1, 36],\n",
       "       [64, 25, 25, 64]])"
      ]
     },
     "execution_count": 163,
     "metadata": {},
     "output_type": "execute_result"
    }
   ],
   "source": [
    "np.power(arr1,2)"
   ]
  },
  {
   "cell_type": "code",
   "execution_count": 164,
   "id": "0f8f3f7c-74c7-4e52-ab70-eb4ca580f0ee",
   "metadata": {},
   "outputs": [
    {
     "data": {
      "text/plain": [
       "6.25"
      ]
     },
     "execution_count": 164,
     "metadata": {},
     "output_type": "execute_result"
    }
   ],
   "source": [
    "np.mean(arr1)"
   ]
  },
  {
   "cell_type": "code",
   "execution_count": 165,
   "id": "2a6d72ac-3d25-4571-8bde-312d497793fa",
   "metadata": {},
   "outputs": [
    {
     "data": {
      "text/plain": [
       "6.5"
      ]
     },
     "execution_count": 165,
     "metadata": {},
     "output_type": "execute_result"
    }
   ],
   "source": [
    "np.median(arr1)"
   ]
  },
  {
   "cell_type": "code",
   "execution_count": 170,
   "id": "421dd8c0-83cc-4f96-b05d-3fa9b04f1930",
   "metadata": {},
   "outputs": [
    {
     "data": {
      "text/plain": [
       "2.1262251370288454"
      ]
     },
     "execution_count": 170,
     "metadata": {},
     "output_type": "execute_result"
    }
   ],
   "source": [
    "np.std(arr1)"
   ]
  },
  {
   "cell_type": "code",
   "execution_count": 173,
   "id": "3833b9bf-93e4-455e-9454-1de02a859c6f",
   "metadata": {},
   "outputs": [
    {
     "data": {
      "text/plain": [
       "4.520833333333333"
      ]
     },
     "execution_count": 173,
     "metadata": {},
     "output_type": "execute_result"
    }
   ],
   "source": [
    "np.var(arr1)"
   ]
  },
  {
   "cell_type": "code",
   "execution_count": 174,
   "id": "67b4d17f-d9f9-4008-9fd3-dc5276f645a2",
   "metadata": {},
   "outputs": [
    {
     "data": {
      "text/plain": [
       "1"
      ]
     },
     "execution_count": 174,
     "metadata": {},
     "output_type": "execute_result"
    }
   ],
   "source": [
    "np.min(arr1)"
   ]
  },
  {
   "cell_type": "code",
   "execution_count": 175,
   "id": "f66c8b20-8787-47e3-b655-2b2952a3decf",
   "metadata": {},
   "outputs": [
    {
     "data": {
      "text/plain": [
       "9"
      ]
     },
     "execution_count": 175,
     "metadata": {},
     "output_type": "execute_result"
    }
   ],
   "source": [
    "np.max(arr1)"
   ]
  },
  {
   "cell_type": "code",
   "execution_count": 176,
   "id": "1c39602b-8bce-4daa-b523-e76fdf8da449",
   "metadata": {},
   "outputs": [],
   "source": [
    "# sort,search,counting functions"
   ]
  },
  {
   "cell_type": "code",
   "execution_count": 177,
   "id": "f89981bc-1bac-4810-880a-182cc95be0cc",
   "metadata": {},
   "outputs": [],
   "source": [
    "arr = np.array([5,4,6,7,9,3,2,1])"
   ]
  },
  {
   "cell_type": "code",
   "execution_count": 179,
   "id": "a404521f-2123-453e-958a-dd18225b39a8",
   "metadata": {},
   "outputs": [
    {
     "data": {
      "text/plain": [
       "array([1, 2, 3, 4, 5, 6, 7, 9])"
      ]
     },
     "execution_count": 179,
     "metadata": {},
     "output_type": "execute_result"
    }
   ],
   "source": [
    "np.sort(arr)"
   ]
  },
  {
   "cell_type": "code",
   "execution_count": 182,
   "id": "7c165e69-f094-4754-ba9f-1d479232970d",
   "metadata": {},
   "outputs": [
    {
     "data": {
      "text/plain": [
       "8"
      ]
     },
     "execution_count": 182,
     "metadata": {},
     "output_type": "execute_result"
    }
   ],
   "source": [
    "np.searchsorted(arr, 55)"
   ]
  },
  {
   "cell_type": "code",
   "execution_count": 184,
   "id": "ea70d653-c301-4240-9ca3-5c0881465b8a",
   "metadata": {},
   "outputs": [],
   "source": [
    "ar = np.array([33,66,88,2324,8985,4,99])"
   ]
  },
  {
   "cell_type": "code",
   "execution_count": 188,
   "id": "6615854b-390a-4ea4-a4f6-853938b00d94",
   "metadata": {},
   "outputs": [
    {
     "data": {
      "text/plain": [
       "7"
      ]
     },
     "execution_count": 188,
     "metadata": {},
     "output_type": "execute_result"
    }
   ],
   "source": [
    "np.count_nonzero(ar)"
   ]
  },
  {
   "cell_type": "code",
   "execution_count": 190,
   "id": "a4586036-4c7a-4085-928f-278277bfb650",
   "metadata": {},
   "outputs": [
    {
     "data": {
      "text/plain": [
       "array([  33,   66,   88, 2324, 8985,    4,   99])"
      ]
     },
     "execution_count": 190,
     "metadata": {},
     "output_type": "execute_result"
    }
   ],
   "source": [
    "ar"
   ]
  },
  {
   "cell_type": "code",
   "execution_count": 192,
   "id": "eb67049a-3047-4128-92f5-b648b9cf2ea6",
   "metadata": {},
   "outputs": [
    {
     "data": {
      "text/plain": [
       "(array([0, 1, 2, 3, 4, 6]),)"
      ]
     },
     "execution_count": 192,
     "metadata": {},
     "output_type": "execute_result"
    }
   ],
   "source": [
    "np.where(ar > 6)"
   ]
  },
  {
   "cell_type": "code",
   "execution_count": 195,
   "id": "246e4246-a02b-4634-a75e-aac5b226570e",
   "metadata": {},
   "outputs": [
    {
     "data": {
      "text/plain": [
       "array([7, 9])"
      ]
     },
     "execution_count": 195,
     "metadata": {},
     "output_type": "execute_result"
    }
   ],
   "source": [
    "np.extract(arr > 6 ,arr)"
   ]
  },
  {
   "cell_type": "code",
   "execution_count": 196,
   "id": "5e157a21-490e-4b7b-aef9-4d7a5f7b0960",
   "metadata": {},
   "outputs": [],
   "source": [
    "# byte swapping"
   ]
  },
  {
   "cell_type": "code",
   "execution_count": 197,
   "id": "fc018bab-06fa-4820-b7c5-48606c792f41",
   "metadata": {},
   "outputs": [
    {
     "data": {
      "text/plain": [
       "array([ 72057594037927936, 144115188075855872, 216172782113783808,\n",
       "       288230376151711744, 360287970189639680, 432345564227567616,\n",
       "       504403158265495552, 648518346341351424])"
      ]
     },
     "execution_count": 197,
     "metadata": {},
     "output_type": "execute_result"
    }
   ],
   "source": [
    "arr.byteswap()"
   ]
  },
  {
   "cell_type": "code",
   "execution_count": 198,
   "id": "ca32b880-303d-4378-90ec-ccbac2ea692d",
   "metadata": {},
   "outputs": [],
   "source": [
    "# copies and views"
   ]
  },
  {
   "cell_type": "code",
   "execution_count": 199,
   "id": "ad6ab948-7d32-4c4b-aa13-0c87b460411f",
   "metadata": {},
   "outputs": [
    {
     "data": {
      "text/plain": [
       "array([1, 2, 3, 4, 5, 6, 7, 9])"
      ]
     },
     "execution_count": 199,
     "metadata": {},
     "output_type": "execute_result"
    }
   ],
   "source": [
    "arr"
   ]
  },
  {
   "cell_type": "code",
   "execution_count": 200,
   "id": "3a2ce9f2-60e1-4f95-9848-75e796589f65",
   "metadata": {},
   "outputs": [],
   "source": [
    "a = np.copy(arr)"
   ]
  },
  {
   "cell_type": "code",
   "execution_count": 201,
   "id": "50f512de-7a30-41cc-bb83-26dead8ff67c",
   "metadata": {},
   "outputs": [
    {
     "data": {
      "text/plain": [
       "array([1, 2, 3, 4, 5, 6, 7, 9])"
      ]
     },
     "execution_count": 201,
     "metadata": {},
     "output_type": "execute_result"
    }
   ],
   "source": [
    "a"
   ]
  },
  {
   "cell_type": "code",
   "execution_count": 202,
   "id": "7b4f6a95-a80f-43d7-9450-34155c912cb8",
   "metadata": {},
   "outputs": [],
   "source": [
    "b = arr.view()"
   ]
  },
  {
   "cell_type": "code",
   "execution_count": 203,
   "id": "cf66dbe8-0ff8-4dab-81c7-1ac25bf2660c",
   "metadata": {},
   "outputs": [
    {
     "data": {
      "text/plain": [
       "array([1, 2, 3, 4, 5, 6, 7, 9])"
      ]
     },
     "execution_count": 203,
     "metadata": {},
     "output_type": "execute_result"
    }
   ],
   "source": [
    "b"
   ]
  },
  {
   "cell_type": "code",
   "execution_count": 204,
   "id": "b8938ddb-2f68-401b-808a-26a1b7d48896",
   "metadata": {},
   "outputs": [],
   "source": [
    "b[0] = 8"
   ]
  },
  {
   "cell_type": "code",
   "execution_count": 205,
   "id": "77ffd252-c0fe-4073-abdc-c1227cd2ae1a",
   "metadata": {},
   "outputs": [
    {
     "data": {
      "text/plain": [
       "array([8, 2, 3, 4, 5, 6, 7, 9])"
      ]
     },
     "execution_count": 205,
     "metadata": {},
     "output_type": "execute_result"
    }
   ],
   "source": [
    "arr"
   ]
  },
  {
   "cell_type": "code",
   "execution_count": 206,
   "id": "fc7c0d4f-6070-4f4a-aec8-21094c2193d2",
   "metadata": {},
   "outputs": [],
   "source": [
    "b = arr"
   ]
  },
  {
   "cell_type": "code",
   "execution_count": 207,
   "id": "5248761f-f7f2-4f7c-90e1-35b226b54197",
   "metadata": {},
   "outputs": [
    {
     "data": {
      "text/plain": [
       "array([8, 2, 3, 4, 5, 6, 7, 9])"
      ]
     },
     "execution_count": 207,
     "metadata": {},
     "output_type": "execute_result"
    }
   ],
   "source": [
    "b"
   ]
  },
  {
   "cell_type": "code",
   "execution_count": 208,
   "id": "369ae6b7-70ed-4d21-9bef-014d31e52a80",
   "metadata": {},
   "outputs": [],
   "source": [
    "# maxtrix libray"
   ]
  },
  {
   "cell_type": "code",
   "execution_count": 209,
   "id": "87108c47-58ea-49f0-b5c1-001eedecf278",
   "metadata": {},
   "outputs": [],
   "source": [
    "import numpy.matlib as nm"
   ]
  },
  {
   "cell_type": "code",
   "execution_count": 210,
   "id": "e140dc21-9dc5-4e73-bf15-76086a2980d3",
   "metadata": {},
   "outputs": [
    {
     "data": {
      "text/plain": [
       "matrix([[0., 0., 0., 0., 0.]])"
      ]
     },
     "execution_count": 210,
     "metadata": {},
     "output_type": "execute_result"
    }
   ],
   "source": [
    "nm.zeros(5)"
   ]
  },
  {
   "cell_type": "code",
   "execution_count": 212,
   "id": "8b7f511a-0aaa-4580-9b7b-df1234aa58e5",
   "metadata": {},
   "outputs": [
    {
     "data": {
      "text/plain": [
       "matrix([[1., 1., 1., 1.],\n",
       "        [1., 1., 1., 1.],\n",
       "        [1., 1., 1., 1.]])"
      ]
     },
     "execution_count": 212,
     "metadata": {},
     "output_type": "execute_result"
    }
   ],
   "source": [
    "nm.ones((3,4))"
   ]
  },
  {
   "cell_type": "code",
   "execution_count": 213,
   "id": "c5b717cb-99d4-4b75-bbd4-689bc9011531",
   "metadata": {},
   "outputs": [],
   "source": [
    "# linera algebra"
   ]
  },
  {
   "cell_type": "code",
   "execution_count": 214,
   "id": "342cbf44-cb12-4563-b142-107d8de701fb",
   "metadata": {},
   "outputs": [],
   "source": [
    "arr1 = np.random.randint([[2,3],[4,5]])"
   ]
  },
  {
   "cell_type": "code",
   "execution_count": 215,
   "id": "0bf8f8ef-6c12-4dc4-b1de-59cc9da21809",
   "metadata": {},
   "outputs": [],
   "source": [
    "arr2 = np.random.randint([[5,3],[2,5]])"
   ]
  },
  {
   "cell_type": "code",
   "execution_count": 216,
   "id": "2403a078-8daa-4802-ac8f-ef55a8c4b696",
   "metadata": {},
   "outputs": [
    {
     "data": {
      "text/plain": [
       "array([[1, 1],\n",
       "       [3, 0]])"
      ]
     },
     "execution_count": 216,
     "metadata": {},
     "output_type": "execute_result"
    }
   ],
   "source": [
    "arr1"
   ]
  },
  {
   "cell_type": "code",
   "execution_count": 217,
   "id": "0178473a-d064-473e-b9eb-ee3e81f002cc",
   "metadata": {},
   "outputs": [
    {
     "data": {
      "text/plain": [
       "array([[0, 1],\n",
       "       [0, 4]])"
      ]
     },
     "execution_count": 217,
     "metadata": {},
     "output_type": "execute_result"
    }
   ],
   "source": [
    "arr2"
   ]
  },
  {
   "cell_type": "code",
   "execution_count": 218,
   "id": "d9cf9c4e-e244-4fe4-ac0e-2dea3f62cb65",
   "metadata": {},
   "outputs": [
    {
     "data": {
      "text/plain": [
       "array([[0, 5],\n",
       "       [0, 3]])"
      ]
     },
     "execution_count": 218,
     "metadata": {},
     "output_type": "execute_result"
    }
   ],
   "source": [
    "arr1 @ arr2"
   ]
  },
  {
   "cell_type": "code",
   "execution_count": 219,
   "id": "0e40f6c2-ecd2-4a87-beaf-ed75ae9f2c5f",
   "metadata": {},
   "outputs": [
    {
     "data": {
      "text/plain": [
       "array([[0, 1],\n",
       "       [0, 0]])"
      ]
     },
     "execution_count": 219,
     "metadata": {},
     "output_type": "execute_result"
    }
   ],
   "source": [
    "arr1 * arr2"
   ]
  },
  {
   "cell_type": "code",
   "execution_count": 220,
   "id": "fb960111-eca9-4fc9-a72f-67a8284e3590",
   "metadata": {},
   "outputs": [
    {
     "data": {
      "text/plain": [
       "array([[1, 2],\n",
       "       [3, 4]])"
      ]
     },
     "execution_count": 220,
     "metadata": {},
     "output_type": "execute_result"
    }
   ],
   "source": [
    "arr1 + arr2"
   ]
  },
  {
   "cell_type": "code",
   "execution_count": null,
   "id": "cc757360-2dae-490f-9f5e-5a2f7ace20d7",
   "metadata": {},
   "outputs": [],
   "source": []
  }
 ],
 "metadata": {
  "kernelspec": {
   "display_name": "Python 3 (ipykernel)",
   "language": "python",
   "name": "python3"
  },
  "language_info": {
   "codemirror_mode": {
    "name": "ipython",
    "version": 3
   },
   "file_extension": ".py",
   "mimetype": "text/x-python",
   "name": "python",
   "nbconvert_exporter": "python",
   "pygments_lexer": "ipython3",
   "version": "3.10.8"
  }
 },
 "nbformat": 4,
 "nbformat_minor": 5
}

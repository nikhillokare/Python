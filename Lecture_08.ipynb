{
 "cells": [
  {
   "cell_type": "code",
   "execution_count": 1,
   "id": "dab29467-6db7-434f-9baa-eccfe434bc21",
   "metadata": {},
   "outputs": [],
   "source": [
    "# Polymorphism"
   ]
  },
  {
   "cell_type": "code",
   "execution_count": 2,
   "id": "c8c05215-32fc-4ab3-9bc6-3522da792535",
   "metadata": {},
   "outputs": [
    {
     "data": {
      "text/plain": [
       "9"
      ]
     },
     "execution_count": 2,
     "metadata": {},
     "output_type": "execute_result"
    }
   ],
   "source": [
    "def test(a,b):\n",
    "    return a + b\n",
    "test(4,5)"
   ]
  },
  {
   "cell_type": "code",
   "execution_count": 4,
   "id": "be52e1b0-ecdd-43bc-b1ca-b29ccf44589b",
   "metadata": {},
   "outputs": [
    {
     "data": {
      "text/plain": [
       "'Nikhil lokare'"
      ]
     },
     "execution_count": 4,
     "metadata": {},
     "output_type": "execute_result"
    }
   ],
   "source": [
    "test('Nikhil',' lokare')"
   ]
  },
  {
   "cell_type": "code",
   "execution_count": 5,
   "id": "bc811581-f94d-4d4e-9f8e-7c1c54dc1320",
   "metadata": {},
   "outputs": [
    {
     "data": {
      "text/plain": [
       "[1, 2, 3, 4, 5, 6, 7, 8, 9]"
      ]
     },
     "execution_count": 5,
     "metadata": {},
     "output_type": "execute_result"
    }
   ],
   "source": [
    "test([1,2,3,4,5],[6,7,8,9])"
   ]
  },
  {
   "cell_type": "code",
   "execution_count": 36,
   "id": "6a8cefc7-2c47-42e1-bad8-91909cc741ac",
   "metadata": {},
   "outputs": [],
   "source": [
    "class data_science:\n",
    "    def syllabus(self):\n",
    "        print('this is my syllabus for data science master')"
   ]
  },
  {
   "cell_type": "code",
   "execution_count": 37,
   "id": "7a8de384-7754-4b2e-a2eb-3cce3049f3e3",
   "metadata": {},
   "outputs": [],
   "source": [
    "class web_dev:\n",
    "    def syllabus(self):\n",
    "        print('this is my syllabus for webdev')"
   ]
  },
  {
   "cell_type": "code",
   "execution_count": 38,
   "id": "e2569b2b-45c9-4fb1-a0cd-5415aec821d8",
   "metadata": {},
   "outputs": [],
   "source": [
    "def class_parcer(class_obj):\n",
    "    for i in class_obj:\n",
    "        i.syllabus()"
   ]
  },
  {
   "cell_type": "code",
   "execution_count": 39,
   "id": "e3a5e3b6-1db1-4acd-beea-7c77328fcab8",
   "metadata": {},
   "outputs": [],
   "source": [
    "data_science = data_science()"
   ]
  },
  {
   "cell_type": "code",
   "execution_count": 40,
   "id": "5c3365f5-9149-412c-b566-e6da2f3ec4c0",
   "metadata": {},
   "outputs": [],
   "source": [
    "web_dev = web_dev()"
   ]
  },
  {
   "cell_type": "code",
   "execution_count": 41,
   "id": "3cb9470f-dfc3-4945-abe9-b586b666d6a8",
   "metadata": {},
   "outputs": [],
   "source": [
    "class_obj = [data_science, web_dev]"
   ]
  },
  {
   "cell_type": "code",
   "execution_count": 42,
   "id": "7663c473-dd85-4068-a9bc-5f8417092801",
   "metadata": {},
   "outputs": [
    {
     "name": "stdout",
     "output_type": "stream",
     "text": [
      "this is my syllabus for data science master\n",
      "this is my syllabus for webdev\n"
     ]
    }
   ],
   "source": [
    "class_parcer(class_obj)"
   ]
  },
  {
   "cell_type": "code",
   "execution_count": 44,
   "id": "f612c52b-3cbe-40d7-9d46-23e0d1e9fced",
   "metadata": {},
   "outputs": [],
   "source": [
    "# Encapsulation"
   ]
  },
  {
   "cell_type": "code",
   "execution_count": 48,
   "id": "7c4a246c-0078-4d5c-a455-d77d1c72e07c",
   "metadata": {},
   "outputs": [],
   "source": [
    "class test:\n",
    "    def __init__(self,a,b):\n",
    "        self.a = a\n",
    "        self.b = b"
   ]
  },
  {
   "cell_type": "code",
   "execution_count": 50,
   "id": "026cb23a-b162-4204-96b8-34b64668d703",
   "metadata": {},
   "outputs": [],
   "source": [
    "t = test(45,87)"
   ]
  },
  {
   "cell_type": "code",
   "execution_count": 51,
   "id": "9bc768e2-1cdc-47f2-a29b-148d094228d2",
   "metadata": {},
   "outputs": [
    {
     "data": {
      "text/plain": [
       "45"
      ]
     },
     "execution_count": 51,
     "metadata": {},
     "output_type": "execute_result"
    }
   ],
   "source": [
    "t.a"
   ]
  },
  {
   "cell_type": "code",
   "execution_count": 52,
   "id": "f03d92ac-4803-4a17-b66e-bdd7dfe23eeb",
   "metadata": {},
   "outputs": [],
   "source": [
    "t.a = 45567"
   ]
  },
  {
   "cell_type": "code",
   "execution_count": 53,
   "id": "5ad8c014-0913-4362-9bdd-439680059fee",
   "metadata": {},
   "outputs": [
    {
     "data": {
      "text/plain": [
       "45567"
      ]
     },
     "execution_count": 53,
     "metadata": {},
     "output_type": "execute_result"
    }
   ],
   "source": [
    "t.a"
   ]
  },
  {
   "cell_type": "code",
   "execution_count": 100,
   "id": "3ea3303f-a9ba-48cd-9920-07804c7c836c",
   "metadata": {},
   "outputs": [],
   "source": [
    "class Car:\n",
    "    \n",
    "    def __init__(self,year,make,model,speed):\n",
    "        self.__year = year\n",
    "        self.__make = make\n",
    "        self.__model = model\n",
    "        self.__speed = 0\n",
    "        \n",
    "    def set_speed(self,speed):\n",
    "         self.__speed = 0 if speed < 0 else speed\n",
    "    \n",
    "    def get_speed(self):\n",
    "        return self.__speed"
   ]
  },
  {
   "cell_type": "code",
   "execution_count": 101,
   "id": "80e6dcde-4e9a-45f4-94fc-0e2e643f0157",
   "metadata": {},
   "outputs": [],
   "source": [
    "c = Car(2021,'toyoto','fortuner',300)"
   ]
  },
  {
   "cell_type": "code",
   "execution_count": 102,
   "id": "b4cdfa93-d456-4906-b2f3-051043a0eab6",
   "metadata": {},
   "outputs": [
    {
     "data": {
      "text/plain": [
       "2021"
      ]
     },
     "execution_count": 102,
     "metadata": {},
     "output_type": "execute_result"
    }
   ],
   "source": [
    "c._Car__year"
   ]
  },
  {
   "cell_type": "code",
   "execution_count": 103,
   "id": "876f44ba-0ade-4ee8-89ed-3cefce984eba",
   "metadata": {},
   "outputs": [
    {
     "data": {
      "text/plain": [
       "'toyoto'"
      ]
     },
     "execution_count": 103,
     "metadata": {},
     "output_type": "execute_result"
    }
   ],
   "source": [
    "c._Car__make"
   ]
  },
  {
   "cell_type": "code",
   "execution_count": 104,
   "id": "fadd7dc9-82ce-4266-b52d-3253f7a1c298",
   "metadata": {},
   "outputs": [
    {
     "data": {
      "text/plain": [
       "'fortuner'"
      ]
     },
     "execution_count": 104,
     "metadata": {},
     "output_type": "execute_result"
    }
   ],
   "source": [
    "c._Car__model"
   ]
  },
  {
   "cell_type": "code",
   "execution_count": 105,
   "id": "3d1ce2f4-b49c-4824-a739-bdc0bbb70986",
   "metadata": {},
   "outputs": [
    {
     "data": {
      "text/plain": [
       "0"
      ]
     },
     "execution_count": 105,
     "metadata": {},
     "output_type": "execute_result"
    }
   ],
   "source": [
    "c._Car__speed"
   ]
  },
  {
   "cell_type": "code",
   "execution_count": 106,
   "id": "f5e3984a-aea3-49be-95e8-6cc93105ef8d",
   "metadata": {},
   "outputs": [],
   "source": [
    "c.set_speed(5343)"
   ]
  },
  {
   "cell_type": "code",
   "execution_count": 107,
   "id": "f88fc31c-8cca-4a8f-b224-4b57d669f4f7",
   "metadata": {},
   "outputs": [],
   "source": [
    "c.set_speed(88)"
   ]
  },
  {
   "cell_type": "code",
   "execution_count": 109,
   "id": "6ad670fb-bb84-4270-835c-3b2cd68714fb",
   "metadata": {},
   "outputs": [
    {
     "data": {
      "text/plain": [
       "88"
      ]
     },
     "execution_count": 109,
     "metadata": {},
     "output_type": "execute_result"
    }
   ],
   "source": [
    "c.get_speed()"
   ]
  },
  {
   "cell_type": "code",
   "execution_count": 116,
   "id": "b142afac-588c-42ec-960b-e2eed4895e36",
   "metadata": {},
   "outputs": [],
   "source": [
    "class bank_account:\n",
    "    def __init__(self,balance):\n",
    "        self.__balance = balance\n",
    "        \n",
    "    def deposite(self,amount):\n",
    "        self.__balance = self.__balance + amount\n",
    "        \n",
    "    def withdraw(self,amount):\n",
    "        if self.__balance >= amount : \n",
    "            self.__balance = self.__balance - amount\n",
    "            return True\n",
    "        else:\n",
    "            return False\n",
    "        \n",
    "    def get_balance(self):\n",
    "        return self.__balance"
   ]
  },
  {
   "cell_type": "code",
   "execution_count": 117,
   "id": "d2578a13-ab5c-4d71-a008-9d97aa207420",
   "metadata": {},
   "outputs": [],
   "source": [
    "nikhil = bank_account(1000)"
   ]
  },
  {
   "cell_type": "code",
   "execution_count": 118,
   "id": "4923fe64-8321-4d3b-afe8-b835b917929d",
   "metadata": {},
   "outputs": [
    {
     "data": {
      "text/plain": [
       "1000"
      ]
     },
     "execution_count": 118,
     "metadata": {},
     "output_type": "execute_result"
    }
   ],
   "source": [
    "nikhil.get_balance()"
   ]
  },
  {
   "cell_type": "code",
   "execution_count": 119,
   "id": "d49dae58-22b5-4507-8004-bd70527bc02f",
   "metadata": {},
   "outputs": [],
   "source": [
    "nikhil.deposite(5000)"
   ]
  },
  {
   "cell_type": "code",
   "execution_count": 120,
   "id": "c1e0b677-cde6-4010-ae02-c5bc546c49ec",
   "metadata": {},
   "outputs": [
    {
     "data": {
      "text/plain": [
       "6000"
      ]
     },
     "execution_count": 120,
     "metadata": {},
     "output_type": "execute_result"
    }
   ],
   "source": [
    "nikhil.get_balance()"
   ]
  },
  {
   "cell_type": "code",
   "execution_count": 121,
   "id": "dd31ce5a-a324-448f-a495-d580f05b26a3",
   "metadata": {},
   "outputs": [
    {
     "data": {
      "text/plain": [
       "True"
      ]
     },
     "execution_count": 121,
     "metadata": {},
     "output_type": "execute_result"
    }
   ],
   "source": [
    "nikhil.withdraw(4000)"
   ]
  },
  {
   "cell_type": "code",
   "execution_count": 122,
   "id": "295dd87f-e665-4a39-ba94-5f9a28f72504",
   "metadata": {},
   "outputs": [
    {
     "data": {
      "text/plain": [
       "2000"
      ]
     },
     "execution_count": 122,
     "metadata": {},
     "output_type": "execute_result"
    }
   ],
   "source": [
    "nikhil.get_balance()"
   ]
  },
  {
   "cell_type": "code",
   "execution_count": 123,
   "id": "fcc2acff-66f8-4c60-be81-890f7d38dd98",
   "metadata": {},
   "outputs": [
    {
     "data": {
      "text/plain": [
       "False"
      ]
     },
     "execution_count": 123,
     "metadata": {},
     "output_type": "execute_result"
    }
   ],
   "source": [
    "nikhil.withdraw(10000)"
   ]
  },
  {
   "cell_type": "code",
   "execution_count": 132,
   "id": "3cd30073-4a46-4f69-bba5-8bca9966590e",
   "metadata": {},
   "outputs": [],
   "source": [
    "# Inheritance (Single Inheritance)"
   ]
  },
  {
   "cell_type": "code",
   "execution_count": 128,
   "id": "4282786b-3cca-4744-b670-a5abcd49da2c",
   "metadata": {},
   "outputs": [],
   "source": [
    "class test:\n",
    "    def test_meth(self):\n",
    "        return 'this is my first class'    "
   ]
  },
  {
   "cell_type": "code",
   "execution_count": 133,
   "id": "286ca917-140f-4535-9b35-10820c7217b9",
   "metadata": {},
   "outputs": [],
   "source": [
    "class child_test(test):\n",
    "    def child(self):\n",
    "        return 'this is my first child class'"
   ]
  },
  {
   "cell_type": "code",
   "execution_count": 134,
   "id": "4c0abca2-b259-46b8-a241-f68b0893bee4",
   "metadata": {},
   "outputs": [],
   "source": [
    "child_test_obj = child_test()"
   ]
  },
  {
   "cell_type": "code",
   "execution_count": 139,
   "id": "3a91765e-7c52-4e68-819b-68fac8e5374b",
   "metadata": {},
   "outputs": [
    {
     "data": {
      "text/plain": [
       "'this is my first child class'"
      ]
     },
     "execution_count": 139,
     "metadata": {},
     "output_type": "execute_result"
    }
   ],
   "source": [
    "child_test_obj.child()"
   ]
  },
  {
   "cell_type": "code",
   "execution_count": 140,
   "id": "7871be57-1fbc-4e71-8110-e3413212ed2e",
   "metadata": {},
   "outputs": [
    {
     "data": {
      "text/plain": [
       "'this is my first class'"
      ]
     },
     "execution_count": 140,
     "metadata": {},
     "output_type": "execute_result"
    }
   ],
   "source": [
    "child_test_obj.test_meth()"
   ]
  },
  {
   "cell_type": "code",
   "execution_count": 150,
   "id": "a484116d-fdc5-4099-8c9b-45728df63247",
   "metadata": {},
   "outputs": [],
   "source": [
    "# Multilevel Inheritance"
   ]
  },
  {
   "cell_type": "code",
   "execution_count": 141,
   "id": "da2e61d6-0f88-4d6d-8774-2d50b8c0d536",
   "metadata": {},
   "outputs": [],
   "source": [
    "class test:\n",
    "    def test_meth(self):\n",
    "        return 'this is my first parent class' "
   ]
  },
  {
   "cell_type": "code",
   "execution_count": 142,
   "id": "b9712848-349d-4570-ac72-924cb0bfad11",
   "metadata": {},
   "outputs": [],
   "source": [
    "class child_test(test):\n",
    "    def child(self):\n",
    "        return 'this is my first child class'"
   ]
  },
  {
   "cell_type": "code",
   "execution_count": 143,
   "id": "122cb229-b400-4adb-8178-cc8c824e76f4",
   "metadata": {},
   "outputs": [],
   "source": [
    "class child1_test(child_test):\n",
    "    def child1(self):\n",
    "        return 'this is my second child class'"
   ]
  },
  {
   "cell_type": "code",
   "execution_count": 144,
   "id": "20082b6e-40db-47c3-a47d-12738bec0dd8",
   "metadata": {},
   "outputs": [],
   "source": [
    "c = child1_test()"
   ]
  },
  {
   "cell_type": "code",
   "execution_count": 145,
   "id": "9e3f0ee1-b486-4d3d-a1e9-4400af4fae8a",
   "metadata": {},
   "outputs": [
    {
     "data": {
      "text/plain": [
       "'this is my second child class'"
      ]
     },
     "execution_count": 145,
     "metadata": {},
     "output_type": "execute_result"
    }
   ],
   "source": [
    "c.child1()"
   ]
  },
  {
   "cell_type": "code",
   "execution_count": 146,
   "id": "e946ca95-6cc8-4657-b36c-927c9b40084e",
   "metadata": {},
   "outputs": [
    {
     "data": {
      "text/plain": [
       "'this is my first child class'"
      ]
     },
     "execution_count": 146,
     "metadata": {},
     "output_type": "execute_result"
    }
   ],
   "source": [
    "c.child()"
   ]
  },
  {
   "cell_type": "code",
   "execution_count": 149,
   "id": "8b469fd7-b92a-401d-8fe1-3299d8736bec",
   "metadata": {},
   "outputs": [
    {
     "data": {
      "text/plain": [
       "'this is my first class'"
      ]
     },
     "execution_count": 149,
     "metadata": {},
     "output_type": "execute_result"
    }
   ],
   "source": [
    "c.test_meth()"
   ]
  },
  {
   "cell_type": "code",
   "execution_count": 151,
   "id": "4c2360e2-0b33-4f49-b292-56e4f3b79eb8",
   "metadata": {},
   "outputs": [],
   "source": [
    "# Multiple Inheritance"
   ]
  },
  {
   "cell_type": "code",
   "execution_count": 152,
   "id": "80f0f721-eeac-4bd2-af9d-8ac45cfd8f52",
   "metadata": {},
   "outputs": [],
   "source": [
    "class test:\n",
    "    def test_meth(self):\n",
    "        return 'this is my first parent class'"
   ]
  },
  {
   "cell_type": "code",
   "execution_count": 153,
   "id": "1388073b-cd71-4bee-a87a-41b424de2a97",
   "metadata": {},
   "outputs": [],
   "source": [
    "class child_test(test):\n",
    "    def child(self):\n",
    "        return 'this is my first child class'"
   ]
  },
  {
   "cell_type": "code",
   "execution_count": 154,
   "id": "6c1eeebd-60cd-4867-8247-67ba954c9ac1",
   "metadata": {},
   "outputs": [],
   "source": [
    "class child1_test(child_test,test):\n",
    "    def child1(self):\n",
    "        return 'this is my second child class'"
   ]
  },
  {
   "cell_type": "code",
   "execution_count": 155,
   "id": "ceea55ad-64c2-4ef2-9908-2925e48638c7",
   "metadata": {},
   "outputs": [],
   "source": [
    "z = child1_test()"
   ]
  },
  {
   "cell_type": "code",
   "execution_count": 156,
   "id": "f506b92d-8b84-480d-9f4c-ca78bbcdc962",
   "metadata": {},
   "outputs": [
    {
     "data": {
      "text/plain": [
       "'this is my second child class'"
      ]
     },
     "execution_count": 156,
     "metadata": {},
     "output_type": "execute_result"
    }
   ],
   "source": [
    "z.child1()"
   ]
  },
  {
   "cell_type": "code",
   "execution_count": 157,
   "id": "8e2a03a7-641c-41e0-8c08-1308ac0316d3",
   "metadata": {},
   "outputs": [
    {
     "data": {
      "text/plain": [
       "'this is my first child class'"
      ]
     },
     "execution_count": 157,
     "metadata": {},
     "output_type": "execute_result"
    }
   ],
   "source": [
    "z.child()"
   ]
  },
  {
   "cell_type": "code",
   "execution_count": 158,
   "id": "bf771aa2-9c93-4adc-9b00-6f88c6cd700b",
   "metadata": {},
   "outputs": [
    {
     "data": {
      "text/plain": [
       "'this is my first parent class'"
      ]
     },
     "execution_count": 158,
     "metadata": {},
     "output_type": "execute_result"
    }
   ],
   "source": [
    "z.test_meth()"
   ]
  },
  {
   "cell_type": "code",
   "execution_count": null,
   "id": "2fe43280-8128-4bbf-9ed9-dbe4aa710e72",
   "metadata": {},
   "outputs": [],
   "source": []
  }
 ],
 "metadata": {
  "kernelspec": {
   "display_name": "Python 3 (ipykernel)",
   "language": "python",
   "name": "python3"
  },
  "language_info": {
   "codemirror_mode": {
    "name": "ipython",
    "version": 3
   },
   "file_extension": ".py",
   "mimetype": "text/x-python",
   "name": "python",
   "nbconvert_exporter": "python",
   "pygments_lexer": "ipython3",
   "version": "3.10.8"
  }
 },
 "nbformat": 4,
 "nbformat_minor": 5
}

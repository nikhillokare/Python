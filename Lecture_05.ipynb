{
 "cells": [
  {
   "cell_type": "code",
   "execution_count": 1,
   "id": "14508fed-68bf-48b1-bfb7-f552249c03de",
   "metadata": {},
   "outputs": [
    {
     "name": "stdout",
     "output_type": "stream",
     "text": [
      "1\n",
      "2\n",
      "3\n",
      "4\n",
      "5\n",
      "6\n",
      "7\n",
      "8\n",
      "9\n",
      "10\n"
     ]
    }
   ],
   "source": [
    "a = 1\n",
    "\n",
    "while(a<=10):\n",
    "    print(a)\n",
    "    a = a + 1"
   ]
  },
  {
   "cell_type": "code",
   "execution_count": 2,
   "id": "3c6cb36e-174f-4e82-8063-f44dafb583b8",
   "metadata": {},
   "outputs": [],
   "source": [
    "#sum the number"
   ]
  },
  {
   "cell_type": "code",
   "execution_count": 8,
   "id": "996010a9-4606-4d8e-999c-e36e260be7ce",
   "metadata": {},
   "outputs": [
    {
     "name": "stdin",
     "output_type": "stream",
     "text": [
      "Enter Your Limit 5\n"
     ]
    },
    {
     "data": {
      "text/plain": [
       "15"
      ]
     },
     "execution_count": 8,
     "metadata": {},
     "output_type": "execute_result"
    }
   ],
   "source": [
    "n = int(input('Enter Your Limit'))\n",
    "starting_point = 0\n",
    "counter = 1\n",
    "\n",
    "while counter <= n:\n",
    "    starting_point += counter\n",
    "    counter += 1\n",
    "starting_point"
   ]
  },
  {
   "cell_type": "code",
   "execution_count": 1,
   "id": "0751ddde-1ce7-462a-b1b7-2820bebb810f",
   "metadata": {},
   "outputs": [
    {
     "name": "stdin",
     "output_type": "stream",
     "text": [
      "Enter Your Number 8\n"
     ]
    },
    {
     "data": {
      "text/plain": [
       "40320"
      ]
     },
     "execution_count": 1,
     "metadata": {},
     "output_type": "execute_result"
    }
   ],
   "source": [
    "number = int(input('Enter Your Number'))\n",
    "factorial = 1\n",
    "while number > 0 :\n",
    "    factorial = factorial * number\n",
    "    number -= 1\n",
    "factorial    "
   ]
  },
  {
   "cell_type": "code",
   "execution_count": null,
   "id": "8defc825-1cf6-4852-a73d-f87d35952182",
   "metadata": {},
   "outputs": [],
   "source": [
    "# Fibonacci Series"
   ]
  },
  {
   "cell_type": "code",
   "execution_count": 3,
   "id": "dc730fa8-1145-4954-b7da-eac68c50a2ed",
   "metadata": {},
   "outputs": [
    {
     "name": "stdin",
     "output_type": "stream",
     "text": [
      "Enter The Number 5\n"
     ]
    },
    {
     "name": "stdout",
     "output_type": "stream",
     "text": [
      "0\n",
      "1\n",
      "1\n",
      "2\n",
      "3\n"
     ]
    }
   ],
   "source": [
    "number = int(input('Enter The Number'))\n",
    "a,b = 0,1\n",
    "counter = 0\n",
    "while counter < number:\n",
    "    print(a)\n",
    "    c = a + b\n",
    "    a = b\n",
    "    b = c\n",
    "    counter += 1"
   ]
  },
  {
   "cell_type": "code",
   "execution_count": 6,
   "id": "930de2d3-f710-497f-bb39-47a6482dce2f",
   "metadata": {},
   "outputs": [
    {
     "name": "stdout",
     "output_type": "stream",
     "text": [
      "0\n",
      "1\n",
      "1\n",
      "2\n",
      "3\n",
      "5\n",
      "8\n",
      "13\n",
      "21\n",
      "34\n"
     ]
    }
   ],
   "source": [
    "a,b = 0,1\n",
    "for i in range(10):\n",
    "    print(a)\n",
    "    c = a + b\n",
    "    a = b\n",
    "    b = c\n",
    "    "
   ]
  },
  {
   "cell_type": "code",
   "execution_count": 10,
   "id": "5d6ce932-a5fa-4cf5-8076-6407bc1cf3a2",
   "metadata": {},
   "outputs": [],
   "source": [
    "s = 'Nikhil'"
   ]
  },
  {
   "cell_type": "code",
   "execution_count": 13,
   "id": "1a999a21-9409-4aed-a436-98bd2f3297ed",
   "metadata": {},
   "outputs": [
    {
     "name": "stdin",
     "output_type": "stream",
     "text": [
      "Enter Your Name Nikhil\n"
     ]
    },
    {
     "name": "stdout",
     "output_type": "stream",
     "text": [
      "lihkiN\n"
     ]
    }
   ],
   "source": [
    "word = input('Enter Your Name')\n",
    "reverse = ''\n",
    "length = len(word)\n",
    "while length > 0:\n",
    "    reverse += word[length-1]\n",
    "    length -= 1\n",
    "print(reverse)    "
   ]
  },
  {
   "cell_type": "code",
   "execution_count": null,
   "id": "2ea3d9c8-099d-46f9-9eb1-242090686008",
   "metadata": {},
   "outputs": [],
   "source": [
    "# print table of number"
   ]
  },
  {
   "cell_type": "code",
   "execution_count": 19,
   "id": "4d9b1663-4833-4c47-80f3-d27176524a0d",
   "metadata": {},
   "outputs": [
    {
     "name": "stdin",
     "output_type": "stream",
     "text": [
      "Enter The Number 4\n"
     ]
    },
    {
     "name": "stdout",
     "output_type": "stream",
     "text": [
      "4 * 9 = 4\n",
      "4 * 9 = 8\n",
      "4 * 9 = 12\n",
      "4 * 9 = 16\n",
      "4 * 9 = 20\n",
      "4 * 9 = 24\n",
      "4 * 9 = 28\n",
      "4 * 9 = 32\n",
      "4 * 9 = 36\n",
      "4 * 9 = 40\n"
     ]
    }
   ],
   "source": [
    "number = int(input('Enter The Number'))\n",
    "counter = 1\n",
    "while counter <= 10:\n",
    "    result = number * counter\n",
    "    print(number,'*',i,'=',result)\n",
    "    counter += 1"
   ]
  },
  {
   "cell_type": "code",
   "execution_count": 24,
   "id": "329782c6-12b5-4e7a-bf62-ad69792231ee",
   "metadata": {},
   "outputs": [
    {
     "name": "stdin",
     "output_type": "stream",
     "text": [
      "Enter The Number 10\n"
     ]
    },
    {
     "name": "stdout",
     "output_type": "stream",
     "text": [
      "1\n",
      "2\n",
      "3\n",
      "4\n",
      "5\n",
      "6\n",
      "7\n",
      "8\n",
      "9\n",
      "10\n"
     ]
    }
   ],
   "source": [
    "n = int(input('Enter The Number'))\n",
    "i = 1\n",
    "while i <= n:\n",
    "    print(i)\n",
    "    i += 1"
   ]
  },
  {
   "cell_type": "code",
   "execution_count": null,
   "id": "2447401c-fb38-4896-862c-59181a243706",
   "metadata": {},
   "outputs": [],
   "source": [
    "# comprehensation"
   ]
  },
  {
   "cell_type": "code",
   "execution_count": 38,
   "id": "f69dcf2c-9ce8-4721-b7a1-6a70afb8e59c",
   "metadata": {},
   "outputs": [],
   "source": [
    "N = [12,3,4,68,9,2,86]"
   ]
  },
  {
   "cell_type": "code",
   "execution_count": 39,
   "id": "f4d4af7d-26b0-45bf-b0cc-56e5aeb220b2",
   "metadata": {},
   "outputs": [
    {
     "data": {
      "text/plain": [
       "[12, 3, 4, 68, 9, 2, 86]"
      ]
     },
     "execution_count": 39,
     "metadata": {},
     "output_type": "execute_result"
    }
   ],
   "source": [
    "N"
   ]
  },
  {
   "cell_type": "code",
   "execution_count": 40,
   "id": "982b1f05-4a0f-463c-8e7b-e330fd35830b",
   "metadata": {},
   "outputs": [
    {
     "data": {
      "text/plain": [
       "[144, 9, 16, 4624, 81, 4, 7396]"
      ]
     },
     "execution_count": 40,
     "metadata": {},
     "output_type": "execute_result"
    }
   ],
   "source": [
    "[i**2 for i in N]"
   ]
  },
  {
   "cell_type": "code",
   "execution_count": 44,
   "id": "260da00e-82e2-430e-ba41-61ab73bc91af",
   "metadata": {},
   "outputs": [
    {
     "data": {
      "text/plain": [
       "[12, 3, 4, 68, 9, 2, 86]"
      ]
     },
     "execution_count": 44,
     "metadata": {},
     "output_type": "execute_result"
    }
   ],
   "source": [
    "N"
   ]
  },
  {
   "cell_type": "code",
   "execution_count": 45,
   "id": "a24d6748-8927-4da7-8317-0b9d512aa9dc",
   "metadata": {},
   "outputs": [
    {
     "data": {
      "text/plain": [
       "[12, 4, 68, 2, 86]"
      ]
     },
     "execution_count": 45,
     "metadata": {},
     "output_type": "execute_result"
    }
   ],
   "source": [
    "[ i for i in N if i%2 == 0]"
   ]
  },
  {
   "cell_type": "code",
   "execution_count": 46,
   "id": "62602bcd-23af-4260-97e7-364c9b81fc12",
   "metadata": {},
   "outputs": [],
   "source": [
    "s = ['nikhil','aniket','sudesh']"
   ]
  },
  {
   "cell_type": "code",
   "execution_count": 48,
   "id": "9975c699-679f-4e55-8a8c-8aeb513bb5db",
   "metadata": {},
   "outputs": [
    {
     "data": {
      "text/plain": [
       "['NIKHIL', 'ANIKET', 'SUDESH']"
      ]
     },
     "execution_count": 48,
     "metadata": {},
     "output_type": "execute_result"
    }
   ],
   "source": [
    "[i.upper() for i in s ]"
   ]
  },
  {
   "cell_type": "code",
   "execution_count": 50,
   "id": "ef250377-2189-46e4-befe-2f712f61a1b3",
   "metadata": {},
   "outputs": [
    {
     "data": {
      "text/plain": [
       "['Nikhil', 'Aniket', 'Sudesh']"
      ]
     },
     "execution_count": 50,
     "metadata": {},
     "output_type": "execute_result"
    }
   ],
   "source": [
    "[i.capitalize() for i in s ]"
   ]
  },
  {
   "cell_type": "code",
   "execution_count": 51,
   "id": "157cb631-4dc3-4076-8889-a7576580cbf9",
   "metadata": {},
   "outputs": [
    {
     "data": {
      "text/plain": [
       "['nikhil', 'aniket', 'sudesh']"
      ]
     },
     "execution_count": 51,
     "metadata": {},
     "output_type": "execute_result"
    }
   ],
   "source": [
    "[i.lower() for i in s ]"
   ]
  },
  {
   "cell_type": "code",
   "execution_count": 72,
   "id": "5a51051d-5fde-46ba-a8e4-9a062bffab11",
   "metadata": {},
   "outputs": [],
   "source": [
    "d = {\n",
    "   'Name':'Nikhil',\n",
    "    'age':34,\n",
    "    'gender':'male'\n",
    "}"
   ]
  },
  {
   "cell_type": "code",
   "execution_count": 75,
   "id": "ace3bd9e-048e-4852-a949-307b93b3a07f",
   "metadata": {},
   "outputs": [
    {
     "data": {
      "text/plain": [
       "dict_items([('Name', 'Nikhil'), ('age', 34), ('gender', 'male')])"
      ]
     },
     "execution_count": 75,
     "metadata": {},
     "output_type": "execute_result"
    }
   ],
   "source": [
    "d.items()"
   ]
  },
  {
   "cell_type": "code",
   "execution_count": 79,
   "id": "318feae5-0a45-44f2-9918-1e5e9d262225",
   "metadata": {},
   "outputs": [
    {
     "data": {
      "text/plain": [
       "{'Name': 'Nikhil', 'age': 34, 'gender': 'male'}"
      ]
     },
     "execution_count": 79,
     "metadata": {},
     "output_type": "execute_result"
    }
   ],
   "source": [
    "d"
   ]
  },
  {
   "cell_type": "code",
   "execution_count": 81,
   "id": "b67aea14-c7c4-4202-b13b-bfd32e487ccf",
   "metadata": {},
   "outputs": [],
   "source": [
    "# function in Pytohn"
   ]
  },
  {
   "cell_type": "code",
   "execution_count": 1,
   "id": "95f58d10-cb46-44e1-85ec-61552f83c1b2",
   "metadata": {},
   "outputs": [
    {
     "name": "stdout",
     "output_type": "stream",
     "text": [
      "Nikhil\n"
     ]
    }
   ],
   "source": [
    "print('Nikhil')"
   ]
  },
  {
   "cell_type": "code",
   "execution_count": 2,
   "id": "a45d1ba0-4121-4b31-94af-0054dbe60541",
   "metadata": {},
   "outputs": [],
   "source": [
    "l = [1,2,3,4,5]"
   ]
  },
  {
   "cell_type": "code",
   "execution_count": 3,
   "id": "c159cc6f-6a91-43e5-9bf1-32e03694155a",
   "metadata": {},
   "outputs": [
    {
     "data": {
      "text/plain": [
       "5"
      ]
     },
     "execution_count": 3,
     "metadata": {},
     "output_type": "execute_result"
    }
   ],
   "source": [
    "len(l)"
   ]
  },
  {
   "cell_type": "code",
   "execution_count": 4,
   "id": "1b5087ef-3f9e-49f7-b3a6-d0fc7357bf04",
   "metadata": {},
   "outputs": [
    {
     "data": {
      "text/plain": [
       "list"
      ]
     },
     "execution_count": 4,
     "metadata": {},
     "output_type": "execute_result"
    }
   ],
   "source": [
    "type(l)"
   ]
  },
  {
   "cell_type": "code",
   "execution_count": 5,
   "id": "3261e32e-abfc-4194-acc9-5ffef65c39a3",
   "metadata": {},
   "outputs": [
    {
     "name": "stdout",
     "output_type": "stream",
     "text": [
      "My Name Is Nikhil\n"
     ]
    }
   ],
   "source": [
    "def test():\n",
    "    print('My Name Is Nikhil')\n",
    "test()   "
   ]
  },
  {
   "cell_type": "code",
   "execution_count": 6,
   "id": "96ca83a1-9d19-4955-ae14-80cff60b74a8",
   "metadata": {},
   "outputs": [],
   "source": [
    "def func():\n",
    "    pass"
   ]
  },
  {
   "cell_type": "code",
   "execution_count": 7,
   "id": "e3220c2f-40ec-480b-8e44-3ba6bbcf75f0",
   "metadata": {},
   "outputs": [
    {
     "name": "stdout",
     "output_type": "stream",
     "text": [
      "This is function in python\n"
     ]
    }
   ],
   "source": [
    "def test1():\n",
    "    print('This is function in python')\n",
    "test1()    "
   ]
  },
  {
   "cell_type": "code",
   "execution_count": 12,
   "id": "fc6ed32a-29b1-44fd-a08e-e34cbed26505",
   "metadata": {},
   "outputs": [
    {
     "data": {
      "text/plain": [
       "'this is my first return Nikhil'"
      ]
     },
     "execution_count": 12,
     "metadata": {},
     "output_type": "execute_result"
    }
   ],
   "source": [
    "def test2():\n",
    "    return \"this is my first return\"\n",
    "test2() + ' Nikhil'"
   ]
  },
  {
   "cell_type": "code",
   "execution_count": 14,
   "id": "fde40bb9-faad-4a14-a656-dced33e46176",
   "metadata": {},
   "outputs": [
    {
     "data": {
      "text/plain": [
       "('Nikhil', 43, 87, 3.6, [1, 2, 3, 4])"
      ]
     },
     "execution_count": 14,
     "metadata": {},
     "output_type": "execute_result"
    }
   ],
   "source": [
    "def test3():\n",
    "    return 'Nikhil',43,87,3.6,[1,2,3,4]\n",
    "test3()"
   ]
  },
  {
   "cell_type": "code",
   "execution_count": 22,
   "id": "bfae645c-1d8a-42f4-9b94-9c1b6af4d411",
   "metadata": {},
   "outputs": [
    {
     "data": {
      "text/plain": [
       "4.833333333333333"
      ]
     },
     "execution_count": 22,
     "metadata": {},
     "output_type": "execute_result"
    }
   ],
   "source": [
    "def test4(a,b,c):\n",
    "    d = a + b / c\n",
    "    return d \n",
    "test4(4,5,6)"
   ]
  },
  {
   "cell_type": "code",
   "execution_count": 23,
   "id": "b1b249a4-3571-49d1-9b6c-f7cc22591009",
   "metadata": {},
   "outputs": [
    {
     "data": {
      "text/plain": [
       "9"
      ]
     },
     "execution_count": 23,
     "metadata": {},
     "output_type": "execute_result"
    }
   ],
   "source": [
    "def test6(a,b):\n",
    "    return a + b\n",
    "test6(4,5)"
   ]
  },
  {
   "cell_type": "code",
   "execution_count": 25,
   "id": "ddfd7137-4ab1-441c-9dc9-8f6625a130fb",
   "metadata": {},
   "outputs": [
    {
     "data": {
      "text/plain": [
       "'Nikhil Lokare'"
      ]
     },
     "execution_count": 25,
     "metadata": {},
     "output_type": "execute_result"
    }
   ],
   "source": [
    "test6('Nikhil',' Lokare')"
   ]
  },
  {
   "cell_type": "code",
   "execution_count": 26,
   "id": "cf06d951-505a-418d-b15a-15a869565e67",
   "metadata": {},
   "outputs": [
    {
     "data": {
      "text/plain": [
       "[1, 2, 3, 4, 5, 6, 7, 8]"
      ]
     },
     "execution_count": 26,
     "metadata": {},
     "output_type": "execute_result"
    }
   ],
   "source": [
    "test6([1,2,3,4],[5,6,7,8])"
   ]
  },
  {
   "cell_type": "code",
   "execution_count": 1,
   "id": "f4a32c49-6431-4edd-b3df-6ac6485eff7d",
   "metadata": {},
   "outputs": [],
   "source": [
    "l = [1,2,3,4,5,'Nikhil','lokare',[1,2,3,4,5,7,]]"
   ]
  },
  {
   "cell_type": "code",
   "execution_count": 32,
   "id": "af4be06c-caae-4941-96d6-58f437f281a9",
   "metadata": {},
   "outputs": [],
   "source": [
    "l1 = []\n",
    "for i in l:\n",
    "    if(type(i) == int or type(i) == float):\n",
    "        l1.append(i)"
   ]
  },
  {
   "cell_type": "code",
   "execution_count": 33,
   "id": "d5c8884c-1528-4e59-ad33-86695ab703fe",
   "metadata": {},
   "outputs": [
    {
     "data": {
      "text/plain": [
       "[1, 2, 3, 4, 5]"
      ]
     },
     "execution_count": 33,
     "metadata": {},
     "output_type": "execute_result"
    }
   ],
   "source": [
    "l1"
   ]
  },
  {
   "cell_type": "code",
   "execution_count": 34,
   "id": "6301bd80-e11a-4275-bcd7-02ac94451694",
   "metadata": {},
   "outputs": [],
   "source": [
    "def test8(l):\n",
    "    l1 = []\n",
    "    for i in l:\n",
    "        if(type(i) == int):\n",
    "            l1.append(i)\n",
    "    return l1      "
   ]
  },
  {
   "cell_type": "code",
   "execution_count": 35,
   "id": "fd9fc6ec-7cd1-4ed0-b3ee-42df327c55f4",
   "metadata": {},
   "outputs": [
    {
     "data": {
      "text/plain": [
       "[1, 2, 3, 4, 5]"
      ]
     },
     "execution_count": 35,
     "metadata": {},
     "output_type": "execute_result"
    }
   ],
   "source": [
    "l1"
   ]
  },
  {
   "cell_type": "code",
   "execution_count": 42,
   "id": "0c8f9d65-0178-4ddd-9ccd-a3a933d44a6c",
   "metadata": {},
   "outputs": [],
   "source": [
    "def test9(a):\n",
    "    '''this is my first function '''\n",
    "    l = []\n",
    "    for i in  a:\n",
    "        if type(i) == list:\n",
    "            for j in i:\n",
    "                l.append(j)\n",
    "        else:\n",
    "            if type(i) == int or type(i) == float:\n",
    "                l.append(i)\n",
    "    return l           "
   ]
  },
  {
   "cell_type": "code",
   "execution_count": 43,
   "id": "aea419bc-4afd-41cc-bb30-e3e0b6423f36",
   "metadata": {},
   "outputs": [
    {
     "data": {
      "text/plain": [
       "[1, 2, 3, 4, 5, 1, 2, 3, 4, 5, 7]"
      ]
     },
     "execution_count": 43,
     "metadata": {},
     "output_type": "execute_result"
    }
   ],
   "source": [
    "test9(l)"
   ]
  },
  {
   "cell_type": "code",
   "execution_count": 44,
   "id": "1825fee0-b716-4757-8f18-dc90878b94c6",
   "metadata": {},
   "outputs": [
    {
     "data": {
      "text/plain": [
       "8"
      ]
     },
     "execution_count": 44,
     "metadata": {},
     "output_type": "execute_result"
    }
   ],
   "source": [
    "len(l)"
   ]
  },
  {
   "cell_type": "code",
   "execution_count": 49,
   "id": "9b6cb72f-2c52-4f95-85c0-225cc6a427a6",
   "metadata": {},
   "outputs": [
    {
     "name": "stdout",
     "output_type": "stream",
     "text": [
      "My name is : Nikhil\n"
     ]
    }
   ],
   "source": [
    "def test11(fname):\n",
    "    print('My name is : ' + fname)\n",
    "test11('Nikhil')    "
   ]
  },
  {
   "cell_type": "code",
   "execution_count": 50,
   "id": "56fab3a1-051f-4470-960d-f0cc2a49b0a1",
   "metadata": {},
   "outputs": [],
   "source": [
    "def test12(*nikhil):\n",
    "    return nikhil"
   ]
  },
  {
   "cell_type": "code",
   "execution_count": 51,
   "id": "0b078d19-5749-4241-bf6f-041b6fd5e774",
   "metadata": {},
   "outputs": [
    {
     "data": {
      "text/plain": [
       "(54, 57, 68, 6, 4, 344, 3, 45, 689, 7, 6, 857, 435, 24)"
      ]
     },
     "execution_count": 51,
     "metadata": {},
     "output_type": "execute_result"
    }
   ],
   "source": [
    "test12(54,57,68,6,4,344,3,45,689,7,6,857,435,24)"
   ]
  },
  {
   "cell_type": "code",
   "execution_count": 62,
   "id": "00d9e61c-fd29-4351-81c0-50c119ead1fb",
   "metadata": {},
   "outputs": [],
   "source": [
    "def test13(*args,a):\n",
    "    return args,a"
   ]
  },
  {
   "cell_type": "code",
   "execution_count": 63,
   "id": "4e386a2e-9a74-4d2f-848d-511f4676cf99",
   "metadata": {},
   "outputs": [
    {
     "data": {
      "text/plain": [
       "((1, 23, 4, 4, 5, 6), 54)"
      ]
     },
     "execution_count": 63,
     "metadata": {},
     "output_type": "execute_result"
    }
   ],
   "source": [
    "test13(1,23,4,4,5,6, a = 54)"
   ]
  },
  {
   "cell_type": "code",
   "execution_count": 1,
   "id": "cef1eb71-7e5a-472c-95f7-06877ba2b7f8",
   "metadata": {},
   "outputs": [],
   "source": [
    "def test14(c,d,a = 34, b = 1):\n",
    "    return a,b,c,d"
   ]
  },
  {
   "cell_type": "code",
   "execution_count": 2,
   "id": "92fafd78-3844-4080-91cd-2698c2839197",
   "metadata": {},
   "outputs": [
    {
     "data": {
      "text/plain": [
       "(34, 1, 4, 5)"
      ]
     },
     "execution_count": 2,
     "metadata": {},
     "output_type": "execute_result"
    }
   ],
   "source": [
    "test14(4,5)"
   ]
  },
  {
   "cell_type": "code",
   "execution_count": 3,
   "id": "5a963726-c861-4a61-a087-275bd4907b1a",
   "metadata": {},
   "outputs": [
    {
     "data": {
      "text/plain": [
       "(432, 43842, 6, 7)"
      ]
     },
     "execution_count": 3,
     "metadata": {},
     "output_type": "execute_result"
    }
   ],
   "source": [
    "test14(6,7,a = 432,b = 43842)"
   ]
  },
  {
   "cell_type": "code",
   "execution_count": null,
   "id": "ef586d20-e83d-47b8-96f3-57af07959cb5",
   "metadata": {},
   "outputs": [],
   "source": [
    "test15(a = [1,2,3,4], b = 'Nikhil')"
   ]
  }
 ],
 "metadata": {
  "kernelspec": {
   "display_name": "Python 3 (ipykernel)",
   "language": "python",
   "name": "python3"
  },
  "language_info": {
   "codemirror_mode": {
    "name": "ipython",
    "version": 3
   },
   "file_extension": ".py",
   "mimetype": "text/x-python",
   "name": "python",
   "nbconvert_exporter": "python",
   "pygments_lexer": "ipython3",
   "version": "3.10.8"
  }
 },
 "nbformat": 4,
 "nbformat_minor": 5
}

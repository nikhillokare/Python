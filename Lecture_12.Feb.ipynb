{
 "cells": [
  {
   "cell_type": "code",
   "execution_count": 1,
   "id": "ebfb1a62-a43c-44f7-b08f-74f9cb51d0e4",
   "metadata": {},
   "outputs": [],
   "source": [
    "a = 10"
   ]
  },
  {
   "cell_type": "code",
   "execution_count": 2,
   "id": "92d6fcac-eb2c-44bd-a34f-e0156577aecb",
   "metadata": {},
   "outputs": [
    {
     "ename": "ZeroDivisionError",
     "evalue": "division by zero",
     "output_type": "error",
     "traceback": [
      "\u001b[0;31m---------------------------------------------------------------------------\u001b[0m",
      "\u001b[0;31mZeroDivisionError\u001b[0m                         Traceback (most recent call last)",
      "Cell \u001b[0;32mIn[2], line 1\u001b[0m\n\u001b[0;32m----> 1\u001b[0m \u001b[43ma\u001b[49m\u001b[38;5;241;43m/\u001b[39;49m\u001b[38;5;241;43m0\u001b[39;49m\n",
      "\u001b[0;31mZeroDivisionError\u001b[0m: division by zero"
     ]
    }
   ],
   "source": [
    "a/0"
   ]
  },
  {
   "cell_type": "code",
   "execution_count": 11,
   "id": "5d7ca9ca-2896-499b-8069-35d38310b3f2",
   "metadata": {},
   "outputs": [
    {
     "ename": "FileNotFoundError",
     "evalue": "[Errno 2] No such file or directory: 'text8.txt'",
     "output_type": "error",
     "traceback": [
      "\u001b[0;31m---------------------------------------------------------------------------\u001b[0m",
      "\u001b[0;31mFileNotFoundError\u001b[0m                         Traceback (most recent call last)",
      "Cell \u001b[0;32mIn[11], line 1\u001b[0m\n\u001b[0;32m----> 1\u001b[0m f \u001b[38;5;241m=\u001b[39m \u001b[38;5;28;43mopen\u001b[39;49m\u001b[43m(\u001b[49m\u001b[38;5;124;43m'\u001b[39;49m\u001b[38;5;124;43mtext8.txt\u001b[39;49m\u001b[38;5;124;43m'\u001b[39;49m\u001b[43m,\u001b[49m\u001b[38;5;124;43m'\u001b[39;49m\u001b[38;5;124;43mr\u001b[39;49m\u001b[38;5;124;43m'\u001b[39;49m\u001b[43m)\u001b[49m\n\u001b[1;32m      2\u001b[0m \u001b[38;5;28mprint\u001b[39m(\u001b[38;5;124m'\u001b[39m\u001b[38;5;124mthis is my print\u001b[39m\u001b[38;5;124m'\u001b[39m)\n",
      "File \u001b[0;32m/opt/conda/lib/python3.10/site-packages/IPython/core/interactiveshell.py:282\u001b[0m, in \u001b[0;36m_modified_open\u001b[0;34m(file, *args, **kwargs)\u001b[0m\n\u001b[1;32m    275\u001b[0m \u001b[38;5;28;01mif\u001b[39;00m file \u001b[38;5;129;01min\u001b[39;00m {\u001b[38;5;241m0\u001b[39m, \u001b[38;5;241m1\u001b[39m, \u001b[38;5;241m2\u001b[39m}:\n\u001b[1;32m    276\u001b[0m     \u001b[38;5;28;01mraise\u001b[39;00m \u001b[38;5;167;01mValueError\u001b[39;00m(\n\u001b[1;32m    277\u001b[0m         \u001b[38;5;124mf\u001b[39m\u001b[38;5;124m\"\u001b[39m\u001b[38;5;124mIPython won\u001b[39m\u001b[38;5;124m'\u001b[39m\u001b[38;5;124mt let you open fd=\u001b[39m\u001b[38;5;132;01m{\u001b[39;00mfile\u001b[38;5;132;01m}\u001b[39;00m\u001b[38;5;124m by default \u001b[39m\u001b[38;5;124m\"\u001b[39m\n\u001b[1;32m    278\u001b[0m         \u001b[38;5;124m\"\u001b[39m\u001b[38;5;124mas it is likely to crash IPython. If you know what you are doing, \u001b[39m\u001b[38;5;124m\"\u001b[39m\n\u001b[1;32m    279\u001b[0m         \u001b[38;5;124m\"\u001b[39m\u001b[38;5;124myou can use builtins\u001b[39m\u001b[38;5;124m'\u001b[39m\u001b[38;5;124m open.\u001b[39m\u001b[38;5;124m\"\u001b[39m\n\u001b[1;32m    280\u001b[0m     )\n\u001b[0;32m--> 282\u001b[0m \u001b[38;5;28;01mreturn\u001b[39;00m \u001b[43mio_open\u001b[49m\u001b[43m(\u001b[49m\u001b[43mfile\u001b[49m\u001b[43m,\u001b[49m\u001b[43m \u001b[49m\u001b[38;5;241;43m*\u001b[39;49m\u001b[43margs\u001b[49m\u001b[43m,\u001b[49m\u001b[43m \u001b[49m\u001b[38;5;241;43m*\u001b[39;49m\u001b[38;5;241;43m*\u001b[39;49m\u001b[43mkwargs\u001b[49m\u001b[43m)\u001b[49m\n",
      "\u001b[0;31mFileNotFoundError\u001b[0m: [Errno 2] No such file or directory: 'text8.txt'"
     ]
    }
   ],
   "source": [
    "f = open('text8.txt','r')\n",
    "print('this is my print')"
   ]
  },
  {
   "cell_type": "code",
   "execution_count": 14,
   "id": "8dcf6464-2db5-435b-9dfd-f846f3634ba7",
   "metadata": {},
   "outputs": [
    {
     "name": "stdout",
     "output_type": "stream",
     "text": [
      " exception [Errno 2] No such file or directory: 'text8.txt'\n"
     ]
    },
    {
     "data": {
      "text/plain": [
       "7"
      ]
     },
     "execution_count": 15,
     "metadata": {},
     "output_type": "execute_result"
    }
   ],
   "source": [
    "try:\n",
    "    f = open('text8.txt','r')\n",
    "except Exception as e :\n",
    "    print('this is an exception',e)\n",
    "    \n",
    "a = 3 + 4\n",
    "a"
   ]
  },
  {
   "cell_type": "code",
   "execution_count": 32,
   "id": "3102ef80-c7bd-49da-98d0-b1672c32ef37",
   "metadata": {},
   "outputs": [
    {
     "name": "stdout",
     "output_type": "stream",
     "text": [
      "Magnus Carlson chess champion\n",
      "nothing is wrong\n"
     ]
    }
   ],
   "source": [
    "try:\n",
    "    f = open('text8.txt','w')\n",
    "    f.write('Magnus Carlson ')\n",
    "    f.write('chess champion')\n",
    "    f = open('text8.txt','r')\n",
    "    print(f.read())\n",
    "except Exception as e :\n",
    "    print('this is an exception',e)\n",
    "else:\n",
    "    f.close()\n",
    "    print('nothing is wrong')"
   ]
  },
  {
   "cell_type": "code",
   "execution_count": 33,
   "id": "01c91de6-768a-414e-8ac4-6a8b72bada63",
   "metadata": {},
   "outputs": [
    {
     "name": "stdout",
     "output_type": "stream",
     "text": [
      "this is an exception [Errno 2] No such file or directory: 'text1.txt'\n"
     ]
    }
   ],
   "source": [
    "try:\n",
    "    f = open('text1.txt','r')\n",
    "    f.write('Magnus Carlson ')\n",
    "    f.write('chess champion')\n",
    "    f = open('text8.txt','r')\n",
    "    print(f.read())\n",
    "except Exception as e :\n",
    "    print('this is an exception',e)\n",
    "else:\n",
    "    f.close()\n",
    "    print('nothing is wrong')"
   ]
  },
  {
   "cell_type": "code",
   "execution_count": 35,
   "id": "6fc8971b-3f36-47d6-a59a-0d583c8d5915",
   "metadata": {},
   "outputs": [
    {
     "name": "stdout",
     "output_type": "stream",
     "text": [
      "exicution\n"
     ]
    }
   ],
   "source": [
    "try:\n",
    "    f = open('text1.txt','w')\n",
    "    f.write('Magnus Carlson ')\n",
    "finally:\n",
    "    print('exicution')"
   ]
  },
  {
   "cell_type": "code",
   "execution_count": 36,
   "id": "0e4cf2cd-e697-471e-875e-9d90bea015bc",
   "metadata": {},
   "outputs": [],
   "source": [
    "# Custom Exception Handling"
   ]
  },
  {
   "cell_type": "code",
   "execution_count": 41,
   "id": "a0c37406-c49e-4fa7-beb2-f14108cd19be",
   "metadata": {},
   "outputs": [
    {
     "name": "stdin",
     "output_type": "stream",
     "text": [
      "Enter The Age -54\n"
     ]
    }
   ],
   "source": [
    "age = int(input('Enter The Age'))"
   ]
  },
  {
   "cell_type": "code",
   "execution_count": 73,
   "id": "ecd2f988-e73f-4e8e-8f50-b3659172f779",
   "metadata": {},
   "outputs": [],
   "source": [
    "class validate(Exception):\n",
    "    def __init__(self,msg):\n",
    "        self.msg = msg"
   ]
  },
  {
   "cell_type": "code",
   "execution_count": 76,
   "id": "6376a047-3692-4bd0-a50f-4f24b1bfcd7c",
   "metadata": {
    "tags": []
   },
   "outputs": [],
   "source": [
    "def validateage(age):\n",
    "    if age < 0:\n",
    "        raise validate('age in not validate',age)\n",
    "    elif age > 200:\n",
    "        raise validate('age is very high')\n",
    "    else:    \n",
    "        print('age is valid')"
   ]
  },
  {
   "cell_type": "code",
   "execution_count": 77,
   "id": "af71ce29-700e-4d1f-bbe9-3f85deb71be6",
   "metadata": {},
   "outputs": [
    {
     "name": "stdin",
     "output_type": "stream",
     "text": [
      "Enter The Age 666\n"
     ]
    },
    {
     "name": "stdout",
     "output_type": "stream",
     "text": [
      "age is very high\n"
     ]
    }
   ],
   "source": [
    "try:\n",
    "    age = int(input('Enter The Age'))\n",
    "    validateage(age)\n",
    "except validate as e:\n",
    "    print(e)"
   ]
  },
  {
   "cell_type": "code",
   "execution_count": null,
   "id": "662a0079-3592-4fa4-8729-66c6b0b70826",
   "metadata": {},
   "outputs": [],
   "source": []
  }
 ],
 "metadata": {
  "kernelspec": {
   "display_name": "Python 3 (ipykernel)",
   "language": "python",
   "name": "python3"
  },
  "language_info": {
   "codemirror_mode": {
    "name": "ipython",
    "version": 3
   },
   "file_extension": ".py",
   "mimetype": "text/x-python",
   "name": "python",
   "nbconvert_exporter": "python",
   "pygments_lexer": "ipython3",
   "version": "3.10.8"
  }
 },
 "nbformat": 4,
 "nbformat_minor": 5
}

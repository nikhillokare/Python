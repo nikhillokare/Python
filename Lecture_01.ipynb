{
 "cells": [
  {
   "cell_type": "code",
   "execution_count": 1,
   "id": "4bd219e7-327d-40f8-b895-f2079d5c2037",
   "metadata": {},
   "outputs": [],
   "source": [
    "x = 10"
   ]
  },
  {
   "cell_type": "code",
   "execution_count": 2,
   "id": "a6a7ae59-93b6-44e4-bb48-561189d3fa45",
   "metadata": {},
   "outputs": [
    {
     "name": "stdout",
     "output_type": "stream",
     "text": [
      "10\n"
     ]
    }
   ],
   "source": [
    "print(x)"
   ]
  },
  {
   "cell_type": "code",
   "execution_count": 3,
   "id": "84a65600-c8c2-4f66-8b7a-bcf4355f9217",
   "metadata": {},
   "outputs": [
    {
     "data": {
      "text/plain": [
       "int"
      ]
     },
     "execution_count": 3,
     "metadata": {},
     "output_type": "execute_result"
    }
   ],
   "source": [
    "type(x)"
   ]
  },
  {
   "cell_type": "code",
   "execution_count": 4,
   "id": "89204171-d190-4551-b7e7-c92919c7c4b3",
   "metadata": {},
   "outputs": [],
   "source": [
    "v = 5 + 9J"
   ]
  },
  {
   "cell_type": "code",
   "execution_count": 5,
   "id": "069ddc78-1c50-44ce-aae9-2ab9eab1a870",
   "metadata": {},
   "outputs": [
    {
     "data": {
      "text/plain": [
       "complex"
      ]
     },
     "execution_count": 5,
     "metadata": {},
     "output_type": "execute_result"
    }
   ],
   "source": [
    "type(v)"
   ]
  },
  {
   "cell_type": "code",
   "execution_count": 6,
   "id": "bb2e03dc-ddf9-4efe-9de9-31764381e655",
   "metadata": {},
   "outputs": [
    {
     "data": {
      "text/plain": [
       "5.0"
      ]
     },
     "execution_count": 6,
     "metadata": {},
     "output_type": "execute_result"
    }
   ],
   "source": [
    "v.real"
   ]
  },
  {
   "cell_type": "code",
   "execution_count": 8,
   "id": "ad405a0b-787c-4f6a-9cff-2255e37d7277",
   "metadata": {},
   "outputs": [
    {
     "data": {
      "text/plain": [
       "9.0"
      ]
     },
     "execution_count": 8,
     "metadata": {},
     "output_type": "execute_result"
    }
   ],
   "source": [
    "v.imag"
   ]
  },
  {
   "cell_type": "code",
   "execution_count": 9,
   "id": "e659f38a-01e0-4f74-a86d-688e10699bc2",
   "metadata": {},
   "outputs": [
    {
     "data": {
      "text/plain": [
       "(5+9j)"
      ]
     },
     "execution_count": 9,
     "metadata": {},
     "output_type": "execute_result"
    }
   ],
   "source": [
    "v"
   ]
  },
  {
   "cell_type": "code",
   "execution_count": 11,
   "id": "a57cdeec-0ee1-4ab0-afb7-52cc83f3b822",
   "metadata": {},
   "outputs": [
    {
     "name": "stdout",
     "output_type": "stream",
     "text": [
      "Nikhil\n"
     ]
    }
   ],
   "source": [
    "print(\"Nikhil\")"
   ]
  },
  {
   "cell_type": "code",
   "execution_count": 12,
   "id": "043c6517-0b30-43e8-bccd-211a2d7450a3",
   "metadata": {},
   "outputs": [
    {
     "name": "stdout",
     "output_type": "stream",
     "text": [
      "(5+9j)\n"
     ]
    }
   ],
   "source": [
    "print(v)"
   ]
  },
  {
   "cell_type": "code",
   "execution_count": 13,
   "id": "3c9ed5d1-0fa8-4ec4-8958-a0d935c5f437",
   "metadata": {},
   "outputs": [
    {
     "name": "stdout",
     "output_type": "stream",
     "text": [
      "10\n"
     ]
    }
   ],
   "source": [
    "print(x)"
   ]
  },
  {
   "cell_type": "code",
   "execution_count": 14,
   "id": "2e3d6741-f633-44a6-8175-10001d01877a",
   "metadata": {},
   "outputs": [],
   "source": [
    "s = \"Nikhil\""
   ]
  },
  {
   "cell_type": "code",
   "execution_count": 15,
   "id": "63745386-d4c9-4ac5-9d89-d7a52f4cdc15",
   "metadata": {},
   "outputs": [
    {
     "data": {
      "text/plain": [
       "str"
      ]
     },
     "execution_count": 15,
     "metadata": {},
     "output_type": "execute_result"
    }
   ],
   "source": [
    "type(s)"
   ]
  },
  {
   "cell_type": "code",
   "execution_count": 17,
   "id": "4e5475d2-f081-4128-8766-a0de302dc8ea",
   "metadata": {},
   "outputs": [
    {
     "name": "stdout",
     "output_type": "stream",
     "text": [
      "N\n"
     ]
    }
   ],
   "source": [
    "print(s[0])"
   ]
  },
  {
   "cell_type": "code",
   "execution_count": 19,
   "id": "72f4db93-b3e6-4280-9f9f-1f8d80a01653",
   "metadata": {},
   "outputs": [
    {
     "name": "stdout",
     "output_type": "stream",
     "text": [
      "l\n"
     ]
    }
   ],
   "source": [
    "print(s[5])"
   ]
  },
  {
   "cell_type": "code",
   "execution_count": 20,
   "id": "4e7441d1-2865-4d2c-be6d-7801e098766f",
   "metadata": {},
   "outputs": [
    {
     "name": "stdout",
     "output_type": "stream",
     "text": [
      "k\n"
     ]
    }
   ],
   "source": [
    "print(s[-4])"
   ]
  },
  {
   "cell_type": "code",
   "execution_count": 22,
   "id": "adddd647-08bf-4e9b-bae1-e9f395cf54cf",
   "metadata": {},
   "outputs": [
    {
     "name": "stdout",
     "output_type": "stream",
     "text": [
      "Nik\n"
     ]
    }
   ],
   "source": [
    "print(s[0:3])"
   ]
  },
  {
   "cell_type": "code",
   "execution_count": 23,
   "id": "25d5b32a-6caf-450e-b5f4-5ba39d7baaa5",
   "metadata": {},
   "outputs": [
    {
     "data": {
      "text/plain": [
       "'N'"
      ]
     },
     "execution_count": 23,
     "metadata": {},
     "output_type": "execute_result"
    }
   ],
   "source": [
    "s[0:3:5]"
   ]
  },
  {
   "cell_type": "code",
   "execution_count": 24,
   "id": "679f6234-9251-41b0-a02a-19afeeea1f28",
   "metadata": {},
   "outputs": [
    {
     "data": {
      "text/plain": [
       "'N'"
      ]
     },
     "execution_count": 24,
     "metadata": {},
     "output_type": "execute_result"
    }
   ],
   "source": [
    "s[0:1:3]"
   ]
  },
  {
   "cell_type": "code",
   "execution_count": 25,
   "id": "f4633e8c-9ecd-4c14-a567-f173c52303f2",
   "metadata": {},
   "outputs": [
    {
     "data": {
      "text/plain": [
       "'Nki'"
      ]
     },
     "execution_count": 25,
     "metadata": {},
     "output_type": "execute_result"
    }
   ],
   "source": [
    "s[::2]"
   ]
  },
  {
   "cell_type": "code",
   "execution_count": 27,
   "id": "4ce11be5-1e9a-4965-b2c3-5671a3185afb",
   "metadata": {},
   "outputs": [
    {
     "data": {
      "text/plain": [
       "'ki'"
      ]
     },
     "execution_count": 27,
     "metadata": {},
     "output_type": "execute_result"
    }
   ],
   "source": [
    "s[2::2]"
   ]
  },
  {
   "cell_type": "code",
   "execution_count": null,
   "id": "02cc8c8c-1784-4e46-8b9b-d1bd80a7b66b",
   "metadata": {},
   "outputs": [],
   "source": []
  },
  {
   "cell_type": "code",
   "execution_count": 28,
   "id": "313686c6-9440-4498-8e1d-1997cd06f1b6",
   "metadata": {},
   "outputs": [
    {
     "data": {
      "text/plain": [
       "'N'"
      ]
     },
     "execution_count": 28,
     "metadata": {},
     "output_type": "execute_result"
    }
   ],
   "source": [
    "s[0:1:1]"
   ]
  },
  {
   "cell_type": "code",
   "execution_count": 29,
   "id": "77b0bee6-033f-4fcc-b775-4ef0840ddbda",
   "metadata": {},
   "outputs": [
    {
     "data": {
      "text/plain": [
       "'khil'"
      ]
     },
     "execution_count": 29,
     "metadata": {},
     "output_type": "execute_result"
    }
   ],
   "source": [
    "s[2:7:+1]"
   ]
  },
  {
   "cell_type": "code",
   "execution_count": 35,
   "id": "8892fe6f-7f65-485c-8914-601cc9e299dc",
   "metadata": {},
   "outputs": [
    {
     "data": {
      "text/plain": [
       "'Nikhil'"
      ]
     },
     "execution_count": 35,
     "metadata": {},
     "output_type": "execute_result"
    }
   ],
   "source": [
    "s[::1]"
   ]
  },
  {
   "cell_type": "code",
   "execution_count": 37,
   "id": "e98cc93b-bf53-4b03-b85f-38e3f7bc5019",
   "metadata": {},
   "outputs": [
    {
     "data": {
      "text/plain": [
       "'N'"
      ]
     },
     "execution_count": 37,
     "metadata": {},
     "output_type": "execute_result"
    }
   ],
   "source": [
    "s[0]"
   ]
  },
  {
   "cell_type": "code",
   "execution_count": 38,
   "id": "597ab73b-65aa-44c0-b4c5-d0768f3bbdc0",
   "metadata": {},
   "outputs": [],
   "source": [
    "s1 = \"this is my string class\""
   ]
  },
  {
   "cell_type": "code",
   "execution_count": 41,
   "id": "f67bd5f2-b03c-499e-a608-5c1a4019479c",
   "metadata": {},
   "outputs": [
    {
     "data": {
      "text/plain": [
       "23"
      ]
     },
     "execution_count": 41,
     "metadata": {},
     "output_type": "execute_result"
    }
   ],
   "source": [
    "len(s1)"
   ]
  },
  {
   "cell_type": "code",
   "execution_count": 45,
   "id": "d90a0a33-e70c-45c0-a96c-8c4994b1dc0f",
   "metadata": {},
   "outputs": [
    {
     "data": {
      "text/plain": [
       "3"
      ]
     },
     "execution_count": 45,
     "metadata": {},
     "output_type": "execute_result"
    }
   ],
   "source": [
    "s1.find(\"s\")"
   ]
  },
  {
   "cell_type": "code",
   "execution_count": 47,
   "id": "b30a85be-001e-4c51-9bd2-f5c2fdd092b3",
   "metadata": {},
   "outputs": [
    {
     "data": {
      "text/plain": [
       "2"
      ]
     },
     "execution_count": 47,
     "metadata": {},
     "output_type": "execute_result"
    }
   ],
   "source": [
    "s1.find(\"i\")"
   ]
  },
  {
   "cell_type": "code",
   "execution_count": 51,
   "id": "6c03e5ad-10a2-4745-a50b-69eacbf21193",
   "metadata": {},
   "outputs": [
    {
     "data": {
      "text/plain": [
       "2"
      ]
     },
     "execution_count": 51,
     "metadata": {},
     "output_type": "execute_result"
    }
   ],
   "source": [
    "s1.find(\"is\")"
   ]
  },
  {
   "cell_type": "code",
   "execution_count": 52,
   "id": "6e71c7c2-599a-4ffc-b5ec-16219c6185f1",
   "metadata": {},
   "outputs": [
    {
     "data": {
      "text/plain": [
       "-1"
      ]
     },
     "execution_count": 52,
     "metadata": {},
     "output_type": "execute_result"
    }
   ],
   "source": [
    "s1.find(\"iS\")"
   ]
  },
  {
   "cell_type": "code",
   "execution_count": 55,
   "id": "9209c4e4-452d-4391-b975-21d08daf2a05",
   "metadata": {},
   "outputs": [
    {
     "data": {
      "text/plain": [
       "5"
      ]
     },
     "execution_count": 55,
     "metadata": {},
     "output_type": "execute_result"
    }
   ],
   "source": [
    "s1.count(\"s\")"
   ]
  },
  {
   "cell_type": "code",
   "execution_count": 56,
   "id": "871fcd85-7cea-4d27-a4f9-3dccc403ed9d",
   "metadata": {},
   "outputs": [
    {
     "data": {
      "text/plain": [
       "2"
      ]
     },
     "execution_count": 56,
     "metadata": {},
     "output_type": "execute_result"
    }
   ],
   "source": [
    "s1.count(\"t\")"
   ]
  },
  {
   "cell_type": "code",
   "execution_count": 57,
   "id": "0cb7efeb-1a5e-443c-913f-fdb84f045a85",
   "metadata": {},
   "outputs": [
    {
     "data": {
      "text/plain": [
       "0"
      ]
     },
     "execution_count": 57,
     "metadata": {},
     "output_type": "execute_result"
    }
   ],
   "source": [
    "s1.count(\"z\")"
   ]
  },
  {
   "cell_type": "code",
   "execution_count": 58,
   "id": "118c86bd-e645-4c69-9e66-24853cbde1e6",
   "metadata": {},
   "outputs": [
    {
     "data": {
      "text/plain": [
       "'THIS IS MY STRING CLASS'"
      ]
     },
     "execution_count": 58,
     "metadata": {},
     "output_type": "execute_result"
    }
   ],
   "source": [
    "s1.upper()"
   ]
  },
  {
   "cell_type": "code",
   "execution_count": 59,
   "id": "11f15196-1d9b-4359-b143-79aeec69b455",
   "metadata": {},
   "outputs": [
    {
     "data": {
      "text/plain": [
       "'this is my string class'"
      ]
     },
     "execution_count": 59,
     "metadata": {},
     "output_type": "execute_result"
    }
   ],
   "source": [
    "s1.lower()"
   ]
  },
  {
   "cell_type": "code",
   "execution_count": 60,
   "id": "be78367c-1098-4613-9988-d900eec3227d",
   "metadata": {},
   "outputs": [
    {
     "data": {
      "text/plain": [
       "'This Is My String Class'"
      ]
     },
     "execution_count": 60,
     "metadata": {},
     "output_type": "execute_result"
    }
   ],
   "source": [
    "s1.title()"
   ]
  },
  {
   "cell_type": "code",
   "execution_count": 61,
   "id": "0fcaaee9-c2f5-4554-b536-78a9fd7b0fb2",
   "metadata": {},
   "outputs": [
    {
     "data": {
      "text/plain": [
       "'This is my string class'"
      ]
     },
     "execution_count": 61,
     "metadata": {},
     "output_type": "execute_result"
    }
   ],
   "source": [
    "s1.capitalize()"
   ]
  },
  {
   "cell_type": "code",
   "execution_count": 66,
   "id": "ac952bc7-24fa-4f8f-8de3-c9543c44b994",
   "metadata": {},
   "outputs": [
    {
     "data": {
      "text/plain": [
       "'Nikhil this is my string class'"
      ]
     },
     "execution_count": 66,
     "metadata": {},
     "output_type": "execute_result"
    }
   ],
   "source": [
    "s +\" \"+  s1"
   ]
  },
  {
   "cell_type": "code",
   "execution_count": 67,
   "id": "a3554f40-9b2a-474e-8ea4-947b30165e1b",
   "metadata": {},
   "outputs": [
    {
     "data": {
      "text/plain": [
       "'Nikhil1'"
      ]
     },
     "execution_count": 67,
     "metadata": {},
     "output_type": "execute_result"
    }
   ],
   "source": [
    "s + str(1)"
   ]
  },
  {
   "cell_type": "code",
   "execution_count": 68,
   "id": "cb58d65a-ec71-4ffc-a1e8-ef74b21377da",
   "metadata": {},
   "outputs": [
    {
     "data": {
      "text/plain": [
       "'this is my string class1'"
      ]
     },
     "execution_count": 68,
     "metadata": {},
     "output_type": "execute_result"
    }
   ],
   "source": [
    "s1 + str(1)"
   ]
  },
  {
   "cell_type": "code",
   "execution_count": 71,
   "id": "90dca82c-00f5-430c-80be-8704df0f597f",
   "metadata": {},
   "outputs": [
    {
     "data": {
      "text/plain": [
       "'this is my string class1'"
      ]
     },
     "execution_count": 71,
     "metadata": {},
     "output_type": "execute_result"
    }
   ],
   "source": [
    "s1 + str(1)"
   ]
  },
  {
   "cell_type": "code",
   "execution_count": 75,
   "id": "6f50980d-28f7-443e-bf69-cdf194ca79c9",
   "metadata": {},
   "outputs": [
    {
     "data": {
      "text/plain": [
       "'Nikhil Nikhil Nikhil '"
      ]
     },
     "execution_count": 75,
     "metadata": {},
     "output_type": "execute_result"
    }
   ],
   "source": [
    "\"Nikhil \" * 3"
   ]
  },
  {
   "cell_type": "code",
   "execution_count": 79,
   "id": "e58152a9-5de8-4055-8948-8a4cde766dba",
   "metadata": {},
   "outputs": [
    {
     "data": {
      "text/plain": [
       "'Nikhi\"land aniket'"
      ]
     },
     "execution_count": 79,
     "metadata": {},
     "output_type": "execute_result"
    }
   ],
   "source": [
    "'Nikhi\"land aniket'"
   ]
  },
  {
   "cell_type": "code",
   "execution_count": 83,
   "id": "074f0cd5-f6bc-4d8d-b9ad-4f24b667f604",
   "metadata": {},
   "outputs": [],
   "source": [
    "# nvdjvnrfweifjmdcdncdsvnsnnew\n",
    "# cmkdvnkwwkemcwekncncweccdsvdsnifqwofnc\n",
    "# ckwencvowenvwene;ceopqwojwineufbfwe cmcnasknc\n",
    "# c mnwjcnwoefownfewijpew"
   ]
  },
  {
   "cell_type": "code",
   "execution_count": 1,
   "id": "2b13292a-f108-4515-ae1e-943f40d1ccb2",
   "metadata": {},
   "outputs": [],
   "source": [
    "n = \"pwskills\""
   ]
  },
  {
   "cell_type": "code",
   "execution_count": 2,
   "id": "a593b923-ee88-4de5-afb4-58f08b02fd62",
   "metadata": {},
   "outputs": [
    {
     "data": {
      "text/plain": [
       "'p'"
      ]
     },
     "execution_count": 2,
     "metadata": {},
     "output_type": "execute_result"
    }
   ],
   "source": [
    "n[-8]"
   ]
  },
  {
   "cell_type": "code",
   "execution_count": 5,
   "id": "fd1b84d3-1c40-4289-94f5-8189ce440edc",
   "metadata": {},
   "outputs": [
    {
     "data": {
      "text/plain": [
       "'pws'"
      ]
     },
     "execution_count": 5,
     "metadata": {},
     "output_type": "execute_result"
    }
   ],
   "source": [
    "n[0:3]"
   ]
  },
  {
   "cell_type": "code",
   "execution_count": 6,
   "id": "9ed1cc45-0187-4e1c-88e6-fe115abfad03",
   "metadata": {},
   "outputs": [
    {
     "data": {
      "text/plain": [
       "'skil'"
      ]
     },
     "execution_count": 6,
     "metadata": {},
     "output_type": "execute_result"
    }
   ],
   "source": [
    "n[2:6]"
   ]
  },
  {
   "cell_type": "code",
   "execution_count": 7,
   "id": "b6e624cc-376e-438a-89b6-03cee6af605d",
   "metadata": {},
   "outputs": [
    {
     "data": {
      "text/plain": [
       "'kill'"
      ]
     },
     "execution_count": 7,
     "metadata": {},
     "output_type": "execute_result"
    }
   ],
   "source": [
    "n[3:7]"
   ]
  },
  {
   "cell_type": "code",
   "execution_count": 16,
   "id": "ee5ea925-fb2a-41a6-b675-2884f5b3e2fc",
   "metadata": {},
   "outputs": [
    {
     "data": {
      "text/plain": [
       "'pwskills'"
      ]
     },
     "execution_count": 16,
     "metadata": {},
     "output_type": "execute_result"
    }
   ],
   "source": [
    "n[0:8:1]"
   ]
  },
  {
   "cell_type": "code",
   "execution_count": 17,
   "id": "ed5cb7c6-6899-45f8-a9b4-05361ce147a4",
   "metadata": {},
   "outputs": [
    {
     "data": {
      "text/plain": [
       "'psil'"
      ]
     },
     "execution_count": 17,
     "metadata": {},
     "output_type": "execute_result"
    }
   ],
   "source": [
    "n[::2]"
   ]
  },
  {
   "cell_type": "code",
   "execution_count": 18,
   "id": "6b5f26be-857b-4d27-aa6c-3ec7e7403ad5",
   "metadata": {},
   "outputs": [
    {
     "data": {
      "text/plain": [
       "'psil'"
      ]
     },
     "execution_count": 18,
     "metadata": {},
     "output_type": "execute_result"
    }
   ],
   "source": [
    "n[0::2]"
   ]
  },
  {
   "cell_type": "code",
   "execution_count": 19,
   "id": "1b1e1be2-d129-4dec-be49-c44d1882a0e8",
   "metadata": {},
   "outputs": [
    {
     "data": {
      "text/plain": [
       "'psil'"
      ]
     },
     "execution_count": 19,
     "metadata": {},
     "output_type": "execute_result"
    }
   ],
   "source": [
    "n[0:8:2]"
   ]
  },
  {
   "cell_type": "code",
   "execution_count": 26,
   "id": "334fcf65-27c0-45f7-8a23-ccc048f83d51",
   "metadata": {},
   "outputs": [
    {
     "data": {
      "text/plain": [
       "'skills'"
      ]
     },
     "execution_count": 26,
     "metadata": {},
     "output_type": "execute_result"
    }
   ],
   "source": [
    "n[2::1]"
   ]
  },
  {
   "cell_type": "code",
   "execution_count": 30,
   "id": "709d9670-90e0-46c9-b23c-6671e578953e",
   "metadata": {},
   "outputs": [
    {
     "data": {
      "text/plain": [
       "'sllikswp'"
      ]
     },
     "execution_count": 30,
     "metadata": {},
     "output_type": "execute_result"
    }
   ],
   "source": [
    "n[::-1]"
   ]
  },
  {
   "cell_type": "code",
   "execution_count": 31,
   "id": "d2d02b46-1c4e-4bb5-b808-80f6a9551eeb",
   "metadata": {},
   "outputs": [
    {
     "data": {
      "text/plain": [
       "''"
      ]
     },
     "execution_count": 31,
     "metadata": {},
     "output_type": "execute_result"
    }
   ],
   "source": [
    "n[2:7:-1]"
   ]
  },
  {
   "cell_type": "code",
   "execution_count": 45,
   "id": "4ad6b3a7-55b7-465b-a9aa-87de0573702f",
   "metadata": {},
   "outputs": [
    {
     "data": {
      "text/plain": [
       "'slliksw'"
      ]
     },
     "execution_count": 45,
     "metadata": {},
     "output_type": "execute_result"
    }
   ],
   "source": [
    "n[8:0:-1]"
   ]
  },
  {
   "cell_type": "code",
   "execution_count": 50,
   "id": "cc33361a-cb64-488f-9734-1661ebc2af6a",
   "metadata": {},
   "outputs": [
    {
     "data": {
      "text/plain": [
       "''"
      ]
     },
     "execution_count": 50,
     "metadata": {},
     "output_type": "execute_result"
    }
   ],
   "source": [
    "n[-2:1]"
   ]
  },
  {
   "cell_type": "code",
   "execution_count": null,
   "id": "db457334-7a37-42b3-bb13-9e12175a676f",
   "metadata": {},
   "outputs": [],
   "source": []
  }
 ],
 "metadata": {
  "kernelspec": {
   "display_name": "Python 3 (ipykernel)",
   "language": "python",
   "name": "python3"
  },
  "language_info": {
   "codemirror_mode": {
    "name": "ipython",
    "version": 3
   },
   "file_extension": ".py",
   "mimetype": "text/x-python",
   "name": "python",
   "nbconvert_exporter": "python",
   "pygments_lexer": "ipython3",
   "version": "3.10.8"
  }
 },
 "nbformat": 4,
 "nbformat_minor": 5
}

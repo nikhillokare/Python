{
 "cells": [
  {
   "cell_type": "code",
   "execution_count": 1,
   "id": "c5ab3718-fd32-4f7a-a7b4-d33f16229c4d",
   "metadata": {},
   "outputs": [
    {
     "data": {
      "text/plain": [
       "range(0, 10)"
      ]
     },
     "execution_count": 1,
     "metadata": {},
     "output_type": "execute_result"
    }
   ],
   "source": [
    "range(10)"
   ]
  },
  {
   "cell_type": "code",
   "execution_count": 3,
   "id": "c6fb5a96-cd08-443d-b57c-028ea7b45d14",
   "metadata": {},
   "outputs": [
    {
     "name": "stdout",
     "output_type": "stream",
     "text": [
      "0\n",
      "1\n",
      "2\n",
      "3\n",
      "4\n",
      "5\n",
      "6\n",
      "7\n",
      "8\n",
      "9\n"
     ]
    }
   ],
   "source": [
    "for i in range(10):\n",
    "    print(i)"
   ]
  },
  {
   "cell_type": "code",
   "execution_count": 7,
   "id": "1a8946ce-cdb5-410e-b994-5eb386c8b0d3",
   "metadata": {},
   "outputs": [],
   "source": [
    "def test_fib(n):\n",
    "    a,b = 0,1\n",
    "    for i in range(n):\n",
    "        yield a\n",
    "        a,b = b, a + b"
   ]
  },
  {
   "cell_type": "code",
   "execution_count": 8,
   "id": "48f92321-f98c-4ff0-bb20-5b5168a9e652",
   "metadata": {},
   "outputs": [
    {
     "data": {
      "text/plain": [
       "<generator object test_fib at 0x7f8d8c3c2a40>"
      ]
     },
     "execution_count": 8,
     "metadata": {},
     "output_type": "execute_result"
    }
   ],
   "source": [
    "test_fib(10)"
   ]
  },
  {
   "cell_type": "code",
   "execution_count": 9,
   "id": "63ba94b8-4e62-461f-a2ce-ed60279864cd",
   "metadata": {},
   "outputs": [
    {
     "name": "stdout",
     "output_type": "stream",
     "text": [
      "0\n",
      "1\n",
      "1\n",
      "2\n",
      "3\n",
      "5\n",
      "8\n",
      "13\n",
      "21\n",
      "34\n"
     ]
    }
   ],
   "source": [
    "for i in test_fib(10):\n",
    "    print(i)"
   ]
  },
  {
   "cell_type": "code",
   "execution_count": 8,
   "id": "9b75467e-1c77-4415-8e55-a8d0ae21386f",
   "metadata": {},
   "outputs": [],
   "source": [
    "def test_fib1():\n",
    "    a,b = 0,1\n",
    "    while True:\n",
    "        yield a\n",
    "        a,b = b, a+b"
   ]
  },
  {
   "cell_type": "code",
   "execution_count": 9,
   "id": "5a977453-9a8a-4c75-ac5f-d46c987393f4",
   "metadata": {},
   "outputs": [],
   "source": [
    "fib = test_fib1()"
   ]
  },
  {
   "cell_type": "code",
   "execution_count": 10,
   "id": "3b686dd9-e16b-4bbd-ba73-b2d5d6eefdab",
   "metadata": {},
   "outputs": [
    {
     "name": "stdout",
     "output_type": "stream",
     "text": [
      "0\n",
      "1\n",
      "1\n",
      "2\n",
      "3\n",
      "5\n",
      "8\n",
      "13\n",
      "21\n",
      "34\n"
     ]
    }
   ],
   "source": [
    "for i in range(10):\n",
    "    print(next(fib))"
   ]
  },
  {
   "cell_type": "code",
   "execution_count": 11,
   "id": "b20196a2-4050-46c1-8036-8073c4caa5f3",
   "metadata": {},
   "outputs": [],
   "source": [
    "n = 'nikhil'"
   ]
  },
  {
   "cell_type": "code",
   "execution_count": 14,
   "id": "332c4c90-2279-4d05-9a35-17f8f83ccc9c",
   "metadata": {},
   "outputs": [
    {
     "name": "stdout",
     "output_type": "stream",
     "text": [
      "n\n",
      "i\n",
      "k\n",
      "h\n",
      "i\n",
      "l\n"
     ]
    }
   ],
   "source": [
    "for i in n:\n",
    "    print(i)"
   ]
  },
  {
   "cell_type": "code",
   "execution_count": 21,
   "id": "09b8579d-5863-4e97-8431-bd4608284118",
   "metadata": {},
   "outputs": [],
   "source": [
    "n1 = iter(n)"
   ]
  },
  {
   "cell_type": "code",
   "execution_count": 22,
   "id": "c496c0db-d806-4bb9-b4ea-5c76c2078bb8",
   "metadata": {},
   "outputs": [
    {
     "data": {
      "text/plain": [
       "'n'"
      ]
     },
     "execution_count": 22,
     "metadata": {},
     "output_type": "execute_result"
    }
   ],
   "source": [
    "next(n1)"
   ]
  },
  {
   "cell_type": "code",
   "execution_count": 23,
   "id": "8edd194d-dbbc-4ce6-99d5-14b751db3d99",
   "metadata": {},
   "outputs": [
    {
     "data": {
      "text/plain": [
       "'i'"
      ]
     },
     "execution_count": 23,
     "metadata": {},
     "output_type": "execute_result"
    }
   ],
   "source": [
    "next(n1)"
   ]
  },
  {
   "cell_type": "code",
   "execution_count": 24,
   "id": "8e84f388-ce1d-4105-9716-d38cf0f9aaad",
   "metadata": {},
   "outputs": [
    {
     "data": {
      "text/plain": [
       "'k'"
      ]
     },
     "execution_count": 24,
     "metadata": {},
     "output_type": "execute_result"
    }
   ],
   "source": [
    "next(n1)"
   ]
  },
  {
   "cell_type": "code",
   "execution_count": 25,
   "id": "c1dec97a-85e1-4658-be90-e8aae8af5bdf",
   "metadata": {},
   "outputs": [
    {
     "data": {
      "text/plain": [
       "'h'"
      ]
     },
     "execution_count": 25,
     "metadata": {},
     "output_type": "execute_result"
    }
   ],
   "source": [
    "next(n1)"
   ]
  },
  {
   "cell_type": "code",
   "execution_count": 26,
   "id": "9ba2339b-1bd1-4fe0-a175-501049487fed",
   "metadata": {},
   "outputs": [
    {
     "data": {
      "text/plain": [
       "'i'"
      ]
     },
     "execution_count": 26,
     "metadata": {},
     "output_type": "execute_result"
    }
   ],
   "source": [
    "next(n1)"
   ]
  },
  {
   "cell_type": "code",
   "execution_count": 27,
   "id": "501d38a0-35df-43b2-81f8-9604ecb9098e",
   "metadata": {},
   "outputs": [
    {
     "data": {
      "text/plain": [
       "'l'"
      ]
     },
     "execution_count": 27,
     "metadata": {},
     "output_type": "execute_result"
    }
   ],
   "source": [
    "next(n1)"
   ]
  },
  {
   "cell_type": "code",
   "execution_count": 36,
   "id": "8abd5ca0-b9ef-4fd5-b16b-6e3fd90a569c",
   "metadata": {},
   "outputs": [],
   "source": [
    "# lambda function"
   ]
  },
  {
   "cell_type": "code",
   "execution_count": 37,
   "id": "84e3a71d-93d9-4d34-99d8-258b27fcc1d0",
   "metadata": {},
   "outputs": [],
   "source": [
    "n = 3\n",
    "p = 2"
   ]
  },
  {
   "cell_type": "code",
   "execution_count": 38,
   "id": "3bf9b320-437d-4954-8b14-283ddc4b5e93",
   "metadata": {},
   "outputs": [],
   "source": [
    "def test(n,p):\n",
    "    return n**p"
   ]
  },
  {
   "cell_type": "code",
   "execution_count": 39,
   "id": "88940341-c4f1-45a0-bbb9-c17cbdfbed6c",
   "metadata": {},
   "outputs": [
    {
     "data": {
      "text/plain": [
       "8"
      ]
     },
     "execution_count": 39,
     "metadata": {},
     "output_type": "execute_result"
    }
   ],
   "source": [
    "test(2,3)"
   ]
  },
  {
   "cell_type": "code",
   "execution_count": 42,
   "id": "808225dc-c2e1-4a65-b6a2-074983048dc6",
   "metadata": {},
   "outputs": [
    {
     "data": {
      "text/plain": [
       "<function __main__.<lambda>(n, p)>"
      ]
     },
     "execution_count": 42,
     "metadata": {},
     "output_type": "execute_result"
    }
   ],
   "source": [
    "lambda n,p : n**p"
   ]
  },
  {
   "cell_type": "code",
   "execution_count": 43,
   "id": "441df033-e880-45a3-b534-f8dcab9662d3",
   "metadata": {},
   "outputs": [],
   "source": [
    "add = lambda x,y: x + y"
   ]
  },
  {
   "cell_type": "code",
   "execution_count": 44,
   "id": "ef43bdfc-a34e-4600-8c79-fb93be6bd847",
   "metadata": {},
   "outputs": [
    {
     "data": {
      "text/plain": [
       "7"
      ]
     },
     "execution_count": 44,
     "metadata": {},
     "output_type": "execute_result"
    }
   ],
   "source": [
    "add(3,4)"
   ]
  },
  {
   "cell_type": "code",
   "execution_count": 49,
   "id": "a20a9536-c8c1-4356-a8ca-46de3a5d7be5",
   "metadata": {},
   "outputs": [],
   "source": [
    "sub = lambda x,y:x-y"
   ]
  },
  {
   "cell_type": "code",
   "execution_count": 46,
   "id": "9181f9f7-09d6-4665-b790-6a2fab92ae87",
   "metadata": {},
   "outputs": [
    {
     "data": {
      "text/plain": [
       "3"
      ]
     },
     "execution_count": 46,
     "metadata": {},
     "output_type": "execute_result"
    }
   ],
   "source": [
    "multi(5,2)"
   ]
  },
  {
   "cell_type": "code",
   "execution_count": 50,
   "id": "065153d3-7f15-4169-864c-cf32c8759657",
   "metadata": {},
   "outputs": [],
   "source": [
    "multi = lambda x,y:x*y"
   ]
  },
  {
   "cell_type": "code",
   "execution_count": 51,
   "id": "61de1493-b832-4358-92f4-34c7acb8fe9e",
   "metadata": {},
   "outputs": [
    {
     "data": {
      "text/plain": [
       "24"
      ]
     },
     "execution_count": 51,
     "metadata": {},
     "output_type": "execute_result"
    }
   ],
   "source": [
    "multi(4,6)"
   ]
  },
  {
   "cell_type": "code",
   "execution_count": 59,
   "id": "f2b7161d-bdd4-4f48-b49a-2deabdb97a4d",
   "metadata": {},
   "outputs": [],
   "source": [
    "s = 'nikhil'"
   ]
  },
  {
   "cell_type": "code",
   "execution_count": 60,
   "id": "65aad2f4-14b0-4060-ac79-9e49e026a0b0",
   "metadata": {},
   "outputs": [],
   "source": [
    "f1 = lambda s : len(s)"
   ]
  },
  {
   "cell_type": "code",
   "execution_count": 61,
   "id": "d2cb13e0-eadd-4475-8533-b49588d74ac7",
   "metadata": {},
   "outputs": [
    {
     "data": {
      "text/plain": [
       "6"
      ]
     },
     "execution_count": 61,
     "metadata": {},
     "output_type": "execute_result"
    }
   ],
   "source": [
    "f1(s)"
   ]
  },
  {
   "cell_type": "code",
   "execution_count": 2,
   "id": "9fc60641-93d8-4608-9399-859b8def0f14",
   "metadata": {},
   "outputs": [],
   "source": [
    "# Map,Reduce,Filter functions"
   ]
  },
  {
   "cell_type": "code",
   "execution_count": 12,
   "id": "f8e11db1-09ce-4e0d-9c24-45c01c871d35",
   "metadata": {},
   "outputs": [],
   "source": [
    "l = [1,2,3,4,5,6]"
   ]
  },
  {
   "cell_type": "code",
   "execution_count": 15,
   "id": "06610f71-fb13-400d-87b1-18bbc3a2f38a",
   "metadata": {},
   "outputs": [],
   "source": [
    "def test(l):\n",
    "    l1 = []\n",
    "    for i in l:\n",
    "        l1.append(i**2)\n",
    "    return l1"
   ]
  },
  {
   "cell_type": "code",
   "execution_count": 16,
   "id": "28f4b2c7-1177-4022-b456-c67707fce3aa",
   "metadata": {},
   "outputs": [
    {
     "data": {
      "text/plain": [
       "[1, 4, 9, 16, 25, 36]"
      ]
     },
     "execution_count": 16,
     "metadata": {},
     "output_type": "execute_result"
    }
   ],
   "source": [
    "test(l)"
   ]
  },
  {
   "cell_type": "code",
   "execution_count": 17,
   "id": "a76d365d-5f0c-443b-8e2f-82ecb478c534",
   "metadata": {},
   "outputs": [],
   "source": [
    "def sqr(x):\n",
    "    return x**2"
   ]
  },
  {
   "cell_type": "code",
   "execution_count": 18,
   "id": "18ffbf86-56dc-4012-bcc1-5a630eedb21b",
   "metadata": {},
   "outputs": [
    {
     "data": {
      "text/plain": [
       "[1, 4, 9, 16, 25, 36]"
      ]
     },
     "execution_count": 18,
     "metadata": {},
     "output_type": "execute_result"
    }
   ],
   "source": [
    "list(map(sqr,l))"
   ]
  },
  {
   "cell_type": "code",
   "execution_count": 30,
   "id": "46da97e9-7bee-4826-bf1b-ae0a567ea674",
   "metadata": {},
   "outputs": [],
   "source": [
    "def my(a,b):\n",
    "    return a + b"
   ]
  },
  {
   "cell_type": "code",
   "execution_count": 36,
   "id": "d03dc691-a450-407e-8dd5-5b0907f14dfc",
   "metadata": {},
   "outputs": [],
   "source": [
    " a = map(my,('apple', 'orange',' banana'),(' peru',' santra',' mosambi'))"
   ]
  },
  {
   "cell_type": "code",
   "execution_count": 37,
   "id": "99f0de13-f922-4f95-a643-dfd1c604ccb8",
   "metadata": {},
   "outputs": [
    {
     "data": {
      "text/plain": [
       "['apple peru', 'orange santra', ' banana mosambi']"
      ]
     },
     "execution_count": 37,
     "metadata": {},
     "output_type": "execute_result"
    }
   ],
   "source": [
    "list(a)"
   ]
  },
  {
   "cell_type": "code",
   "execution_count": 39,
   "id": "729915aa-97a5-40f0-ae14-ea31e5252d68",
   "metadata": {},
   "outputs": [
    {
     "data": {
      "text/plain": [
       "[1, 4, 9, 16, 25, 36]"
      ]
     },
     "execution_count": 39,
     "metadata": {},
     "output_type": "execute_result"
    }
   ],
   "source": [
    "list(map(lambda v: v**2,l))"
   ]
  },
  {
   "cell_type": "code",
   "execution_count": 40,
   "id": "2300cd5e-968e-49f1-90b9-0bc80e0dfed3",
   "metadata": {},
   "outputs": [],
   "source": [
    "l1 = [1,2,3,4,5]\n",
    "l2 = [6,7,8,9,10]\n",
    "def fun(l1,l2):\n",
    "    return l1 + l2"
   ]
  },
  {
   "cell_type": "code",
   "execution_count": 47,
   "id": "dd91a178-3ec7-421c-a4e7-b83f5d7dc72b",
   "metadata": {},
   "outputs": [],
   "source": [
    "a = map(fun,l1,l2)"
   ]
  },
  {
   "cell_type": "code",
   "execution_count": 48,
   "id": "906fbb84-8b3f-467b-83c1-718d71300498",
   "metadata": {},
   "outputs": [
    {
     "data": {
      "text/plain": [
       "[7, 9, 11, 13, 15]"
      ]
     },
     "execution_count": 48,
     "metadata": {},
     "output_type": "execute_result"
    }
   ],
   "source": [
    "list(a)"
   ]
  },
  {
   "cell_type": "code",
   "execution_count": 49,
   "id": "f8f614cc-ece1-4540-9d1e-d1391ee144bc",
   "metadata": {},
   "outputs": [
    {
     "data": {
      "text/plain": [
       "[7, 9, 11, 13, 15]"
      ]
     },
     "execution_count": 49,
     "metadata": {},
     "output_type": "execute_result"
    }
   ],
   "source": [
    "list(map(lambda x,y: x + y,l1,l2 ))"
   ]
  },
  {
   "cell_type": "code",
   "execution_count": 56,
   "id": "7053a349-a6ac-4b4e-b6df-101238cab3bf",
   "metadata": {},
   "outputs": [],
   "source": [
    "s = 'nikhil'"
   ]
  },
  {
   "cell_type": "code",
   "execution_count": 57,
   "id": "80ff890b-b45f-42cc-b724-9f4f3909e9bc",
   "metadata": {},
   "outputs": [],
   "source": [
    "a = map(lambda s : s.upper(),s)"
   ]
  },
  {
   "cell_type": "code",
   "execution_count": 58,
   "id": "240d816c-b2ed-486b-ab76-150baf2f75bc",
   "metadata": {},
   "outputs": [
    {
     "data": {
      "text/plain": [
       "['N', 'I', 'K', 'H', 'I', 'L']"
      ]
     },
     "execution_count": 58,
     "metadata": {},
     "output_type": "execute_result"
    }
   ],
   "source": [
    "list(a)"
   ]
  },
  {
   "cell_type": "code",
   "execution_count": 59,
   "id": "69b57e57-b0a3-4c41-bf33-d5e80d27d7c9",
   "metadata": {},
   "outputs": [],
   "source": [
    "from functools import reduce"
   ]
  },
  {
   "cell_type": "code",
   "execution_count": 60,
   "id": "35a0c9bc-97c9-4fd8-bba9-4fa0ac904af6",
   "metadata": {},
   "outputs": [],
   "source": [
    "l = [1,2,3,4,5]"
   ]
  },
  {
   "cell_type": "code",
   "execution_count": 61,
   "id": "6fe6c436-be59-4561-9205-d8a02b7e508c",
   "metadata": {},
   "outputs": [
    {
     "data": {
      "text/plain": [
       "15"
      ]
     },
     "execution_count": 61,
     "metadata": {},
     "output_type": "execute_result"
    }
   ],
   "source": [
    "reduce(lambda x,y:x + y,l)"
   ]
  },
  {
   "cell_type": "code",
   "execution_count": 62,
   "id": "babe4f1e-7354-4bf1-ab03-64631a3fae63",
   "metadata": {},
   "outputs": [
    {
     "data": {
      "text/plain": [
       "120"
      ]
     },
     "execution_count": 62,
     "metadata": {},
     "output_type": "execute_result"
    }
   ],
   "source": [
    "reduce(lambda x,y : x*y,l)"
   ]
  },
  {
   "cell_type": "code",
   "execution_count": 63,
   "id": "4d9bdf9b-048a-462f-9600-2605bce088ca",
   "metadata": {},
   "outputs": [
    {
     "data": {
      "text/plain": [
       "[1, 2, 3, 4, 5]"
      ]
     },
     "execution_count": 63,
     "metadata": {},
     "output_type": "execute_result"
    }
   ],
   "source": [
    "l"
   ]
  },
  {
   "cell_type": "code",
   "execution_count": 64,
   "id": "c8b495c2-b6f6-4d54-8d01-d0db8c764986",
   "metadata": {},
   "outputs": [
    {
     "data": {
      "text/plain": [
       "5"
      ]
     },
     "execution_count": 64,
     "metadata": {},
     "output_type": "execute_result"
    }
   ],
   "source": [
    "reduce(lambda x,y:x if x > y else y,l)"
   ]
  },
  {
   "cell_type": "code",
   "execution_count": 74,
   "id": "a1824e31-e71b-484e-b07f-ab45fb434fe2",
   "metadata": {},
   "outputs": [
    {
     "data": {
      "text/plain": [
       "[2, 4]"
      ]
     },
     "execution_count": 74,
     "metadata": {},
     "output_type": "execute_result"
    }
   ],
   "source": [
    "list(filter(lambda x: x%2 == 0,l))"
   ]
  },
  {
   "cell_type": "code",
   "execution_count": 99,
   "id": "72b467ca-fe66-4e26-8492-8446f5d8b7e9",
   "metadata": {},
   "outputs": [],
   "source": [
    "l6 = [-3,4,5,6,-1,-5]"
   ]
  },
  {
   "cell_type": "code",
   "execution_count": 100,
   "id": "702c5bd9-3fcf-4a2d-8bab-c6200e2ba994",
   "metadata": {},
   "outputs": [
    {
     "data": {
      "text/plain": [
       "[-3, -1, -5]"
      ]
     },
     "execution_count": 100,
     "metadata": {},
     "output_type": "execute_result"
    }
   ],
   "source": [
    "list(filter(lambda x :  x < 0 , l6))"
   ]
  }
 ],
 "metadata": {
  "kernelspec": {
   "display_name": "Python 3 (ipykernel)",
   "language": "python",
   "name": "python3"
  },
  "language_info": {
   "codemirror_mode": {
    "name": "ipython",
    "version": 3
   },
   "file_extension": ".py",
   "mimetype": "text/x-python",
   "name": "python",
   "nbconvert_exporter": "python",
   "pygments_lexer": "ipython3",
   "version": "3.10.8"
  }
 },
 "nbformat": 4,
 "nbformat_minor": 5
}

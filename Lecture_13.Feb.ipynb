{
 "cells": [
  {
   "cell_type": "code",
   "execution_count": 11,
   "id": "778eaf4b-d047-430e-88d9-8e1e761e0ca3",
   "metadata": {},
   "outputs": [
    {
     "name": "stdout",
     "output_type": "stream",
     "text": [
      "this is zero\n"
     ]
    }
   ],
   "source": [
    "try:\n",
    "    a = 10/0\n",
    "except (ZeroDivisionError) as e:\n",
    "    print('this is zero')"
   ]
  },
  {
   "cell_type": "code",
   "execution_count": 16,
   "id": "09cf06c1-4be5-424b-9452-ddfb9727118b",
   "metadata": {},
   "outputs": [
    {
     "name": "stdout",
     "output_type": "stream",
     "text": [
      "this is not int number\n"
     ]
    }
   ],
   "source": [
    "try:\n",
    "    int('Nikhil')\n",
    "except (TypeError,ValueError) as e:\n",
    "    print('this is not int number')"
   ]
  },
  {
   "cell_type": "code",
   "execution_count": 24,
   "id": "41f56d04-7e1b-490f-93c3-c50d570b2de4",
   "metadata": {},
   "outputs": [
    {
     "name": "stdout",
     "output_type": "stream",
     "text": [
      "this will catch error\n"
     ]
    }
   ],
   "source": [
    "try:\n",
    "    int('NIkhil')\n",
    "except:\n",
    "    print('this will catch error')"
   ]
  },
  {
   "cell_type": "code",
   "execution_count": 32,
   "id": "dfa6c324-cde6-43a0-9c75-d7d998768ad5",
   "metadata": {},
   "outputs": [
    {
     "name": "stdout",
     "output_type": "stream",
     "text": [
      "Import Error\n"
     ]
    },
    {
     "data": {
      "text/plain": [
       "11"
      ]
     },
     "execution_count": 32,
     "metadata": {},
     "output_type": "execute_result"
    }
   ],
   "source": [
    "try:\n",
    "    import nik\n",
    "except ImportError as e:\n",
    "    print('Import Error')\n",
    "5+6"
   ]
  },
  {
   "cell_type": "code",
   "execution_count": 40,
   "id": "9e4b43fc-8fca-4afc-8095-4f1ec8cacce9",
   "metadata": {},
   "outputs": [
    {
     "name": "stdout",
     "output_type": "stream",
     "text": [
      "'key2'\n"
     ]
    }
   ],
   "source": [
    "try:\n",
    "    d = {'key':'Nikhil',1:'[1,2,3,4]'}\n",
    "    print(d['key2'])\n",
    "except KeyError as e:\n",
    "    print(e)\n",
    "    "
   ]
  },
  {
   "cell_type": "code",
   "execution_count": 45,
   "id": "3a083732-7b20-4047-8e5c-13e3e05c19f3",
   "metadata": {},
   "outputs": [],
   "source": [
    "import logging"
   ]
  },
  {
   "cell_type": "code",
   "execution_count": 50,
   "id": "38731cf5-36df-4f8d-95eb-93473e520b33",
   "metadata": {},
   "outputs": [],
   "source": [
    "logging.basicConfig(filename = 't.txt',level = logging.INFO)"
   ]
  },
  {
   "cell_type": "code",
   "execution_count": 52,
   "id": "fdffbe4f-822e-48f2-aebf-23872365e3d4",
   "metadata": {},
   "outputs": [],
   "source": [
    "try:\n",
    "    'nik'.test()\n",
    "except AttributeError as e:\n",
    "    logging.critical('there is an someting not set values')\n",
    "    logging.error('There is an exception')\n",
    "    logging.info('this is not correct')\n",
    "    "
   ]
  },
  {
   "cell_type": "code",
   "execution_count": 55,
   "id": "65fe5beb-a4d5-44f3-b14a-37a071efd5fe",
   "metadata": {},
   "outputs": [],
   "source": [
    "try:\n",
    "    l = [2,3,4,5,6]\n",
    "    print(l[6])\n",
    "except IndexError as e:\n",
    "    logging.error('Index error is not found')"
   ]
  },
  {
   "cell_type": "code",
   "execution_count": 56,
   "id": "79f13bc5-8b23-4b25-9384-a705673f5038",
   "metadata": {},
   "outputs": [],
   "source": [
    "try:\n",
    "    123 + 'nik'\n",
    "except TypeError as e:\n",
    "    logging.error('type error problem')"
   ]
  },
  {
   "cell_type": "code",
   "execution_count": 59,
   "id": "8c208327-01ce-4559-8c91-6ad0a3bac65c",
   "metadata": {},
   "outputs": [],
   "source": [
    "try:\n",
    "    with open('test.txt','r') as f:\n",
    "        test = f.read()\n",
    "except FileNotFoundError as e:\n",
    "    logging.error('file not found')"
   ]
  },
  {
   "cell_type": "code",
   "execution_count": 62,
   "id": "268d0456-760d-4caf-9926-50b84a02681e",
   "metadata": {},
   "outputs": [
    {
     "data": {
      "text/plain": [
       "['__cause__',\n",
       " '__class__',\n",
       " '__context__',\n",
       " '__delattr__',\n",
       " '__dict__',\n",
       " '__dir__',\n",
       " '__doc__',\n",
       " '__eq__',\n",
       " '__format__',\n",
       " '__ge__',\n",
       " '__getattribute__',\n",
       " '__gt__',\n",
       " '__hash__',\n",
       " '__init__',\n",
       " '__init_subclass__',\n",
       " '__le__',\n",
       " '__lt__',\n",
       " '__ne__',\n",
       " '__new__',\n",
       " '__reduce__',\n",
       " '__reduce_ex__',\n",
       " '__repr__',\n",
       " '__setattr__',\n",
       " '__setstate__',\n",
       " '__sizeof__',\n",
       " '__str__',\n",
       " '__subclasshook__',\n",
       " '__suppress_context__',\n",
       " '__traceback__',\n",
       " 'args',\n",
       " 'with_traceback']"
      ]
     },
     "execution_count": 62,
     "metadata": {},
     "output_type": "execute_result"
    }
   ],
   "source": [
    "dir(Exception)"
   ]
  },
  {
   "cell_type": "code",
   "execution_count": 65,
   "id": "c5d524e7-4188-4f39-98b3-a1320322f1a2",
   "metadata": {},
   "outputs": [
    {
     "name": "stdout",
     "output_type": "stream",
     "text": [
      "[Errno 2] No such file or directory: 'test.txt'\n"
     ]
    }
   ],
   "source": [
    "try:\n",
    "    with open('test.txt','r') as f:\n",
    "        test = f.read()\n",
    "except FileNotFoundError as e:\n",
    "    logging.error('file not found')\n",
    "    print(e)\n",
    "except Exception as e:\n",
    "    logging.info('there is an error')\n",
    "    print(e)"
   ]
  },
  {
   "cell_type": "code",
   "execution_count": null,
   "id": "eb2d6a90-7beb-48f9-b837-b01271a84792",
   "metadata": {},
   "outputs": [],
   "source": []
  }
 ],
 "metadata": {
  "kernelspec": {
   "display_name": "Python 3 (ipykernel)",
   "language": "python",
   "name": "python3"
  },
  "language_info": {
   "codemirror_mode": {
    "name": "ipython",
    "version": 3
   },
   "file_extension": ".py",
   "mimetype": "text/x-python",
   "name": "python",
   "nbconvert_exporter": "python",
   "pygments_lexer": "ipython3",
   "version": "3.10.8"
  }
 },
 "nbformat": 4,
 "nbformat_minor": 5
}

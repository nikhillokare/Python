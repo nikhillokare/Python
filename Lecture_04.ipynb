{
 "cells": [
  {
   "cell_type": "code",
   "execution_count": 1,
   "id": "1dcc2168-0df6-4f99-8862-ee69665589a2",
   "metadata": {},
   "outputs": [],
   "source": [
    "s = [1,2,3,4,5]"
   ]
  },
  {
   "cell_type": "code",
   "execution_count": 5,
   "id": "5c04cdbf-8995-4605-a2da-63c3ed0c5614",
   "metadata": {},
   "outputs": [
    {
     "name": "stdout",
     "output_type": "stream",
     "text": [
      "1 <class 'int'>\n",
      "2 <class 'int'>\n",
      "3 <class 'int'>\n",
      "4 <class 'int'>\n",
      "5 <class 'int'>\n"
     ]
    }
   ],
   "source": [
    "for x in s:\n",
    "    print(x,type(x))"
   ]
  },
  {
   "cell_type": "code",
   "execution_count": 6,
   "id": "acf09c2a-89d3-4655-9c57-d40cd07749b9",
   "metadata": {},
   "outputs": [],
   "source": [
    "s1 = ['Nikhil','Aniket','Sampat']"
   ]
  },
  {
   "cell_type": "code",
   "execution_count": 8,
   "id": "748fcb47-b984-4b3b-b540-db6e82d11ba2",
   "metadata": {},
   "outputs": [
    {
     "name": "stdout",
     "output_type": "stream",
     "text": [
      "Nikhil\n",
      "Aniket\n",
      "Sampat\n"
     ]
    }
   ],
   "source": [
    "for i in s1 :\n",
    "    print(i)"
   ]
  },
  {
   "cell_type": "code",
   "execution_count": 12,
   "id": "60b88c54-b2d0-4483-af3f-324af6e384ac",
   "metadata": {},
   "outputs": [
    {
     "data": {
      "text/plain": [
       "['Nikhil', 'Aniket', 'Sampat']"
      ]
     },
     "execution_count": 12,
     "metadata": {},
     "output_type": "execute_result"
    }
   ],
   "source": [
    "s1"
   ]
  },
  {
   "cell_type": "code",
   "execution_count": 26,
   "id": "8c0cc84c-2d0d-4129-b48b-247eff1b602e",
   "metadata": {},
   "outputs": [
    {
     "name": "stdout",
     "output_type": "stream",
     "text": [
      "Nikhil\n",
      "Aniket\n",
      "Sampat\n",
      "Do something\n"
     ]
    }
   ],
   "source": [
    "for i in s1:\n",
    "    print(i)\n",
    "else:\n",
    "     print(\"Do something\")"
   ]
  },
  {
   "cell_type": "code",
   "execution_count": 25,
   "id": "d8f2677a-13e7-4354-8b41-7dab84da1054",
   "metadata": {},
   "outputs": [
    {
     "name": "stdout",
     "output_type": "stream",
     "text": [
      "Nikhil\n"
     ]
    }
   ],
   "source": [
    "for i in s1:\n",
    "    if i == 'Aniket':\n",
    "        break\n",
    "    print(i)"
   ]
  },
  {
   "cell_type": "code",
   "execution_count": 32,
   "id": "70d7cd18-1421-420e-afe9-216de905c17b",
   "metadata": {},
   "outputs": [
    {
     "name": "stdout",
     "output_type": "stream",
     "text": [
      "Sampat\n",
      "Sampat\n"
     ]
    }
   ],
   "source": [
    "for x in s1:\n",
    "    if x == 'Aniket':\n",
    "        continue\n",
    "    print(i)  "
   ]
  },
  {
   "cell_type": "code",
   "execution_count": 33,
   "id": "1c219e73-3412-4354-9573-5ab6fdc29a79",
   "metadata": {},
   "outputs": [
    {
     "name": "stdout",
     "output_type": "stream",
     "text": [
      "Aniket\n",
      "Sampat\n",
      "Exicuted\n"
     ]
    }
   ],
   "source": [
    "for i in s1:\n",
    "    if i == 'Nikhil':\n",
    "        continue\n",
    "    print(i)\n",
    "else:\n",
    "    print('Exicuted')"
   ]
  },
  {
   "cell_type": "code",
   "execution_count": 34,
   "id": "0fc3a9ae-76d9-456e-a538-2cbeed3a0b74",
   "metadata": {},
   "outputs": [
    {
     "data": {
      "text/plain": [
       "range(0, 5)"
      ]
     },
     "execution_count": 34,
     "metadata": {},
     "output_type": "execute_result"
    }
   ],
   "source": [
    "range(5)"
   ]
  },
  {
   "cell_type": "code",
   "execution_count": 35,
   "id": "66a2bb5f-d72e-4450-b7db-010bbe1e3630",
   "metadata": {},
   "outputs": [
    {
     "data": {
      "text/plain": [
       "[0, 1, 2, 3, 4]"
      ]
     },
     "execution_count": 35,
     "metadata": {},
     "output_type": "execute_result"
    }
   ],
   "source": [
    "list(range(5))"
   ]
  },
  {
   "cell_type": "code",
   "execution_count": 37,
   "id": "05a100b2-0d75-4d84-a796-37a8c23535ac",
   "metadata": {},
   "outputs": [
    {
     "data": {
      "text/plain": [
       "[0, 1, 2, 3, 4]"
      ]
     },
     "execution_count": 37,
     "metadata": {},
     "output_type": "execute_result"
    }
   ],
   "source": [
    "list(range(0,5,1))"
   ]
  },
  {
   "cell_type": "code",
   "execution_count": 38,
   "id": "1ebaa910-0716-4b97-bfb5-94d899614345",
   "metadata": {},
   "outputs": [
    {
     "data": {
      "text/plain": [
       "range(0, 20, 2)"
      ]
     },
     "execution_count": 38,
     "metadata": {},
     "output_type": "execute_result"
    }
   ],
   "source": [
    "range(0,20,2)"
   ]
  },
  {
   "cell_type": "code",
   "execution_count": 39,
   "id": "748a5d24-66be-442e-b44e-8209a6e1d121",
   "metadata": {},
   "outputs": [
    {
     "data": {
      "text/plain": [
       "[0, 2, 4, 6, 8, 10, 12, 14, 16, 18]"
      ]
     },
     "execution_count": 39,
     "metadata": {},
     "output_type": "execute_result"
    }
   ],
   "source": [
    "list(range(0,20,2))"
   ]
  },
  {
   "cell_type": "code",
   "execution_count": 40,
   "id": "c15e4bfa-15cf-4a53-bdfe-0b51029fe769",
   "metadata": {},
   "outputs": [
    {
     "data": {
      "text/plain": [
       "[-10, -9, -8, -7, -6, -5, -4, -3, -2, -1]"
      ]
     },
     "execution_count": 40,
     "metadata": {},
     "output_type": "execute_result"
    }
   ],
   "source": [
    "list(range(-10,0))"
   ]
  },
  {
   "cell_type": "code",
   "execution_count": 41,
   "id": "f77979a6-4ef2-40ee-ab0e-4e87245b3f55",
   "metadata": {},
   "outputs": [
    {
     "data": {
      "text/plain": [
       "['Nikhil', 'Aniket', 'Sampat']"
      ]
     },
     "execution_count": 41,
     "metadata": {},
     "output_type": "execute_result"
    }
   ],
   "source": [
    "s1"
   ]
  },
  {
   "cell_type": "code",
   "execution_count": 42,
   "id": "748f6fb9-bd40-4726-8130-a50e46e6d189",
   "metadata": {},
   "outputs": [],
   "source": [
    "s1.append('Ketan')"
   ]
  },
  {
   "cell_type": "code",
   "execution_count": 43,
   "id": "9b1b20ca-b9dd-4f47-a4d9-c34289181998",
   "metadata": {},
   "outputs": [
    {
     "data": {
      "text/plain": [
       "['Nikhil', 'Aniket', 'Sampat', 'Ketan']"
      ]
     },
     "execution_count": 43,
     "metadata": {},
     "output_type": "execute_result"
    }
   ],
   "source": [
    "s1"
   ]
  },
  {
   "cell_type": "code",
   "execution_count": 44,
   "id": "b627c1e3-45ae-4b04-a893-eee4cc748ec5",
   "metadata": {},
   "outputs": [],
   "source": [
    "s1.insert(0,'Akhil')"
   ]
  },
  {
   "cell_type": "code",
   "execution_count": 45,
   "id": "dc58ca49-83d7-4773-82ad-635206f608df",
   "metadata": {},
   "outputs": [
    {
     "data": {
      "text/plain": [
       "['Akhil', 'Nikhil', 'Aniket', 'Sampat', 'Ketan']"
      ]
     },
     "execution_count": 45,
     "metadata": {},
     "output_type": "execute_result"
    }
   ],
   "source": [
    "s1"
   ]
  },
  {
   "cell_type": "code",
   "execution_count": 46,
   "id": "ee675396-d9dd-444c-ab4c-ada99f3fc77f",
   "metadata": {},
   "outputs": [
    {
     "data": {
      "text/plain": [
       "[0, 1, 2, 3, 4]"
      ]
     },
     "execution_count": 46,
     "metadata": {},
     "output_type": "execute_result"
    }
   ],
   "source": [
    "list(range(len(s1)))"
   ]
  },
  {
   "cell_type": "code",
   "execution_count": 60,
   "id": "ea860ecc-3e41-454e-84a7-de1813f1445e",
   "metadata": {},
   "outputs": [
    {
     "name": "stdout",
     "output_type": "stream",
     "text": [
      "Akhil\n",
      "Nikhil\n",
      "Aniket\n",
      "Sampat\n",
      "Ketan\n"
     ]
    }
   ],
   "source": [
    "for i in range(len(s1)):\n",
    "    print(s1[i])"
   ]
  },
  {
   "cell_type": "code",
   "execution_count": 77,
   "id": "0f7918c3-f0ac-458e-b50c-1ab79ce3cb3f",
   "metadata": {},
   "outputs": [
    {
     "data": {
      "text/plain": [
       "[4, 3, 2, 1, 0]"
      ]
     },
     "execution_count": 77,
     "metadata": {},
     "output_type": "execute_result"
    }
   ],
   "source": [
    "list(range(len(s1)-1,-1,-1))"
   ]
  },
  {
   "cell_type": "code",
   "execution_count": 78,
   "id": "a7c17e05-0d74-45a0-837e-b3742e90f89a",
   "metadata": {},
   "outputs": [
    {
     "data": {
      "text/plain": [
       "['Akhil', 'Nikhil', 'Aniket', 'Sampat', 'Ketan']"
      ]
     },
     "execution_count": 78,
     "metadata": {},
     "output_type": "execute_result"
    }
   ],
   "source": [
    "s1"
   ]
  },
  {
   "cell_type": "code",
   "execution_count": 79,
   "id": "a30ac0a5-8ba9-47d1-aaa5-ffdc5b5d30f9",
   "metadata": {},
   "outputs": [
    {
     "name": "stdout",
     "output_type": "stream",
     "text": [
      "Ketan\n",
      "Sampat\n",
      "Aniket\n",
      "Nikhil\n",
      "Akhil\n"
     ]
    }
   ],
   "source": [
    "for i in range(len(s1)-1,-1,-1):\n",
    "    print(s1[i])"
   ]
  },
  {
   "cell_type": "code",
   "execution_count": 80,
   "id": "19c70561-4e8c-4736-81ae-fbd7ee5e287a",
   "metadata": {},
   "outputs": [],
   "source": [
    "s3 = [32,54,76,66,24,91,76,34]"
   ]
  },
  {
   "cell_type": "code",
   "execution_count": 84,
   "id": "c8d49819-6f2b-4e21-a04f-c1f2d01753f6",
   "metadata": {},
   "outputs": [
    {
     "data": {
      "text/plain": [
       "[0, 2, 4, 6]"
      ]
     },
     "execution_count": 84,
     "metadata": {},
     "output_type": "execute_result"
    }
   ],
   "source": [
    "list(range(0,len(s3),2))"
   ]
  },
  {
   "cell_type": "code",
   "execution_count": 85,
   "id": "6c833dd0-baef-4b97-bf8a-ae4f44fdede6",
   "metadata": {},
   "outputs": [
    {
     "name": "stdout",
     "output_type": "stream",
     "text": [
      "32\n",
      "76\n",
      "24\n",
      "76\n"
     ]
    }
   ],
   "source": [
    "for i in range(0,len(s3),2):\n",
    "    print(s3[i])"
   ]
  },
  {
   "cell_type": "code",
   "execution_count": 86,
   "id": "d2d83ed7-2dec-4c96-bcb1-e004cbe7f197",
   "metadata": {},
   "outputs": [],
   "source": [
    "ss = [12,3,4,5,6]"
   ]
  },
  {
   "cell_type": "code",
   "execution_count": 87,
   "id": "0f20ae73-c142-4dde-9f9c-1e76651567bb",
   "metadata": {},
   "outputs": [
    {
     "data": {
      "text/plain": [
       "30"
      ]
     },
     "execution_count": 87,
     "metadata": {},
     "output_type": "execute_result"
    }
   ],
   "source": [
    "sum(ss)    "
   ]
  },
  {
   "cell_type": "code",
   "execution_count": 102,
   "id": "2f41dcdb-9249-4c6f-aa66-7936e6963061",
   "metadata": {},
   "outputs": [
    {
     "data": {
      "text/plain": [
       "[12, 3, 4, 5, 6]"
      ]
     },
     "execution_count": 102,
     "metadata": {},
     "output_type": "execute_result"
    }
   ],
   "source": [
    "ss"
   ]
  },
  {
   "cell_type": "code",
   "execution_count": 104,
   "id": "e7f0db29-b87b-484c-a31e-b2f19bb9bba5",
   "metadata": {},
   "outputs": [
    {
     "data": {
      "text/plain": [
       "30"
      ]
     },
     "execution_count": 104,
     "metadata": {},
     "output_type": "execute_result"
    }
   ],
   "source": [
    "result = 0\n",
    "for i in ss:\n",
    "    result = result +  i\n",
    "result"
   ]
  },
  {
   "cell_type": "code",
   "execution_count": 106,
   "id": "58c79a2b-293f-4b71-bb88-ab202ddf2ba2",
   "metadata": {},
   "outputs": [],
   "source": [
    "t = (1,2,3,4,5)"
   ]
  },
  {
   "cell_type": "code",
   "execution_count": 107,
   "id": "b970d1f6-4f37-4512-856f-f5f7faa2de1c",
   "metadata": {},
   "outputs": [
    {
     "data": {
      "text/plain": [
       "15"
      ]
     },
     "execution_count": 107,
     "metadata": {},
     "output_type": "execute_result"
    }
   ],
   "source": [
    "sum(t)"
   ]
  },
  {
   "cell_type": "code",
   "execution_count": 108,
   "id": "b67f89a7-ddef-49b8-8f8a-e15f2a501921",
   "metadata": {},
   "outputs": [
    {
     "data": {
      "text/plain": [
       "15"
      ]
     },
     "execution_count": 108,
     "metadata": {},
     "output_type": "execute_result"
    }
   ],
   "source": [
    "result = 0\n",
    "for i in t:\n",
    "    result = result +  i\n",
    "result"
   ]
  },
  {
   "cell_type": "code",
   "execution_count": 109,
   "id": "da2f12b6-3bfd-4eb1-bd10-aa38141fd8a9",
   "metadata": {},
   "outputs": [
    {
     "name": "stdout",
     "output_type": "stream",
     "text": [
      "1\n",
      "2\n",
      "3\n",
      "4\n",
      "5\n"
     ]
    }
   ],
   "source": [
    "for i in t:\n",
    "    print(i)"
   ]
  },
  {
   "cell_type": "code",
   "execution_count": 110,
   "id": "b3280d9e-fd19-468d-a03f-0af4bf8d6f53",
   "metadata": {},
   "outputs": [],
   "source": [
    "n = \"PWSkills\""
   ]
  },
  {
   "cell_type": "code",
   "execution_count": 111,
   "id": "656d48bc-3939-4551-91d9-f25d96eff6d2",
   "metadata": {},
   "outputs": [
    {
     "name": "stdout",
     "output_type": "stream",
     "text": [
      "P\n",
      "W\n",
      "S\n",
      "k\n",
      "i\n",
      "l\n",
      "l\n",
      "s\n"
     ]
    }
   ],
   "source": [
    "for i in n:\n",
    "    print(i)"
   ]
  },
  {
   "cell_type": "code",
   "execution_count": 112,
   "id": "33fdbb9c-12e4-4827-b82c-488225bbb05e",
   "metadata": {},
   "outputs": [],
   "source": [
    "d = {'Name':'Nihkil', 'Class':'Data Science'}"
   ]
  },
  {
   "cell_type": "code",
   "execution_count": 113,
   "id": "39adcbdf-cc50-4717-9f62-0b6aaa211a4f",
   "metadata": {},
   "outputs": [
    {
     "name": "stdout",
     "output_type": "stream",
     "text": [
      "Name\n",
      "Class\n"
     ]
    }
   ],
   "source": [
    "for i in d:\n",
    "    print(i)"
   ]
  },
  {
   "cell_type": "code",
   "execution_count": 114,
   "id": "461b9ad7-a4e3-4b2f-aab7-2e88ea2bf0cb",
   "metadata": {},
   "outputs": [
    {
     "data": {
      "text/plain": [
       "{'Name': 'Nihkil', 'Class': 'Data Science'}"
      ]
     },
     "execution_count": 114,
     "metadata": {},
     "output_type": "execute_result"
    }
   ],
   "source": [
    "d"
   ]
  },
  {
   "cell_type": "code",
   "execution_count": 115,
   "id": "95dabfa7-c03b-4798-add0-37f90a8cc059",
   "metadata": {},
   "outputs": [
    {
     "data": {
      "text/plain": [
       "dict_keys(['Name', 'Class'])"
      ]
     },
     "execution_count": 115,
     "metadata": {},
     "output_type": "execute_result"
    }
   ],
   "source": [
    "d.keys()"
   ]
  },
  {
   "cell_type": "code",
   "execution_count": 116,
   "id": "706867f7-aea7-4575-8b13-7cad326eba7c",
   "metadata": {},
   "outputs": [
    {
     "name": "stdout",
     "output_type": "stream",
     "text": [
      "Nihkil\n",
      "Data Science\n"
     ]
    }
   ],
   "source": [
    "for i in d.keys():\n",
    "    print(d[i])"
   ]
  },
  {
   "cell_type": "code",
   "execution_count": 117,
   "id": "9a8b0460-82f9-47b0-bf81-c33c285dcd12",
   "metadata": {},
   "outputs": [
    {
     "data": {
      "text/plain": [
       "dict_values(['Nihkil', 'Data Science'])"
      ]
     },
     "execution_count": 117,
     "metadata": {},
     "output_type": "execute_result"
    }
   ],
   "source": [
    "d.values()"
   ]
  },
  {
   "cell_type": "code",
   "execution_count": 121,
   "id": "f4822ae4-2941-4cf4-9ab5-0a0e3c583ee4",
   "metadata": {},
   "outputs": [
    {
     "name": "stdout",
     "output_type": "stream",
     "text": [
      "Nihkil\n",
      "Data Science\n"
     ]
    }
   ],
   "source": [
    "for i in d.values():\n",
    "     print(i)"
   ]
  },
  {
   "cell_type": "code",
   "execution_count": 122,
   "id": "d6d38086-a677-4f37-8ea3-916ee32a4bcd",
   "metadata": {},
   "outputs": [
    {
     "data": {
      "text/plain": [
       "dict_items([('Name', 'Nihkil'), ('Class', 'Data Science')])"
      ]
     },
     "execution_count": 122,
     "metadata": {},
     "output_type": "execute_result"
    }
   ],
   "source": [
    "d.items()"
   ]
  },
  {
   "cell_type": "code",
   "execution_count": 123,
   "id": "4fa708ee-9344-4e8b-b28e-0bdfce6a7e1e",
   "metadata": {},
   "outputs": [
    {
     "name": "stdout",
     "output_type": "stream",
     "text": [
      "('Name', 'Nihkil')\n",
      "('Class', 'Data Science')\n"
     ]
    }
   ],
   "source": [
    "for i in d.items():\n",
    "    print(i)"
   ]
  }
 ],
 "metadata": {
  "kernelspec": {
   "display_name": "Python 3 (ipykernel)",
   "language": "python",
   "name": "python3"
  },
  "language_info": {
   "codemirror_mode": {
    "name": "ipython",
    "version": 3
   },
   "file_extension": ".py",
   "mimetype": "text/x-python",
   "name": "python",
   "nbconvert_exporter": "python",
   "pygments_lexer": "ipython3",
   "version": "3.10.8"
  }
 },
 "nbformat": 4,
 "nbformat_minor": 5
}

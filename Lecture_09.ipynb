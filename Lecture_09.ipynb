{
 "cells": [
  {
   "cell_type": "code",
   "execution_count": 1,
   "id": "18ceabc6-c918-4919-be0e-958e89603490",
   "metadata": {},
   "outputs": [],
   "source": [
    "# Decorator"
   ]
  },
  {
   "cell_type": "code",
   "execution_count": 6,
   "id": "fa990291-14a5-4535-b122-dd396c0cba3a",
   "metadata": {},
   "outputs": [],
   "source": [
    "def test():\n",
    "    print('This is the start of my function')\n",
    "    print('this is my function to test')\n",
    "    print(4+5)\n",
    "    print('This is the end of my function')"
   ]
  },
  {
   "cell_type": "code",
   "execution_count": 7,
   "id": "d60f6d5b-d9e6-4a93-b5d1-70b6daa97cfc",
   "metadata": {},
   "outputs": [
    {
     "name": "stdout",
     "output_type": "stream",
     "text": [
      "This is the start of my function\n",
      "this is my function to test\n",
      "9\n",
      "This is the end of my function\n"
     ]
    }
   ],
   "source": [
    "test()"
   ]
  },
  {
   "cell_type": "code",
   "execution_count": 8,
   "id": "cb54e16c-e472-4e5d-8ee0-8db05716da8c",
   "metadata": {},
   "outputs": [],
   "source": [
    "def deco(func):\n",
    "    def inner_decorate():\n",
    "        print('This is the start of my function')\n",
    "        func()\n",
    "        print('This is the end of my function')\n",
    "    return inner_decorate  "
   ]
  },
  {
   "cell_type": "code",
   "execution_count": 11,
   "id": "fd17742d-4839-4f73-a153-2619cf3baaac",
   "metadata": {},
   "outputs": [],
   "source": [
    "@deco\n",
    "def test1():\n",
    "    print(6+7)"
   ]
  },
  {
   "cell_type": "code",
   "execution_count": 13,
   "id": "d7b129e7-56cd-4d36-a1fd-45d0c1e6885d",
   "metadata": {},
   "outputs": [
    {
     "name": "stdout",
     "output_type": "stream",
     "text": [
      "This is the start of my function\n",
      "13\n",
      "This is the end of my function\n"
     ]
    }
   ],
   "source": [
    "test1()"
   ]
  },
  {
   "cell_type": "code",
   "execution_count": 27,
   "id": "54486012-0abb-4d51-be04-084e1bc53857",
   "metadata": {},
   "outputs": [],
   "source": [
    "import time \n",
    "\n",
    "def timer_test(func):\n",
    "    def timer_test_inner():\n",
    "        start = time.time()\n",
    "        func()\n",
    "        end = time.time()\n",
    "        print(end-start)\n",
    "       \n",
    "    return timer_test_inner    "
   ]
  },
  {
   "cell_type": "code",
   "execution_count": 28,
   "id": "6077247f-c461-4130-bcc0-8a24458e3daa",
   "metadata": {},
   "outputs": [],
   "source": [
    "@timer_test\n",
    "def test2():\n",
    "    print('This is my second function')"
   ]
  },
  {
   "cell_type": "code",
   "execution_count": 29,
   "id": "22637294-7531-463e-bba4-2a4398f5b6fc",
   "metadata": {},
   "outputs": [
    {
     "name": "stdout",
     "output_type": "stream",
     "text": [
      "This is my second function\n",
      "4.863739013671875e-05\n"
     ]
    }
   ],
   "source": [
    "test2()"
   ]
  },
  {
   "cell_type": "code",
   "execution_count": 34,
   "id": "c2fe998c-1c86-4d1c-991c-8bc5ef9a8a95",
   "metadata": {},
   "outputs": [],
   "source": [
    "@timer_test\n",
    "def test3():\n",
    "    for i in range(1000):\n",
    "        pass"
   ]
  },
  {
   "cell_type": "code",
   "execution_count": 35,
   "id": "501d95ac-73e8-4c61-a20a-7fe7cc2cade8",
   "metadata": {},
   "outputs": [
    {
     "name": "stdout",
     "output_type": "stream",
     "text": [
      "1.9550323486328125e-05\n"
     ]
    }
   ],
   "source": [
    "test3()"
   ]
  },
  {
   "cell_type": "code",
   "execution_count": 36,
   "id": "96262ca8-8d2a-4287-9e32-aee65a61fd23",
   "metadata": {},
   "outputs": [],
   "source": [
    "# Class Methods"
   ]
  },
  {
   "cell_type": "code",
   "execution_count": 41,
   "id": "005ce362-d676-4560-bcf8-58f6e060bb4d",
   "metadata": {},
   "outputs": [],
   "source": [
    "class pwSkills:\n",
    "    \n",
    "    def __init__(self,name,email):\n",
    "        self.name = name\n",
    "        self.email = email\n",
    "        \n",
    "    def students_details(self):\n",
    "        print(self.name,self.email)"
   ]
  },
  {
   "cell_type": "code",
   "execution_count": 45,
   "id": "b1e0a464-7bab-4de9-bffb-83dfb24863e5",
   "metadata": {},
   "outputs": [],
   "source": [
    "c = pwSkills('Nikhil','nikhil@gmail.com')"
   ]
  },
  {
   "cell_type": "code",
   "execution_count": 46,
   "id": "9167f123-8187-4dc4-a76d-e7c808f40010",
   "metadata": {},
   "outputs": [
    {
     "data": {
      "text/plain": [
       "'Nikhil'"
      ]
     },
     "execution_count": 46,
     "metadata": {},
     "output_type": "execute_result"
    }
   ],
   "source": [
    "c.name"
   ]
  },
  {
   "cell_type": "code",
   "execution_count": 47,
   "id": "c968f74d-c4ea-4915-bf04-39a1001951a8",
   "metadata": {},
   "outputs": [
    {
     "data": {
      "text/plain": [
       "'nikhil@gmail.com'"
      ]
     },
     "execution_count": 47,
     "metadata": {},
     "output_type": "execute_result"
    }
   ],
   "source": [
    "c.email"
   ]
  },
  {
   "cell_type": "code",
   "execution_count": 48,
   "id": "f16e64e2-6015-40fd-a928-b8dab36e4581",
   "metadata": {},
   "outputs": [
    {
     "name": "stdout",
     "output_type": "stream",
     "text": [
      "Nikhil nikhil@gmail.com\n"
     ]
    }
   ],
   "source": [
    "c.students_details()"
   ]
  },
  {
   "cell_type": "code",
   "execution_count": 52,
   "id": "fc796b0e-8997-487b-974c-5972587be7de",
   "metadata": {},
   "outputs": [],
   "source": [
    "class pwSkills1:\n",
    "    \n",
    "    def __init__(self,name,email):\n",
    "        self.name = name\n",
    "        self.email = email\n",
    "    \n",
    "# cls is a pointer here\n",
    "    @classmethod   \n",
    "    def details(cls,name,email):\n",
    "        return cls(name,email)\n",
    "    \n",
    "    def students_details(self):\n",
    "        print(self.name,self.email)\n",
    "        "
   ]
  },
  {
   "cell_type": "code",
   "execution_count": 53,
   "id": "b0ec9291-b314-4c95-b22f-dea783772018",
   "metadata": {},
   "outputs": [],
   "source": [
    "pw1 = pwSkills1.details('Nikhil','Nikhil@gmail.com')"
   ]
  },
  {
   "cell_type": "code",
   "execution_count": 58,
   "id": "9efba81d-037f-4a4d-8369-1ed2b2d76e62",
   "metadata": {},
   "outputs": [
    {
     "data": {
      "text/plain": [
       "'Nikhil'"
      ]
     },
     "execution_count": 58,
     "metadata": {},
     "output_type": "execute_result"
    }
   ],
   "source": [
    "pw1.name"
   ]
  },
  {
   "cell_type": "code",
   "execution_count": 59,
   "id": "ceb36ee9-43df-4446-ba3e-f217e41c3fae",
   "metadata": {},
   "outputs": [
    {
     "data": {
      "text/plain": [
       "'Nikhil@gmail.com'"
      ]
     },
     "execution_count": 59,
     "metadata": {},
     "output_type": "execute_result"
    }
   ],
   "source": [
    "pw1.email"
   ]
  },
  {
   "cell_type": "code",
   "execution_count": 60,
   "id": "df4e2abb-b0d3-4279-a972-3d3187e4b2e9",
   "metadata": {},
   "outputs": [
    {
     "name": "stdout",
     "output_type": "stream",
     "text": [
      "Nikhil Nikhil@gmail.com\n"
     ]
    }
   ],
   "source": [
    "pw1.students_details()"
   ]
  },
  {
   "cell_type": "code",
   "execution_count": 70,
   "id": "5e30434b-0997-42e3-95da-bf82e33190d2",
   "metadata": {},
   "outputs": [],
   "source": [
    "class pwSkills2:\n",
    "    \n",
    "    mobile_number = 914669898\n",
    "    \n",
    "    def __init__(self,name,email):\n",
    "        self.name = name\n",
    "        self.email = email\n",
    "        \n",
    "    @classmethod\n",
    "    def change_number(cls,mobile):\n",
    "        pwSkills2.mobile_number = mobile\n",
    "        \n",
    "# cls is a pointer here\n",
    "    @classmethod   \n",
    "    def details(cls,name,email):\n",
    "        return cls(name,email)\n",
    "    \n",
    "    def students_details(self):\n",
    "        print(self.name,self.email,pwSkills2.mobile_number)"
   ]
  },
  {
   "cell_type": "code",
   "execution_count": 71,
   "id": "c4a59899-25cc-4950-b3cf-909e66ef5245",
   "metadata": {},
   "outputs": [
    {
     "data": {
      "text/plain": [
       "914669898"
      ]
     },
     "execution_count": 71,
     "metadata": {},
     "output_type": "execute_result"
    }
   ],
   "source": [
    "pwSkills2.mobile_number"
   ]
  },
  {
   "cell_type": "code",
   "execution_count": 72,
   "id": "6f74ba2c-8cb7-481b-958f-14409d6501c3",
   "metadata": {},
   "outputs": [],
   "source": [
    "pwSkills2.change_number(9384746362)"
   ]
  },
  {
   "cell_type": "code",
   "execution_count": 76,
   "id": "8ebb9758-d8dd-4927-8780-26256e84cf92",
   "metadata": {},
   "outputs": [
    {
     "data": {
      "text/plain": [
       "9384746362"
      ]
     },
     "execution_count": 76,
     "metadata": {},
     "output_type": "execute_result"
    }
   ],
   "source": [
    "pwSkills2.mobile_number"
   ]
  },
  {
   "cell_type": "code",
   "execution_count": 80,
   "id": "51616bb5-efba-4591-a1a3-204170af14f0",
   "metadata": {},
   "outputs": [],
   "source": [
    "d = pwSkills2('Nihkil','nikhil@gmail.com')"
   ]
  },
  {
   "cell_type": "code",
   "execution_count": 81,
   "id": "ab7b1b4f-b913-4fe3-b324-5287aa52ff44",
   "metadata": {},
   "outputs": [
    {
     "name": "stdout",
     "output_type": "stream",
     "text": [
      "Nihkil nikhil@gmail.com 9384746362\n"
     ]
    }
   ],
   "source": [
    "d.students_details()"
   ]
  },
  {
   "cell_type": "code",
   "execution_count": 82,
   "id": "500d6ec8-38d3-4b26-8a64-f289fc349276",
   "metadata": {
    "tags": []
   },
   "outputs": [],
   "source": [
    "n = pwSkills2.details('Nikhil','nikhil@gmail.com')"
   ]
  },
  {
   "cell_type": "code",
   "execution_count": 83,
   "id": "31e489bc-ef9a-4ae0-88d3-4971a8d9a87b",
   "metadata": {},
   "outputs": [
    {
     "name": "stdout",
     "output_type": "stream",
     "text": [
      "Nikhil nikhil@gmail.com 9384746362\n"
     ]
    }
   ],
   "source": [
    "n.students_details()"
   ]
  },
  {
   "cell_type": "code",
   "execution_count": 84,
   "id": "f9336919-0ff4-42c5-b966-80cbfe7fefa7",
   "metadata": {},
   "outputs": [],
   "source": [
    "class pwSkills3:\n",
    "    \n",
    "    mobile_number = 914669898\n",
    "    \n",
    "    def __init__(self,name,email):\n",
    "        self.name = name\n",
    "        self.email = email\n",
    "        \n",
    "    @classmethod\n",
    "    def change_number(cls,mobile):\n",
    "        pwSkills2.mobile_number = mobile\n",
    "        \n",
    "# cls is a pointer here\n",
    "    @classmethod   \n",
    "    def details(cls,name,email):\n",
    "        return cls(name,email)\n",
    "    \n",
    "    def students_details(self):\n",
    "        print(self.name,self.email,pwSkills2.mobile_number)"
   ]
  },
  {
   "cell_type": "code",
   "execution_count": 85,
   "id": "c11439d8-1adc-4e01-9fdc-2ee63e274d15",
   "metadata": {},
   "outputs": [],
   "source": [
    "def course_details(cls,course_name):\n",
    "    print('course name is ', course_name)"
   ]
  },
  {
   "cell_type": "code",
   "execution_count": 86,
   "id": "c4549440-8674-4eb9-9d54-4a7a93bc4f20",
   "metadata": {},
   "outputs": [],
   "source": [
    "pwSkills3.course_details = classmethod(course_details)"
   ]
  },
  {
   "cell_type": "code",
   "execution_count": 87,
   "id": "38ceb003-8fb5-4449-bff1-4063e506254e",
   "metadata": {},
   "outputs": [
    {
     "name": "stdout",
     "output_type": "stream",
     "text": [
      "course name is  Data Science Master\n"
     ]
    }
   ],
   "source": [
    "pwSkills3.course_details('Data Science Master')"
   ]
  },
  {
   "cell_type": "code",
   "execution_count": 88,
   "id": "a96b68e4-9200-4e88-8b88-9b1f0933357c",
   "metadata": {},
   "outputs": [],
   "source": [
    "def mentor(cls,list_of_mentor):\n",
    "    print('Mentors are',list_of_mentor)"
   ]
  },
  {
   "cell_type": "code",
   "execution_count": 89,
   "id": "5ebc6f5e-d420-469a-a42c-d74c247c6842",
   "metadata": {},
   "outputs": [],
   "source": [
    "pwSkills3.mentor = classmethod(mentor)"
   ]
  },
  {
   "cell_type": "code",
   "execution_count": 91,
   "id": "627e36c3-8e32-46fc-ac59-cd50ff6b0d89",
   "metadata": {},
   "outputs": [
    {
     "name": "stdout",
     "output_type": "stream",
     "text": [
      "Mentors are ['sudhanshi', 'krish']\n"
     ]
    }
   ],
   "source": [
    "pwSkills3.mentor(['sudhanshi','krish'])"
   ]
  },
  {
   "cell_type": "code",
   "execution_count": 92,
   "id": "7c31a599-21ab-4cd7-be09-66ac60b4ea7e",
   "metadata": {},
   "outputs": [],
   "source": [
    "class pwSkills4:\n",
    "    \n",
    "    mobile_number = 914669898\n",
    "    \n",
    "    def __init__(self,name,email):\n",
    "        self.name = name\n",
    "        self.email = email\n",
    "        \n",
    "    @classmethod\n",
    "    def change_number(cls,mobile):\n",
    "        pwSkills2.mobile_number = mobile\n",
    "        \n",
    "# cls is a pointer here\n",
    "    @classmethod   \n",
    "    def details(cls,name,email):\n",
    "        return cls(name,email)\n",
    "    \n",
    "    def students_details(self):\n",
    "        print(self.name,self.email,pwSkills2.mobile_number)"
   ]
  },
  {
   "cell_type": "code",
   "execution_count": 96,
   "id": "4cc2021b-af40-4e46-9bcd-0780a02b5cf3",
   "metadata": {},
   "outputs": [
    {
     "ename": "AttributeError",
     "evalue": "change_number",
     "output_type": "error",
     "traceback": [
      "\u001b[0;31m---------------------------------------------------------------------------\u001b[0m",
      "\u001b[0;31mAttributeError\u001b[0m                            Traceback (most recent call last)",
      "Cell \u001b[0;32mIn[96], line 1\u001b[0m\n\u001b[0;32m----> 1\u001b[0m \u001b[38;5;28;01mdel\u001b[39;00m pwSkills4\u001b[38;5;241m.\u001b[39mchange_number\n",
      "\u001b[0;31mAttributeError\u001b[0m: change_number"
     ]
    }
   ],
   "source": [
    "del pwSkills4.change_number"
   ]
  },
  {
   "cell_type": "code",
   "execution_count": 97,
   "id": "9f091e4f-efba-4002-8428-f766dcbb83fd",
   "metadata": {},
   "outputs": [],
   "source": [
    "delattr(pwSkills4,'details')"
   ]
  },
  {
   "cell_type": "code",
   "execution_count": 98,
   "id": "b1f3d183-bdc8-48b1-be90-5514d150c6e5",
   "metadata": {},
   "outputs": [
    {
     "ename": "AttributeError",
     "evalue": "type object 'pwSkills4' has no attribute 'details'",
     "output_type": "error",
     "traceback": [
      "\u001b[0;31m---------------------------------------------------------------------------\u001b[0m",
      "\u001b[0;31mAttributeError\u001b[0m                            Traceback (most recent call last)",
      "Cell \u001b[0;32mIn[98], line 1\u001b[0m\n\u001b[0;32m----> 1\u001b[0m \u001b[43mpwSkills4\u001b[49m\u001b[38;5;241;43m.\u001b[39;49m\u001b[43mdetails\u001b[49m\n",
      "\u001b[0;31mAttributeError\u001b[0m: type object 'pwSkills4' has no attribute 'details'"
     ]
    }
   ],
   "source": [
    "pwSkills4.details"
   ]
  },
  {
   "cell_type": "code",
   "execution_count": 100,
   "id": "9528536e-bf59-4675-b018-d256e4c2859e",
   "metadata": {},
   "outputs": [],
   "source": [
    "delattr(pwSkills4,'students_details')"
   ]
  },
  {
   "cell_type": "code",
   "execution_count": 101,
   "id": "bbbe6f0a-680d-4e1e-8649-3ab04b4e2b54",
   "metadata": {},
   "outputs": [
    {
     "ename": "AttributeError",
     "evalue": "type object 'pwSkills4' has no attribute 'students_details'",
     "output_type": "error",
     "traceback": [
      "\u001b[0;31m---------------------------------------------------------------------------\u001b[0m",
      "\u001b[0;31mAttributeError\u001b[0m                            Traceback (most recent call last)",
      "Cell \u001b[0;32mIn[101], line 1\u001b[0m\n\u001b[0;32m----> 1\u001b[0m \u001b[43mpwSkills4\u001b[49m\u001b[38;5;241;43m.\u001b[39;49m\u001b[43mstudents_details\u001b[49m\n",
      "\u001b[0;31mAttributeError\u001b[0m: type object 'pwSkills4' has no attribute 'students_details'"
     ]
    }
   ],
   "source": [
    "pwSkills4.students_details"
   ]
  },
  {
   "cell_type": "code",
   "execution_count": 102,
   "id": "abf1f30e-1986-4f78-bce8-d7ab0207aae3",
   "metadata": {},
   "outputs": [],
   "source": [
    "delattr(pwSkills4,'mobile_number')"
   ]
  },
  {
   "cell_type": "code",
   "execution_count": 103,
   "id": "caaa2560-c9d5-45c1-bbf3-8866de2b686d",
   "metadata": {},
   "outputs": [
    {
     "ename": "AttributeError",
     "evalue": "type object 'pwSkills4' has no attribute 'mobile_number'",
     "output_type": "error",
     "traceback": [
      "\u001b[0;31m---------------------------------------------------------------------------\u001b[0m",
      "\u001b[0;31mAttributeError\u001b[0m                            Traceback (most recent call last)",
      "Cell \u001b[0;32mIn[103], line 1\u001b[0m\n\u001b[0;32m----> 1\u001b[0m \u001b[43mpwSkills4\u001b[49m\u001b[38;5;241;43m.\u001b[39;49m\u001b[43mmobile_number\u001b[49m\n",
      "\u001b[0;31mAttributeError\u001b[0m: type object 'pwSkills4' has no attribute 'mobile_number'"
     ]
    }
   ],
   "source": [
    "pwSkills4.mobile_number"
   ]
  },
  {
   "cell_type": "code",
   "execution_count": 1,
   "id": "c7b40194-6c53-4ce8-8e8a-3aabf06c9c5d",
   "metadata": {},
   "outputs": [],
   "source": [
    "# Static Method"
   ]
  },
  {
   "cell_type": "code",
   "execution_count": 11,
   "id": "66baca9c-869e-4ae0-943f-5838a3b85cb8",
   "metadata": {},
   "outputs": [],
   "source": [
    "class pwSkills5:\n",
    "    \n",
    "    def student_deatails(self,name,email,phone):\n",
    "        print(name,email,phone)"
   ]
  },
  {
   "cell_type": "code",
   "execution_count": 12,
   "id": "75ab4d69-b9d6-4686-86aa-408e88a77cd9",
   "metadata": {},
   "outputs": [],
   "source": [
    "pw = pwSkills5()"
   ]
  },
  {
   "cell_type": "code",
   "execution_count": 14,
   "id": "a95fad98-6af0-4fc2-b7da-b5f67cf5e68f",
   "metadata": {},
   "outputs": [
    {
     "name": "stdout",
     "output_type": "stream",
     "text": [
      "Nikhil nikhil@gmail.com 9146935543\n"
     ]
    }
   ],
   "source": [
    "pw.student_deatails('Nikhil','nikhil@gmail.com',9146935543)"
   ]
  },
  {
   "cell_type": "code",
   "execution_count": 40,
   "id": "aacea517-595a-4e5e-92a1-92a632bbf9b2",
   "metadata": {},
   "outputs": [],
   "source": [
    "class pwSkills6:\n",
    "    \n",
    "    def student_deatails(self,name,email,phone):\n",
    "        print(name,email,phone)\n",
    "        \n",
    "    @staticmethod\n",
    "    def mentor_class(list_mentor):\n",
    "        print(list_mentor)\n",
    "        \n",
    "    def mentor(self,mentor_list):\n",
    "        print(mentor_list)"
   ]
  },
  {
   "cell_type": "code",
   "execution_count": 41,
   "id": "f0a7e502-3de8-40ec-9830-0bcd10622e19",
   "metadata": {},
   "outputs": [
    {
     "name": "stdout",
     "output_type": "stream",
     "text": [
      "['sudh', 'krish']\n"
     ]
    }
   ],
   "source": [
    "pwSkills6.mentor_class(['sudh','krish'])"
   ]
  },
  {
   "cell_type": "code",
   "execution_count": 42,
   "id": "c8377dd8-3f75-4f5c-ab0a-5b73d24c869d",
   "metadata": {},
   "outputs": [],
   "source": [
    "student1 = pwSkills6()"
   ]
  },
  {
   "cell_type": "code",
   "execution_count": 43,
   "id": "7e2207ba-738f-4651-a703-2db5ad3eba2c",
   "metadata": {},
   "outputs": [
    {
     "name": "stdout",
     "output_type": "stream",
     "text": [
      "nikhil dnsddew 9877655\n"
     ]
    }
   ],
   "source": [
    "student1.student_deatails('nikhil','dnsddew',9877655)"
   ]
  },
  {
   "cell_type": "code",
   "execution_count": 44,
   "id": "160b200e-a411-4aff-9979-56f6b49cc989",
   "metadata": {},
   "outputs": [
    {
     "name": "stdout",
     "output_type": "stream",
     "text": [
      "['sudh', 'krish']\n"
     ]
    }
   ],
   "source": [
    "student1.mentor(['sudh','krish'])"
   ]
  },
  {
   "cell_type": "code",
   "execution_count": 45,
   "id": "b206fc62-769b-480c-baea-0cc5ad53c87c",
   "metadata": {},
   "outputs": [
    {
     "name": "stdout",
     "output_type": "stream",
     "text": [
      "['sudh', 'krish']\n"
     ]
    }
   ],
   "source": [
    "student1.mentor_class(['sudh','krish'])"
   ]
  },
  {
   "cell_type": "code",
   "execution_count": 59,
   "id": "fd750448-80f3-41eb-b0b5-a2d797516291",
   "metadata": {},
   "outputs": [],
   "source": [
    "class pwSkills7:\n",
    "    \n",
    "    def student_details(self,name,email,phone):\n",
    "        print(name,email,phone)\n",
    "        \n",
    "    @staticmethod\n",
    "    def metor_mail_id(mailed_mail_id):\n",
    "        print(mailed_mail_id)\n",
    "        \n",
    "    @staticmethod\n",
    "    def mentor_class(list_mentor):\n",
    "        pwSkills7.metor_mail_id(['nikhil@gmail.com','nik@gmail.com'])\n",
    "        print(list_mentor)\n",
    "        \n",
    "    @classmethod\n",
    "    def class_name(cls):\n",
    "        cls.mentor_class(['sudh','krish'])\n",
    "        \n",
    "    def mentor(self,mentor_list):\n",
    "        print(mentor_list)\n",
    "        self.mentor_class(['nikhil','aniket'])"
   ]
  },
  {
   "cell_type": "code",
   "execution_count": 60,
   "id": "72e23159-3e1b-4252-a307-95ccc70c77c4",
   "metadata": {},
   "outputs": [
    {
     "name": "stdout",
     "output_type": "stream",
     "text": [
      "['nikhil@gmail.com', 'nik@gmail.com']\n",
      "['sudh', 'krish']\n"
     ]
    }
   ],
   "source": [
    "pwSkills7.class_name()"
   ]
  },
  {
   "cell_type": "code",
   "execution_count": 61,
   "id": "cbbf6bb3-fd9c-47b6-9acf-403b693f1a47",
   "metadata": {},
   "outputs": [
    {
     "name": "stdout",
     "output_type": "stream",
     "text": [
      "['nikhil@gmail.com', 'nik@gmail.com']\n",
      "['nikhil', 'aniket']\n"
     ]
    }
   ],
   "source": [
    "pwSkills7.mentor_class(['nikhil','aniket'])"
   ]
  },
  {
   "cell_type": "code",
   "execution_count": 62,
   "id": "c84c3769-7c39-4a63-8976-b6574493d4cb",
   "metadata": {},
   "outputs": [],
   "source": [
    "pw = pwSkills7()"
   ]
  },
  {
   "cell_type": "code",
   "execution_count": 64,
   "id": "44ad85a1-ec50-444b-b4df-505a0a4e51d6",
   "metadata": {},
   "outputs": [
    {
     "name": "stdout",
     "output_type": "stream",
     "text": [
      "['nikhil', 'aniket']\n",
      "['nikhil@gmail.com', 'nik@gmail.com']\n",
      "['nikhil', 'aniket']\n"
     ]
    }
   ],
   "source": [
    "pw.mentor(['nikhil','aniket'])"
   ]
  },
  {
   "cell_type": "code",
   "execution_count": 66,
   "id": "21e07c1b-20a8-4fbb-81bb-25fefbd0d2fd",
   "metadata": {},
   "outputs": [],
   "source": [
    "# Special Magic/Dunder methods"
   ]
  },
  {
   "cell_type": "code",
   "execution_count": 120,
   "id": "c00b528f-ebb6-4191-8b8c-72b9c02447be",
   "metadata": {},
   "outputs": [
    {
     "data": {
      "text/plain": [
       "['__abs__',\n",
       " '__add__',\n",
       " '__and__',\n",
       " '__bool__',\n",
       " '__ceil__',\n",
       " '__class__',\n",
       " '__delattr__',\n",
       " '__dir__',\n",
       " '__divmod__',\n",
       " '__doc__',\n",
       " '__eq__',\n",
       " '__float__',\n",
       " '__floor__',\n",
       " '__floordiv__',\n",
       " '__format__',\n",
       " '__ge__',\n",
       " '__getattribute__',\n",
       " '__getnewargs__',\n",
       " '__gt__',\n",
       " '__hash__',\n",
       " '__index__',\n",
       " '__init__',\n",
       " '__init_subclass__',\n",
       " '__int__',\n",
       " '__invert__',\n",
       " '__le__',\n",
       " '__lshift__',\n",
       " '__lt__',\n",
       " '__mod__',\n",
       " '__mul__',\n",
       " '__ne__',\n",
       " '__neg__',\n",
       " '__new__',\n",
       " '__or__',\n",
       " '__pos__',\n",
       " '__pow__',\n",
       " '__radd__',\n",
       " '__rand__',\n",
       " '__rdivmod__',\n",
       " '__reduce__',\n",
       " '__reduce_ex__',\n",
       " '__repr__',\n",
       " '__rfloordiv__',\n",
       " '__rlshift__',\n",
       " '__rmod__',\n",
       " '__rmul__',\n",
       " '__ror__',\n",
       " '__round__',\n",
       " '__rpow__',\n",
       " '__rrshift__',\n",
       " '__rshift__',\n",
       " '__rsub__',\n",
       " '__rtruediv__',\n",
       " '__rxor__',\n",
       " '__setattr__',\n",
       " '__sizeof__',\n",
       " '__str__',\n",
       " '__sub__',\n",
       " '__subclasshook__',\n",
       " '__truediv__',\n",
       " '__trunc__',\n",
       " '__xor__',\n",
       " 'as_integer_ratio',\n",
       " 'bit_count',\n",
       " 'bit_length',\n",
       " 'conjugate',\n",
       " 'denominator',\n",
       " 'from_bytes',\n",
       " 'imag',\n",
       " 'numerator',\n",
       " 'real',\n",
       " 'to_bytes']"
      ]
     },
     "execution_count": 120,
     "metadata": {},
     "output_type": "execute_result"
    }
   ],
   "source": [
    "dir(int)"
   ]
  },
  {
   "cell_type": "code",
   "execution_count": 73,
   "id": "866241b8-96b5-443e-858b-a0cb640a61ad",
   "metadata": {},
   "outputs": [],
   "source": [
    "a = 100"
   ]
  },
  {
   "cell_type": "code",
   "execution_count": 74,
   "id": "994ca758-63e4-403d-997e-a205cdafb8e1",
   "metadata": {},
   "outputs": [
    {
     "data": {
      "text/plain": [
       "105"
      ]
     },
     "execution_count": 74,
     "metadata": {},
     "output_type": "execute_result"
    }
   ],
   "source": [
    "a + 5"
   ]
  },
  {
   "cell_type": "code",
   "execution_count": 75,
   "id": "732927b0-d215-4609-83dd-c43ec3898088",
   "metadata": {},
   "outputs": [
    {
     "data": {
      "text/plain": [
       "100"
      ]
     },
     "execution_count": 75,
     "metadata": {},
     "output_type": "execute_result"
    }
   ],
   "source": [
    "a"
   ]
  },
  {
   "cell_type": "code",
   "execution_count": 76,
   "id": "088a9abe-c996-4862-8587-2459d920abfd",
   "metadata": {},
   "outputs": [
    {
     "data": {
      "text/plain": [
       "105"
      ]
     },
     "execution_count": 76,
     "metadata": {},
     "output_type": "execute_result"
    }
   ],
   "source": [
    "a.__add__(5)"
   ]
  },
  {
   "cell_type": "code",
   "execution_count": 92,
   "id": "1b4afdc8-b519-4eda-9a5a-19d59613dd4b",
   "metadata": {},
   "outputs": [],
   "source": [
    "class Pwskills:\n",
    "    \n",
    "    def __new__(cls):\n",
    "        print('this is my new')\n",
    " \n",
    "    def __init__(self):\n",
    "        print('this is my init')\n",
    "        self.mobile_number = 3455667"
   ]
  },
  {
   "cell_type": "code",
   "execution_count": 93,
   "id": "e7a5d27f-07ca-4685-83dd-08534c69d816",
   "metadata": {},
   "outputs": [
    {
     "name": "stdout",
     "output_type": "stream",
     "text": [
      "this is my new\n"
     ]
    }
   ],
   "source": [
    "q = Pwskills()"
   ]
  },
  {
   "cell_type": "code",
   "execution_count": 95,
   "id": "18a403c2-7dbd-4e15-a38f-84164890e6dd",
   "metadata": {},
   "outputs": [
    {
     "ename": "AttributeError",
     "evalue": "'NoneType' object has no attribute 'mobile_number'",
     "output_type": "error",
     "traceback": [
      "\u001b[0;31m---------------------------------------------------------------------------\u001b[0m",
      "\u001b[0;31mAttributeError\u001b[0m                            Traceback (most recent call last)",
      "Cell \u001b[0;32mIn[95], line 1\u001b[0m\n\u001b[0;32m----> 1\u001b[0m \u001b[43mq\u001b[49m\u001b[38;5;241;43m.\u001b[39;49m\u001b[43mmobile_number\u001b[49m\n",
      "\u001b[0;31mAttributeError\u001b[0m: 'NoneType' object has no attribute 'mobile_number'"
     ]
    }
   ],
   "source": [
    "q.mobile_number"
   ]
  },
  {
   "cell_type": "code",
   "execution_count": 113,
   "id": "e0205390-92d0-4665-a06f-230fbb7c56a7",
   "metadata": {},
   "outputs": [],
   "source": [
    "class Pwskills1:\n",
    " \n",
    "    def __init__(self):\n",
    "        self.mobile_number = 3455667\n",
    "        \n",
    "    def __str__(self):\n",
    "        return 'this is my magic call of str'"
   ]
  },
  {
   "cell_type": "code",
   "execution_count": 114,
   "id": "101aa83d-ce05-472f-aa6e-8705a36e487a",
   "metadata": {},
   "outputs": [],
   "source": [
    "pw1 = Pwskills1()\n"
   ]
  },
  {
   "cell_type": "code",
   "execution_count": 115,
   "id": "b5efcb67-3ef0-47b5-8d4b-03e148438f0e",
   "metadata": {},
   "outputs": [
    {
     "data": {
      "text/plain": [
       "<__main__.Pwskills1 at 0x7f1c526d01c0>"
      ]
     },
     "execution_count": 115,
     "metadata": {},
     "output_type": "execute_result"
    }
   ],
   "source": [
    "pw1"
   ]
  },
  {
   "cell_type": "code",
   "execution_count": 116,
   "id": "05b23c0f-0519-450a-b364-874a900ca15b",
   "metadata": {},
   "outputs": [
    {
     "name": "stdout",
     "output_type": "stream",
     "text": [
      "this is my magic call of str\n"
     ]
    }
   ],
   "source": [
    "print(pw1)"
   ]
  },
  {
   "cell_type": "code",
   "execution_count": 121,
   "id": "6c48eaf0-3a7f-40a0-8b3a-3db77608aa91",
   "metadata": {},
   "outputs": [],
   "source": [
    "# Property Decorators Getters,Setters,And"
   ]
  },
  {
   "cell_type": "code",
   "execution_count": 151,
   "id": "6f2c2ae1-28bf-44c4-a9b9-7267adfa7dd6",
   "metadata": {},
   "outputs": [],
   "source": [
    "class pwskills:\n",
    "    def __init__(self,course_price,course_name):\n",
    "        self.__course_price = course_price\n",
    "        self.course_name = course_name\n",
    "     \n",
    "    @property\n",
    "    def course_price_access(self):\n",
    "        return  self.__course_price\n",
    "    \n",
    "    @course_price_access.setter\n",
    "    def course_price_set(self,price):\n",
    "        if price <= 3500:\n",
    "            pass\n",
    "        else:\n",
    "            self.__course_price = price\n",
    "            \n",
    "    @course_price_access.deleter\n",
    "    def delete_course_price(self):\n",
    "        del self.__course_price"
   ]
  },
  {
   "cell_type": "code",
   "execution_count": 142,
   "id": "b0d02e22-c6e8-40c7-a2c7-8d0439516b25",
   "metadata": {},
   "outputs": [],
   "source": [
    "pw = pwskills(4000,'data science master')"
   ]
  },
  {
   "cell_type": "code",
   "execution_count": 143,
   "id": "5975fbc9-d498-44f3-812f-4d7c5ca64a2b",
   "metadata": {},
   "outputs": [
    {
     "data": {
      "text/plain": [
       "4000"
      ]
     },
     "execution_count": 143,
     "metadata": {},
     "output_type": "execute_result"
    }
   ],
   "source": [
    "pw._pwskills__course_price"
   ]
  },
  {
   "cell_type": "code",
   "execution_count": 144,
   "id": "c4ac36a6-a866-4bbd-8647-cc6e935f75ad",
   "metadata": {},
   "outputs": [
    {
     "data": {
      "text/plain": [
       "'data science master'"
      ]
     },
     "execution_count": 144,
     "metadata": {},
     "output_type": "execute_result"
    }
   ],
   "source": [
    "pw.course_name"
   ]
  },
  {
   "cell_type": "code",
   "execution_count": 145,
   "id": "c485400d-3a22-4636-9517-1ad28f6870fc",
   "metadata": {},
   "outputs": [
    {
     "data": {
      "text/plain": [
       "4000"
      ]
     },
     "execution_count": 145,
     "metadata": {},
     "output_type": "execute_result"
    }
   ],
   "source": [
    "pw.course_price_access"
   ]
  },
  {
   "cell_type": "code",
   "execution_count": 146,
   "id": "5a8f1c66-3edb-4ed9-9137-f1f36b597caa",
   "metadata": {},
   "outputs": [],
   "source": [
    "pw.course_price_set = 4500"
   ]
  },
  {
   "cell_type": "code",
   "execution_count": 147,
   "id": "f32336a8-311b-43dc-90a2-48814d6bb507",
   "metadata": {},
   "outputs": [
    {
     "data": {
      "text/plain": [
       "4500"
      ]
     },
     "execution_count": 147,
     "metadata": {},
     "output_type": "execute_result"
    }
   ],
   "source": [
    "pw._pwskills__course_price"
   ]
  },
  {
   "cell_type": "code",
   "execution_count": 148,
   "id": "acee75ad-b530-4e57-bb83-dba5ec5f9189",
   "metadata": {},
   "outputs": [
    {
     "data": {
      "text/plain": [
       "'data science master'"
      ]
     },
     "execution_count": 148,
     "metadata": {},
     "output_type": "execute_result"
    }
   ],
   "source": [
    "pw.course_name"
   ]
  },
  {
   "cell_type": "code",
   "execution_count": 149,
   "id": "bbf7d0f3-8de1-46f1-892c-17b8588ba43c",
   "metadata": {},
   "outputs": [
    {
     "data": {
      "text/plain": [
       "4500"
      ]
     },
     "execution_count": 149,
     "metadata": {},
     "output_type": "execute_result"
    }
   ],
   "source": [
    "pw.course_price_access"
   ]
  },
  {
   "cell_type": "code",
   "execution_count": 153,
   "id": "90b8b0a4-eac2-4c20-83c5-04531373aec8",
   "metadata": {},
   "outputs": [
    {
     "ename": "AttributeError",
     "evalue": "delete_course_price",
     "output_type": "error",
     "traceback": [
      "\u001b[0;31m---------------------------------------------------------------------------\u001b[0m",
      "\u001b[0;31mAttributeError\u001b[0m                            Traceback (most recent call last)",
      "Cell \u001b[0;32mIn[153], line 1\u001b[0m\n\u001b[0;32m----> 1\u001b[0m \u001b[38;5;28;01mdel\u001b[39;00m pw\u001b[38;5;241m.\u001b[39mdelete_course_price\n",
      "\u001b[0;31mAttributeError\u001b[0m: delete_course_price"
     ]
    }
   ],
   "source": [
    "del pw.delete_course_price"
   ]
  },
  {
   "cell_type": "code",
   "execution_count": 154,
   "id": "aa5c6b1b-fae3-4b55-8793-65b0c2b79a97",
   "metadata": {},
   "outputs": [
    {
     "data": {
      "text/plain": [
       "4500"
      ]
     },
     "execution_count": 154,
     "metadata": {},
     "output_type": "execute_result"
    }
   ],
   "source": [
    "pw.course_price_access"
   ]
  }
 ],
 "metadata": {
  "kernelspec": {
   "display_name": "Python 3 (ipykernel)",
   "language": "python",
   "name": "python3"
  },
  "language_info": {
   "codemirror_mode": {
    "name": "ipython",
    "version": 3
   },
   "file_extension": ".py",
   "mimetype": "text/x-python",
   "name": "python",
   "nbconvert_exporter": "python",
   "pygments_lexer": "ipython3",
   "version": "3.10.8"
  }
 },
 "nbformat": 4,
 "nbformat_minor": 5
}

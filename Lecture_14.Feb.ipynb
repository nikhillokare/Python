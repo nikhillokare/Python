{
 "cells": [
  {
   "cell_type": "code",
   "execution_count": 1,
   "id": "0c991e7a-e721-4156-8c0e-b05b49722b8c",
   "metadata": {},
   "outputs": [],
   "source": [
    "#MultiThreading"
   ]
  },
  {
   "cell_type": "code",
   "execution_count": 2,
   "id": "cefc12c9-76ab-470c-ae42-fbf60dcf6c7d",
   "metadata": {},
   "outputs": [],
   "source": [
    "import threading"
   ]
  },
  {
   "cell_type": "code",
   "execution_count": 7,
   "id": "6ae372f6-a1ad-41c9-87fe-17c8777d27f6",
   "metadata": {},
   "outputs": [],
   "source": [
    "def test(id):\n",
    "    print('program start %d'%id)"
   ]
  },
  {
   "cell_type": "code",
   "execution_count": 8,
   "id": "c7f8130e-461d-4801-b856-f95e3d78665d",
   "metadata": {},
   "outputs": [
    {
     "name": "stdout",
     "output_type": "stream",
     "text": [
      "program start 7\n"
     ]
    }
   ],
   "source": [
    "test(7)"
   ]
  },
  {
   "cell_type": "code",
   "execution_count": 11,
   "id": "7ad74235-cc9c-4a6a-894d-654de626f937",
   "metadata": {},
   "outputs": [],
   "source": [
    "thread =  [threading.Thread(target = test,args = (i,)) for i in range(10)]"
   ]
  },
  {
   "cell_type": "code",
   "execution_count": 12,
   "id": "9c2b4e77-1fd5-4e5a-9a5c-4d5faf501d7f",
   "metadata": {},
   "outputs": [
    {
     "name": "stdout",
     "output_type": "stream",
     "text": [
      "program start 0\n",
      "program start 1\n",
      "program start 2\n",
      "program start 3\n",
      "program start 4\n",
      "program start 5\n",
      "program start 6\n",
      "program start 7\n",
      "program start 8\n",
      "program start 9\n"
     ]
    }
   ],
   "source": [
    "for t in thread:\n",
    "    t.start()"
   ]
  },
  {
   "cell_type": "code",
   "execution_count": 13,
   "id": "6f53eb3d-7561-4d75-831a-0523637b5284",
   "metadata": {},
   "outputs": [
    {
     "data": {
      "text/plain": [
       "[<Thread(Thread-5 (test), stopped 139744402990656)>,\n",
       " <Thread(Thread-6 (test), stopped 139744402990656)>,\n",
       " <Thread(Thread-7 (test), stopped 139744402990656)>,\n",
       " <Thread(Thread-8 (test), stopped 139744402990656)>,\n",
       " <Thread(Thread-9 (test), stopped 139744402990656)>,\n",
       " <Thread(Thread-10 (test), stopped 139744402990656)>,\n",
       " <Thread(Thread-11 (test), stopped 139744402990656)>,\n",
       " <Thread(Thread-12 (test), stopped 139744402990656)>,\n",
       " <Thread(Thread-13 (test), stopped 139744402990656)>,\n",
       " <Thread(Thread-14 (test), stopped 139744402990656)>]"
      ]
     },
     "execution_count": 13,
     "metadata": {},
     "output_type": "execute_result"
    }
   ],
   "source": [
    "thread"
   ]
  },
  {
   "cell_type": "code",
   "execution_count": 14,
   "id": "8cf350f7-b696-4b46-811a-8aa8e8a2a1a7",
   "metadata": {},
   "outputs": [
    {
     "data": {
      "text/plain": [
       "139744817988032"
      ]
     },
     "execution_count": 23,
     "metadata": {},
     "output_type": "execute_result"
    }
   ],
   "source": [
    "id(thread)"
   ]
  },
  {
   "cell_type": "code",
   "execution_count": 16,
   "id": "2573f875-b814-4243-b1e6-4033a4021aea",
   "metadata": {},
   "outputs": [],
   "source": [
    "import threading\n",
    "import urllib.request"
   ]
  },
  {
   "cell_type": "code",
   "execution_count": 20,
   "id": "dac7bec6-4754-4e8b-98b0-2638c62dc90a",
   "metadata": {},
   "outputs": [],
   "source": [
    "def file_download(url,filename):\n",
    "    urllib.request.urlretrieve(url,filename)"
   ]
  },
  {
   "cell_type": "code",
   "execution_count": 27,
   "id": "dd0bfa0e-7181-4ac9-a9b9-032d2ad376a6",
   "metadata": {},
   "outputs": [],
   "source": [
    "file_download('https://github.com/nikhillokare/Python/blob/main/Lecture_11.Feb.ipynb','text9.txt')"
   ]
  },
  {
   "cell_type": "code",
   "execution_count": 28,
   "id": "10254a44-6814-4c74-b20c-e5af0fdd842e",
   "metadata": {},
   "outputs": [],
   "source": [
    "url_list = ['https://github.com/nikhillokare/Python/blob/main/Lecture_11.Feb.ipynb','https://github.com/nikhillokare/Python/blob/main/Lecture_06.ipynb','https://github.com/nikhillokare/Python/blob/main/Lecture_03.ipynb']"
   ]
  },
  {
   "cell_type": "code",
   "execution_count": 29,
   "id": "d6215587-a0b3-425d-9b51-cf6ec8d4151e",
   "metadata": {},
   "outputs": [
    {
     "data": {
      "text/plain": [
       "['https://github.com/nikhillokare/Python/blob/main/Lecture_11.Feb.ipynb',\n",
       " 'https://github.com/nikhillokare/Python/blob/main/Lecture_06.ipynb',\n",
       " 'https://github.com/nikhillokare/Python/blob/main/Lecture_03.ipynb']"
      ]
     },
     "execution_count": 29,
     "metadata": {},
     "output_type": "execute_result"
    }
   ],
   "source": [
    "url_list"
   ]
  },
  {
   "cell_type": "code",
   "execution_count": 30,
   "id": "053c0c80-d0f6-475e-8f46-02b99132eb53",
   "metadata": {},
   "outputs": [],
   "source": [
    "file_name_list = ['data1.txt','data2.txt','data3.txt']"
   ]
  },
  {
   "cell_type": "code",
   "execution_count": 33,
   "id": "af68cf14-1f7b-4cc0-8062-1ca8de6e7501",
   "metadata": {},
   "outputs": [],
   "source": [
    "ther = [threading.Thread(target = file_download, args = (url_list[i],file_name_list[i])) for i in range(len(url_list))]"
   ]
  },
  {
   "cell_type": "code",
   "execution_count": 36,
   "id": "e7d181b6-bc10-469d-aabc-70fc4ea506a4",
   "metadata": {},
   "outputs": [
    {
     "data": {
      "text/plain": [
       "[<Thread(Thread-15 (file_download), stopped 139744402990656)>,\n",
       " <Thread(Thread-16 (file_download), stopped 139744394597952)>,\n",
       " <Thread(Thread-17 (file_download), stopped 139744386205248)>]"
      ]
     },
     "execution_count": 36,
     "metadata": {},
     "output_type": "execute_result"
    }
   ],
   "source": [
    "ther"
   ]
  },
  {
   "cell_type": "code",
   "execution_count": 37,
   "id": "8fcea7eb-b9f1-4eb4-8f4b-ba397ec498b5",
   "metadata": {},
   "outputs": [
    {
     "ename": "RuntimeError",
     "evalue": "threads can only be started once",
     "output_type": "error",
     "traceback": [
      "\u001b[0;31m---------------------------------------------------------------------------\u001b[0m",
      "\u001b[0;31mRuntimeError\u001b[0m                              Traceback (most recent call last)",
      "Cell \u001b[0;32mIn[37], line 2\u001b[0m\n\u001b[1;32m      1\u001b[0m \u001b[38;5;28;01mfor\u001b[39;00m t \u001b[38;5;129;01min\u001b[39;00m ther:\n\u001b[0;32m----> 2\u001b[0m     \u001b[43mt\u001b[49m\u001b[38;5;241;43m.\u001b[39;49m\u001b[43mstart\u001b[49m\u001b[43m(\u001b[49m\u001b[43m)\u001b[49m\n",
      "File \u001b[0;32m/opt/conda/lib/python3.10/threading.py:930\u001b[0m, in \u001b[0;36mThread.start\u001b[0;34m(self)\u001b[0m\n\u001b[1;32m    927\u001b[0m     \u001b[38;5;28;01mraise\u001b[39;00m \u001b[38;5;167;01mRuntimeError\u001b[39;00m(\u001b[38;5;124m\"\u001b[39m\u001b[38;5;124mthread.__init__() not called\u001b[39m\u001b[38;5;124m\"\u001b[39m)\n\u001b[1;32m    929\u001b[0m \u001b[38;5;28;01mif\u001b[39;00m \u001b[38;5;28mself\u001b[39m\u001b[38;5;241m.\u001b[39m_started\u001b[38;5;241m.\u001b[39mis_set():\n\u001b[0;32m--> 930\u001b[0m     \u001b[38;5;28;01mraise\u001b[39;00m \u001b[38;5;167;01mRuntimeError\u001b[39;00m(\u001b[38;5;124m\"\u001b[39m\u001b[38;5;124mthreads can only be started once\u001b[39m\u001b[38;5;124m\"\u001b[39m)\n\u001b[1;32m    932\u001b[0m \u001b[38;5;28;01mwith\u001b[39;00m _active_limbo_lock:\n\u001b[1;32m    933\u001b[0m     _limbo[\u001b[38;5;28mself\u001b[39m] \u001b[38;5;241m=\u001b[39m \u001b[38;5;28mself\u001b[39m\n",
      "\u001b[0;31mRuntimeError\u001b[0m: threads can only be started once"
     ]
    }
   ],
   "source": [
    "for t in ther:\n",
    "    t.start()"
   ]
  },
  {
   "cell_type": "code",
   "execution_count": 38,
   "id": "98e04b88-0c66-4ceb-93af-c2f5be7d58af",
   "metadata": {},
   "outputs": [],
   "source": [
    "import threading\n",
    "import urllib.request\n",
    "\n",
    "def new(url,filename):\n",
    "    urllib.request.urlretrieve(url,filename)"
   ]
  },
  {
   "cell_type": "code",
   "execution_count": 54,
   "id": "669d983b-9aa4-4667-96f4-4d4afcb95b53",
   "metadata": {},
   "outputs": [],
   "source": [
    "new('https://github.com/nikhillokare/TextUtils---React.js', 'nikhil.txt')"
   ]
  },
  {
   "cell_type": "code",
   "execution_count": 55,
   "id": "cc567370-9e70-4a4f-b01f-e7f52508c304",
   "metadata": {},
   "outputs": [],
   "source": [
    "urll = ['https://github.com/nikhillokare/TextUtils---React.js']"
   ]
  },
  {
   "cell_type": "code",
   "execution_count": 56,
   "id": "6aed6e3f-dde9-47bf-beaf-b1e6c2a6eb23",
   "metadata": {},
   "outputs": [],
   "source": [
    "therd = [threading.Thread(target = new, args = (urll,)) for i in range(len(urll))]"
   ]
  },
  {
   "cell_type": "code",
   "execution_count": 57,
   "id": "d1c3b822-81f1-4049-b68d-4d373c5293c8",
   "metadata": {},
   "outputs": [
    {
     "name": "stderr",
     "output_type": "stream",
     "text": [
      "Exception in thread Thread-20 (new):\n",
      "Traceback (most recent call last):\n",
      "  File \"/opt/conda/lib/python3.10/threading.py\", line 1016, in _bootstrap_inner\n",
      "    self.run()\n",
      "  File \"/opt/conda/lib/python3.10/threading.py\", line 953, in run\n",
      "    self._target(*self._args, **self._kwargs)\n",
      "TypeError: new() missing 1 required positional argument: 'filename'\n"
     ]
    }
   ],
   "source": [
    "for t in therd:\n",
    "    t.start()"
   ]
  },
  {
   "cell_type": "code",
   "execution_count": 58,
   "id": "e9b86c03-36e4-4b0c-900c-066a1e5ac297",
   "metadata": {},
   "outputs": [
    {
     "data": {
      "text/plain": [
       "[<Thread(Thread-20 (new), stopped 139744394597952)>]"
      ]
     },
     "execution_count": 58,
     "metadata": {},
     "output_type": "execute_result"
    }
   ],
   "source": [
    "therd"
   ]
  },
  {
   "cell_type": "code",
   "execution_count": 53,
   "id": "6ba5dbf1-e440-4f61-a697-0528c90522dd",
   "metadata": {},
   "outputs": [
    {
     "name": "stderr",
     "output_type": "stream",
     "text": [
      "Exception in thread Thread-19 (new):\n",
      "Traceback (most recent call last):\n",
      "  File \"/opt/conda/lib/python3.10/threading.py\", line 1016, in _bootstrap_inner\n",
      "    self.run()\n",
      "  File \"/opt/conda/lib/python3.10/threading.py\", line 953, in run\n",
      "    self._target(*self._args, **self._kwargs)\n",
      "TypeError: new() missing 1 required positional argument: 'filename'\n"
     ]
    }
   ],
   "source": [
    "for t in therd:\n",
    "    t.start()"
   ]
  },
  {
   "cell_type": "code",
   "execution_count": 59,
   "id": "6fa921ea-ca3f-49f5-96ea-13c82cfec5cd",
   "metadata": {},
   "outputs": [],
   "source": [
    "import time"
   ]
  },
  {
   "cell_type": "code",
   "execution_count": 87,
   "id": "5734456c-29e1-4685-b639-6488ebef87b4",
   "metadata": {},
   "outputs": [],
   "source": [
    "def test1(id):\n",
    "    for i in range(10):\n",
    "        print('test1 %d printing %d %s'%(id,i,time.ctime()))\n",
    "        time.sleep(1)"
   ]
  },
  {
   "cell_type": "code",
   "execution_count": 88,
   "id": "6c6526c8-3f16-45b1-800c-117f18bb04e1",
   "metadata": {},
   "outputs": [
    {
     "name": "stdout",
     "output_type": "stream",
     "text": [
      "test1 0 printing 0 Wed Feb 15 13:06:27 2023\n",
      "test1 0 printing 1 Wed Feb 15 13:06:28 2023\n",
      "test1 0 printing 2 Wed Feb 15 13:06:29 2023\n",
      "test1 0 printing 3 Wed Feb 15 13:06:30 2023\n",
      "test1 0 printing 4 Wed Feb 15 13:06:31 2023\n",
      "test1 0 printing 5 Wed Feb 15 13:06:32 2023\n",
      "test1 0 printing 6 Wed Feb 15 13:06:33 2023\n",
      "test1 0 printing 7 Wed Feb 15 13:06:34 2023\n",
      "test1 0 printing 8 Wed Feb 15 13:06:35 2023\n",
      "test1 0 printing 9 Wed Feb 15 13:06:36 2023\n"
     ]
    }
   ],
   "source": [
    "test1(0)"
   ]
  },
  {
   "cell_type": "code",
   "execution_count": 89,
   "id": "61a46b51-90df-46b3-b765-9d800861b20a",
   "metadata": {},
   "outputs": [],
   "source": [
    "p1 = [threading.Thread(target = test1,args = (i,)) for i in range(3)]"
   ]
  },
  {
   "cell_type": "code",
   "execution_count": 91,
   "id": "94f942dd-862e-4e0a-aec1-11e9473fc2d6",
   "metadata": {},
   "outputs": [
    {
     "ename": "RuntimeError",
     "evalue": "threads can only be started once",
     "output_type": "error",
     "traceback": [
      "\u001b[0;31m---------------------------------------------------------------------------\u001b[0m",
      "\u001b[0;31mRuntimeError\u001b[0m                              Traceback (most recent call last)",
      "Cell \u001b[0;32mIn[91], line 2\u001b[0m\n\u001b[1;32m      1\u001b[0m \u001b[38;5;28;01mfor\u001b[39;00m t \u001b[38;5;129;01min\u001b[39;00m p1:\n\u001b[0;32m----> 2\u001b[0m     \u001b[43mt\u001b[49m\u001b[38;5;241;43m.\u001b[39;49m\u001b[43mstart\u001b[49m\u001b[43m(\u001b[49m\u001b[43m)\u001b[49m\n",
      "File \u001b[0;32m/opt/conda/lib/python3.10/threading.py:930\u001b[0m, in \u001b[0;36mThread.start\u001b[0;34m(self)\u001b[0m\n\u001b[1;32m    927\u001b[0m     \u001b[38;5;28;01mraise\u001b[39;00m \u001b[38;5;167;01mRuntimeError\u001b[39;00m(\u001b[38;5;124m\"\u001b[39m\u001b[38;5;124mthread.__init__() not called\u001b[39m\u001b[38;5;124m\"\u001b[39m)\n\u001b[1;32m    929\u001b[0m \u001b[38;5;28;01mif\u001b[39;00m \u001b[38;5;28mself\u001b[39m\u001b[38;5;241m.\u001b[39m_started\u001b[38;5;241m.\u001b[39mis_set():\n\u001b[0;32m--> 930\u001b[0m     \u001b[38;5;28;01mraise\u001b[39;00m \u001b[38;5;167;01mRuntimeError\u001b[39;00m(\u001b[38;5;124m\"\u001b[39m\u001b[38;5;124mthreads can only be started once\u001b[39m\u001b[38;5;124m\"\u001b[39m)\n\u001b[1;32m    932\u001b[0m \u001b[38;5;28;01mwith\u001b[39;00m _active_limbo_lock:\n\u001b[1;32m    933\u001b[0m     _limbo[\u001b[38;5;28mself\u001b[39m] \u001b[38;5;241m=\u001b[39m \u001b[38;5;28mself\u001b[39m\n",
      "\u001b[0;31mRuntimeError\u001b[0m: threads can only be started once"
     ]
    }
   ],
   "source": [
    "for t in p1:\n",
    "    t.start()"
   ]
  },
  {
   "cell_type": "code",
   "execution_count": 92,
   "id": "ed6a2610-0aa4-4613-bc41-882bf29d70ac",
   "metadata": {},
   "outputs": [],
   "source": [
    "shared_var = 0\n",
    "lock_var = threading.Lock()"
   ]
  },
  {
   "cell_type": "code",
   "execution_count": 105,
   "id": "dfb96ca7-931f-4052-ae8a-b4f31c29fb1a",
   "metadata": {},
   "outputs": [
    {
     "name": "stdout",
     "output_type": "stream",
     "text": [
      "test2 id is 0 has increse the shared var by 10\n",
      "test2 id is 1 has increse the shared var by 11\n",
      "test2 id is 2 has increse the shared var by 12\n"
     ]
    }
   ],
   "source": [
    "def test2(id):\n",
    "    global shared_var\n",
    "    with lock_var:\n",
    "        shared_var += 1\n",
    "        print('test2 id is %d has increse the shared var by %d'%(id,shared_var))\n",
    "        time.sleep(1)\n",
    "three = [threading.Thread(target = test2, args = (i,)) for i in range(3)]\n",
    "for i in three:\n",
    "    i.start()"
   ]
  },
  {
   "cell_type": "code",
   "execution_count": null,
   "id": "9b18f82b-d943-42df-869e-6a4ddab9bb67",
   "metadata": {},
   "outputs": [],
   "source": []
  }
 ],
 "metadata": {
  "kernelspec": {
   "display_name": "Python 3 (ipykernel)",
   "language": "python",
   "name": "python3"
  },
  "language_info": {
   "codemirror_mode": {
    "name": "ipython",
    "version": 3
   },
   "file_extension": ".py",
   "mimetype": "text/x-python",
   "name": "python",
   "nbconvert_exporter": "python",
   "pygments_lexer": "ipython3",
   "version": "3.10.8"
  }
 },
 "nbformat": 4,
 "nbformat_minor": 5
}

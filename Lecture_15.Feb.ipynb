{
 "cells": [
  {
   "cell_type": "code",
   "execution_count": null,
   "id": "8a87db7d-03cd-488a-b91d-25b43e179283",
   "metadata": {},
   "outputs": [],
   "source": [
    "# MultiProcessing"
   ]
  },
  {
   "cell_type": "code",
   "execution_count": null,
   "id": "32d5138b-adf4-4fd2-8396-2299f3807e7f",
   "metadata": {},
   "outputs": [],
   "source": [
    "import multiprocessing\n",
    "\n",
    "def test():\n",
    "    print('this is my multiprocessing program')\n",
    "    \n",
    "if __name__ == '__main__': \n",
    "    m = multiprocessing.Process(target = test)\n",
    "    print('this is my main program')\n",
    "    m.start()\n",
    "    m.join()\n",
    "    "
   ]
  },
  {
   "cell_type": "code",
   "execution_count": null,
   "id": "373c6313-9a96-400f-b7ba-da20bc94953c",
   "metadata": {},
   "outputs": [],
   "source": [
    "def squares(n):\n",
    "    return n**2\n",
    "\n",
    "if __name__ == '__main__':\n",
    "    with multiprocessing.Pool(processes = 7) as pool:\n",
    "        out =  pool.map(squares,[1,2,3,4,5,6,7,8,9])\n",
    "    print(out)    "
   ]
  },
  {
   "cell_type": "code",
   "execution_count": null,
   "id": "9e1e55e4-c963-4c0a-be68-e0bbf28118c9",
   "metadata": {},
   "outputs": [],
   "source": [
    "import multiprocessing\n",
    "def producer(q):\n",
    "    for i in range(10):\n",
    "        q.put(i)\n",
    "def consume(q):\n",
    "    while True:\n",
    "        item = q.get()\n",
    "        if item is None:\n",
    "            break;\n",
    "        print(item)\n",
    "        \n",
    "if __name__ == '__main__':\n",
    "    queue  = multiprocessing.Queue()\n",
    "    m1 = multiprocessing.Process(target = producer,args = (queue,))\n",
    "    m2 = multiprocessing.Process(target =  consume,args = (queue,))\n",
    "    \n",
    "    m1.start()\n",
    "    m2.start()\n",
    "    \n",
    "    m1.join()\n",
    "    m2.join()"
   ]
  },
  {
   "cell_type": "code",
   "execution_count": null,
   "id": "099dd0f3-3faa-463a-b2d6-48c0cbfd75c3",
   "metadata": {},
   "outputs": [],
   "source": [
    "import multiprocessing\n",
    "def square(index,value):\n",
    "    value[index] = value[index]**2\n",
    "\n",
    "if __name__ == '__main__':\n",
    "    arr = multiprocessing.Array('i',[1,2,3,4,5,6,7,8,9])\n",
    "    process = []\n",
    "    for i in range(7):\n",
    "        m = multiprocessing.Process(target = square, args = (i,arr))\n",
    "        process.append(m)\n",
    "        m.start()\n",
    "    for p in process:\n",
    "        m.join()\n",
    "    print(list(arr))"
   ]
  },
  {
   "cell_type": "code",
   "execution_count": null,
   "id": "0ab80922-4c37-4bff-bef5-913a72c9ea49",
   "metadata": {},
   "outputs": [],
   "source": [
    "import multiprocessing\n",
    "\n",
    "def sender(con,msg):\n",
    "    for i in msg:\n",
    "        con.send(i)\n",
    "    con.close()\n",
    "    \n",
    "def receive(con):\n",
    "    while True:\n",
    "        try:\n",
    "            msg =  con.recieve()\n",
    "        except Exception as e:\n",
    "            print(e)\n",
    "            break\n",
    "        print(msg) \n",
    "        \n",
    "if __name__ == '__main__':\n",
    "    msg = ['my name is nikhil','this is my msg to student ','im taking class for multiprocessing ']\n",
    "    parent_con,child_con = multiprocessing.Pipe()\n",
    "    m1 = multiprocessing.Process(target=sender,args = (child_con,msg))\n",
    "    m2 = multiprocessing.Process(target = receive,args(parent_con,))\n",
    "    m1.start()\n",
    "    m2.start()\n",
    "    \n",
    "    m1.join()\n",
    "    m2.join()"
   ]
  },
  {
   "cell_type": "code",
   "execution_count": null,
   "id": "9fcea7d8-8a8f-46f3-8d57-d36d45cef713",
   "metadata": {},
   "outputs": [],
   "source": []
  }
 ],
 "metadata": {
  "kernelspec": {
   "display_name": "Python 3 (ipykernel)",
   "language": "python",
   "name": "python3"
  },
  "language_info": {
   "codemirror_mode": {
    "name": "ipython",
    "version": 3
   },
   "file_extension": ".py",
   "mimetype": "text/x-python",
   "name": "python",
   "nbconvert_exporter": "python",
   "pygments_lexer": "ipython3",
   "version": "3.10.8"
  }
 },
 "nbformat": 4,
 "nbformat_minor": 5
}

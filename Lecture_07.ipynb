{
 "cells": [
  {
   "cell_type": "code",
   "execution_count": 6,
   "id": "480eb0c1-e875-4cbc-8d7b-bb436607586a",
   "metadata": {},
   "outputs": [],
   "source": [
    "# OOPS Object Oriented Prgramming Concepts"
   ]
  },
  {
   "cell_type": "code",
   "execution_count": 2,
   "id": "ec153bdd-6608-40b7-9d48-c66fe123664b",
   "metadata": {},
   "outputs": [],
   "source": [
    "a = 1"
   ]
  },
  {
   "cell_type": "code",
   "execution_count": 3,
   "id": "f8361ee8-526e-409c-a0a0-ecfa30597ea7",
   "metadata": {},
   "outputs": [
    {
     "name": "stdout",
     "output_type": "stream",
     "text": [
      "<class 'int'>\n"
     ]
    }
   ],
   "source": [
    "print(type(a))"
   ]
  },
  {
   "cell_type": "code",
   "execution_count": 4,
   "id": "92621d8d-bd4f-4f8d-9d00-70dc6e4e99f5",
   "metadata": {},
   "outputs": [
    {
     "name": "stdout",
     "output_type": "stream",
     "text": [
      "<class 'str'>\n"
     ]
    }
   ],
   "source": [
    "print(type('Nikhil'))"
   ]
  },
  {
   "cell_type": "code",
   "execution_count": 7,
   "id": "ed92cca1-39de-4da7-8f2e-64c82ff0c449",
   "metadata": {},
   "outputs": [],
   "source": [
    "class test:\n",
    "    pass"
   ]
  },
  {
   "cell_type": "code",
   "execution_count": 8,
   "id": "19e2a323-b1e7-4fb9-a329-c9bbf7c210ba",
   "metadata": {},
   "outputs": [
    {
     "data": {
      "text/plain": [
       "int"
      ]
     },
     "execution_count": 8,
     "metadata": {},
     "output_type": "execute_result"
    }
   ],
   "source": [
    "type(a)"
   ]
  },
  {
   "cell_type": "code",
   "execution_count": 9,
   "id": "3008bae0-5768-47a6-877c-fa845620f71a",
   "metadata": {},
   "outputs": [],
   "source": [
    "a = test()"
   ]
  },
  {
   "cell_type": "code",
   "execution_count": 10,
   "id": "388077b3-1a7a-4479-b116-556116690ca9",
   "metadata": {},
   "outputs": [
    {
     "data": {
      "text/plain": [
       "__main__.test"
      ]
     },
     "execution_count": 10,
     "metadata": {},
     "output_type": "execute_result"
    }
   ],
   "source": [
    "type(a)"
   ]
  },
  {
   "cell_type": "code",
   "execution_count": 11,
   "id": "bbecbdba-22f4-48c2-bc0a-2a2d0360abe5",
   "metadata": {},
   "outputs": [
    {
     "name": "stdout",
     "output_type": "stream",
     "text": [
      "<class '__main__.test'>\n"
     ]
    }
   ],
   "source": [
    "print(type(a))"
   ]
  },
  {
   "cell_type": "code",
   "execution_count": 25,
   "id": "93a4c953-e67a-46e3-937a-09b1a3924291",
   "metadata": {},
   "outputs": [],
   "source": [
    "class pwskills:\n",
    "    def welcome_msg(self):\n",
    "        print('Welcome to PWSKILLS')        "
   ]
  },
  {
   "cell_type": "code",
   "execution_count": 26,
   "id": "c9e96c83-de38-4594-b752-e8dc73a5ab2a",
   "metadata": {},
   "outputs": [],
   "source": [
    "nikhil = pwskills()"
   ]
  },
  {
   "cell_type": "code",
   "execution_count": 27,
   "id": "4b510607-25c9-40f1-aac9-3adec561a2ad",
   "metadata": {},
   "outputs": [
    {
     "name": "stdout",
     "output_type": "stream",
     "text": [
      "<class '__main__.pwskills'>\n"
     ]
    }
   ],
   "source": [
    "print(type(nikhil))"
   ]
  },
  {
   "cell_type": "code",
   "execution_count": 28,
   "id": "8478be22-d5a5-4f5e-aa32-483a557980a8",
   "metadata": {},
   "outputs": [
    {
     "name": "stdout",
     "output_type": "stream",
     "text": [
      "Welcome to PWSKILLS\n"
     ]
    }
   ],
   "source": [
    "nikhil.welcome_msg()"
   ]
  },
  {
   "cell_type": "code",
   "execution_count": 29,
   "id": "9322cedb-1b46-4486-b83e-a5aa7f250880",
   "metadata": {},
   "outputs": [],
   "source": [
    "adi = pwskills()"
   ]
  },
  {
   "cell_type": "code",
   "execution_count": 30,
   "id": "26e5f4df-53a1-44c1-8c7c-f6518095f645",
   "metadata": {},
   "outputs": [
    {
     "name": "stdout",
     "output_type": "stream",
     "text": [
      "Welcome to PWSKILLS\n"
     ]
    }
   ],
   "source": [
    "adi.welcome_msg()"
   ]
  },
  {
   "cell_type": "code",
   "execution_count": 46,
   "id": "d385a75f-9c38-498f-953a-25cd067634f7",
   "metadata": {},
   "outputs": [],
   "source": [
    "class pwskills1:\n",
    "    \n",
    "    def __init__(self, phone_number,email_id,student_id):\n",
    "        self.phone_number = phone_number\n",
    "        self.email_id = email_id\n",
    "        self.student_id = student_id\n",
    "        \n",
    "    def return_student_details(self):\n",
    "        return self.phone_number, self.email_id, self.student_id"
   ]
  },
  {
   "cell_type": "code",
   "execution_count": 47,
   "id": "62ff121b-a9e9-472c-85cb-e28e0dd3f058",
   "metadata": {},
   "outputs": [],
   "source": [
    "rohan = pwskills1(9146680507,'nikhil@gmail.com',101)"
   ]
  },
  {
   "cell_type": "code",
   "execution_count": 48,
   "id": "b4d32aff-a7fb-4a95-8a32-bb7a42b4d8de",
   "metadata": {},
   "outputs": [
    {
     "data": {
      "text/plain": [
       "(9146680507, 'nikhil@gmail.com', 101)"
      ]
     },
     "execution_count": 48,
     "metadata": {},
     "output_type": "execute_result"
    }
   ],
   "source": [
    "rohan.return_student_details()"
   ]
  },
  {
   "cell_type": "code",
   "execution_count": 51,
   "id": "16ac9759-1bd9-4419-9c46-327e9e5f664b",
   "metadata": {},
   "outputs": [],
   "source": [
    "aniket = pwskills1(192837474,'aniket@gmail.com',102)"
   ]
  },
  {
   "cell_type": "code",
   "execution_count": 52,
   "id": "742c44c4-ca33-476e-8f6a-b15e6e730284",
   "metadata": {},
   "outputs": [
    {
     "data": {
      "text/plain": [
       "(192837474, 'aniket@gmail.com', 102)"
      ]
     },
     "execution_count": 52,
     "metadata": {},
     "output_type": "execute_result"
    }
   ],
   "source": [
    "aniket.return_student_details()"
   ]
  },
  {
   "cell_type": "code",
   "execution_count": 59,
   "id": "42003dc3-7577-4675-a0c1-f9bd88f582fc",
   "metadata": {},
   "outputs": [],
   "source": [
    "class pwskills2:\n",
    "    \n",
    "    def __init__(self, first_number,second_number):\n",
    "        self.first_number = first_number\n",
    "        self.second_number = second_number\n",
    "        \n",
    "    def return_addition(self):\n",
    "        return self.first_number + self.second_number"
   ]
  },
  {
   "cell_type": "code",
   "execution_count": 60,
   "id": "9f0275bf-e08f-4b73-9322-bd2b33147387",
   "metadata": {},
   "outputs": [],
   "source": [
    "addition = pwskills2(8,8)"
   ]
  },
  {
   "cell_type": "code",
   "execution_count": 61,
   "id": "95c58865-821d-4ca7-ba96-4e415ed8721e",
   "metadata": {},
   "outputs": [
    {
     "data": {
      "text/plain": [
       "16"
      ]
     },
     "execution_count": 61,
     "metadata": {},
     "output_type": "execute_result"
    }
   ],
   "source": [
    "addition.return_addition()"
   ]
  },
  {
   "cell_type": "code",
   "execution_count": 62,
   "id": "6e9082b5-a02a-40d5-9b4d-f44446b213db",
   "metadata": {},
   "outputs": [
    {
     "data": {
      "text/plain": [
       "'nikhil@gmail.com'"
      ]
     },
     "execution_count": 62,
     "metadata": {},
     "output_type": "execute_result"
    }
   ],
   "source": [
    "rohan.email_id"
   ]
  },
  {
   "cell_type": "code",
   "execution_count": null,
   "id": "ccfde607-afda-47fa-b6f4-292ca0176367",
   "metadata": {},
   "outputs": [
    {
     "data": {
      "text/plain": [
       "101"
      ]
     },
     "execution_count": 63,
     "metadata": {},
     "output_type": "execute_result"
    }
   ],
   "source": [
    "rohan.student_id"
   ]
  },
  {
   "cell_type": "code",
   "execution_count": null,
   "id": "1cdd71e5-0c0a-436e-b8ba-deaf737745a8",
   "metadata": {},
   "outputs": [
    {
     "data": {
      "text/plain": [
       "9146680507"
      ]
     },
     "execution_count": 64,
     "metadata": {},
     "output_type": "execute_result"
    }
   ],
   "source": [
    "rohan.phone_number"
   ]
  },
  {
   "cell_type": "code",
   "execution_count": 72,
   "id": "81dcd9c0-e5e6-4628-a75c-457964184d5f",
   "metadata": {},
   "outputs": [],
   "source": [
    "class pwskills1:\n",
    "    \n",
    "    def __init__(basic, phone_number,email_id,student_id):\n",
    "        basic.phone_number = phone_number\n",
    "        basic.email_id = email_id\n",
    "        basic.student_id = student_id\n",
    "        \n",
    "    def return_student_details(basic):\n",
    "        return basic.phone_number, basic.email_id, basic.student_id"
   ]
  },
  {
   "cell_type": "code",
   "execution_count": 73,
   "id": "173e20fb-4f34-40f6-b4bc-3b1a37d0d85a",
   "metadata": {},
   "outputs": [],
   "source": [
    "nik = pwskills1(789456,'gmail.com',105)"
   ]
  },
  {
   "cell_type": "code",
   "execution_count": 74,
   "id": "0d066313-e376-4d74-9d27-3aba9138d4e0",
   "metadata": {},
   "outputs": [
    {
     "data": {
      "text/plain": [
       "(789456, 'gmail.com', 105)"
      ]
     },
     "execution_count": 74,
     "metadata": {},
     "output_type": "execute_result"
    }
   ],
   "source": [
    "nik.return_student_details()"
   ]
  },
  {
   "cell_type": "code",
   "execution_count": null,
   "id": "6bfd2672-e2e2-4dab-be2e-cac7e0f29d7c",
   "metadata": {},
   "outputs": [],
   "source": []
  }
 ],
 "metadata": {
  "kernelspec": {
   "display_name": "Python 3 (ipykernel)",
   "language": "python",
   "name": "python3"
  },
  "language_info": {
   "codemirror_mode": {
    "name": "ipython",
    "version": 3
   },
   "file_extension": ".py",
   "mimetype": "text/x-python",
   "name": "python",
   "nbconvert_exporter": "python",
   "pygments_lexer": "ipython3",
   "version": "3.10.8"
  }
 },
 "nbformat": 4,
 "nbformat_minor": 5
}

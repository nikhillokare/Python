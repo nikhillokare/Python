{
 "cells": [
  {
   "cell_type": "code",
   "execution_count": 5,
   "id": "79bff388-dc0b-4262-aa69-43a32c234dd7",
   "metadata": {},
   "outputs": [],
   "source": [
    "list = [1,345,\"Nikhil\",True,8+9,549.843]"
   ]
  },
  {
   "cell_type": "code",
   "execution_count": 6,
   "id": "4c2810eb-11d5-4447-ac25-050dde7aa535",
   "metadata": {},
   "outputs": [
    {
     "name": "stdout",
     "output_type": "stream",
     "text": [
      "[1, 345, 'Nikhil', True, 17, 549.843]\n"
     ]
    }
   ],
   "source": [
    "print(list)"
   ]
  },
  {
   "cell_type": "code",
   "execution_count": 7,
   "id": "b43ff40b-9a98-4948-baa3-e28d43bb0d10",
   "metadata": {},
   "outputs": [
    {
     "data": {
      "text/plain": [
       "list"
      ]
     },
     "execution_count": 7,
     "metadata": {},
     "output_type": "execute_result"
    }
   ],
   "source": [
    "type(list)"
   ]
  },
  {
   "cell_type": "code",
   "execution_count": 8,
   "id": "fefa3913-3e1b-494f-91f7-73c4e2abfadf",
   "metadata": {},
   "outputs": [
    {
     "data": {
      "text/plain": [
       "['Nikhil', True]"
      ]
     },
     "execution_count": 8,
     "metadata": {},
     "output_type": "execute_result"
    }
   ],
   "source": [
    "list[2:4]"
   ]
  },
  {
   "cell_type": "code",
   "execution_count": 9,
   "id": "1666b4c3-735d-4e70-aaa1-c0eb40ca6370",
   "metadata": {},
   "outputs": [
    {
     "data": {
      "text/plain": [
       "1"
      ]
     },
     "execution_count": 9,
     "metadata": {},
     "output_type": "execute_result"
    }
   ],
   "source": [
    "list[0]"
   ]
  },
  {
   "cell_type": "code",
   "execution_count": 12,
   "id": "cea42fab-2a29-405e-869c-58b677f85722",
   "metadata": {},
   "outputs": [
    {
     "data": {
      "text/plain": [
       "'Nikhil'"
      ]
     },
     "execution_count": 12,
     "metadata": {},
     "output_type": "execute_result"
    }
   ],
   "source": [
    "list[2]"
   ]
  },
  {
   "cell_type": "code",
   "execution_count": 11,
   "id": "836c178d-8a83-4a85-884b-35b4789e4ebb",
   "metadata": {},
   "outputs": [
    {
     "data": {
      "text/plain": [
       "[1, 345, 'Nikhil', True, 17, 549.843]"
      ]
     },
     "execution_count": 11,
     "metadata": {},
     "output_type": "execute_result"
    }
   ],
   "source": [
    "list"
   ]
  },
  {
   "cell_type": "code",
   "execution_count": 17,
   "id": "2be03fcd-05e3-4b20-b33a-feee1d73d993",
   "metadata": {},
   "outputs": [
    {
     "data": {
      "text/plain": [
       "[1, 345, 'Nikhil']"
      ]
     },
     "execution_count": 17,
     "metadata": {},
     "output_type": "execute_result"
    }
   ],
   "source": [
    "list[0:3]"
   ]
  },
  {
   "cell_type": "code",
   "execution_count": 18,
   "id": "8267f3c6-6fdd-4cb8-aabe-d92ac9ed75a6",
   "metadata": {},
   "outputs": [
    {
     "data": {
      "text/plain": [
       "549.843"
      ]
     },
     "execution_count": 18,
     "metadata": {},
     "output_type": "execute_result"
    }
   ],
   "source": [
    "list[-1]"
   ]
  },
  {
   "cell_type": "code",
   "execution_count": 19,
   "id": "b17f29e3-7efd-4ea8-a882-dedaebf3fca8",
   "metadata": {},
   "outputs": [
    {
     "data": {
      "text/plain": [
       "[549.843, 17, True, 'Nikhil', 345, 1]"
      ]
     },
     "execution_count": 19,
     "metadata": {},
     "output_type": "execute_result"
    }
   ],
   "source": [
    "list[::-1]"
   ]
  },
  {
   "cell_type": "code",
   "execution_count": 20,
   "id": "480c24a8-41c2-418b-92d8-735eddc91dcc",
   "metadata": {},
   "outputs": [
    {
     "data": {
      "text/plain": [
       "[1, 'Nikhil', 17]"
      ]
     },
     "execution_count": 20,
     "metadata": {},
     "output_type": "execute_result"
    }
   ],
   "source": [
    "list[::2]"
   ]
  },
  {
   "cell_type": "code",
   "execution_count": 21,
   "id": "55c71837-c4b5-4261-a0d3-ac561117de34",
   "metadata": {},
   "outputs": [],
   "source": [
    "s = \"pwskills\""
   ]
  },
  {
   "cell_type": "code",
   "execution_count": 22,
   "id": "f6b14396-4b58-49aa-a0a2-4b95d28a1e56",
   "metadata": {},
   "outputs": [
    {
     "ename": "TypeError",
     "evalue": "can only concatenate list (not \"str\") to list",
     "output_type": "error",
     "traceback": [
      "\u001b[0;31m---------------------------------------------------------------------------\u001b[0m",
      "\u001b[0;31mTypeError\u001b[0m                                 Traceback (most recent call last)",
      "Cell \u001b[0;32mIn[22], line 1\u001b[0m\n\u001b[0;32m----> 1\u001b[0m \u001b[38;5;28;43mlist\u001b[39;49m\u001b[43m \u001b[49m\u001b[38;5;241;43m+\u001b[39;49m\u001b[43m \u001b[49m\u001b[43ms\u001b[49m\n",
      "\u001b[0;31mTypeError\u001b[0m: can only concatenate list (not \"str\") to list"
     ]
    }
   ],
   "source": [
    "list + s"
   ]
  },
  {
   "cell_type": "code",
   "execution_count": 23,
   "id": "c556ab22-239f-4ee7-ac8c-bf15f14b8e1a",
   "metadata": {},
   "outputs": [
    {
     "ename": "TypeError",
     "evalue": "can only concatenate list (not \"str\") to list",
     "output_type": "error",
     "traceback": [
      "\u001b[0;31m---------------------------------------------------------------------------\u001b[0m",
      "\u001b[0;31mTypeError\u001b[0m                                 Traceback (most recent call last)",
      "Cell \u001b[0;32mIn[23], line 1\u001b[0m\n\u001b[0;32m----> 1\u001b[0m \u001b[38;5;28mprint\u001b[39m(\u001b[38;5;28;43mlist\u001b[39;49m\u001b[43m \u001b[49m\u001b[38;5;241;43m+\u001b[39;49m\u001b[43m \u001b[49m\u001b[43ms\u001b[49m)\n",
      "\u001b[0;31mTypeError\u001b[0m: can only concatenate list (not \"str\") to list"
     ]
    }
   ],
   "source": [
    "print(list + s)"
   ]
  },
  {
   "cell_type": "code",
   "execution_count": 25,
   "id": "25462c90-a0a2-45bf-b529-2c556685b398",
   "metadata": {},
   "outputs": [
    {
     "ename": "TypeError",
     "evalue": "'list' object is not callable",
     "output_type": "error",
     "traceback": [
      "\u001b[0;31m---------------------------------------------------------------------------\u001b[0m",
      "\u001b[0;31mTypeError\u001b[0m                                 Traceback (most recent call last)",
      "Cell \u001b[0;32mIn[25], line 1\u001b[0m\n\u001b[0;32m----> 1\u001b[0m \u001b[38;5;28;43mlist\u001b[39;49m\u001b[43m(\u001b[49m\u001b[43ms\u001b[49m\u001b[43m)\u001b[49m \u001b[38;5;241m+\u001b[39m \u001b[38;5;28mlist\u001b[39m\n",
      "\u001b[0;31mTypeError\u001b[0m: 'list' object is not callable"
     ]
    }
   ],
   "source": [
    "list(s) + list"
   ]
  },
  {
   "cell_type": "code",
   "execution_count": 26,
   "id": "3b323446-41ff-4dbf-97d2-157d17182700",
   "metadata": {},
   "outputs": [
    {
     "data": {
      "text/plain": [
       "[1, 345, 'Nikhil', True, 17, 549.843]"
      ]
     },
     "execution_count": 26,
     "metadata": {},
     "output_type": "execute_result"
    }
   ],
   "source": [
    "list"
   ]
  },
  {
   "cell_type": "code",
   "execution_count": 27,
   "id": "361338ac-586a-45d3-ae22-7b72e553c4b1",
   "metadata": {},
   "outputs": [
    {
     "data": {
      "text/plain": [
       "'Nikhil'"
      ]
     },
     "execution_count": 27,
     "metadata": {},
     "output_type": "execute_result"
    }
   ],
   "source": [
    "list[2]"
   ]
  },
  {
   "cell_type": "code",
   "execution_count": 28,
   "id": "55a2852b-6b12-41be-b254-c8fd5c5eb3fe",
   "metadata": {},
   "outputs": [
    {
     "data": {
      "text/plain": [
       "'Ni'"
      ]
     },
     "execution_count": 28,
     "metadata": {},
     "output_type": "execute_result"
    }
   ],
   "source": [
    "list[2][0:2]"
   ]
  },
  {
   "cell_type": "code",
   "execution_count": 29,
   "id": "f21b5d2d-f5f0-4d26-91e2-c5ab90c76809",
   "metadata": {},
   "outputs": [
    {
     "data": {
      "text/plain": [
       "True"
      ]
     },
     "execution_count": 29,
     "metadata": {},
     "output_type": "execute_result"
    }
   ],
   "source": [
    "list[3]"
   ]
  },
  {
   "cell_type": "code",
   "execution_count": 30,
   "id": "4bcba7b0-582f-400c-ba57-6f4ad600201e",
   "metadata": {},
   "outputs": [
    {
     "ename": "TypeError",
     "evalue": "'bool' object is not subscriptable",
     "output_type": "error",
     "traceback": [
      "\u001b[0;31m---------------------------------------------------------------------------\u001b[0m",
      "\u001b[0;31mTypeError\u001b[0m                                 Traceback (most recent call last)",
      "Cell \u001b[0;32mIn[30], line 1\u001b[0m\n\u001b[0;32m----> 1\u001b[0m \u001b[38;5;28;43mlist\u001b[39;49m\u001b[43m[\u001b[49m\u001b[38;5;241;43m3\u001b[39;49m\u001b[43m]\u001b[49m\u001b[43m[\u001b[49m\u001b[38;5;241;43m0\u001b[39;49m\u001b[43m:\u001b[49m\u001b[38;5;241;43m2\u001b[39;49m\u001b[43m]\u001b[49m\n",
      "\u001b[0;31mTypeError\u001b[0m: 'bool' object is not subscriptable"
     ]
    }
   ],
   "source": [
    "list[3][0:2]"
   ]
  },
  {
   "cell_type": "code",
   "execution_count": 32,
   "id": "64211f21-a48c-4648-a280-4c51e1a3e2d4",
   "metadata": {},
   "outputs": [
    {
     "data": {
      "text/plain": [
       "'Tr'"
      ]
     },
     "execution_count": 32,
     "metadata": {},
     "output_type": "execute_result"
    }
   ],
   "source": [
    "str(list[3])[0:2]"
   ]
  },
  {
   "cell_type": "code",
   "execution_count": 33,
   "id": "6c2d5935-5133-4f27-8d1b-7d7b0e12086f",
   "metadata": {},
   "outputs": [
    {
     "data": {
      "text/plain": [
       "\"[1, 345, 'Nikhil', True, 17, 549.843]\""
      ]
     },
     "execution_count": 33,
     "metadata": {},
     "output_type": "execute_result"
    }
   ],
   "source": [
    "str(list)"
   ]
  },
  {
   "cell_type": "code",
   "execution_count": 34,
   "id": "70d92463-2252-4a43-b212-123db604be05",
   "metadata": {},
   "outputs": [
    {
     "ename": "TypeError",
     "evalue": "can only concatenate list (not \"str\") to list",
     "output_type": "error",
     "traceback": [
      "\u001b[0;31m---------------------------------------------------------------------------\u001b[0m",
      "\u001b[0;31mTypeError\u001b[0m                                 Traceback (most recent call last)",
      "Cell \u001b[0;32mIn[34], line 1\u001b[0m\n\u001b[0;32m----> 1\u001b[0m \u001b[38;5;28;43mlist\u001b[39;49m\u001b[43m \u001b[49m\u001b[38;5;241;43m+\u001b[39;49m\u001b[43m \u001b[49m\u001b[43ms\u001b[49m\n",
      "\u001b[0;31mTypeError\u001b[0m: can only concatenate list (not \"str\") to list"
     ]
    }
   ],
   "source": [
    "list + s"
   ]
  },
  {
   "cell_type": "code",
   "execution_count": 35,
   "id": "29fffd2e-d05e-4b89-8b62-5e3708e37434",
   "metadata": {},
   "outputs": [],
   "source": [
    "list1 = [3,4,5]"
   ]
  },
  {
   "cell_type": "code",
   "execution_count": 36,
   "id": "6ebd730d-d0c4-4fd3-9228-a589febcb514",
   "metadata": {},
   "outputs": [
    {
     "data": {
      "text/plain": [
       "[1, 345, 'Nikhil', True, 17, 549.843, 3, 4, 5]"
      ]
     },
     "execution_count": 36,
     "metadata": {},
     "output_type": "execute_result"
    }
   ],
   "source": [
    "list + list1"
   ]
  },
  {
   "cell_type": "code",
   "execution_count": 37,
   "id": "6e00825a-7a29-4bbb-9dcb-c9ef718911b4",
   "metadata": {},
   "outputs": [
    {
     "data": {
      "text/plain": [
       "[3, 4, 5]"
      ]
     },
     "execution_count": 37,
     "metadata": {},
     "output_type": "execute_result"
    }
   ],
   "source": [
    "list1"
   ]
  },
  {
   "cell_type": "code",
   "execution_count": 38,
   "id": "722deed4-61b8-4e20-99e7-f3aadab32709",
   "metadata": {},
   "outputs": [
    {
     "data": {
      "text/plain": [
       "[3, 4, 5, 3, 4, 5, 3, 4, 5]"
      ]
     },
     "execution_count": 38,
     "metadata": {},
     "output_type": "execute_result"
    }
   ],
   "source": [
    "list1 * 3"
   ]
  },
  {
   "cell_type": "code",
   "execution_count": 41,
   "id": "24af7fcd-2561-4794-b57c-f54fac681cc4",
   "metadata": {},
   "outputs": [
    {
     "data": {
      "text/plain": [
       "6"
      ]
     },
     "execution_count": 41,
     "metadata": {},
     "output_type": "execute_result"
    }
   ],
   "source": [
    "len(list)"
   ]
  },
  {
   "cell_type": "code",
   "execution_count": 42,
   "id": "7624a501-0655-48cf-b323-3c187417cded",
   "metadata": {},
   "outputs": [
    {
     "data": {
      "text/plain": [
       "3"
      ]
     },
     "execution_count": 42,
     "metadata": {},
     "output_type": "execute_result"
    }
   ],
   "source": [
    "len(list1)"
   ]
  },
  {
   "cell_type": "code",
   "execution_count": 43,
   "id": "9e87e42b-b4c5-4ba0-867f-29a975f95839",
   "metadata": {},
   "outputs": [
    {
     "data": {
      "text/plain": [
       "[1, 345, 'Nikhil', True, 17, 549.843]"
      ]
     },
     "execution_count": 43,
     "metadata": {},
     "output_type": "execute_result"
    }
   ],
   "source": [
    "list"
   ]
  },
  {
   "cell_type": "code",
   "execution_count": 44,
   "id": "2bf476b4-458b-423d-bb98-db6642d761da",
   "metadata": {},
   "outputs": [],
   "source": [
    "list.append(list1)"
   ]
  },
  {
   "cell_type": "code",
   "execution_count": 45,
   "id": "c21d427a-c73a-40fe-88a5-8909ea963f88",
   "metadata": {},
   "outputs": [
    {
     "data": {
      "text/plain": [
       "[1, 345, 'Nikhil', True, 17, 549.843, [3, 4, 5]]"
      ]
     },
     "execution_count": 45,
     "metadata": {},
     "output_type": "execute_result"
    }
   ],
   "source": [
    "list"
   ]
  },
  {
   "cell_type": "code",
   "execution_count": 46,
   "id": "864a4cdf-083a-4a38-896d-ee597b8302bb",
   "metadata": {},
   "outputs": [
    {
     "data": {
      "text/plain": [
       "[1, 345, 'Nikhil', True, 17, 549.843, [3, 4, 5]]"
      ]
     },
     "execution_count": 46,
     "metadata": {},
     "output_type": "execute_result"
    }
   ],
   "source": [
    "list"
   ]
  },
  {
   "cell_type": "code",
   "execution_count": 47,
   "id": "56ab1f69-515b-4d12-b176-193d39c68572",
   "metadata": {},
   "outputs": [],
   "source": [
    "l = \"pwskills\""
   ]
  },
  {
   "cell_type": "code",
   "execution_count": 48,
   "id": "31ba21e5-c6dc-413c-b64d-81b3cb2a072c",
   "metadata": {},
   "outputs": [],
   "source": [
    "list.append(l)"
   ]
  },
  {
   "cell_type": "code",
   "execution_count": 49,
   "id": "e28e71dd-ba19-4e4a-989d-f3df50cfdb7b",
   "metadata": {},
   "outputs": [
    {
     "data": {
      "text/plain": [
       "'pwskills'"
      ]
     },
     "execution_count": 49,
     "metadata": {},
     "output_type": "execute_result"
    }
   ],
   "source": [
    "l"
   ]
  },
  {
   "cell_type": "code",
   "execution_count": 50,
   "id": "1628e428-324c-4a88-94b0-78ad58faa311",
   "metadata": {},
   "outputs": [],
   "source": [
    "list.append(l)"
   ]
  },
  {
   "cell_type": "code",
   "execution_count": 51,
   "id": "b83b507b-cc25-48ee-ba6b-12579a8c1b9c",
   "metadata": {},
   "outputs": [
    {
     "data": {
      "text/plain": [
       "[1, 345, 'Nikhil', True, 17, 549.843, [3, 4, 5], 'pwskills', 'pwskills']"
      ]
     },
     "execution_count": 51,
     "metadata": {},
     "output_type": "execute_result"
    }
   ],
   "source": [
    "list"
   ]
  },
  {
   "cell_type": "code",
   "execution_count": 52,
   "id": "05fa3f01-415d-4655-ab5c-d45036565157",
   "metadata": {},
   "outputs": [
    {
     "data": {
      "text/plain": [
       "'pwskills'"
      ]
     },
     "execution_count": 52,
     "metadata": {},
     "output_type": "execute_result"
    }
   ],
   "source": [
    "list[-1]"
   ]
  },
  {
   "cell_type": "code",
   "execution_count": 53,
   "id": "b79d0813-cee9-40da-9ef2-3ba7f8e52c59",
   "metadata": {},
   "outputs": [
    {
     "data": {
      "text/plain": [
       "[1, 345, 'Nikhil', True, 17, 549.843, [3, 4, 5], 'pwskills', 'pwskills']"
      ]
     },
     "execution_count": 53,
     "metadata": {},
     "output_type": "execute_result"
    }
   ],
   "source": [
    "list"
   ]
  },
  {
   "cell_type": "code",
   "execution_count": 55,
   "id": "fbd401e8-552e-49c5-8394-cfa6b368ca1b",
   "metadata": {},
   "outputs": [
    {
     "data": {
      "text/plain": [
       "'k'"
      ]
     },
     "execution_count": 55,
     "metadata": {},
     "output_type": "execute_result"
    }
   ],
   "source": [
    "list[-1][3]"
   ]
  },
  {
   "cell_type": "code",
   "execution_count": 56,
   "id": "5a95aff5-c337-42c7-8cc4-e96355e18187",
   "metadata": {},
   "outputs": [
    {
     "data": {
      "text/plain": [
       "[1, 345, 'Nikhil', True, 17, 549.843, [3, 4, 5], 'pwskills', 'pwskills']"
      ]
     },
     "execution_count": 56,
     "metadata": {},
     "output_type": "execute_result"
    }
   ],
   "source": [
    "list"
   ]
  },
  {
   "cell_type": "code",
   "execution_count": 57,
   "id": "f3848ccb-96bf-4562-9d8a-24dc9accc96a",
   "metadata": {},
   "outputs": [],
   "source": [
    "list.remove(l)"
   ]
  },
  {
   "cell_type": "code",
   "execution_count": 58,
   "id": "5b5a848c-3fd6-49fa-86ea-f1c3871b338e",
   "metadata": {},
   "outputs": [
    {
     "data": {
      "text/plain": [
       "[1, 345, 'Nikhil', True, 17, 549.843, [3, 4, 5], 'pwskills']"
      ]
     },
     "execution_count": 58,
     "metadata": {},
     "output_type": "execute_result"
    }
   ],
   "source": [
    "list"
   ]
  },
  {
   "cell_type": "code",
   "execution_count": 59,
   "id": "ae642c58-aafb-4a19-9bcb-9457390fefb0",
   "metadata": {},
   "outputs": [],
   "source": [
    "list.extend(s)"
   ]
  },
  {
   "cell_type": "code",
   "execution_count": 60,
   "id": "66f3fdce-c8d4-4c67-a561-633416aa0618",
   "metadata": {},
   "outputs": [
    {
     "data": {
      "text/plain": [
       "[1,\n",
       " 345,\n",
       " 'Nikhil',\n",
       " True,\n",
       " 17,\n",
       " 549.843,\n",
       " [3, 4, 5],\n",
       " 'pwskills',\n",
       " 'p',\n",
       " 'w',\n",
       " 's',\n",
       " 'k',\n",
       " 'i',\n",
       " 'l',\n",
       " 'l',\n",
       " 's']"
      ]
     },
     "execution_count": 60,
     "metadata": {},
     "output_type": "execute_result"
    }
   ],
   "source": [
    "list"
   ]
  },
  {
   "cell_type": "code",
   "execution_count": 62,
   "id": "cc5b0166-a937-478f-ae81-862eccb2d034",
   "metadata": {},
   "outputs": [],
   "source": [
    "list.extend([3,4,5])"
   ]
  },
  {
   "cell_type": "code",
   "execution_count": 63,
   "id": "7e612ef5-4d80-4881-a5fa-1dda8843c0a3",
   "metadata": {},
   "outputs": [
    {
     "data": {
      "text/plain": [
       "[1,\n",
       " 345,\n",
       " 'Nikhil',\n",
       " True,\n",
       " 17,\n",
       " 549.843,\n",
       " [3, 4, 5],\n",
       " 'pwskills',\n",
       " 'p',\n",
       " 'w',\n",
       " 's',\n",
       " 'k',\n",
       " 'i',\n",
       " 'l',\n",
       " 'l',\n",
       " 's',\n",
       " 3,\n",
       " 4,\n",
       " 5]"
      ]
     },
     "execution_count": 63,
     "metadata": {},
     "output_type": "execute_result"
    }
   ],
   "source": [
    "list"
   ]
  },
  {
   "cell_type": "code",
   "execution_count": 65,
   "id": "97d89117-3024-437a-8f4e-e1861f6c8b11",
   "metadata": {},
   "outputs": [],
   "source": [
    "list.insert(1,\"Aniket\")"
   ]
  },
  {
   "cell_type": "code",
   "execution_count": 66,
   "id": "7a514039-a3d4-4346-a0e8-fb8d405e8a53",
   "metadata": {},
   "outputs": [
    {
     "data": {
      "text/plain": [
       "[1,\n",
       " 'Aniket',\n",
       " 345,\n",
       " 'Nikhil',\n",
       " True,\n",
       " 17,\n",
       " 549.843,\n",
       " [3, 4, 5],\n",
       " 'pwskills',\n",
       " 'p',\n",
       " 'w',\n",
       " 's',\n",
       " 'k',\n",
       " 'i',\n",
       " 'l',\n",
       " 'l',\n",
       " 's',\n",
       " 3,\n",
       " 4,\n",
       " 5]"
      ]
     },
     "execution_count": 66,
     "metadata": {},
     "output_type": "execute_result"
    }
   ],
   "source": [
    "list"
   ]
  },
  {
   "cell_type": "code",
   "execution_count": 67,
   "id": "5f00ef69-9030-4a1b-96ce-0ce2e2d4b5e4",
   "metadata": {},
   "outputs": [],
   "source": [
    "list1.insert(2,'Nikhil')"
   ]
  },
  {
   "cell_type": "code",
   "execution_count": 68,
   "id": "21b1bfc9-f402-4385-9425-f3a53cc93173",
   "metadata": {},
   "outputs": [
    {
     "data": {
      "text/plain": [
       "[3, 4, 'Nikhil', 5]"
      ]
     },
     "execution_count": 68,
     "metadata": {},
     "output_type": "execute_result"
    }
   ],
   "source": [
    "list1"
   ]
  },
  {
   "cell_type": "code",
   "execution_count": 73,
   "id": "3d006938-86ad-42f9-a4ed-d0444df7b891",
   "metadata": {},
   "outputs": [],
   "source": [
    "list1.insert(-1,54)"
   ]
  },
  {
   "cell_type": "code",
   "execution_count": 75,
   "id": "5d2346e0-8012-48af-8a2f-4dcdc925fd9a",
   "metadata": {},
   "outputs": [
    {
     "data": {
      "text/plain": [
       "[54, 3, 4, 'Nikhil', 54, 54, 5]"
      ]
     },
     "execution_count": 75,
     "metadata": {},
     "output_type": "execute_result"
    }
   ],
   "source": [
    "list1"
   ]
  },
  {
   "cell_type": "code",
   "execution_count": 76,
   "id": "8f8f7a2e-7e56-42c6-9232-92372f7b6f02",
   "metadata": {},
   "outputs": [
    {
     "ename": "ValueError",
     "evalue": "list.remove(x): x not in list",
     "output_type": "error",
     "traceback": [
      "\u001b[0;31m---------------------------------------------------------------------------\u001b[0m",
      "\u001b[0;31mValueError\u001b[0m                                Traceback (most recent call last)",
      "Cell \u001b[0;32mIn[76], line 1\u001b[0m\n\u001b[0;32m----> 1\u001b[0m \u001b[38;5;28;43mlist\u001b[39;49m\u001b[38;5;241;43m.\u001b[39;49m\u001b[43mremove\u001b[49m\u001b[43m(\u001b[49m\u001b[38;5;241;43m54\u001b[39;49m\u001b[43m)\u001b[49m\n",
      "\u001b[0;31mValueError\u001b[0m: list.remove(x): x not in list"
     ]
    }
   ],
   "source": [
    "list.remove(54)"
   ]
  },
  {
   "cell_type": "code",
   "execution_count": 77,
   "id": "c1fef57b-0b88-4c4f-8bb9-3c53c24b7bb3",
   "metadata": {},
   "outputs": [],
   "source": [
    "list.remove(list[0])"
   ]
  },
  {
   "cell_type": "code",
   "execution_count": 78,
   "id": "2438bcfa-c47b-46cb-8170-50eacc6a9acd",
   "metadata": {},
   "outputs": [
    {
     "data": {
      "text/plain": [
       "['Aniket',\n",
       " 345,\n",
       " 'Nikhil',\n",
       " True,\n",
       " 17,\n",
       " 549.843,\n",
       " [54, 3, 4, 'Nikhil', 54, 54, 5],\n",
       " 'pwskills',\n",
       " 'p',\n",
       " 'w',\n",
       " 's',\n",
       " 'k',\n",
       " 'i',\n",
       " 'l',\n",
       " 'l',\n",
       " 's',\n",
       " 3,\n",
       " 4,\n",
       " 5]"
      ]
     },
     "execution_count": 78,
     "metadata": {},
     "output_type": "execute_result"
    }
   ],
   "source": [
    "list"
   ]
  },
  {
   "cell_type": "code",
   "execution_count": 79,
   "id": "31a03d64-3050-4040-a6c4-b5c49b50fee3",
   "metadata": {},
   "outputs": [],
   "source": [
    "list1.remove(list1[0])"
   ]
  },
  {
   "cell_type": "code",
   "execution_count": 80,
   "id": "d12e1bb0-3039-427f-8274-1d2bd6a34f55",
   "metadata": {},
   "outputs": [
    {
     "data": {
      "text/plain": [
       "[3, 4, 'Nikhil', 54, 54, 5]"
      ]
     },
     "execution_count": 80,
     "metadata": {},
     "output_type": "execute_result"
    }
   ],
   "source": [
    "list1"
   ]
  },
  {
   "cell_type": "code",
   "execution_count": 81,
   "id": "b83080ea-a88a-4d2d-b412-4a9c2bbd8164",
   "metadata": {},
   "outputs": [
    {
     "data": {
      "text/plain": [
       "5"
      ]
     },
     "execution_count": 81,
     "metadata": {},
     "output_type": "execute_result"
    }
   ],
   "source": [
    "list1.pop()"
   ]
  },
  {
   "cell_type": "code",
   "execution_count": 82,
   "id": "4702d8c5-a109-4dea-a594-c6ad5129dbc7",
   "metadata": {},
   "outputs": [
    {
     "data": {
      "text/plain": [
       "[3, 4, 'Nikhil', 54, 54]"
      ]
     },
     "execution_count": 82,
     "metadata": {},
     "output_type": "execute_result"
    }
   ],
   "source": [
    "list1"
   ]
  },
  {
   "cell_type": "code",
   "execution_count": 84,
   "id": "176b8f88-12b9-4452-ae86-0bb2b57c398b",
   "metadata": {},
   "outputs": [],
   "source": [
    "list1.remove(54)"
   ]
  },
  {
   "cell_type": "code",
   "execution_count": 85,
   "id": "6aae7285-f9e0-4433-9eec-c226c491ae3d",
   "metadata": {},
   "outputs": [
    {
     "data": {
      "text/plain": [
       "[3, 4, 'Nikhil', 54]"
      ]
     },
     "execution_count": 85,
     "metadata": {},
     "output_type": "execute_result"
    }
   ],
   "source": [
    "list1"
   ]
  },
  {
   "cell_type": "code",
   "execution_count": 86,
   "id": "999b4900-086d-455e-8e6b-32288cb2fb66",
   "metadata": {},
   "outputs": [
    {
     "ename": "NameError",
     "evalue": "name 'l1' is not defined",
     "output_type": "error",
     "traceback": [
      "\u001b[0;31m---------------------------------------------------------------------------\u001b[0m",
      "\u001b[0;31mNameError\u001b[0m                                 Traceback (most recent call last)",
      "Cell \u001b[0;32mIn[86], line 1\u001b[0m\n\u001b[0;32m----> 1\u001b[0m \u001b[43ml1\u001b[49m\u001b[38;5;241m.\u001b[39mpop(\u001b[38;5;241m3\u001b[39m)\n",
      "\u001b[0;31mNameError\u001b[0m: name 'l1' is not defined"
     ]
    }
   ],
   "source": [
    "l1.pop(3)"
   ]
  },
  {
   "cell_type": "code",
   "execution_count": 87,
   "id": "c8375424-65d8-4ca7-b271-bb1310cf29bc",
   "metadata": {},
   "outputs": [
    {
     "data": {
      "text/plain": [
       "54"
      ]
     },
     "execution_count": 87,
     "metadata": {},
     "output_type": "execute_result"
    }
   ],
   "source": [
    "list1.pop(3)"
   ]
  },
  {
   "cell_type": "code",
   "execution_count": 88,
   "id": "0d9ee6cf-3abe-4b19-b651-977e7ae3d6ed",
   "metadata": {},
   "outputs": [
    {
     "data": {
      "text/plain": [
       "[3, 4, 'Nikhil']"
      ]
     },
     "execution_count": 88,
     "metadata": {},
     "output_type": "execute_result"
    }
   ],
   "source": [
    "list1"
   ]
  },
  {
   "cell_type": "code",
   "execution_count": 93,
   "id": "e681da5c-db44-438d-be44-83e8739328e3",
   "metadata": {},
   "outputs": [
    {
     "ename": "ValueError",
     "evalue": "list.remove(x): x not in list",
     "output_type": "error",
     "traceback": [
      "\u001b[0;31m---------------------------------------------------------------------------\u001b[0m",
      "\u001b[0;31mValueError\u001b[0m                                Traceback (most recent call last)",
      "Cell \u001b[0;32mIn[93], line 1\u001b[0m\n\u001b[0;32m----> 1\u001b[0m \u001b[43mlist1\u001b[49m\u001b[38;5;241;43m.\u001b[39;49m\u001b[43mremove\u001b[49m\u001b[43m(\u001b[49m\u001b[38;5;28;43mlist\u001b[39;49m\u001b[43m[\u001b[49m\u001b[38;5;241;43m2\u001b[39;49m\u001b[43m]\u001b[49m\u001b[43m)\u001b[49m\n",
      "\u001b[0;31mValueError\u001b[0m: list.remove(x): x not in list"
     ]
    }
   ],
   "source": [
    "list1.remove(list[2])"
   ]
  },
  {
   "cell_type": "code",
   "execution_count": 90,
   "id": "5a66bc04-1d1f-4c01-9a41-7ae9e4de6601",
   "metadata": {},
   "outputs": [
    {
     "data": {
      "text/plain": [
       "[3, 4]"
      ]
     },
     "execution_count": 90,
     "metadata": {},
     "output_type": "execute_result"
    }
   ],
   "source": [
    "list1"
   ]
  },
  {
   "cell_type": "code",
   "execution_count": 95,
   "id": "b6854e39-c925-4db9-a2be-ca8586357d17",
   "metadata": {},
   "outputs": [],
   "source": [
    "list1.append(\"Nikhil\")"
   ]
  },
  {
   "cell_type": "code",
   "execution_count": 96,
   "id": "0861a002-fd61-4c29-98cb-3bc41bb16c92",
   "metadata": {},
   "outputs": [
    {
     "data": {
      "text/plain": [
       "[3, 4, 'Nikhil']"
      ]
     },
     "execution_count": 96,
     "metadata": {},
     "output_type": "execute_result"
    }
   ],
   "source": [
    "list1"
   ]
  },
  {
   "cell_type": "code",
   "execution_count": 98,
   "id": "9ac7d041-9a9f-42c3-8b41-84e7bcb1a23d",
   "metadata": {},
   "outputs": [
    {
     "ename": "AttributeError",
     "evalue": "'str' object has no attribute 'remove'",
     "output_type": "error",
     "traceback": [
      "\u001b[0;31m---------------------------------------------------------------------------\u001b[0m",
      "\u001b[0;31mAttributeError\u001b[0m                            Traceback (most recent call last)",
      "Cell \u001b[0;32mIn[98], line 1\u001b[0m\n\u001b[0;32m----> 1\u001b[0m \u001b[43mlist1\u001b[49m\u001b[43m[\u001b[49m\u001b[38;5;241;43m2\u001b[39;49m\u001b[43m]\u001b[49m\u001b[38;5;241;43m.\u001b[39;49m\u001b[43mremove\u001b[49m(\u001b[38;5;241m3\u001b[39m)\n",
      "\u001b[0;31mAttributeError\u001b[0m: 'str' object has no attribute 'remove'"
     ]
    }
   ],
   "source": [
    "list1[2].remove(3)"
   ]
  },
  {
   "cell_type": "code",
   "execution_count": 99,
   "id": "be2e231a-2c3b-4725-ad4a-89de9633de10",
   "metadata": {},
   "outputs": [
    {
     "data": {
      "text/plain": [
       "\"[3, 4, 'Nikhil']\""
      ]
     },
     "execution_count": 99,
     "metadata": {},
     "output_type": "execute_result"
    }
   ],
   "source": [
    "str(list1)"
   ]
  },
  {
   "cell_type": "code",
   "execution_count": 100,
   "id": "4675a0b5-ac42-4d55-a199-3e9f96afb47d",
   "metadata": {},
   "outputs": [
    {
     "ename": "AttributeError",
     "evalue": "'str' object has no attribute 'remove'",
     "output_type": "error",
     "traceback": [
      "\u001b[0;31m---------------------------------------------------------------------------\u001b[0m",
      "\u001b[0;31mAttributeError\u001b[0m                            Traceback (most recent call last)",
      "Cell \u001b[0;32mIn[100], line 1\u001b[0m\n\u001b[0;32m----> 1\u001b[0m \u001b[43mlist1\u001b[49m\u001b[43m[\u001b[49m\u001b[38;5;241;43m2\u001b[39;49m\u001b[43m]\u001b[49m\u001b[38;5;241;43m.\u001b[39;49m\u001b[43mremove\u001b[49m(\u001b[38;5;241m3\u001b[39m)\n",
      "\u001b[0;31mAttributeError\u001b[0m: 'str' object has no attribute 'remove'"
     ]
    }
   ],
   "source": [
    "list1[2].remove(3)"
   ]
  },
  {
   "cell_type": "code",
   "execution_count": 101,
   "id": "40c4b93c-2de5-4bcf-baa6-503b41d8275f",
   "metadata": {},
   "outputs": [
    {
     "data": {
      "text/plain": [
       "[3, 4, 'Nikhil']"
      ]
     },
     "execution_count": 101,
     "metadata": {},
     "output_type": "execute_result"
    }
   ],
   "source": [
    "list1"
   ]
  },
  {
   "cell_type": "code",
   "execution_count": 102,
   "id": "44c8d474-8a52-4a02-ac7e-abc0c4092372",
   "metadata": {},
   "outputs": [
    {
     "ename": "ValueError",
     "evalue": "list.remove(x): x not in list",
     "output_type": "error",
     "traceback": [
      "\u001b[0;31m---------------------------------------------------------------------------\u001b[0m",
      "\u001b[0;31mValueError\u001b[0m                                Traceback (most recent call last)",
      "Cell \u001b[0;32mIn[102], line 1\u001b[0m\n\u001b[0;32m----> 1\u001b[0m \u001b[43mlist1\u001b[49m\u001b[38;5;241;43m.\u001b[39;49m\u001b[43mremove\u001b[49m\u001b[43m(\u001b[49m\u001b[38;5;241;43m2\u001b[39;49m\u001b[43m)\u001b[49m\n",
      "\u001b[0;31mValueError\u001b[0m: list.remove(x): x not in list"
     ]
    }
   ],
   "source": [
    "list1.remove(2)"
   ]
  },
  {
   "cell_type": "code",
   "execution_count": 103,
   "id": "b2f3a6cc-95cb-4fce-aa48-014761816fe1",
   "metadata": {},
   "outputs": [
    {
     "data": {
      "text/plain": [
       "[3, 4, 'Nikhil']"
      ]
     },
     "execution_count": 103,
     "metadata": {},
     "output_type": "execute_result"
    }
   ],
   "source": [
    "list1"
   ]
  },
  {
   "cell_type": "code",
   "execution_count": 104,
   "id": "ee5cf3fa-fbd8-4017-a65a-8e85f1168793",
   "metadata": {},
   "outputs": [
    {
     "data": {
      "text/plain": [
       "'Nikhil'"
      ]
     },
     "execution_count": 104,
     "metadata": {},
     "output_type": "execute_result"
    }
   ],
   "source": [
    "list1.pop()"
   ]
  },
  {
   "cell_type": "code",
   "execution_count": 105,
   "id": "3466b949-d6a9-47f5-a496-da23fbc2cd22",
   "metadata": {},
   "outputs": [
    {
     "data": {
      "text/plain": [
       "[3, 4]"
      ]
     },
     "execution_count": 105,
     "metadata": {},
     "output_type": "execute_result"
    }
   ],
   "source": [
    "list1\n"
   ]
  },
  {
   "cell_type": "code",
   "execution_count": 106,
   "id": "6628a52f-30a9-44c3-b354-5fc2fa399d80",
   "metadata": {},
   "outputs": [
    {
     "data": {
      "text/plain": [
       "[4, 3]"
      ]
     },
     "execution_count": 106,
     "metadata": {},
     "output_type": "execute_result"
    }
   ],
   "source": [
    "list1[::-1]"
   ]
  },
  {
   "cell_type": "code",
   "execution_count": 107,
   "id": "44a44ce8-962d-4424-84e7-9077dd07f764",
   "metadata": {},
   "outputs": [],
   "source": [
    "list1.reverse()"
   ]
  },
  {
   "cell_type": "code",
   "execution_count": 108,
   "id": "1f31f0d4-941b-4b3b-8663-a5f629aa38a2",
   "metadata": {},
   "outputs": [
    {
     "data": {
      "text/plain": [
       "[4, 3]"
      ]
     },
     "execution_count": 108,
     "metadata": {},
     "output_type": "execute_result"
    }
   ],
   "source": [
    "list1"
   ]
  },
  {
   "cell_type": "code",
   "execution_count": 114,
   "id": "b9618fd9-a8e4-441a-8ca1-38a3d5730367",
   "metadata": {},
   "outputs": [],
   "source": [
    "l2 = [43,9,66,44,5,6]"
   ]
  },
  {
   "cell_type": "code",
   "execution_count": 115,
   "id": "2380a338-8044-4bf0-84cf-2cf3e33cb38a",
   "metadata": {},
   "outputs": [],
   "source": [
    "l2.sort()"
   ]
  },
  {
   "cell_type": "code",
   "execution_count": 116,
   "id": "99b1e6fe-cb22-425a-aa81-12b5c237d675",
   "metadata": {},
   "outputs": [
    {
     "data": {
      "text/plain": [
       "[5, 6, 9, 43, 44, 66]"
      ]
     },
     "execution_count": 116,
     "metadata": {},
     "output_type": "execute_result"
    }
   ],
   "source": [
    "l2"
   ]
  },
  {
   "cell_type": "code",
   "execution_count": 118,
   "id": "41dee6b4-5e07-4a19-a6cb-e6e5c26b2ed3",
   "metadata": {},
   "outputs": [],
   "source": [
    "l3 = [43,\"Nikhil\",\"Aniket\",65,76,32,87,43,2479]"
   ]
  },
  {
   "cell_type": "code",
   "execution_count": 119,
   "id": "66147b29-4226-4fe9-8c95-c4e4787e59e4",
   "metadata": {},
   "outputs": [
    {
     "data": {
      "text/plain": [
       "[43, 'Nikhil', 'Aniket', 65, 76, 32, 87, 43, 2479]"
      ]
     },
     "execution_count": 119,
     "metadata": {},
     "output_type": "execute_result"
    }
   ],
   "source": [
    "l3"
   ]
  },
  {
   "cell_type": "code",
   "execution_count": 120,
   "id": "09ef82f9-2a61-4b4b-9a95-2c89f340c878",
   "metadata": {},
   "outputs": [
    {
     "ename": "TypeError",
     "evalue": "'<' not supported between instances of 'str' and 'int'",
     "output_type": "error",
     "traceback": [
      "\u001b[0;31m---------------------------------------------------------------------------\u001b[0m",
      "\u001b[0;31mTypeError\u001b[0m                                 Traceback (most recent call last)",
      "Cell \u001b[0;32mIn[120], line 1\u001b[0m\n\u001b[0;32m----> 1\u001b[0m \u001b[43ml3\u001b[49m\u001b[38;5;241;43m.\u001b[39;49m\u001b[43msort\u001b[49m\u001b[43m(\u001b[49m\u001b[43m)\u001b[49m\n",
      "\u001b[0;31mTypeError\u001b[0m: '<' not supported between instances of 'str' and 'int'"
     ]
    }
   ],
   "source": [
    "l3.sort()"
   ]
  },
  {
   "cell_type": "code",
   "execution_count": 121,
   "id": "c077eff9-ed9b-42d9-94e2-c1407d45c4c4",
   "metadata": {},
   "outputs": [],
   "source": [
    "l4 = [\"Nikhil\",\"Rahul\",\"Aniket\",\"Sanket\"]"
   ]
  },
  {
   "cell_type": "code",
   "execution_count": 122,
   "id": "977e6bee-bd6f-4b10-b4c5-14a8b8780a1c",
   "metadata": {},
   "outputs": [],
   "source": [
    "l4.sort()\n"
   ]
  },
  {
   "cell_type": "code",
   "execution_count": 123,
   "id": "e05661f1-6f06-4db3-bcaf-0312ac923236",
   "metadata": {},
   "outputs": [
    {
     "data": {
      "text/plain": [
       "['Aniket', 'Nikhil', 'Rahul', 'Sanket']"
      ]
     },
     "execution_count": 123,
     "metadata": {},
     "output_type": "execute_result"
    }
   ],
   "source": [
    "l4"
   ]
  },
  {
   "cell_type": "code",
   "execution_count": 124,
   "id": "23a865a8-433e-4749-bc33-5933189db80f",
   "metadata": {},
   "outputs": [],
   "source": [
    "l4.sort(reverse=True)"
   ]
  },
  {
   "cell_type": "code",
   "execution_count": 125,
   "id": "d9133bbb-8f82-4966-bf30-d1684cbfa947",
   "metadata": {},
   "outputs": [
    {
     "data": {
      "text/plain": [
       "['Sanket', 'Rahul', 'Nikhil', 'Aniket']"
      ]
     },
     "execution_count": 125,
     "metadata": {},
     "output_type": "execute_result"
    }
   ],
   "source": [
    "l4"
   ]
  },
  {
   "cell_type": "code",
   "execution_count": 128,
   "id": "ba9e65e3-affe-4aa4-b86d-e35ddcbb73fe",
   "metadata": {},
   "outputs": [
    {
     "data": {
      "text/plain": [
       "<function list.count(value, /)>"
      ]
     },
     "execution_count": 128,
     "metadata": {},
     "output_type": "execute_result"
    }
   ],
   "source": [
    "l4.count"
   ]
  },
  {
   "cell_type": "code",
   "execution_count": 129,
   "id": "120d51f5-5d98-4a9e-a542-e58990ccec89",
   "metadata": {},
   "outputs": [
    {
     "data": {
      "text/plain": [
       "1"
      ]
     },
     "execution_count": 129,
     "metadata": {},
     "output_type": "execute_result"
    }
   ],
   "source": [
    "l4.count('Rahul')"
   ]
  },
  {
   "cell_type": "code",
   "execution_count": 130,
   "id": "44423313-923a-4fd7-896a-26f5af1d0351",
   "metadata": {},
   "outputs": [
    {
     "data": {
      "text/plain": [
       "2"
      ]
     },
     "execution_count": 130,
     "metadata": {},
     "output_type": "execute_result"
    }
   ],
   "source": [
    "l4.index('Nikhil')"
   ]
  },
  {
   "cell_type": "code",
   "execution_count": 131,
   "id": "2e86dfb5-2206-498f-88d8-1cc84ed57946",
   "metadata": {},
   "outputs": [],
   "source": [
    "l4.append(\"Nikhil\")"
   ]
  },
  {
   "cell_type": "code",
   "execution_count": 132,
   "id": "c2942296-d055-4045-a68d-1d281f0a78a7",
   "metadata": {},
   "outputs": [
    {
     "data": {
      "text/plain": [
       "['Sanket', 'Rahul', 'Nikhil', 'Aniket', 'Nikhil']"
      ]
     },
     "execution_count": 132,
     "metadata": {},
     "output_type": "execute_result"
    }
   ],
   "source": [
    "l4\n"
   ]
  },
  {
   "cell_type": "code",
   "execution_count": 133,
   "id": "7a50c435-bdcc-46b6-8639-585009c503f1",
   "metadata": {},
   "outputs": [
    {
     "data": {
      "text/plain": [
       "2"
      ]
     },
     "execution_count": 133,
     "metadata": {},
     "output_type": "execute_result"
    }
   ],
   "source": [
    "l4.count(\"Nikhil\")"
   ]
  },
  {
   "cell_type": "code",
   "execution_count": 134,
   "id": "16a7cd47-5ade-4afe-8dfa-a83f0a8ccc79",
   "metadata": {},
   "outputs": [
    {
     "data": {
      "text/plain": [
       "2"
      ]
     },
     "execution_count": 134,
     "metadata": {},
     "output_type": "execute_result"
    }
   ],
   "source": [
    "l4.index(\"Nikhil\")"
   ]
  },
  {
   "cell_type": "code",
   "execution_count": 135,
   "id": "1b1004aa-095a-41f7-abe7-420fbee5a5fc",
   "metadata": {},
   "outputs": [],
   "source": [
    "l5 = [3,4,5,6]"
   ]
  },
  {
   "cell_type": "code",
   "execution_count": 137,
   "id": "bfdcf027-76aa-4b46-82f5-794d55c209ed",
   "metadata": {},
   "outputs": [],
   "source": [
    "s1 = \"Nikhil\""
   ]
  },
  {
   "cell_type": "code",
   "execution_count": 138,
   "id": "6b2928e1-1baf-4a3e-bcff-df0277948af8",
   "metadata": {},
   "outputs": [
    {
     "ename": "TypeError",
     "evalue": "'str' object does not support item assignment",
     "output_type": "error",
     "traceback": [
      "\u001b[0;31m---------------------------------------------------------------------------\u001b[0m",
      "\u001b[0;31mTypeError\u001b[0m                                 Traceback (most recent call last)",
      "Cell \u001b[0;32mIn[138], line 1\u001b[0m\n\u001b[0;32m----> 1\u001b[0m \u001b[43ms1\u001b[49m\u001b[43m[\u001b[49m\u001b[38;5;241;43m0\u001b[39;49m\u001b[43m]\u001b[49m \u001b[38;5;241m=\u001b[39m \u001b[38;5;124m'\u001b[39m\u001b[38;5;124mA\u001b[39m\u001b[38;5;124m'\u001b[39m\n",
      "\u001b[0;31mTypeError\u001b[0m: 'str' object does not support item assignment"
     ]
    }
   ],
   "source": [
    "s1[0] = 'A'"
   ]
  },
  {
   "cell_type": "code",
   "execution_count": 140,
   "id": "606330d1-ebd2-480e-9f67-c9ed879b3d8c",
   "metadata": {},
   "outputs": [],
   "source": [
    "l5[0] = 30"
   ]
  },
  {
   "cell_type": "code",
   "execution_count": 141,
   "id": "9c41e1d7-5acf-4108-8a66-2288e0483773",
   "metadata": {},
   "outputs": [
    {
     "data": {
      "text/plain": [
       "[30, 4, 5, 6]"
      ]
     },
     "execution_count": 141,
     "metadata": {},
     "output_type": "execute_result"
    }
   ],
   "source": [
    "l5"
   ]
  },
  {
   "cell_type": "code",
   "execution_count": 142,
   "id": "407311f1-e7c9-4e91-8680-36b326d48163",
   "metadata": {},
   "outputs": [
    {
     "data": {
      "text/plain": [
       "'Nikhil'"
      ]
     },
     "execution_count": 142,
     "metadata": {},
     "output_type": "execute_result"
    }
   ],
   "source": [
    "s1"
   ]
  },
  {
   "cell_type": "code",
   "execution_count": 143,
   "id": "d3bd44cc-0239-4202-bbe2-83956ed4965e",
   "metadata": {},
   "outputs": [
    {
     "data": {
      "text/plain": [
       "'Aikhil'"
      ]
     },
     "execution_count": 143,
     "metadata": {},
     "output_type": "execute_result"
    }
   ],
   "source": [
    "s1.replace('N', 'A')"
   ]
  },
  {
   "cell_type": "code",
   "execution_count": 144,
   "id": "330ab0f1-ef52-4ad8-87e2-db1c0eaff6be",
   "metadata": {},
   "outputs": [
    {
     "data": {
      "text/plain": [
       "'Nikhil'"
      ]
     },
     "execution_count": 144,
     "metadata": {},
     "output_type": "execute_result"
    }
   ],
   "source": [
    "s1"
   ]
  },
  {
   "cell_type": "code",
   "execution_count": 153,
   "id": "80d6e040-bb4b-483f-9bdd-2205c1154a38",
   "metadata": {},
   "outputs": [],
   "source": [
    "t = (2,3,4,5,6.7,False,True,\"Nikhil\")"
   ]
  },
  {
   "cell_type": "code",
   "execution_count": 155,
   "id": "a704a22e-e305-4b71-9e80-dc36c765ec9a",
   "metadata": {},
   "outputs": [
    {
     "data": {
      "text/plain": [
       "(2, 3, 4, 5, 6.7, False, True, 'Nikhil')"
      ]
     },
     "execution_count": 155,
     "metadata": {},
     "output_type": "execute_result"
    }
   ],
   "source": [
    "t"
   ]
  },
  {
   "cell_type": "code",
   "execution_count": 156,
   "id": "30fb87f5-11a7-42db-afc9-809a5c9420ec",
   "metadata": {},
   "outputs": [
    {
     "data": {
      "text/plain": [
       "tuple"
      ]
     },
     "execution_count": 156,
     "metadata": {},
     "output_type": "execute_result"
    }
   ],
   "source": [
    "type(t)"
   ]
  },
  {
   "cell_type": "code",
   "execution_count": 157,
   "id": "214bba89-784d-4863-9e9b-28516eae4533",
   "metadata": {},
   "outputs": [
    {
     "data": {
      "text/plain": [
       "8"
      ]
     },
     "execution_count": 157,
     "metadata": {},
     "output_type": "execute_result"
    }
   ],
   "source": [
    "len(t)"
   ]
  },
  {
   "cell_type": "code",
   "execution_count": 158,
   "id": "f30016c2-7a03-415e-97e9-a211b0a5a371",
   "metadata": {},
   "outputs": [
    {
     "data": {
      "text/plain": [
       "('Nikhil', True, False, 6.7, 5, 4, 3, 2)"
      ]
     },
     "execution_count": 158,
     "metadata": {},
     "output_type": "execute_result"
    }
   ],
   "source": [
    "t[::-1]"
   ]
  },
  {
   "cell_type": "code",
   "execution_count": 159,
   "id": "81e60c43-35b4-485c-b3bc-887762f075b5",
   "metadata": {},
   "outputs": [
    {
     "data": {
      "text/plain": [
       "'Nikhil'"
      ]
     },
     "execution_count": 159,
     "metadata": {},
     "output_type": "execute_result"
    }
   ],
   "source": [
    "t[-1]"
   ]
  },
  {
   "cell_type": "code",
   "execution_count": 160,
   "id": "244d6590-c564-4e2e-896c-d2d78dc95c9c",
   "metadata": {},
   "outputs": [
    {
     "data": {
      "text/plain": [
       "['Sanket', 'Rahul', 'Nikhil', 'Aniket', 'Nikhil']"
      ]
     },
     "execution_count": 160,
     "metadata": {},
     "output_type": "execute_result"
    }
   ],
   "source": [
    "l4"
   ]
  },
  {
   "cell_type": "code",
   "execution_count": 161,
   "id": "0e8be91b-bdae-4588-b1c5-57ec56bbaffb",
   "metadata": {},
   "outputs": [],
   "source": [
    "l4[0] = 98876"
   ]
  },
  {
   "cell_type": "code",
   "execution_count": null,
   "id": "5a2d04dd-75b0-4d2a-a559-fcf817478905",
   "metadata": {},
   "outputs": [],
   "source": []
  },
  {
   "cell_type": "code",
   "execution_count": 162,
   "id": "71fa64b7-1396-4b29-9d25-cbc05efdfb67",
   "metadata": {},
   "outputs": [
    {
     "data": {
      "text/plain": [
       "[98876, 'Rahul', 'Nikhil', 'Aniket', 'Nikhil']"
      ]
     },
     "execution_count": 162,
     "metadata": {},
     "output_type": "execute_result"
    }
   ],
   "source": [
    "l4"
   ]
  },
  {
   "cell_type": "code",
   "execution_count": 163,
   "id": "e1dbcd1a-f782-49df-b915-d231c360ba55",
   "metadata": {},
   "outputs": [
    {
     "data": {
      "text/plain": [
       "1"
      ]
     },
     "execution_count": 163,
     "metadata": {},
     "output_type": "execute_result"
    }
   ],
   "source": [
    "t.count(2)"
   ]
  },
  {
   "cell_type": "code",
   "execution_count": 164,
   "id": "ef51a1c2-dc94-42b2-9578-c7c83e0dff37",
   "metadata": {},
   "outputs": [
    {
     "data": {
      "text/plain": [
       "0"
      ]
     },
     "execution_count": 164,
     "metadata": {},
     "output_type": "execute_result"
    }
   ],
   "source": [
    "t.index(2)"
   ]
  },
  {
   "cell_type": "code",
   "execution_count": 165,
   "id": "af19fbaf-804c-410b-95c5-19ef29dd6471",
   "metadata": {},
   "outputs": [],
   "source": [
    "ss = {}"
   ]
  },
  {
   "cell_type": "code",
   "execution_count": 166,
   "id": "771d011a-7123-40e1-9968-929ef4549068",
   "metadata": {},
   "outputs": [
    {
     "data": {
      "text/plain": [
       "dict"
      ]
     },
     "execution_count": 166,
     "metadata": {},
     "output_type": "execute_result"
    }
   ],
   "source": [
    "type(ss)"
   ]
  },
  {
   "cell_type": "code",
   "execution_count": 169,
   "id": "508a6eff-d166-4841-9bbe-99d04be46ed3",
   "metadata": {},
   "outputs": [],
   "source": [
    "s2 = {2,3,4,5}"
   ]
  },
  {
   "cell_type": "code",
   "execution_count": 186,
   "id": "1eec45e8-986d-4303-8866-8eed643f6f65",
   "metadata": {},
   "outputs": [
    {
     "data": {
      "text/plain": [
       "{2, 3, 4, 5}"
      ]
     },
     "execution_count": 186,
     "metadata": {},
     "output_type": "execute_result"
    }
   ],
   "source": [
    "s2"
   ]
  },
  {
   "cell_type": "code",
   "execution_count": 171,
   "id": "db840afd-8cfc-4342-8ab3-f430075455cd",
   "metadata": {},
   "outputs": [
    {
     "data": {
      "text/plain": [
       "set"
      ]
     },
     "execution_count": 171,
     "metadata": {},
     "output_type": "execute_result"
    }
   ],
   "source": [
    "type(s2)"
   ]
  },
  {
   "cell_type": "code",
   "execution_count": 176,
   "id": "53a8337c-9209-416e-9da8-e4cc1a2253e0",
   "metadata": {},
   "outputs": [],
   "source": [
    "ss = {\n",
    "    \"Name\":\"Nikhil\",\n",
    "    \"Email\":\"nikhillokare6@gmail.com\",\n",
    "     \"Phone No\":9146680507\n",
    "}"
   ]
  },
  {
   "cell_type": "code",
   "execution_count": 177,
   "id": "17b5ef75-9878-4aee-bc02-c17352b67df8",
   "metadata": {},
   "outputs": [
    {
     "data": {
      "text/plain": [
       "{'Name': 'Nikhil', 'Email': 'nikhillokare6@gmail.com', 'Phone No': 9146680507}"
      ]
     },
     "execution_count": 177,
     "metadata": {},
     "output_type": "execute_result"
    }
   ],
   "source": [
    "ss"
   ]
  },
  {
   "cell_type": "code",
   "execution_count": 182,
   "id": "ee7dfd13-ce27-4686-a134-b8acf65c25e9",
   "metadata": {},
   "outputs": [],
   "source": [
    "s4 = {22,2,3,4,4,5,6,7,5,4,3,2,2,3,4,5,67,7,8,9,7,7,6,\"Nikhil\",'nikhil'}"
   ]
  },
  {
   "cell_type": "code",
   "execution_count": 183,
   "id": "f4a2194d-b520-4a3b-af0b-de790830b674",
   "metadata": {},
   "outputs": [
    {
     "data": {
      "text/plain": [
       "{2, 22, 3, 4, 5, 6, 67, 7, 8, 9, 'Nikhil', 'nikhil'}"
      ]
     },
     "execution_count": 183,
     "metadata": {},
     "output_type": "execute_result"
    }
   ],
   "source": [
    "s4"
   ]
  },
  {
   "cell_type": "code",
   "execution_count": 184,
   "id": "7355e397-49d8-4394-908a-35d3f146f20f",
   "metadata": {},
   "outputs": [],
   "source": [
    "s4.add('Aniket')"
   ]
  },
  {
   "cell_type": "code",
   "execution_count": 185,
   "id": "384481fd-7cf6-4ed8-b349-370e8b6e2fc9",
   "metadata": {},
   "outputs": [
    {
     "data": {
      "text/plain": [
       "{2, 22, 3, 4, 5, 6, 67, 7, 8, 9, 'Aniket', 'Nikhil', 'nikhil'}"
      ]
     },
     "execution_count": 185,
     "metadata": {},
     "output_type": "execute_result"
    }
   ],
   "source": [
    "s4"
   ]
  },
  {
   "cell_type": "code",
   "execution_count": null,
   "id": "33105ea1-4ab5-4a97-a7d2-b6e7ad4a4b9c",
   "metadata": {},
   "outputs": [],
   "source": []
  }
 ],
 "metadata": {
  "kernelspec": {
   "display_name": "Python 3 (ipykernel)",
   "language": "python",
   "name": "python3"
  },
  "language_info": {
   "codemirror_mode": {
    "name": "ipython",
    "version": 3
   },
   "file_extension": ".py",
   "mimetype": "text/x-python",
   "name": "python",
   "nbconvert_exporter": "python",
   "pygments_lexer": "ipython3",
   "version": "3.10.8"
  }
 },
 "nbformat": 4,
 "nbformat_minor": 5
}

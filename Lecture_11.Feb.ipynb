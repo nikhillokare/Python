{
 "cells": [
  {
   "cell_type": "code",
   "execution_count": 20,
   "id": "ed1b24ad-11d6-4c7a-a3f6-a5fd0751d300",
   "metadata": {},
   "outputs": [],
   "source": [
    "file = open('test.txt','w')"
   ]
  },
  {
   "cell_type": "code",
   "execution_count": 21,
   "id": "b44f4466-d5a3-4c2a-87af-a39e5d1dd985",
   "metadata": {},
   "outputs": [
    {
     "data": {
      "text/plain": [
       "'/home/jovyan/work'"
      ]
     },
     "execution_count": 21,
     "metadata": {},
     "output_type": "execute_result"
    }
   ],
   "source": [
    "pwd"
   ]
  },
  {
   "cell_type": "code",
   "execution_count": 22,
   "id": "d5aa94f7-c90f-4d52-acc9-9d07c5244f73",
   "metadata": {},
   "outputs": [
    {
     "name": "stdout",
     "output_type": "stream",
     "text": [
      "'Assignment _29Jan.ipynb'   Lecture_05.ipynb   Lecture_11.Feb.ipynb\n",
      " Lecture_01.ipynb           Lecture_06.ipynb   README.md\n",
      " Lecture_02.ipynb           Lecture_07.ipynb   sample-code.ipynb\n",
      " Lecture_03.ipynb           Lecture_08.ipynb   test.txt\n",
      " Lecture_04.ipynb           Lecture_09.ipynb\n"
     ]
    }
   ],
   "source": [
    "ls"
   ]
  },
  {
   "cell_type": "code",
   "execution_count": 23,
   "id": "ac527e1c-197b-4bfb-b34d-fd0f9c8dfa7f",
   "metadata": {},
   "outputs": [
    {
     "data": {
      "text/plain": [
       "12"
      ]
     },
     "execution_count": 23,
     "metadata": {},
     "output_type": "execute_result"
    }
   ],
   "source": [
    "file.write('Nikhil is op')"
   ]
  },
  {
   "cell_type": "code",
   "execution_count": 24,
   "id": "64e5f771-099a-4586-8891-cf81116569dc",
   "metadata": {},
   "outputs": [],
   "source": [
    "file.close()"
   ]
  },
  {
   "cell_type": "code",
   "execution_count": 45,
   "id": "45f33403-2b45-42fb-92ea-e22190082163",
   "metadata": {},
   "outputs": [],
   "source": [
    "file = open('test.txt','w')"
   ]
  },
  {
   "cell_type": "code",
   "execution_count": 46,
   "id": "da84a673-d45c-456e-a4aa-9d4ea228561f",
   "metadata": {},
   "outputs": [
    {
     "data": {
      "text/plain": [
       "17"
      ]
     },
     "execution_count": 46,
     "metadata": {},
     "output_type": "execute_result"
    }
   ],
   "source": [
    "file.write('Nikhil is not op ')"
   ]
  },
  {
   "cell_type": "code",
   "execution_count": 47,
   "id": "ad9a770e-bb41-474f-b0f7-7a1bdab8de79",
   "metadata": {},
   "outputs": [],
   "source": [
    "file.close()"
   ]
  },
  {
   "cell_type": "code",
   "execution_count": 48,
   "id": "7286e81c-666d-4823-ac7e-f4401183e4c0",
   "metadata": {},
   "outputs": [],
   "source": [
    "file = open('test.txt','a')"
   ]
  },
  {
   "cell_type": "code",
   "execution_count": 49,
   "id": "a0562d9e-1ba3-444b-b0c0-12154721fb40",
   "metadata": {},
   "outputs": [
    {
     "data": {
      "text/plain": [
       "12"
      ]
     },
     "execution_count": 49,
     "metadata": {},
     "output_type": "execute_result"
    }
   ],
   "source": [
    "file.write('NIkhil is OG')"
   ]
  },
  {
   "cell_type": "code",
   "execution_count": 50,
   "id": "6f9ff8de-3ee5-40dd-9623-f821216b0099",
   "metadata": {},
   "outputs": [],
   "source": [
    "file.close()"
   ]
  },
  {
   "cell_type": "code",
   "execution_count": 51,
   "id": "b5e7d353-6f9f-4cb5-9188-e9cfab1b2eb0",
   "metadata": {},
   "outputs": [],
   "source": [
    "file = open('test.txt','r')"
   ]
  },
  {
   "cell_type": "code",
   "execution_count": 52,
   "id": "64538190-a72d-465a-b18f-44093350da4b",
   "metadata": {},
   "outputs": [
    {
     "data": {
      "text/plain": [
       "'Nikhil is not op NIkhil is OG'"
      ]
     },
     "execution_count": 52,
     "metadata": {},
     "output_type": "execute_result"
    }
   ],
   "source": [
    "file.read()"
   ]
  },
  {
   "cell_type": "code",
   "execution_count": 55,
   "id": "5377c5db-261f-488b-92fe-cdf0f34b0144",
   "metadata": {},
   "outputs": [
    {
     "data": {
      "text/plain": [
       "'Nikhil is not op NIkhil is OG'"
      ]
     },
     "execution_count": 55,
     "metadata": {},
     "output_type": "execute_result"
    }
   ],
   "source": [
    "file.readline()"
   ]
  },
  {
   "cell_type": "code",
   "execution_count": 54,
   "id": "7b4475a0-8b32-4ce0-b883-a5be4883a869",
   "metadata": {},
   "outputs": [
    {
     "data": {
      "text/plain": [
       "0"
      ]
     },
     "execution_count": 54,
     "metadata": {},
     "output_type": "execute_result"
    }
   ],
   "source": [
    "file.seek(0)"
   ]
  },
  {
   "cell_type": "code",
   "execution_count": 56,
   "id": "8dc6e93d-7eb1-4a9c-b0d7-fbaa3c2dbe4e",
   "metadata": {},
   "outputs": [
    {
     "data": {
      "text/plain": [
       "''"
      ]
     },
     "execution_count": 56,
     "metadata": {},
     "output_type": "execute_result"
    }
   ],
   "source": [
    "file.readline()"
   ]
  },
  {
   "cell_type": "code",
   "execution_count": 57,
   "id": "d83753d1-981f-41e6-8174-350438ca02b9",
   "metadata": {},
   "outputs": [
    {
     "data": {
      "text/plain": [
       "''"
      ]
     },
     "execution_count": 57,
     "metadata": {},
     "output_type": "execute_result"
    }
   ],
   "source": [
    "file.read()"
   ]
  },
  {
   "cell_type": "code",
   "execution_count": 58,
   "id": "7cccea04-5f14-4563-ab26-9ecbe0b3bd19",
   "metadata": {},
   "outputs": [
    {
     "data": {
      "text/plain": [
       "0"
      ]
     },
     "execution_count": 58,
     "metadata": {},
     "output_type": "execute_result"
    }
   ],
   "source": [
    "file.seek(0)"
   ]
  },
  {
   "cell_type": "code",
   "execution_count": 59,
   "id": "22a75676-5176-41b2-b8e8-2932ce78d51c",
   "metadata": {},
   "outputs": [
    {
     "data": {
      "text/plain": [
       "'Nikhil is not op NIkhil is OG'"
      ]
     },
     "execution_count": 59,
     "metadata": {},
     "output_type": "execute_result"
    }
   ],
   "source": [
    "file.read()"
   ]
  },
  {
   "cell_type": "code",
   "execution_count": 60,
   "id": "a1b27fed-66eb-454b-84ed-c49930c74a16",
   "metadata": {},
   "outputs": [
    {
     "data": {
      "text/plain": [
       "''"
      ]
     },
     "execution_count": 60,
     "metadata": {},
     "output_type": "execute_result"
    }
   ],
   "source": [
    "file.readline()"
   ]
  },
  {
   "cell_type": "code",
   "execution_count": 61,
   "id": "feb73be6-dae4-4ab3-9d6d-c0e4dcd2fed6",
   "metadata": {},
   "outputs": [
    {
     "data": {
      "text/plain": [
       "4"
      ]
     },
     "execution_count": 61,
     "metadata": {},
     "output_type": "execute_result"
    }
   ],
   "source": [
    "file.seek(4)"
   ]
  },
  {
   "cell_type": "code",
   "execution_count": 62,
   "id": "ce8d5d09-d63e-4366-b226-5456f77fd238",
   "metadata": {},
   "outputs": [
    {
     "data": {
      "text/plain": [
       "'il is not op NIkhil is OG'"
      ]
     },
     "execution_count": 62,
     "metadata": {},
     "output_type": "execute_result"
    }
   ],
   "source": [
    "file.read()"
   ]
  },
  {
   "cell_type": "code",
   "execution_count": 71,
   "id": "7ba5e7e6-7acd-4ec3-9319-93d2d80bc626",
   "metadata": {},
   "outputs": [],
   "source": [
    "f1 =  open('test.txt','r')"
   ]
  },
  {
   "cell_type": "code",
   "execution_count": 72,
   "id": "a028f564-cf9e-464e-b603-ab63f017539f",
   "metadata": {},
   "outputs": [
    {
     "name": "stdout",
     "output_type": "stream",
     "text": [
      "Nikhil is not op NIkhil is OG\n"
     ]
    }
   ],
   "source": [
    "for i in f1:\n",
    "    print(i)"
   ]
  },
  {
   "cell_type": "code",
   "execution_count": 73,
   "id": "cc40f3fc-e0db-40a3-9ffc-7ca9895ca611",
   "metadata": {},
   "outputs": [],
   "source": [
    "import os"
   ]
  },
  {
   "cell_type": "code",
   "execution_count": 74,
   "id": "60fffb08-29c6-48e6-ba3a-ef79f6b278dd",
   "metadata": {},
   "outputs": [
    {
     "data": {
      "text/plain": [
       "29"
      ]
     },
     "execution_count": 74,
     "metadata": {},
     "output_type": "execute_result"
    }
   ],
   "source": [
    "os.path.getsize('test.txt')"
   ]
  },
  {
   "cell_type": "code",
   "execution_count": 75,
   "id": "740c882e-49c0-4e5e-ae81-3c76311826b5",
   "metadata": {},
   "outputs": [],
   "source": [
    "os.remove('test.txt')"
   ]
  },
  {
   "cell_type": "code",
   "execution_count": 76,
   "id": "38093708-63d5-4a1e-8fc9-255a5634b1ed",
   "metadata": {},
   "outputs": [],
   "source": [
    "f = open('text.txt','w')"
   ]
  },
  {
   "cell_type": "code",
   "execution_count": 78,
   "id": "805a7c80-ff48-49a4-98d0-40f7f26bc774",
   "metadata": {},
   "outputs": [
    {
     "data": {
      "text/plain": [
       "29"
      ]
     },
     "execution_count": 78,
     "metadata": {},
     "output_type": "execute_result"
    }
   ],
   "source": [
    "f.write('Nikhil is best player in PUBG')"
   ]
  },
  {
   "cell_type": "code",
   "execution_count": 79,
   "id": "8a189b1e-6b71-4a87-99c2-a722a62df1b7",
   "metadata": {},
   "outputs": [],
   "source": [
    "f.close()"
   ]
  },
  {
   "cell_type": "code",
   "execution_count": 80,
   "id": "d9b131d2-bdda-4a4e-9ad9-d842e51892c8",
   "metadata": {},
   "outputs": [
    {
     "ename": "ValueError",
     "evalue": "I/O operation on closed file.",
     "output_type": "error",
     "traceback": [
      "\u001b[0;31m---------------------------------------------------------------------------\u001b[0m",
      "\u001b[0;31mValueError\u001b[0m                                Traceback (most recent call last)",
      "Cell \u001b[0;32mIn[80], line 1\u001b[0m\n\u001b[0;32m----> 1\u001b[0m \u001b[43mf\u001b[49m\u001b[38;5;241;43m.\u001b[39;49m\u001b[43mread\u001b[49m\u001b[43m(\u001b[49m\u001b[43m)\u001b[49m\n",
      "\u001b[0;31mValueError\u001b[0m: I/O operation on closed file."
     ]
    }
   ],
   "source": [
    "f.read()"
   ]
  },
  {
   "cell_type": "code",
   "execution_count": 82,
   "id": "a86a1b6c-27b2-4577-8895-6affba0c9f25",
   "metadata": {},
   "outputs": [],
   "source": [
    "f = open('text.txt','r')"
   ]
  },
  {
   "cell_type": "code",
   "execution_count": 83,
   "id": "b51c27dc-8922-4d83-aa22-0b612d0a5031",
   "metadata": {},
   "outputs": [
    {
     "data": {
      "text/plain": [
       "'Nikhil is best player in PUBG'"
      ]
     },
     "execution_count": 83,
     "metadata": {},
     "output_type": "execute_result"
    }
   ],
   "source": [
    "f.read()"
   ]
  },
  {
   "cell_type": "code",
   "execution_count": 84,
   "id": "6b1eaae4-b6b2-46ce-a078-5dac7207e23f",
   "metadata": {},
   "outputs": [],
   "source": [
    "import os"
   ]
  },
  {
   "cell_type": "code",
   "execution_count": 85,
   "id": "43a8d954-5ae1-4567-9567-89134344d033",
   "metadata": {},
   "outputs": [
    {
     "data": {
      "text/plain": [
       "29"
      ]
     },
     "execution_count": 85,
     "metadata": {},
     "output_type": "execute_result"
    }
   ],
   "source": [
    "os.path.getsize('text.txt')"
   ]
  },
  {
   "cell_type": "code",
   "execution_count": 86,
   "id": "ac5c21bb-bf60-4bdd-8c0c-095e0ce1fc91",
   "metadata": {},
   "outputs": [
    {
     "data": {
      "text/plain": [
       "''"
      ]
     },
     "execution_count": 86,
     "metadata": {},
     "output_type": "execute_result"
    }
   ],
   "source": [
    "f.readline()"
   ]
  },
  {
   "cell_type": "code",
   "execution_count": 87,
   "id": "8950c771-17f9-4a78-b553-7d3c0a3272d8",
   "metadata": {},
   "outputs": [
    {
     "data": {
      "text/plain": [
       "0"
      ]
     },
     "execution_count": 87,
     "metadata": {},
     "output_type": "execute_result"
    }
   ],
   "source": [
    "f.seek(0)"
   ]
  },
  {
   "cell_type": "code",
   "execution_count": 88,
   "id": "0f46ee35-735c-4ffc-96e0-510f9e64c20a",
   "metadata": {},
   "outputs": [
    {
     "data": {
      "text/plain": [
       "'Nikhil is best player in PUBG'"
      ]
     },
     "execution_count": 88,
     "metadata": {},
     "output_type": "execute_result"
    }
   ],
   "source": [
    "f.readline()"
   ]
  },
  {
   "cell_type": "code",
   "execution_count": 89,
   "id": "4cc1c75a-df6b-4356-bdf5-a924d84fae71",
   "metadata": {},
   "outputs": [
    {
     "data": {
      "text/plain": [
       "''"
      ]
     },
     "execution_count": 89,
     "metadata": {},
     "output_type": "execute_result"
    }
   ],
   "source": [
    "f.read()"
   ]
  },
  {
   "cell_type": "code",
   "execution_count": 90,
   "id": "48f40a72-ebcf-43f7-8d55-3e2be30a31c4",
   "metadata": {},
   "outputs": [
    {
     "data": {
      "text/plain": [
       "0"
      ]
     },
     "execution_count": 90,
     "metadata": {},
     "output_type": "execute_result"
    }
   ],
   "source": [
    "f.seek(0)"
   ]
  },
  {
   "cell_type": "code",
   "execution_count": 91,
   "id": "98c5861a-2e0a-4033-8a8d-4e24c7dcebe4",
   "metadata": {},
   "outputs": [
    {
     "data": {
      "text/plain": [
       "'Nikhil is best player in PUBG'"
      ]
     },
     "execution_count": 91,
     "metadata": {},
     "output_type": "execute_result"
    }
   ],
   "source": [
    "f.readline()"
   ]
  },
  {
   "cell_type": "code",
   "execution_count": 92,
   "id": "05a30846-b6fd-421d-9075-53f091c7cc0b",
   "metadata": {},
   "outputs": [],
   "source": [
    "os.rename('text.txt','newfile.txt')"
   ]
  },
  {
   "cell_type": "code",
   "execution_count": 93,
   "id": "6f5f53ff-45c8-43f6-8233-07a70c68ee0d",
   "metadata": {},
   "outputs": [],
   "source": [
    "import shutil"
   ]
  },
  {
   "cell_type": "code",
   "execution_count": 94,
   "id": "1357825e-bb8f-439f-b86d-1eb507488d48",
   "metadata": {},
   "outputs": [
    {
     "data": {
      "text/plain": [
       "'copy_new.txt'"
      ]
     },
     "execution_count": 94,
     "metadata": {},
     "output_type": "execute_result"
    }
   ],
   "source": [
    "shutil.copy('newfile.txt','copy_new.txt')"
   ]
  },
  {
   "cell_type": "code",
   "execution_count": 97,
   "id": "dbfdf2eb-8c27-49e3-94c4-c2fceca35b49",
   "metadata": {},
   "outputs": [
    {
     "name": "stdout",
     "output_type": "stream",
     "text": [
      "Nikhil is best player in PUBG\n"
     ]
    }
   ],
   "source": [
    "with open('newfile.txt','r') as f:\n",
    "    print(f.read())"
   ]
  },
  {
   "cell_type": "code",
   "execution_count": 98,
   "id": "7ab28cbb-bb66-4daf-8850-f57a480d3933",
   "metadata": {},
   "outputs": [],
   "source": [
    "# Reading and writing files"
   ]
  },
  {
   "cell_type": "code",
   "execution_count": 99,
   "id": "b2c82a42-5195-4dc3-9f72-4a958881b768",
   "metadata": {},
   "outputs": [],
   "source": [
    "data = {\n",
    "    'name' : 'Nikhil',\n",
    "    'mail_id' : 'nikhil@gmail.com',\n",
    "    'phone no' : 9146680507,\n",
    "    'subject' : ['data science','data engineer','data analytics']\n",
    "}"
   ]
  },
  {
   "cell_type": "code",
   "execution_count": 100,
   "id": "965fe2ad-51da-40d3-b6a6-f853b7eb2ed7",
   "metadata": {},
   "outputs": [],
   "source": [
    "import json"
   ]
  },
  {
   "cell_type": "code",
   "execution_count": 101,
   "id": "cc0f4daa-7457-4cdf-aa41-73880c5c7bc7",
   "metadata": {},
   "outputs": [],
   "source": [
    "with open('data.json','w') as f:\n",
    "    json.dump(data,f)"
   ]
  },
  {
   "cell_type": "code",
   "execution_count": 105,
   "id": "f4b9014b-dca3-481d-bd3b-341593d0b87c",
   "metadata": {},
   "outputs": [],
   "source": [
    "with open('data.json','r') as f:\n",
    "    data1 =  json.load(f)"
   ]
  },
  {
   "cell_type": "code",
   "execution_count": 108,
   "id": "0fab997f-8c8f-465b-bc2b-1bdd8ee47b10",
   "metadata": {},
   "outputs": [
    {
     "data": {
      "text/plain": [
       "{'name': 'Nikhil',\n",
       " 'mail_id': 'nikhil@gmail.com',\n",
       " 'phone no': 9146680507,\n",
       " 'subject': ['data science', 'data engineer', 'data analytics']}"
      ]
     },
     "execution_count": 108,
     "metadata": {},
     "output_type": "execute_result"
    }
   ],
   "source": [
    "data1"
   ]
  },
  {
   "cell_type": "code",
   "execution_count": 119,
   "id": "c062cc19-9e9d-4e60-af13-ddf6f5e6d15e",
   "metadata": {},
   "outputs": [
    {
     "data": {
      "text/plain": [
       "'data analytics'"
      ]
     },
     "execution_count": 119,
     "metadata": {},
     "output_type": "execute_result"
    }
   ],
   "source": [
    "data1['subject'][2]"
   ]
  },
  {
   "cell_type": "code",
   "execution_count": 120,
   "id": "78e6ce2f-103b-49d9-9539-09746e0c3981",
   "metadata": {},
   "outputs": [],
   "source": [
    "import csv"
   ]
  },
  {
   "cell_type": "code",
   "execution_count": 122,
   "id": "9780506a-32c6-4d89-b527-2e252bf25edd",
   "metadata": {},
   "outputs": [],
   "source": [
    "data = [['name','mail_id','phone_number'],\n",
    "        ['nikhil','nikhil@gmail.com',9887665434],\n",
    "        ['aniket','aniket@gmail.com',5747338392]\n",
    "]"
   ]
  },
  {
   "cell_type": "code",
   "execution_count": 125,
   "id": "139e20dc-c0d7-43c3-bfee-cd8fa4dc26e3",
   "metadata": {},
   "outputs": [],
   "source": [
    "with open('data.csv','w') as f:\n",
    "    writer =  csv.writer(f)\n",
    "    for i in data:\n",
    "        writer.writerow(i)"
   ]
  },
  {
   "cell_type": "code",
   "execution_count": 128,
   "id": "752eee6b-ff33-41f8-814e-f9bbbc3dbaa5",
   "metadata": {},
   "outputs": [
    {
     "name": "stdout",
     "output_type": "stream",
     "text": [
      "['name', 'mail_id', 'phone_number']\n",
      "['nikhil', 'nikhil@gmail.com', 9887665434]\n",
      "['aniket', 'aniket@gmail.com', 5747338392]\n"
     ]
    }
   ],
   "source": [
    "with open('data.csv','r') as f:\n",
    "    reader =  csv.reader(f)\n",
    "    for i in data:\n",
    "        print(i)"
   ]
  },
  {
   "cell_type": "code",
   "execution_count": 130,
   "id": "58a612c4-01f9-4283-8485-ad1c85a93ba8",
   "metadata": {},
   "outputs": [],
   "source": [
    "with open('test.bin','wb') as f:\n",
    "    f.write(b'\\x01\\x02\\x03')"
   ]
  },
  {
   "cell_type": "code",
   "execution_count": 132,
   "id": "0044df0f-544b-4060-98f7-bf28f45cefd6",
   "metadata": {},
   "outputs": [
    {
     "name": "stdout",
     "output_type": "stream",
     "text": [
      "b'\\x01\\x02\\x03'\n"
     ]
    }
   ],
   "source": [
    "with open('test.bin','rb') as f:\n",
    "    print(f.read())"
   ]
  },
  {
   "cell_type": "code",
   "execution_count": 133,
   "id": "0d8a0341-3dd0-4552-9b43-6346d5d8f014",
   "metadata": {},
   "outputs": [],
   "source": [
    "# buffer read and write and other file methods"
   ]
  },
  {
   "cell_type": "code",
   "execution_count": 134,
   "id": "7d431c61-2f9f-495b-83c5-e1d66930dd2f",
   "metadata": {},
   "outputs": [],
   "source": [
    "import io"
   ]
  },
  {
   "cell_type": "code",
   "execution_count": 142,
   "id": "cdcc7fdf-ea63-40a2-af1b-5bfe672cb793",
   "metadata": {},
   "outputs": [],
   "source": [
    "with open('text5.txt','wb') as f:\n",
    "    file = io.BufferedWriter(f)\n",
    "    \n",
    "    file.write(b'nikhil is op\\n')\n",
    "    file.write(b'this is my op 2')\n",
    "    file.flush()"
   ]
  },
  {
   "cell_type": "code",
   "execution_count": 151,
   "id": "f645e473-9653-430e-aff7-753e43e15718",
   "metadata": {},
   "outputs": [
    {
     "name": "stdout",
     "output_type": "stream",
     "text": [
      "b'nikhil is op\\nthis is my op 2'\n"
     ]
    }
   ],
   "source": [
    "with open('text5.txt','rb') as f:\n",
    "    file = io.BufferedReader(f)\n",
    "    print(file.read())"
   ]
  },
  {
   "cell_type": "code",
   "execution_count": 152,
   "id": "1f26ea09-84a0-4f56-83b7-5075f716f075",
   "metadata": {},
   "outputs": [],
   "source": [
    "# Logging and Degubber"
   ]
  },
  {
   "cell_type": "code",
   "execution_count": 154,
   "id": "67b50007-c83a-4ce4-93df-6d7daae7926e",
   "metadata": {},
   "outputs": [
    {
     "name": "stdout",
     "output_type": "stream",
     "text": [
      "nikhil\n"
     ]
    }
   ],
   "source": [
    "print('nikhil')"
   ]
  },
  {
   "cell_type": "code",
   "execution_count": 155,
   "id": "79cca1c4-027a-4195-a34b-074815c98d71",
   "metadata": {},
   "outputs": [],
   "source": [
    "import logging"
   ]
  },
  {
   "cell_type": "code",
   "execution_count": 161,
   "id": "48c04e53-b4ef-447f-9ed6-1ff63224dbf4",
   "metadata": {},
   "outputs": [],
   "source": [
    "logging.basicConfig(filename= 'text.log', level = logging.INFO)"
   ]
  },
  {
   "cell_type": "code",
   "execution_count": 162,
   "id": "9645142e-f1ff-4e01-92f5-032d6364664d",
   "metadata": {},
   "outputs": [],
   "source": [
    "logging.info('log this line of exicution')"
   ]
  },
  {
   "cell_type": "code",
   "execution_count": 163,
   "id": "ffc47a79-9432-4168-98d0-e443641a0040",
   "metadata": {},
   "outputs": [],
   "source": [
    "logging.info('this is my first log')"
   ]
  },
  {
   "cell_type": "code",
   "execution_count": 164,
   "id": "e3c058f1-e783-4e4a-bee1-a3e55b1104e7",
   "metadata": {},
   "outputs": [],
   "source": [
    "# 1.NOTSET\n",
    "# 2.DEBUG\n",
    "# 3.INFO\n",
    "# 4.WARNING\n",
    "# 5.ERROR\n",
    "# 6.CRITICAL"
   ]
  },
  {
   "cell_type": "code",
   "execution_count": 165,
   "id": "99920cdc-f830-41d4-9c98-18356fa0ef28",
   "metadata": {},
   "outputs": [],
   "source": [
    "logging.debug('this is my msg')"
   ]
  },
  {
   "cell_type": "code",
   "execution_count": 166,
   "id": "1e408b6f-10ad-4972-bf48-472ec1d2d6d6",
   "metadata": {},
   "outputs": [],
   "source": [
    "logging.warning('this is my warning msg')"
   ]
  },
  {
   "cell_type": "code",
   "execution_count": 167,
   "id": "a195680a-3e05-497a-982e-3f35f7f75f5d",
   "metadata": {},
   "outputs": [],
   "source": [
    "logging.error('this is error msg')"
   ]
  },
  {
   "cell_type": "code",
   "execution_count": 11,
   "id": "a358dabc-37b8-4bd1-8c3f-9fb1f0984b4a",
   "metadata": {},
   "outputs": [],
   "source": [
    "logging.critical('this is my critical msg')"
   ]
  },
  {
   "cell_type": "code",
   "execution_count": 13,
   "id": "0784f0f1-61ed-49eb-8a04-0086924b8350",
   "metadata": {},
   "outputs": [],
   "source": [
    "logging.shutdown()"
   ]
  },
  {
   "cell_type": "code",
   "execution_count": 22,
   "id": "dab6a079-9127-4173-93de-2850a2940d63",
   "metadata": {},
   "outputs": [],
   "source": [
    "import logging"
   ]
  },
  {
   "cell_type": "code",
   "execution_count": 23,
   "id": "884af5ec-6116-4dbf-8826-9b98e8c16e54",
   "metadata": {},
   "outputs": [],
   "source": [
    "logging.basicConfig(filename = 'text3.log', level = logging.DEBUG, format = '%(asctime)s %(message)s')"
   ]
  },
  {
   "cell_type": "code",
   "execution_count": 24,
   "id": "2635bdcf-c5f4-4192-8311-5dbd367f7047",
   "metadata": {},
   "outputs": [],
   "source": [
    "logging.info('log this line of exicution')\n",
    "logging.error('this is error msg')\n",
    "logging.critical('this is my critical msg')"
   ]
  },
  {
   "cell_type": "code",
   "execution_count": 25,
   "id": "4d293663-2c03-4f19-b25a-dce1605bc1c5",
   "metadata": {},
   "outputs": [],
   "source": [
    "logging.shutdown()"
   ]
  },
  {
   "cell_type": "code",
   "execution_count": 2,
   "id": "f97d9912-bb13-4699-aa83-81e922bb0d5e",
   "metadata": {},
   "outputs": [],
   "source": [
    "import logging"
   ]
  },
  {
   "cell_type": "code",
   "execution_count": 3,
   "id": "7b9d163b-e96f-44be-a165-10f4e8150ba1",
   "metadata": {},
   "outputs": [],
   "source": [
    "logging.basicConfig(filename = 'text6.log',level = logging.DEBUG,format = '%(asctime)s %(name)s %(levelname)s %(message)s' )"
   ]
  },
  {
   "cell_type": "code",
   "execution_count": 5,
   "id": "c02ceda7-f453-41c5-80a2-5dc83d8844ea",
   "metadata": {},
   "outputs": [],
   "source": [
    "logging.info('log this line of exicution')\n",
    "logging.error('this is error msg')\n",
    "logging.critical('this is my critical msg')"
   ]
  },
  {
   "cell_type": "code",
   "execution_count": 6,
   "id": "29d4e112-1a46-4aed-b46b-3aef2b3baed2",
   "metadata": {},
   "outputs": [],
   "source": [
    "l = [1,2,3,4,5,[6,7,8,9],'nikhil','aniket']"
   ]
  },
  {
   "cell_type": "code",
   "execution_count": 11,
   "id": "5ae88b23-14f0-4fab-8783-f024441c6421",
   "metadata": {},
   "outputs": [],
   "source": [
    "l1 = []\n",
    "l2 = []\n",
    "for i in l:\n",
    "    logging.info('we are iterating our list and local variable')\n",
    "    if type(i) == list:\n",
    "        logging.info('im inside if statement an di an trying to hcekc list type')\n",
    "        for j in i:\n",
    "            logging.info('im inside the loop for list inside list element')\n",
    "            if type(j) == int:\n",
    "                logging.info('i am inside if statement')\n",
    "                l1.append(j)\n",
    "    elif type(i) == int:\n",
    "        l1.append(i)\n",
    "    else:\n",
    "        if type(i) == str:\n",
    "            l2.append(i)"
   ]
  },
  {
   "cell_type": "code",
   "execution_count": 12,
   "id": "aa1e84d4-c4ad-470f-9a91-abe8c6280aae",
   "metadata": {},
   "outputs": [
    {
     "data": {
      "text/plain": [
       "[1, 2, 3, 4, 5, 6, 7, 8, 9]"
      ]
     },
     "execution_count": 12,
     "metadata": {},
     "output_type": "execute_result"
    }
   ],
   "source": [
    "l1"
   ]
  },
  {
   "cell_type": "code",
   "execution_count": 13,
   "id": "97654379-25c8-494d-9d9a-4923d5890ef8",
   "metadata": {},
   "outputs": [
    {
     "data": {
      "text/plain": [
       "['nikhil', 'aniket']"
      ]
     },
     "execution_count": 13,
     "metadata": {},
     "output_type": "execute_result"
    }
   ],
   "source": [
    "l2"
   ]
  }
 ],
 "metadata": {
  "kernelspec": {
   "display_name": "Python 3 (ipykernel)",
   "language": "python",
   "name": "python3"
  },
  "language_info": {
   "codemirror_mode": {
    "name": "ipython",
    "version": 3
   },
   "file_extension": ".py",
   "mimetype": "text/x-python",
   "name": "python",
   "nbconvert_exporter": "python",
   "pygments_lexer": "ipython3",
   "version": "3.10.8"
  }
 },
 "nbformat": 4,
 "nbformat_minor": 5
}
